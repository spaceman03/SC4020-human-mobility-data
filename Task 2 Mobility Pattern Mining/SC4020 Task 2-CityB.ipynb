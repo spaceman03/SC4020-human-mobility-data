{
 "cells": [
  {
   "cell_type": "markdown",
   "id": "62d42c3d-cb21-447a-a71d-a9615aab9e0e",
   "metadata": {},
   "source": [
    "# Introduction"
   ]
  },
  {
   "cell_type": "markdown",
   "id": "f1e66e39-8d08-4063-a695-bb97cde7042e",
   "metadata": {},
   "source": [
    "trackintel documentation: https://trackintel.readthedocs.io/en/latest/modules/model.html#trackintel.Positionfixes"
   ]
  },
  {
   "cell_type": "markdown",
   "id": "5f5e5680-b51e-4385-a936-4e30cf01cc60",
   "metadata": {},
   "source": [
    "trackintel tutorial: https://github.com/mie-lab/trackintel/blob/master/examples/trackintel_basic_tutorial.ipynb"
   ]
  },
  {
   "cell_type": "code",
   "execution_count": null,
   "id": "7d7bffcc-a5ab-4cd1-adc1-469a638e5028",
   "metadata": {},
   "outputs": [],
   "source": [
    "!pip install trackintel"
   ]
  },
  {
   "cell_type": "code",
   "execution_count": 1,
   "id": "10b713e0-6073-417e-b9d9-0bcc7f61f664",
   "metadata": {},
   "outputs": [],
   "source": [
    "import geopandas as gpd\n",
    "import numpy as np\n",
    "import pandas as pd\n",
    "\n",
    "from collections import defaultdict\n",
    "from datetime import timedelta\n",
    "from matplotlib import pyplot as plt\n",
    "from multiprocessing import Pool\n",
    "from shapely.geometry import LineString\n",
    "from shapely.geometry import Point\n",
    "\n",
    "import trackintel as ti"
   ]
  },
  {
   "cell_type": "code",
   "execution_count": 4,
   "id": "3ccc56c3-fe0d-4eef-a42a-7040a29b5f14",
   "metadata": {},
   "outputs": [
    {
     "data": {
      "text/html": [
       "<div>\n",
       "<style scoped>\n",
       "    .dataframe tbody tr th:only-of-type {\n",
       "        vertical-align: middle;\n",
       "    }\n",
       "\n",
       "    .dataframe tbody tr th {\n",
       "        vertical-align: top;\n",
       "    }\n",
       "\n",
       "    .dataframe thead th {\n",
       "        text-align: right;\n",
       "    }\n",
       "</style>\n",
       "<table border=\"1\" class=\"dataframe\">\n",
       "  <thead>\n",
       "    <tr style=\"text-align: right;\">\n",
       "      <th></th>\n",
       "      <th>uid</th>\n",
       "      <th>d</th>\n",
       "      <th>t</th>\n",
       "      <th>x</th>\n",
       "      <th>y</th>\n",
       "    </tr>\n",
       "  </thead>\n",
       "  <tbody>\n",
       "    <tr>\n",
       "      <th>0</th>\n",
       "      <td>0</td>\n",
       "      <td>0</td>\n",
       "      <td>20</td>\n",
       "      <td>80</td>\n",
       "      <td>99</td>\n",
       "    </tr>\n",
       "    <tr>\n",
       "      <th>1</th>\n",
       "      <td>0</td>\n",
       "      <td>0</td>\n",
       "      <td>21</td>\n",
       "      <td>81</td>\n",
       "      <td>97</td>\n",
       "    </tr>\n",
       "    <tr>\n",
       "      <th>2</th>\n",
       "      <td>0</td>\n",
       "      <td>0</td>\n",
       "      <td>25</td>\n",
       "      <td>83</td>\n",
       "      <td>102</td>\n",
       "    </tr>\n",
       "    <tr>\n",
       "      <th>3</th>\n",
       "      <td>0</td>\n",
       "      <td>0</td>\n",
       "      <td>26</td>\n",
       "      <td>80</td>\n",
       "      <td>101</td>\n",
       "    </tr>\n",
       "    <tr>\n",
       "      <th>4</th>\n",
       "      <td>0</td>\n",
       "      <td>0</td>\n",
       "      <td>27</td>\n",
       "      <td>80</td>\n",
       "      <td>101</td>\n",
       "    </tr>\n",
       "  </tbody>\n",
       "</table>\n",
       "</div>"
      ],
      "text/plain": [
       "   uid  d   t   x    y\n",
       "0    0  0  20  80   99\n",
       "1    0  0  21  81   97\n",
       "2    0  0  25  83  102\n",
       "3    0  0  26  80  101\n",
       "4    0  0  27  80  101"
      ]
     },
     "execution_count": 4,
     "metadata": {},
     "output_type": "execute_result"
    }
   ],
   "source": [
    "cityB = pd.read_csv('cityB_hiroshima.csv')\n",
    "cityB.head()"
   ]
  },
  {
   "cell_type": "code",
   "execution_count": 6,
   "id": "4332deea-cccf-4ac1-81b2-8dfd2558fdc8",
   "metadata": {},
   "outputs": [
    {
     "data": {
      "text/plain": [
       "(24375898, 5)"
      ]
     },
     "execution_count": 6,
     "metadata": {},
     "output_type": "execute_result"
    }
   ],
   "source": [
    "cityB.shape"
   ]
  },
  {
   "cell_type": "code",
   "execution_count": 8,
   "id": "5f9c84b8-20cf-4cdb-ae7c-0948809eabec",
   "metadata": {},
   "outputs": [
    {
     "name": "stdout",
     "output_type": "stream",
     "text": [
      "<class 'pandas.core.frame.DataFrame'>\n",
      "RangeIndex: 24375898 entries, 0 to 24375897\n",
      "Data columns (total 5 columns):\n",
      " #   Column  Dtype\n",
      "---  ------  -----\n",
      " 0   uid     int64\n",
      " 1   d       int64\n",
      " 2   t       int64\n",
      " 3   x       int64\n",
      " 4   y       int64\n",
      "dtypes: int64(5)\n",
      "memory usage: 929.9 MB\n"
     ]
    }
   ],
   "source": [
    "cityB.info()"
   ]
  },
  {
   "cell_type": "markdown",
   "id": "a10bb79d-7da3-46f6-8ffa-67f51cad54d5",
   "metadata": {},
   "source": [
    "`d`: Days since start of the data collection, ranges from 0-74 (the data is collected over 75 days)   \n",
    "`t`: Ranges from 0-47 (the data is collected every 30 mins, there is 48 such periods in 1 day)"
   ]
  },
  {
   "cell_type": "markdown",
   "id": "cfdae578-335e-411d-a831-9c9c6a12981a",
   "metadata": {},
   "source": [
    "# Data Preprocessing"
   ]
  },
  {
   "cell_type": "markdown",
   "id": "0c3bc3aa-8203-444f-9ac3-72f11f06f0b9",
   "metadata": {},
   "source": [
    "Limit the data to only the first month's data (30 days), i.e. `d` < 30."
   ]
  },
  {
   "cell_type": "code",
   "execution_count": 10,
   "id": "7c07671a-aa2b-4caa-a196-ea6e2b469579",
   "metadata": {},
   "outputs": [],
   "source": [
    "cityB = cityB[cityB['d'] < 30]"
   ]
  },
  {
   "cell_type": "code",
   "execution_count": 12,
   "id": "35a23f1a-91b9-4397-9be6-904e97e98e15",
   "metadata": {},
   "outputs": [
    {
     "data": {
      "text/plain": [
       "(9736068, 5)"
      ]
     },
     "execution_count": 12,
     "metadata": {},
     "output_type": "execute_result"
    }
   ],
   "source": [
    "cityB.shape"
   ]
  },
  {
   "cell_type": "code",
   "execution_count": 14,
   "id": "80dadd66-8fc5-4d64-bf0f-06100d2b6a86",
   "metadata": {},
   "outputs": [],
   "source": [
    "# Save to a temporary file for later use\n",
    "cityB.to_csv('cityB_filtered.csv', index=False)"
   ]
  },
  {
   "cell_type": "markdown",
   "id": "f2fc3561-bbe9-4001-b9f4-03a9e6c8c568",
   "metadata": {},
   "source": [
    "Here, we define an arbitrary start date of the data collected."
   ]
  },
  {
   "cell_type": "code",
   "execution_count": 15,
   "id": "6876fdb8-5e9b-4bb9-a57d-ebf2aaade551",
   "metadata": {},
   "outputs": [],
   "source": [
    "# Define the start date\n",
    "start_date = pd.to_datetime(\"2024-01-01\")"
   ]
  },
  {
   "cell_type": "code",
   "execution_count": 16,
   "id": "6d2382c8-2826-44f8-ab8f-6f8510a9b6fa",
   "metadata": {},
   "outputs": [],
   "source": [
    "def preprocess_data(data, start_date):\n",
    "    # Create Point geometries\n",
    "    geometry = [Point(xy) for xy in zip(data['x'], data['y'])]\n",
    "\n",
    "    # Create a GeoDataFrame\n",
    "    gdf = gpd.GeoDataFrame(data, geometry=geometry)\n",
    "    gdf.set_crs(epsg=3857, inplace=True)\n",
    "\n",
    "    # Convert 'd' (days since start) to actual date\n",
    "    gdf['date'] = start_date + pd.to_timedelta(gdf['d'], unit='D')\n",
    "    \n",
    "    # Convert 't' (30-minute intervals) to time of day\n",
    "    gdf['time'] = pd.to_timedelta(gdf['t'] * 30, unit='m')  # Each 't' is multiplied by 30 minutes\n",
    "    \n",
    "    # Combine 'date' and 'time' into a single datetime column\n",
    "    gdf['datetime'] = gdf['date'] + gdf['time']\n",
    "\n",
    "    return gdf"
   ]
  },
  {
   "cell_type": "code",
   "execution_count": 20,
   "id": "80e9750f-1f07-4b9c-bb7c-54b2b6a03755",
   "metadata": {},
   "outputs": [],
   "source": [
    "def remove_consecutive_duplicates(sequence):\n",
    "    \"\"\"Remove consecutive duplicate coordinates from a sequence.\"\"\"\n",
    "    cleaned_sequence = [sequence[0]]  # Start with the first element\n",
    "    for i in range(1, len(sequence)):\n",
    "        if sequence[i] != sequence[i - 1]:  # Only add if different from the previous point\n",
    "            cleaned_sequence.append(sequence[i])\n",
    "    return cleaned_sequence\n",
    "\n",
    "def preprocess_tripleg(dataset):\n",
    "    \"\"\"Preprocess each tripleg in the dataset by removing consecutive duplicates.\"\"\"\n",
    "    return [remove_consecutive_duplicates(sequence) for sequence in dataset]"
   ]
  },
  {
   "cell_type": "code",
   "execution_count": 22,
   "id": "96930f88-c2cf-4068-8476-d1cd58849bf5",
   "metadata": {},
   "outputs": [],
   "source": [
    "def split_triplegs(triplegs, max_length):\n",
    "    processed_triplegs = []\n",
    "    for tripleg in triplegs:      \n",
    "        # Split if the cleaned tripleg is too long\n",
    "        if len(tripleg) > max_length:\n",
    "            for i in range(0, len(tripleg), max_length):\n",
    "                processed_triplegs.append(tripleg[i:i + max_length])\n",
    "        else:\n",
    "            processed_triplegs.append(tripleg)\n",
    "    return processed_triplegs"
   ]
  },
  {
   "cell_type": "markdown",
   "id": "b6097134-0768-4ff0-b845-176f9acf0c04",
   "metadata": {},
   "source": [
    "# GSP Algorithm"
   ]
  },
  {
   "cell_type": "code",
   "execution_count": 24,
   "id": "ced1f5c3-a773-42bc-a51d-4f569b9dd45a",
   "metadata": {},
   "outputs": [],
   "source": [
    "class GSP:\n",
    "    def __init__(self, sequences, min_support):\n",
    "        self.sequences = sequences          # List of sequences with coordinate pairs\n",
    "        self.min_support = min_support      # Minimum support threshold\n",
    "        self.frequent_patterns = []         # Store all found frequent patterns\n",
    "\n",
    "    def is_subsequence(self, candidate, sequence):\n",
    "        candidate_index = 0  # Start with the first element of candidate\n",
    "        for item in sequence:\n",
    "            if item == candidate[candidate_index]:  # Check if current item matches the current candidate element\n",
    "                candidate_index += 1  # Move to the next element in candidate\n",
    "                if candidate_index == len(candidate):  # If we matched all elements in candidate, it's a subsequence\n",
    "                    return True\n",
    "        return False  # If we finish the loop without matching all of candidate, return False\n",
    "    \n",
    "    def count_support(self, candidates):\n",
    "        \"\"\"\n",
    "        Count the support of each candidate in the sequences\n",
    "        \"\"\"\n",
    "        support_count = defaultdict(int)\n",
    "        for sequence in self.sequences:\n",
    "            # Filter out sequences that are too short to contain any candidates of the current length\n",
    "            if len(sequence) < len(next(iter(candidates))):  # All candidates are of the same length\n",
    "                continue\n",
    "                \n",
    "            for candidate in candidates:\n",
    "                if support_count[candidate] >= min_support: # Early stopping: stop counting if min_support is reached\n",
    "                    continue\n",
    "                    \n",
    "                if self.is_subsequence(candidate, sequence):\n",
    "                    support_count[candidate] += 1\n",
    "\n",
    "        # Filter out candidates that meet minimum support threshold\n",
    "        support_count = {seq: count for seq, count in support_count.items() if count >= self.min_support}\n",
    "        return support_count\n",
    "\n",
    "    def generate_candidates(self, prev_frequent_patterns, k):\n",
    "        \"\"\"Generate candidate sequences of a specified length by merging sequences with common prefixes/suffixes.\n",
    "        Includes Apriori check to remove candidate sequences with any non-frequent subsequence.\n",
    "        \"\"\"\n",
    "        candidates = set()\n",
    "        for pattern1 in prev_frequent_patterns:\n",
    "            for pattern2 in prev_frequent_patterns:\n",
    "                if pattern1 == pattern2: # Don't merge the same sequences\n",
    "                    continue\n",
    "                # Merge two sequences if they share k-1 items\n",
    "                if pattern1[1:] == pattern2[:-1]:  # Ensure that only relevant sequences are merged\n",
    "                    candidate = pattern1 + (pattern2[-1],)\n",
    "                    # Apriori check: Keep only if all (k-1) subsequences are frequent\n",
    "                    if all(candidate[i:i+k-1] in prev_frequent_patterns for i in range(len(candidate) - k + 1)):\n",
    "                        candidates.add(candidate)\n",
    "                        \n",
    "        return candidates\n",
    "\n",
    "    def run(self):\n",
    "        \"\"\"\n",
    "        Run the GSP algorithm\n",
    "        \"\"\"\n",
    "        # Step 1: Find frequent 1-sequences (individual locations)\n",
    "        all_items = set(item for sequence in self.sequences for item in sequence)\n",
    "        initial_candidates = [(item,) for item in all_items]\n",
    "        frequent_patterns = self.count_support(initial_candidates)\n",
    "        \n",
    "        # Add to result list\n",
    "        self.frequent_patterns.extend(frequent_patterns.items())\n",
    "        print(\"1-itemsets done!\")\n",
    "        \n",
    "        k = 2  # Start with 2-sequences\n",
    "\n",
    "        while frequent_patterns:\n",
    "            # Step 2: Generate candidate k-sequences (those with infrequent subsequences are removed)\n",
    "            candidates = self.generate_candidates(frequent_patterns.keys(), k)\n",
    "            if not candidates: # Break if no new candidates are generated\n",
    "                print(f\"No new candidates generated. Stopping at {k-1}-itemsets\")\n",
    "                break\n",
    "            \n",
    "            # Step 3: Count support for each candidate (those that do not meet min_support are removed)\n",
    "            frequent_patterns = self.count_support(candidates)\n",
    "            \n",
    "            # Add found frequent patterns to result list\n",
    "            if frequent_patterns:\n",
    "                self.frequent_patterns.extend(frequent_patterns.items())\n",
    "                print(f\"{k}-itemsets done!\")\n",
    "            \n",
    "            # Move to the next level\n",
    "            k += 1\n",
    "\n",
    "        return self.frequent_patterns"
   ]
  },
  {
   "cell_type": "code",
   "execution_count": 26,
   "id": "338f3466-46f9-4e9f-b43a-8cd5d08f0ec1",
   "metadata": {},
   "outputs": [],
   "source": [
    "# Define constants\n",
    "chunk_size = 100000  # Number of rows to load per chunk\n",
    "min_support = 10  # Minimum support for frequent patterns\n",
    "gap_threshold_sp = 45  # Gap threshold for staypoint detection\n",
    "gap_threshold_trip = 45 # Gap threshold for triplegs generation\n",
    "dist_threshold = 10  # Distance threshold for staypoints\n",
    "max_tripleg_length = 10 # Maximum length of each tripleg"
   ]
  },
  {
   "cell_type": "code",
   "execution_count": 28,
   "id": "d2017950-8c8d-4a64-b62b-42b0a84ea088",
   "metadata": {},
   "outputs": [],
   "source": [
    "# Dictionary to store patterns by chunk\n",
    "all_frequent_patterns = defaultdict(list)"
   ]
  },
  {
   "cell_type": "code",
   "execution_count": 30,
   "id": "143c6ff0-e4a3-4965-8da8-d62f4eebd8c2",
   "metadata": {
    "scrolled": true
   },
   "outputs": [
    {
     "name": "stderr",
     "output_type": "stream",
     "text": [
      "100%|████████████████████████████████████████████████████████████████████████████████| 224/224 [00:09<00:00, 23.09it/s]\n",
      "C:\\Users\\ASUS\\anaconda3\\Lib\\site-packages\\trackintel\\preprocessing\\positionfixes.py:361: FutureWarning: Downcasting object dtype arrays on .fillna, .ffill, .bfill is deprecated and will change in a future version. Call result.infer_objects(copy=False) instead. To opt-in to the future behavior, set `pd.set_option('future.no_silent_downcasting', True)`\n",
      "  pfs[\"tripleg_id\"] = pfs[\"tripleg_id\"].ffill()\n",
      "C:\\Users\\ASUS\\anaconda3\\Lib\\site-packages\\trackintel\\preprocessing\\positionfixes.py:440: FutureWarning: Downcasting object dtype arrays on .fillna, .ffill, .bfill is deprecated and will change in a future version. Call result.infer_objects(copy=False) instead. To opt-in to the future behavior, set `pd.set_option('future.no_silent_downcasting', True)`\n",
      "  cond_overlap_end = cond_overlap & ~cond_temporal_gap.shift(-1).fillna(False) & pd.isna(pfs[\"tripleg_id\"])\n",
      "C:\\Users\\ASUS\\anaconda3\\Lib\\site-packages\\trackintel\\preprocessing\\positionfixes.py:573: UserWarning: The positionfixes with ids [    5     6    14 ... 99973 99974 99975] lead to invalid tripleg geometries. The resulting triplegs were omitted and the tripleg id of the positionfixes was set to nan\n",
      "  warnings.warn(warn_string)\n"
     ]
    },
    {
     "name": "stdout",
     "output_type": "stream",
     "text": [
      "   uid  d   t   x    y                geometry       date            time  \\\n",
      "0    0  0  20  80   99   POINT (80.000 99.000) 2024-01-01 0 days 10:00:00   \n",
      "1    0  0  21  81   97   POINT (81.000 97.000) 2024-01-01 0 days 10:30:00   \n",
      "2    0  0  25  83  102  POINT (83.000 102.000) 2024-01-01 0 days 12:30:00   \n",
      "3    0  0  26  80  101  POINT (80.000 101.000) 2024-01-01 0 days 13:00:00   \n",
      "4    0  0  27  80  101  POINT (80.000 101.000) 2024-01-01 0 days 13:30:00   \n",
      "\n",
      "             datetime  \n",
      "0 2024-01-01 10:00:00  \n",
      "1 2024-01-01 10:30:00  \n",
      "2 2024-01-01 12:30:00  \n",
      "3 2024-01-01 13:00:00  \n",
      "4 2024-01-01 13:30:00  \n",
      "1-itemsets done!\n",
      "2-itemsets done!\n"
     ]
    },
    {
     "name": "stderr",
     "output_type": "stream",
     "text": [
      "100%|████████████████████████████████████████████████████████████████████████████████| 226/226 [00:09<00:00, 23.83it/s]\n",
      "C:\\Users\\ASUS\\anaconda3\\Lib\\site-packages\\trackintel\\preprocessing\\positionfixes.py:361: FutureWarning: Downcasting object dtype arrays on .fillna, .ffill, .bfill is deprecated and will change in a future version. Call result.infer_objects(copy=False) instead. To opt-in to the future behavior, set `pd.set_option('future.no_silent_downcasting', True)`\n",
      "  pfs[\"tripleg_id\"] = pfs[\"tripleg_id\"].ffill()\n",
      "C:\\Users\\ASUS\\anaconda3\\Lib\\site-packages\\trackintel\\preprocessing\\positionfixes.py:440: FutureWarning: Downcasting object dtype arrays on .fillna, .ffill, .bfill is deprecated and will change in a future version. Call result.infer_objects(copy=False) instead. To opt-in to the future behavior, set `pd.set_option('future.no_silent_downcasting', True)`\n",
      "  cond_overlap_end = cond_overlap & ~cond_temporal_gap.shift(-1).fillna(False) & pd.isna(pfs[\"tripleg_id\"])\n",
      "C:\\Users\\ASUS\\anaconda3\\Lib\\site-packages\\trackintel\\preprocessing\\positionfixes.py:573: UserWarning: The positionfixes with ids [100022 100023 100099 ... 199983 199984 199985] lead to invalid tripleg geometries. The resulting triplegs were omitted and the tripleg id of the positionfixes was set to nan\n",
      "  warnings.warn(warn_string)\n"
     ]
    },
    {
     "name": "stdout",
     "output_type": "stream",
     "text": [
      "        uid   d   t   x    y                geometry       date  \\\n",
      "100000  225  12  34  97  107  POINT (97.000 107.000) 2024-01-13   \n",
      "100001  225  12  35  96  100  POINT (96.000 100.000) 2024-01-13   \n",
      "100002  225  12  36  96  102  POINT (96.000 102.000) 2024-01-13   \n",
      "100003  225  12  37  97  115  POINT (97.000 115.000) 2024-01-13   \n",
      "100004  225  13  17  97  115  POINT (97.000 115.000) 2024-01-14   \n",
      "\n",
      "                  time            datetime  \n",
      "100000 0 days 17:00:00 2024-01-13 17:00:00  \n",
      "100001 0 days 17:30:00 2024-01-13 17:30:00  \n",
      "100002 0 days 18:00:00 2024-01-13 18:00:00  \n",
      "100003 0 days 18:30:00 2024-01-13 18:30:00  \n",
      "100004 0 days 08:30:00 2024-01-14 08:30:00  \n",
      "1-itemsets done!\n",
      "2-itemsets done!\n"
     ]
    },
    {
     "name": "stderr",
     "output_type": "stream",
     "text": [
      "100%|████████████████████████████████████████████████████████████████████████████████| 231/231 [00:09<00:00, 24.68it/s]\n",
      "C:\\Users\\ASUS\\anaconda3\\Lib\\site-packages\\trackintel\\preprocessing\\positionfixes.py:361: FutureWarning: Downcasting object dtype arrays on .fillna, .ffill, .bfill is deprecated and will change in a future version. Call result.infer_objects(copy=False) instead. To opt-in to the future behavior, set `pd.set_option('future.no_silent_downcasting', True)`\n",
      "  pfs[\"tripleg_id\"] = pfs[\"tripleg_id\"].ffill()\n",
      "C:\\Users\\ASUS\\anaconda3\\Lib\\site-packages\\trackintel\\preprocessing\\positionfixes.py:440: FutureWarning: Downcasting object dtype arrays on .fillna, .ffill, .bfill is deprecated and will change in a future version. Call result.infer_objects(copy=False) instead. To opt-in to the future behavior, set `pd.set_option('future.no_silent_downcasting', True)`\n",
      "  cond_overlap_end = cond_overlap & ~cond_temporal_gap.shift(-1).fillna(False) & pd.isna(pfs[\"tripleg_id\"])\n",
      "C:\\Users\\ASUS\\anaconda3\\Lib\\site-packages\\trackintel\\preprocessing\\positionfixes.py:573: UserWarning: The positionfixes with ids [200188 200189 200190 ... 299948 299957 299958] lead to invalid tripleg geometries. The resulting triplegs were omitted and the tripleg id of the positionfixes was set to nan\n",
      "  warnings.warn(warn_string)\n"
     ]
    },
    {
     "name": "stdout",
     "output_type": "stream",
     "text": [
      "        uid   d   t   x    y                geometry       date  \\\n",
      "200000  450  22  21  44  108  POINT (44.000 108.000) 2024-01-23   \n",
      "200001  450  22  22  45  108  POINT (45.000 108.000) 2024-01-23   \n",
      "200002  450  22  23  45  109  POINT (45.000 109.000) 2024-01-23   \n",
      "200003  450  22  24  44  109  POINT (44.000 109.000) 2024-01-23   \n",
      "200004  450  22  25  45  109  POINT (45.000 109.000) 2024-01-23   \n",
      "\n",
      "                  time            datetime  \n",
      "200000 0 days 10:30:00 2024-01-23 10:30:00  \n",
      "200001 0 days 11:00:00 2024-01-23 11:00:00  \n",
      "200002 0 days 11:30:00 2024-01-23 11:30:00  \n",
      "200003 0 days 12:00:00 2024-01-23 12:00:00  \n",
      "200004 0 days 12:30:00 2024-01-23 12:30:00  \n",
      "1-itemsets done!\n",
      "2-itemsets done!\n"
     ]
    },
    {
     "name": "stderr",
     "output_type": "stream",
     "text": [
      "100%|████████████████████████████████████████████████████████████████████████████████| 226/226 [00:08<00:00, 26.75it/s]\n",
      "C:\\Users\\ASUS\\anaconda3\\Lib\\site-packages\\trackintel\\preprocessing\\positionfixes.py:361: FutureWarning: Downcasting object dtype arrays on .fillna, .ffill, .bfill is deprecated and will change in a future version. Call result.infer_objects(copy=False) instead. To opt-in to the future behavior, set `pd.set_option('future.no_silent_downcasting', True)`\n",
      "  pfs[\"tripleg_id\"] = pfs[\"tripleg_id\"].ffill()\n",
      "C:\\Users\\ASUS\\anaconda3\\Lib\\site-packages\\trackintel\\preprocessing\\positionfixes.py:440: FutureWarning: Downcasting object dtype arrays on .fillna, .ffill, .bfill is deprecated and will change in a future version. Call result.infer_objects(copy=False) instead. To opt-in to the future behavior, set `pd.set_option('future.no_silent_downcasting', True)`\n",
      "  cond_overlap_end = cond_overlap & ~cond_temporal_gap.shift(-1).fillna(False) & pd.isna(pfs[\"tripleg_id\"])\n",
      "C:\\Users\\ASUS\\anaconda3\\Lib\\site-packages\\trackintel\\preprocessing\\positionfixes.py:573: UserWarning: The positionfixes with ids [300009 300010 300036 ... 399901 399902 399903] lead to invalid tripleg geometries. The resulting triplegs were omitted and the tripleg id of the positionfixes was set to nan\n",
      "  warnings.warn(warn_string)\n"
     ]
    },
    {
     "name": "stdout",
     "output_type": "stream",
     "text": [
      "        uid   d   t    x    y                 geometry       date  \\\n",
      "300000  680  20  27  194  192  POINT (194.000 192.000) 2024-01-21   \n",
      "300001  680  20  28  190  194  POINT (190.000 194.000) 2024-01-21   \n",
      "300002  680  20  30  196  192  POINT (196.000 192.000) 2024-01-21   \n",
      "300003  680  20  31  190  194  POINT (190.000 194.000) 2024-01-21   \n",
      "300004  680  20  32  197  193  POINT (197.000 193.000) 2024-01-21   \n",
      "\n",
      "                  time            datetime  \n",
      "300000 0 days 13:30:00 2024-01-21 13:30:00  \n",
      "300001 0 days 14:00:00 2024-01-21 14:00:00  \n",
      "300002 0 days 15:00:00 2024-01-21 15:00:00  \n",
      "300003 0 days 15:30:00 2024-01-21 15:30:00  \n",
      "300004 0 days 16:00:00 2024-01-21 16:00:00  \n",
      "1-itemsets done!\n",
      "2-itemsets done!\n"
     ]
    },
    {
     "name": "stderr",
     "output_type": "stream",
     "text": [
      "100%|████████████████████████████████████████████████████████████████████████████████| 234/234 [00:08<00:00, 26.05it/s]\n",
      "C:\\Users\\ASUS\\anaconda3\\Lib\\site-packages\\trackintel\\preprocessing\\positionfixes.py:361: FutureWarning: Downcasting object dtype arrays on .fillna, .ffill, .bfill is deprecated and will change in a future version. Call result.infer_objects(copy=False) instead. To opt-in to the future behavior, set `pd.set_option('future.no_silent_downcasting', True)`\n",
      "  pfs[\"tripleg_id\"] = pfs[\"tripleg_id\"].ffill()\n",
      "C:\\Users\\ASUS\\anaconda3\\Lib\\site-packages\\trackintel\\preprocessing\\positionfixes.py:440: FutureWarning: Downcasting object dtype arrays on .fillna, .ffill, .bfill is deprecated and will change in a future version. Call result.infer_objects(copy=False) instead. To opt-in to the future behavior, set `pd.set_option('future.no_silent_downcasting', True)`\n",
      "  cond_overlap_end = cond_overlap & ~cond_temporal_gap.shift(-1).fillna(False) & pd.isna(pfs[\"tripleg_id\"])\n",
      "C:\\Users\\ASUS\\anaconda3\\Lib\\site-packages\\trackintel\\preprocessing\\positionfixes.py:573: UserWarning: The positionfixes with ids [400195 400196 400275 ... 499847 499972 499973] lead to invalid tripleg geometries. The resulting triplegs were omitted and the tripleg id of the positionfixes was set to nan\n",
      "  warnings.warn(warn_string)\n"
     ]
    },
    {
     "name": "stdout",
     "output_type": "stream",
     "text": [
      "        uid   d   t    x   y                geometry       date  \\\n",
      "400000  907   9  44  186  22  POINT (186.000 22.000) 2024-01-10   \n",
      "400001  907   9  45  190  44  POINT (190.000 44.000) 2024-01-10   \n",
      "400002  907  10  14  189  56  POINT (189.000 56.000) 2024-01-11   \n",
      "400003  907  10  27  198  38  POINT (198.000 38.000) 2024-01-11   \n",
      "400004  907  10  28  190  56  POINT (190.000 56.000) 2024-01-11   \n",
      "\n",
      "                  time            datetime  \n",
      "400000 0 days 22:00:00 2024-01-10 22:00:00  \n",
      "400001 0 days 22:30:00 2024-01-10 22:30:00  \n",
      "400002 0 days 07:00:00 2024-01-11 07:00:00  \n",
      "400003 0 days 13:30:00 2024-01-11 13:30:00  \n",
      "400004 0 days 14:00:00 2024-01-11 14:00:00  \n",
      "1-itemsets done!\n",
      "2-itemsets done!\n",
      "No new candidates generated. Stopping at 2-itemsets\n"
     ]
    },
    {
     "name": "stderr",
     "output_type": "stream",
     "text": [
      "100%|████████████████████████████████████████████████████████████████████████████████| 241/241 [00:08<00:00, 27.13it/s]\n",
      "C:\\Users\\ASUS\\anaconda3\\Lib\\site-packages\\trackintel\\preprocessing\\positionfixes.py:361: FutureWarning: Downcasting object dtype arrays on .fillna, .ffill, .bfill is deprecated and will change in a future version. Call result.infer_objects(copy=False) instead. To opt-in to the future behavior, set `pd.set_option('future.no_silent_downcasting', True)`\n",
      "  pfs[\"tripleg_id\"] = pfs[\"tripleg_id\"].ffill()\n",
      "C:\\Users\\ASUS\\anaconda3\\Lib\\site-packages\\trackintel\\preprocessing\\positionfixes.py:440: FutureWarning: Downcasting object dtype arrays on .fillna, .ffill, .bfill is deprecated and will change in a future version. Call result.infer_objects(copy=False) instead. To opt-in to the future behavior, set `pd.set_option('future.no_silent_downcasting', True)`\n",
      "  cond_overlap_end = cond_overlap & ~cond_temporal_gap.shift(-1).fillna(False) & pd.isna(pfs[\"tripleg_id\"])\n",
      "C:\\Users\\ASUS\\anaconda3\\Lib\\site-packages\\trackintel\\preprocessing\\positionfixes.py:573: UserWarning: The positionfixes with ids [500207 500208 500448 ... 599883 599884 599885] lead to invalid tripleg geometries. The resulting triplegs were omitted and the tripleg id of the positionfixes was set to nan\n",
      "  warnings.warn(warn_string)\n"
     ]
    },
    {
     "name": "stdout",
     "output_type": "stream",
     "text": [
      "         uid   d   t   x    y                geometry       date  \\\n",
      "500000  1142  17  13  57  152  POINT (57.000 152.000) 2024-01-18   \n",
      "500001  1142  17  14  57  153  POINT (57.000 153.000) 2024-01-18   \n",
      "500002  1142  17  15  57  152  POINT (57.000 152.000) 2024-01-18   \n",
      "500003  1142  17  16  57  151  POINT (57.000 151.000) 2024-01-18   \n",
      "500004  1142  17  17  57  152  POINT (57.000 152.000) 2024-01-18   \n",
      "\n",
      "                  time            datetime  \n",
      "500000 0 days 06:30:00 2024-01-18 06:30:00  \n",
      "500001 0 days 07:00:00 2024-01-18 07:00:00  \n",
      "500002 0 days 07:30:00 2024-01-18 07:30:00  \n",
      "500003 0 days 08:00:00 2024-01-18 08:00:00  \n",
      "500004 0 days 08:30:00 2024-01-18 08:30:00  \n",
      "1-itemsets done!\n",
      "2-itemsets done!\n",
      "No new candidates generated. Stopping at 2-itemsets\n"
     ]
    },
    {
     "name": "stderr",
     "output_type": "stream",
     "text": [
      "100%|████████████████████████████████████████████████████████████████████████████████| 237/237 [00:08<00:00, 26.99it/s]\n",
      "C:\\Users\\ASUS\\anaconda3\\Lib\\site-packages\\trackintel\\preprocessing\\positionfixes.py:361: FutureWarning: Downcasting object dtype arrays on .fillna, .ffill, .bfill is deprecated and will change in a future version. Call result.infer_objects(copy=False) instead. To opt-in to the future behavior, set `pd.set_option('future.no_silent_downcasting', True)`\n",
      "  pfs[\"tripleg_id\"] = pfs[\"tripleg_id\"].ffill()\n",
      "C:\\Users\\ASUS\\anaconda3\\Lib\\site-packages\\trackintel\\preprocessing\\positionfixes.py:440: FutureWarning: Downcasting object dtype arrays on .fillna, .ffill, .bfill is deprecated and will change in a future version. Call result.infer_objects(copy=False) instead. To opt-in to the future behavior, set `pd.set_option('future.no_silent_downcasting', True)`\n",
      "  cond_overlap_end = cond_overlap & ~cond_temporal_gap.shift(-1).fillna(False) & pd.isna(pfs[\"tripleg_id\"])\n",
      "C:\\Users\\ASUS\\anaconda3\\Lib\\site-packages\\trackintel\\preprocessing\\positionfixes.py:573: UserWarning: The positionfixes with ids [600327 600328 600540 ... 699970 699971 699972] lead to invalid tripleg geometries. The resulting triplegs were omitted and the tripleg id of the positionfixes was set to nan\n",
      "  warnings.warn(warn_string)\n"
     ]
    },
    {
     "name": "stdout",
     "output_type": "stream",
     "text": [
      "         uid  d   t   x   y               geometry       date            time  \\\n",
      "600000  1385  6  13  84  97  POINT (84.000 97.000) 2024-01-07 0 days 06:30:00   \n",
      "600001  1385  6  28  84  97  POINT (84.000 97.000) 2024-01-07 0 days 14:00:00   \n",
      "600002  1385  7  33  83  97  POINT (83.000 97.000) 2024-01-08 0 days 16:30:00   \n",
      "600003  1385  7  34  79  86  POINT (79.000 86.000) 2024-01-08 0 days 17:00:00   \n",
      "600004  1385  7  35  90  80  POINT (90.000 80.000) 2024-01-08 0 days 17:30:00   \n",
      "\n",
      "                  datetime  \n",
      "600000 2024-01-07 06:30:00  \n",
      "600001 2024-01-07 14:00:00  \n",
      "600002 2024-01-08 16:30:00  \n",
      "600003 2024-01-08 17:00:00  \n",
      "600004 2024-01-08 17:30:00  \n",
      "1-itemsets done!\n",
      "2-itemsets done!\n",
      "No new candidates generated. Stopping at 2-itemsets\n"
     ]
    },
    {
     "name": "stderr",
     "output_type": "stream",
     "text": [
      "100%|████████████████████████████████████████████████████████████████████████████████| 249/249 [00:08<00:00, 29.10it/s]\n",
      "C:\\Users\\ASUS\\anaconda3\\Lib\\site-packages\\trackintel\\preprocessing\\positionfixes.py:361: FutureWarning: Downcasting object dtype arrays on .fillna, .ffill, .bfill is deprecated and will change in a future version. Call result.infer_objects(copy=False) instead. To opt-in to the future behavior, set `pd.set_option('future.no_silent_downcasting', True)`\n",
      "  pfs[\"tripleg_id\"] = pfs[\"tripleg_id\"].ffill()\n",
      "C:\\Users\\ASUS\\anaconda3\\Lib\\site-packages\\trackintel\\preprocessing\\positionfixes.py:440: FutureWarning: Downcasting object dtype arrays on .fillna, .ffill, .bfill is deprecated and will change in a future version. Call result.infer_objects(copy=False) instead. To opt-in to the future behavior, set `pd.set_option('future.no_silent_downcasting', True)`\n",
      "  cond_overlap_end = cond_overlap & ~cond_temporal_gap.shift(-1).fillna(False) & pd.isna(pfs[\"tripleg_id\"])\n",
      "C:\\Users\\ASUS\\anaconda3\\Lib\\site-packages\\trackintel\\preprocessing\\positionfixes.py:573: UserWarning: The positionfixes with ids [700008 700009 700010 ... 799976 799977 799978] lead to invalid tripleg geometries. The resulting triplegs were omitted and the tripleg id of the positionfixes was set to nan\n",
      "  warnings.warn(warn_string)\n"
     ]
    },
    {
     "name": "stdout",
     "output_type": "stream",
     "text": [
      "         uid   d   t    x    y                 geometry       date  \\\n",
      "700000  1621  12  33  151  149  POINT (151.000 149.000) 2024-01-13   \n",
      "700001  1621  12  34  135  111  POINT (135.000 111.000) 2024-01-13   \n",
      "700002  1621  12  35   93   82    POINT (93.000 82.000) 2024-01-13   \n",
      "700003  1621  12  36   81   94    POINT (81.000 94.000) 2024-01-13   \n",
      "700004  1621  12  37   81   93    POINT (81.000 93.000) 2024-01-13   \n",
      "\n",
      "                  time            datetime  \n",
      "700000 0 days 16:30:00 2024-01-13 16:30:00  \n",
      "700001 0 days 17:00:00 2024-01-13 17:00:00  \n",
      "700002 0 days 17:30:00 2024-01-13 17:30:00  \n",
      "700003 0 days 18:00:00 2024-01-13 18:00:00  \n",
      "700004 0 days 18:30:00 2024-01-13 18:30:00  \n",
      "1-itemsets done!\n",
      "2-itemsets done!\n",
      "No new candidates generated. Stopping at 2-itemsets\n"
     ]
    },
    {
     "name": "stderr",
     "output_type": "stream",
     "text": [
      "100%|████████████████████████████████████████████████████████████████████████████████| 247/247 [00:08<00:00, 28.92it/s]\n",
      "C:\\Users\\ASUS\\anaconda3\\Lib\\site-packages\\trackintel\\preprocessing\\positionfixes.py:361: FutureWarning: Downcasting object dtype arrays on .fillna, .ffill, .bfill is deprecated and will change in a future version. Call result.infer_objects(copy=False) instead. To opt-in to the future behavior, set `pd.set_option('future.no_silent_downcasting', True)`\n",
      "  pfs[\"tripleg_id\"] = pfs[\"tripleg_id\"].ffill()\n",
      "C:\\Users\\ASUS\\anaconda3\\Lib\\site-packages\\trackintel\\preprocessing\\positionfixes.py:440: FutureWarning: Downcasting object dtype arrays on .fillna, .ffill, .bfill is deprecated and will change in a future version. Call result.infer_objects(copy=False) instead. To opt-in to the future behavior, set `pd.set_option('future.no_silent_downcasting', True)`\n",
      "  cond_overlap_end = cond_overlap & ~cond_temporal_gap.shift(-1).fillna(False) & pd.isna(pfs[\"tripleg_id\"])\n",
      "C:\\Users\\ASUS\\anaconda3\\Lib\\site-packages\\trackintel\\preprocessing\\positionfixes.py:573: UserWarning: The positionfixes with ids [800117 800118 800136 ... 899646 899949 899950] lead to invalid tripleg geometries. The resulting triplegs were omitted and the tripleg id of the positionfixes was set to nan\n",
      "  warnings.warn(warn_string)\n"
     ]
    },
    {
     "name": "stdout",
     "output_type": "stream",
     "text": [
      "         uid   d   t   x   y               geometry       date  \\\n",
      "800000  1870  11  31  86  91  POINT (86.000 91.000) 2024-01-12   \n",
      "800001  1870  11  36  86  90  POINT (86.000 90.000) 2024-01-12   \n",
      "800002  1870  12   7  88  94  POINT (88.000 94.000) 2024-01-13   \n",
      "800003  1870  12   8  90  92  POINT (90.000 92.000) 2024-01-13   \n",
      "800004  1870  12   9  90  94  POINT (90.000 94.000) 2024-01-13   \n",
      "\n",
      "                  time            datetime  \n",
      "800000 0 days 15:30:00 2024-01-12 15:30:00  \n",
      "800001 0 days 18:00:00 2024-01-12 18:00:00  \n",
      "800002 0 days 03:30:00 2024-01-13 03:30:00  \n",
      "800003 0 days 04:00:00 2024-01-13 04:00:00  \n",
      "800004 0 days 04:30:00 2024-01-13 04:30:00  \n",
      "1-itemsets done!\n",
      "2-itemsets done!\n",
      "3-itemsets done!\n"
     ]
    },
    {
     "name": "stderr",
     "output_type": "stream",
     "text": [
      "100%|████████████████████████████████████████████████████████████████████████████████| 243/243 [00:08<00:00, 27.28it/s]\n",
      "C:\\Users\\ASUS\\anaconda3\\Lib\\site-packages\\trackintel\\preprocessing\\positionfixes.py:361: FutureWarning: Downcasting object dtype arrays on .fillna, .ffill, .bfill is deprecated and will change in a future version. Call result.infer_objects(copy=False) instead. To opt-in to the future behavior, set `pd.set_option('future.no_silent_downcasting', True)`\n",
      "  pfs[\"tripleg_id\"] = pfs[\"tripleg_id\"].ffill()\n",
      "C:\\Users\\ASUS\\anaconda3\\Lib\\site-packages\\trackintel\\preprocessing\\positionfixes.py:440: FutureWarning: Downcasting object dtype arrays on .fillna, .ffill, .bfill is deprecated and will change in a future version. Call result.infer_objects(copy=False) instead. To opt-in to the future behavior, set `pd.set_option('future.no_silent_downcasting', True)`\n",
      "  cond_overlap_end = cond_overlap & ~cond_temporal_gap.shift(-1).fillna(False) & pd.isna(pfs[\"tripleg_id\"])\n",
      "C:\\Users\\ASUS\\anaconda3\\Lib\\site-packages\\trackintel\\preprocessing\\positionfixes.py:573: UserWarning: The positionfixes with ids [900075 900076 900077 ... 999954 999979 999980] lead to invalid tripleg geometries. The resulting triplegs were omitted and the tripleg id of the positionfixes was set to nan\n",
      "  warnings.warn(warn_string)\n"
     ]
    },
    {
     "name": "stdout",
     "output_type": "stream",
     "text": [
      "         uid  d   t   x    y                geometry       date  \\\n",
      "900000  2119  3  31  74   87   POINT (74.000 87.000) 2024-01-04   \n",
      "900001  2119  3  33  71   94   POINT (71.000 94.000) 2024-01-04   \n",
      "900002  2119  3  34  67  101  POINT (67.000 101.000) 2024-01-04   \n",
      "900003  2119  3  44  58  112  POINT (58.000 112.000) 2024-01-04   \n",
      "900004  2119  4  17  58  111  POINT (58.000 111.000) 2024-01-05   \n",
      "\n",
      "                  time            datetime  \n",
      "900000 0 days 15:30:00 2024-01-04 15:30:00  \n",
      "900001 0 days 16:30:00 2024-01-04 16:30:00  \n",
      "900002 0 days 17:00:00 2024-01-04 17:00:00  \n",
      "900003 0 days 22:00:00 2024-01-04 22:00:00  \n",
      "900004 0 days 08:30:00 2024-01-05 08:30:00  \n",
      "1-itemsets done!\n",
      "2-itemsets done!\n"
     ]
    },
    {
     "name": "stderr",
     "output_type": "stream",
     "text": [
      "100%|████████████████████████████████████████████████████████████████████████████████| 232/232 [00:08<00:00, 26.91it/s]\n",
      "C:\\Users\\ASUS\\anaconda3\\Lib\\site-packages\\trackintel\\preprocessing\\positionfixes.py:361: FutureWarning: Downcasting object dtype arrays on .fillna, .ffill, .bfill is deprecated and will change in a future version. Call result.infer_objects(copy=False) instead. To opt-in to the future behavior, set `pd.set_option('future.no_silent_downcasting', True)`\n",
      "  pfs[\"tripleg_id\"] = pfs[\"tripleg_id\"].ffill()\n",
      "C:\\Users\\ASUS\\anaconda3\\Lib\\site-packages\\trackintel\\preprocessing\\positionfixes.py:440: FutureWarning: Downcasting object dtype arrays on .fillna, .ffill, .bfill is deprecated and will change in a future version. Call result.infer_objects(copy=False) instead. To opt-in to the future behavior, set `pd.set_option('future.no_silent_downcasting', True)`\n",
      "  cond_overlap_end = cond_overlap & ~cond_temporal_gap.shift(-1).fillna(False) & pd.isna(pfs[\"tripleg_id\"])\n",
      "C:\\Users\\ASUS\\anaconda3\\Lib\\site-packages\\trackintel\\preprocessing\\positionfixes.py:573: UserWarning: The positionfixes with ids [1000032 1000033 1000034 ... 1099997 1099998 1099999] lead to invalid tripleg geometries. The resulting triplegs were omitted and the tripleg id of the positionfixes was set to nan\n",
      "  warnings.warn(warn_string)\n"
     ]
    },
    {
     "name": "stdout",
     "output_type": "stream",
     "text": [
      "          uid  d   t   x    y                geometry       date  \\\n",
      "1000000  2362  8   6  46  138  POINT (46.000 138.000) 2024-01-09   \n",
      "1000001  2362  8  12  46  138  POINT (46.000 138.000) 2024-01-09   \n",
      "1000002  2362  8  13  47  122  POINT (47.000 122.000) 2024-01-09   \n",
      "1000003  2362  8  22  49  120  POINT (49.000 120.000) 2024-01-09   \n",
      "1000004  2362  8  23  46  128  POINT (46.000 128.000) 2024-01-09   \n",
      "\n",
      "                   time            datetime  \n",
      "1000000 0 days 03:00:00 2024-01-09 03:00:00  \n",
      "1000001 0 days 06:00:00 2024-01-09 06:00:00  \n",
      "1000002 0 days 06:30:00 2024-01-09 06:30:00  \n",
      "1000003 0 days 11:00:00 2024-01-09 11:00:00  \n",
      "1000004 0 days 11:30:00 2024-01-09 11:30:00  \n",
      "1-itemsets done!\n",
      "2-itemsets done!\n",
      "No new candidates generated. Stopping at 2-itemsets\n"
     ]
    },
    {
     "name": "stderr",
     "output_type": "stream",
     "text": [
      "100%|████████████████████████████████████████████████████████████████████████████████| 228/228 [00:08<00:00, 26.72it/s]\n",
      "C:\\Users\\ASUS\\anaconda3\\Lib\\site-packages\\trackintel\\preprocessing\\positionfixes.py:361: FutureWarning: Downcasting object dtype arrays on .fillna, .ffill, .bfill is deprecated and will change in a future version. Call result.infer_objects(copy=False) instead. To opt-in to the future behavior, set `pd.set_option('future.no_silent_downcasting', True)`\n",
      "  pfs[\"tripleg_id\"] = pfs[\"tripleg_id\"].ffill()\n",
      "C:\\Users\\ASUS\\anaconda3\\Lib\\site-packages\\trackintel\\preprocessing\\positionfixes.py:440: FutureWarning: Downcasting object dtype arrays on .fillna, .ffill, .bfill is deprecated and will change in a future version. Call result.infer_objects(copy=False) instead. To opt-in to the future behavior, set `pd.set_option('future.no_silent_downcasting', True)`\n",
      "  cond_overlap_end = cond_overlap & ~cond_temporal_gap.shift(-1).fillna(False) & pd.isna(pfs[\"tripleg_id\"])\n",
      "C:\\Users\\ASUS\\anaconda3\\Lib\\site-packages\\trackintel\\preprocessing\\positionfixes.py:573: UserWarning: The positionfixes with ids [1100000 1100001 1100002 ... 1199983 1199998 1199999] lead to invalid tripleg geometries. The resulting triplegs were omitted and the tripleg id of the positionfixes was set to nan\n",
      "  warnings.warn(warn_string)\n"
     ]
    },
    {
     "name": "stdout",
     "output_type": "stream",
     "text": [
      "          uid   d   t   x   y               geometry       date  \\\n",
      "1100000  2595  24  46  88  89  POINT (88.000 89.000) 2024-01-25   \n",
      "1100001  2595  24  47  88  89  POINT (88.000 89.000) 2024-01-25   \n",
      "1100002  2595  25   1  88  89  POINT (88.000 89.000) 2024-01-26   \n",
      "1100003  2595  25   2  88  89  POINT (88.000 89.000) 2024-01-26   \n",
      "1100004  2595  25   3  88  89  POINT (88.000 89.000) 2024-01-26   \n",
      "\n",
      "                   time            datetime  \n",
      "1100000 0 days 23:00:00 2024-01-25 23:00:00  \n",
      "1100001 0 days 23:30:00 2024-01-25 23:30:00  \n",
      "1100002 0 days 00:30:00 2024-01-26 00:30:00  \n",
      "1100003 0 days 01:00:00 2024-01-26 01:00:00  \n",
      "1100004 0 days 01:30:00 2024-01-26 01:30:00  \n",
      "1-itemsets done!\n",
      "2-itemsets done!\n",
      "3-itemsets done!\n",
      "4-itemsets done!\n",
      "No new candidates generated. Stopping at 4-itemsets\n"
     ]
    },
    {
     "name": "stderr",
     "output_type": "stream",
     "text": [
      "100%|████████████████████████████████████████████████████████████████████████████████| 238/238 [00:08<00:00, 27.52it/s]\n",
      "C:\\Users\\ASUS\\anaconda3\\Lib\\site-packages\\trackintel\\preprocessing\\positionfixes.py:361: FutureWarning: Downcasting object dtype arrays on .fillna, .ffill, .bfill is deprecated and will change in a future version. Call result.infer_objects(copy=False) instead. To opt-in to the future behavior, set `pd.set_option('future.no_silent_downcasting', True)`\n",
      "  pfs[\"tripleg_id\"] = pfs[\"tripleg_id\"].ffill()\n",
      "C:\\Users\\ASUS\\anaconda3\\Lib\\site-packages\\trackintel\\preprocessing\\positionfixes.py:440: FutureWarning: Downcasting object dtype arrays on .fillna, .ffill, .bfill is deprecated and will change in a future version. Call result.infer_objects(copy=False) instead. To opt-in to the future behavior, set `pd.set_option('future.no_silent_downcasting', True)`\n",
      "  cond_overlap_end = cond_overlap & ~cond_temporal_gap.shift(-1).fillna(False) & pd.isna(pfs[\"tripleg_id\"])\n",
      "C:\\Users\\ASUS\\anaconda3\\Lib\\site-packages\\trackintel\\preprocessing\\positionfixes.py:573: UserWarning: The positionfixes with ids [1200084 1200085 1200086 ... 1299508 1299661 1299662] lead to invalid tripleg geometries. The resulting triplegs were omitted and the tripleg id of the positionfixes was set to nan\n",
      "  warnings.warn(warn_string)\n"
     ]
    },
    {
     "name": "stdout",
     "output_type": "stream",
     "text": [
      "          uid   d   t   x   y               geometry       date  \\\n",
      "1200000  2824  18  32  28  42  POINT (28.000 42.000) 2024-01-19   \n",
      "1200001  2824  18  33  28  45  POINT (28.000 45.000) 2024-01-19   \n",
      "1200002  2824  18  34  29  44  POINT (29.000 44.000) 2024-01-19   \n",
      "1200003  2824  18  35  28  45  POINT (28.000 45.000) 2024-01-19   \n",
      "1200004  2824  18  36  29  44  POINT (29.000 44.000) 2024-01-19   \n",
      "\n",
      "                   time            datetime  \n",
      "1200000 0 days 16:00:00 2024-01-19 16:00:00  \n",
      "1200001 0 days 16:30:00 2024-01-19 16:30:00  \n",
      "1200002 0 days 17:00:00 2024-01-19 17:00:00  \n",
      "1200003 0 days 17:30:00 2024-01-19 17:30:00  \n",
      "1200004 0 days 18:00:00 2024-01-19 18:00:00  \n",
      "1-itemsets done!\n",
      "2-itemsets done!\n"
     ]
    },
    {
     "name": "stderr",
     "output_type": "stream",
     "text": [
      "100%|████████████████████████████████████████████████████████████████████████████████| 233/233 [00:08<00:00, 26.65it/s]\n",
      "C:\\Users\\ASUS\\anaconda3\\Lib\\site-packages\\trackintel\\preprocessing\\positionfixes.py:361: FutureWarning: Downcasting object dtype arrays on .fillna, .ffill, .bfill is deprecated and will change in a future version. Call result.infer_objects(copy=False) instead. To opt-in to the future behavior, set `pd.set_option('future.no_silent_downcasting', True)`\n",
      "  pfs[\"tripleg_id\"] = pfs[\"tripleg_id\"].ffill()\n",
      "C:\\Users\\ASUS\\anaconda3\\Lib\\site-packages\\trackintel\\preprocessing\\positionfixes.py:440: FutureWarning: Downcasting object dtype arrays on .fillna, .ffill, .bfill is deprecated and will change in a future version. Call result.infer_objects(copy=False) instead. To opt-in to the future behavior, set `pd.set_option('future.no_silent_downcasting', True)`\n",
      "  cond_overlap_end = cond_overlap & ~cond_temporal_gap.shift(-1).fillna(False) & pd.isna(pfs[\"tripleg_id\"])\n",
      "C:\\Users\\ASUS\\anaconda3\\Lib\\site-packages\\trackintel\\preprocessing\\positionfixes.py:573: UserWarning: The positionfixes with ids [1300038 1300039 1300162 ... 1399803 1399990 1399991] lead to invalid tripleg geometries. The resulting triplegs were omitted and the tripleg id of the positionfixes was set to nan\n",
      "  warnings.warn(warn_string)\n"
     ]
    },
    {
     "name": "stdout",
     "output_type": "stream",
     "text": [
      "          uid   d   t    x   y                geometry       date  \\\n",
      "1300000  3062  12  18   99  93   POINT (99.000 93.000) 2024-01-13   \n",
      "1300001  3062  12  19  100  94  POINT (100.000 94.000) 2024-01-13   \n",
      "1300002  3062  12  22  106  98  POINT (106.000 98.000) 2024-01-13   \n",
      "1300003  3062  12  23  107  97  POINT (107.000 97.000) 2024-01-13   \n",
      "1300004  3062  12  24  100  94  POINT (100.000 94.000) 2024-01-13   \n",
      "\n",
      "                   time            datetime  \n",
      "1300000 0 days 09:00:00 2024-01-13 09:00:00  \n",
      "1300001 0 days 09:30:00 2024-01-13 09:30:00  \n",
      "1300002 0 days 11:00:00 2024-01-13 11:00:00  \n",
      "1300003 0 days 11:30:00 2024-01-13 11:30:00  \n",
      "1300004 0 days 12:00:00 2024-01-13 12:00:00  \n",
      "1-itemsets done!\n",
      "2-itemsets done!\n",
      "No new candidates generated. Stopping at 2-itemsets\n"
     ]
    },
    {
     "name": "stderr",
     "output_type": "stream",
     "text": [
      "100%|████████████████████████████████████████████████████████████████████████████████| 239/239 [00:09<00:00, 26.48it/s]\n",
      "C:\\Users\\ASUS\\anaconda3\\Lib\\site-packages\\trackintel\\preprocessing\\positionfixes.py:361: FutureWarning: Downcasting object dtype arrays on .fillna, .ffill, .bfill is deprecated and will change in a future version. Call result.infer_objects(copy=False) instead. To opt-in to the future behavior, set `pd.set_option('future.no_silent_downcasting', True)`\n",
      "  pfs[\"tripleg_id\"] = pfs[\"tripleg_id\"].ffill()\n",
      "C:\\Users\\ASUS\\anaconda3\\Lib\\site-packages\\trackintel\\preprocessing\\positionfixes.py:440: FutureWarning: Downcasting object dtype arrays on .fillna, .ffill, .bfill is deprecated and will change in a future version. Call result.infer_objects(copy=False) instead. To opt-in to the future behavior, set `pd.set_option('future.no_silent_downcasting', True)`\n",
      "  cond_overlap_end = cond_overlap & ~cond_temporal_gap.shift(-1).fillna(False) & pd.isna(pfs[\"tripleg_id\"])\n",
      "C:\\Users\\ASUS\\anaconda3\\Lib\\site-packages\\trackintel\\preprocessing\\positionfixes.py:573: UserWarning: The positionfixes with ids [1400009 1400010 1400011 ... 1499559 1499782 1499783] lead to invalid tripleg geometries. The resulting triplegs were omitted and the tripleg id of the positionfixes was set to nan\n",
      "  warnings.warn(warn_string)\n"
     ]
    },
    {
     "name": "stdout",
     "output_type": "stream",
     "text": [
      "          uid   d   t   x    y                geometry       date  \\\n",
      "1400000  3297  29  32  49  108  POINT (49.000 108.000) 2024-01-30   \n",
      "1400001  3297  29  35  47  122  POINT (47.000 122.000) 2024-01-30   \n",
      "1400002  3297  29  36  46  131  POINT (46.000 131.000) 2024-01-30   \n",
      "1400003  3298   0  29  68    1    POINT (68.000 1.000) 2024-01-01   \n",
      "1400004  3298   0  32  68    2    POINT (68.000 2.000) 2024-01-01   \n",
      "\n",
      "                   time            datetime  \n",
      "1400000 0 days 16:00:00 2024-01-30 16:00:00  \n",
      "1400001 0 days 17:30:00 2024-01-30 17:30:00  \n",
      "1400002 0 days 18:00:00 2024-01-30 18:00:00  \n",
      "1400003 0 days 14:30:00 2024-01-01 14:30:00  \n",
      "1400004 0 days 16:00:00 2024-01-01 16:00:00  \n",
      "1-itemsets done!\n",
      "2-itemsets done!\n"
     ]
    },
    {
     "name": "stderr",
     "output_type": "stream",
     "text": [
      "100%|████████████████████████████████████████████████████████████████████████████████| 249/249 [00:08<00:00, 28.44it/s]\n",
      "C:\\Users\\ASUS\\anaconda3\\Lib\\site-packages\\trackintel\\preprocessing\\positionfixes.py:361: FutureWarning: Downcasting object dtype arrays on .fillna, .ffill, .bfill is deprecated and will change in a future version. Call result.infer_objects(copy=False) instead. To opt-in to the future behavior, set `pd.set_option('future.no_silent_downcasting', True)`\n",
      "  pfs[\"tripleg_id\"] = pfs[\"tripleg_id\"].ffill()\n",
      "C:\\Users\\ASUS\\anaconda3\\Lib\\site-packages\\trackintel\\preprocessing\\positionfixes.py:440: FutureWarning: Downcasting object dtype arrays on .fillna, .ffill, .bfill is deprecated and will change in a future version. Call result.infer_objects(copy=False) instead. To opt-in to the future behavior, set `pd.set_option('future.no_silent_downcasting', True)`\n",
      "  cond_overlap_end = cond_overlap & ~cond_temporal_gap.shift(-1).fillna(False) & pd.isna(pfs[\"tripleg_id\"])\n",
      "C:\\Users\\ASUS\\anaconda3\\Lib\\site-packages\\trackintel\\preprocessing\\positionfixes.py:573: UserWarning: The positionfixes with ids [1500178 1500179 1500180 ... 1599992 1599993 1599994] lead to invalid tripleg geometries. The resulting triplegs were omitted and the tripleg id of the positionfixes was set to nan\n",
      "  warnings.warn(warn_string)\n"
     ]
    },
    {
     "name": "stdout",
     "output_type": "stream",
     "text": [
      "          uid  d   t   x    y                geometry       date  \\\n",
      "1500000  3535  2  15  93  167  POINT (93.000 167.000) 2024-01-03   \n",
      "1500001  3535  2  16  94  171  POINT (94.000 171.000) 2024-01-03   \n",
      "1500002  3535  2  17  88  153  POINT (88.000 153.000) 2024-01-03   \n",
      "1500003  3535  2  18  83  151  POINT (83.000 151.000) 2024-01-03   \n",
      "1500004  3535  2  44  87  127  POINT (87.000 127.000) 2024-01-03   \n",
      "\n",
      "                   time            datetime  \n",
      "1500000 0 days 07:30:00 2024-01-03 07:30:00  \n",
      "1500001 0 days 08:00:00 2024-01-03 08:00:00  \n",
      "1500002 0 days 08:30:00 2024-01-03 08:30:00  \n",
      "1500003 0 days 09:00:00 2024-01-03 09:00:00  \n",
      "1500004 0 days 22:00:00 2024-01-03 22:00:00  \n",
      "1-itemsets done!\n",
      "2-itemsets done!\n",
      "No new candidates generated. Stopping at 2-itemsets\n"
     ]
    },
    {
     "name": "stderr",
     "output_type": "stream",
     "text": [
      "100%|████████████████████████████████████████████████████████████████████████████████| 232/232 [00:09<00:00, 24.18it/s]\n",
      "C:\\Users\\ASUS\\anaconda3\\Lib\\site-packages\\trackintel\\preprocessing\\positionfixes.py:361: FutureWarning: Downcasting object dtype arrays on .fillna, .ffill, .bfill is deprecated and will change in a future version. Call result.infer_objects(copy=False) instead. To opt-in to the future behavior, set `pd.set_option('future.no_silent_downcasting', True)`\n",
      "  pfs[\"tripleg_id\"] = pfs[\"tripleg_id\"].ffill()\n",
      "C:\\Users\\ASUS\\anaconda3\\Lib\\site-packages\\trackintel\\preprocessing\\positionfixes.py:440: FutureWarning: Downcasting object dtype arrays on .fillna, .ffill, .bfill is deprecated and will change in a future version. Call result.infer_objects(copy=False) instead. To opt-in to the future behavior, set `pd.set_option('future.no_silent_downcasting', True)`\n",
      "  cond_overlap_end = cond_overlap & ~cond_temporal_gap.shift(-1).fillna(False) & pd.isna(pfs[\"tripleg_id\"])\n",
      "C:\\Users\\ASUS\\anaconda3\\Lib\\site-packages\\trackintel\\preprocessing\\positionfixes.py:573: UserWarning: The positionfixes with ids [1600010 1600011 1600051 ... 1699997 1699998 1699999] lead to invalid tripleg geometries. The resulting triplegs were omitted and the tripleg id of the positionfixes was set to nan\n",
      "  warnings.warn(warn_string)\n"
     ]
    },
    {
     "name": "stdout",
     "output_type": "stream",
     "text": [
      "          uid   d   t   x   y               geometry       date  \\\n",
      "1600000  3785  25  17  62  60  POINT (62.000 60.000) 2024-01-26   \n",
      "1600001  3785  25  18  62  61  POINT (62.000 61.000) 2024-01-26   \n",
      "1600002  3785  25  19  62  61  POINT (62.000 61.000) 2024-01-26   \n",
      "1600003  3785  25  20  62  61  POINT (62.000 61.000) 2024-01-26   \n",
      "1600004  3785  25  21  61  60  POINT (61.000 60.000) 2024-01-26   \n",
      "\n",
      "                   time            datetime  \n",
      "1600000 0 days 08:30:00 2024-01-26 08:30:00  \n",
      "1600001 0 days 09:00:00 2024-01-26 09:00:00  \n",
      "1600002 0 days 09:30:00 2024-01-26 09:30:00  \n",
      "1600003 0 days 10:00:00 2024-01-26 10:00:00  \n",
      "1600004 0 days 10:30:00 2024-01-26 10:30:00  \n",
      "1-itemsets done!\n",
      "2-itemsets done!\n"
     ]
    },
    {
     "name": "stderr",
     "output_type": "stream",
     "text": [
      "100%|████████████████████████████████████████████████████████████████████████████████| 246/246 [00:09<00:00, 26.44it/s]\n",
      "C:\\Users\\ASUS\\anaconda3\\Lib\\site-packages\\trackintel\\preprocessing\\positionfixes.py:361: FutureWarning: Downcasting object dtype arrays on .fillna, .ffill, .bfill is deprecated and will change in a future version. Call result.infer_objects(copy=False) instead. To opt-in to the future behavior, set `pd.set_option('future.no_silent_downcasting', True)`\n",
      "  pfs[\"tripleg_id\"] = pfs[\"tripleg_id\"].ffill()\n",
      "C:\\Users\\ASUS\\anaconda3\\Lib\\site-packages\\trackintel\\preprocessing\\positionfixes.py:440: FutureWarning: Downcasting object dtype arrays on .fillna, .ffill, .bfill is deprecated and will change in a future version. Call result.infer_objects(copy=False) instead. To opt-in to the future behavior, set `pd.set_option('future.no_silent_downcasting', True)`\n",
      "  cond_overlap_end = cond_overlap & ~cond_temporal_gap.shift(-1).fillna(False) & pd.isna(pfs[\"tripleg_id\"])\n",
      "C:\\Users\\ASUS\\anaconda3\\Lib\\site-packages\\trackintel\\preprocessing\\positionfixes.py:573: UserWarning: The positionfixes with ids [1700002 1700003 1700018 ... 1799831 1799994 1799995] lead to invalid tripleg geometries. The resulting triplegs were omitted and the tripleg id of the positionfixes was set to nan\n",
      "  warnings.warn(warn_string)\n"
     ]
    },
    {
     "name": "stdout",
     "output_type": "stream",
     "text": [
      "          uid   d   t   x   y               geometry       date  \\\n",
      "1700000  4017  12  25  93  95  POINT (93.000 95.000) 2024-01-13   \n",
      "1700001  4017  12  27  92  95  POINT (92.000 95.000) 2024-01-13   \n",
      "1700002  4017  12  35  92  95  POINT (92.000 95.000) 2024-01-13   \n",
      "1700003  4017  12  36  92  95  POINT (92.000 95.000) 2024-01-13   \n",
      "1700004  4017  12  38  91  95  POINT (91.000 95.000) 2024-01-13   \n",
      "\n",
      "                   time            datetime  \n",
      "1700000 0 days 12:30:00 2024-01-13 12:30:00  \n",
      "1700001 0 days 13:30:00 2024-01-13 13:30:00  \n",
      "1700002 0 days 17:30:00 2024-01-13 17:30:00  \n",
      "1700003 0 days 18:00:00 2024-01-13 18:00:00  \n",
      "1700004 0 days 19:00:00 2024-01-13 19:00:00  \n",
      "1-itemsets done!\n",
      "2-itemsets done!\n",
      "No new candidates generated. Stopping at 2-itemsets\n"
     ]
    },
    {
     "name": "stderr",
     "output_type": "stream",
     "text": [
      "100%|████████████████████████████████████████████████████████████████████████████████| 236/236 [00:08<00:00, 26.45it/s]\n",
      "C:\\Users\\ASUS\\anaconda3\\Lib\\site-packages\\trackintel\\preprocessing\\positionfixes.py:361: FutureWarning: Downcasting object dtype arrays on .fillna, .ffill, .bfill is deprecated and will change in a future version. Call result.infer_objects(copy=False) instead. To opt-in to the future behavior, set `pd.set_option('future.no_silent_downcasting', True)`\n",
      "  pfs[\"tripleg_id\"] = pfs[\"tripleg_id\"].ffill()\n",
      "C:\\Users\\ASUS\\anaconda3\\Lib\\site-packages\\trackintel\\preprocessing\\positionfixes.py:440: FutureWarning: Downcasting object dtype arrays on .fillna, .ffill, .bfill is deprecated and will change in a future version. Call result.infer_objects(copy=False) instead. To opt-in to the future behavior, set `pd.set_option('future.no_silent_downcasting', True)`\n",
      "  cond_overlap_end = cond_overlap & ~cond_temporal_gap.shift(-1).fillna(False) & pd.isna(pfs[\"tripleg_id\"])\n",
      "C:\\Users\\ASUS\\anaconda3\\Lib\\site-packages\\trackintel\\preprocessing\\positionfixes.py:573: UserWarning: The positionfixes with ids [1800081 1800082 1800083 ... 1899737 1899771 1899772] lead to invalid tripleg geometries. The resulting triplegs were omitted and the tripleg id of the positionfixes was set to nan\n",
      "  warnings.warn(warn_string)\n"
     ]
    },
    {
     "name": "stdout",
     "output_type": "stream",
     "text": [
      "          uid  d   t   x    y                geometry       date  \\\n",
      "1800000  4267  1  27  13  196  POINT (13.000 196.000) 2024-01-02   \n",
      "1800001  4267  1  28  11  186  POINT (11.000 186.000) 2024-01-02   \n",
      "1800002  4267  2  21  13  199  POINT (13.000 199.000) 2024-01-03   \n",
      "1800003  4267  2  22  13  195  POINT (13.000 195.000) 2024-01-03   \n",
      "1800004  4267  2  23  14  187  POINT (14.000 187.000) 2024-01-03   \n",
      "\n",
      "                   time            datetime  \n",
      "1800000 0 days 13:30:00 2024-01-02 13:30:00  \n",
      "1800001 0 days 14:00:00 2024-01-02 14:00:00  \n",
      "1800002 0 days 10:30:00 2024-01-03 10:30:00  \n",
      "1800003 0 days 11:00:00 2024-01-03 11:00:00  \n",
      "1800004 0 days 11:30:00 2024-01-03 11:30:00  \n",
      "1-itemsets done!\n",
      "2-itemsets done!\n",
      "No new candidates generated. Stopping at 2-itemsets\n"
     ]
    },
    {
     "name": "stderr",
     "output_type": "stream",
     "text": [
      "100%|████████████████████████████████████████████████████████████████████████████████| 236/236 [00:10<00:00, 22.76it/s]\n",
      "C:\\Users\\ASUS\\anaconda3\\Lib\\site-packages\\trackintel\\preprocessing\\positionfixes.py:361: FutureWarning: Downcasting object dtype arrays on .fillna, .ffill, .bfill is deprecated and will change in a future version. Call result.infer_objects(copy=False) instead. To opt-in to the future behavior, set `pd.set_option('future.no_silent_downcasting', True)`\n",
      "  pfs[\"tripleg_id\"] = pfs[\"tripleg_id\"].ffill()\n",
      "C:\\Users\\ASUS\\anaconda3\\Lib\\site-packages\\trackintel\\preprocessing\\positionfixes.py:440: FutureWarning: Downcasting object dtype arrays on .fillna, .ffill, .bfill is deprecated and will change in a future version. Call result.infer_objects(copy=False) instead. To opt-in to the future behavior, set `pd.set_option('future.no_silent_downcasting', True)`\n",
      "  cond_overlap_end = cond_overlap & ~cond_temporal_gap.shift(-1).fillna(False) & pd.isna(pfs[\"tripleg_id\"])\n",
      "C:\\Users\\ASUS\\anaconda3\\Lib\\site-packages\\trackintel\\preprocessing\\positionfixes.py:573: UserWarning: The positionfixes with ids [1900117 1900118 1900204 ... 1999974 1999975 1999976] lead to invalid tripleg geometries. The resulting triplegs were omitted and the tripleg id of the positionfixes was set to nan\n",
      "  warnings.warn(warn_string)\n"
     ]
    },
    {
     "name": "stdout",
     "output_type": "stream",
     "text": [
      "          uid   d   t    x    y                 geometry       date  \\\n",
      "1900000  4505  23  25  105  101  POINT (105.000 101.000) 2024-01-24   \n",
      "1900001  4505  23  26   83  102   POINT (83.000 102.000) 2024-01-24   \n",
      "1900002  4505  23  42   83  102   POINT (83.000 102.000) 2024-01-24   \n",
      "1900003  4505  24   4   83  103   POINT (83.000 103.000) 2024-01-25   \n",
      "1900004  4505  24   5  106   98   POINT (106.000 98.000) 2024-01-25   \n",
      "\n",
      "                   time            datetime  \n",
      "1900000 0 days 12:30:00 2024-01-24 12:30:00  \n",
      "1900001 0 days 13:00:00 2024-01-24 13:00:00  \n",
      "1900002 0 days 21:00:00 2024-01-24 21:00:00  \n",
      "1900003 0 days 02:00:00 2024-01-25 02:00:00  \n",
      "1900004 0 days 02:30:00 2024-01-25 02:30:00  \n",
      "1-itemsets done!\n",
      "2-itemsets done!\n",
      "3-itemsets done!\n",
      "4-itemsets done!\n"
     ]
    },
    {
     "name": "stderr",
     "output_type": "stream",
     "text": [
      "100%|████████████████████████████████████████████████████████████████████████████████| 243/243 [00:09<00:00, 25.82it/s]\n",
      "C:\\Users\\ASUS\\anaconda3\\Lib\\site-packages\\trackintel\\preprocessing\\positionfixes.py:361: FutureWarning: Downcasting object dtype arrays on .fillna, .ffill, .bfill is deprecated and will change in a future version. Call result.infer_objects(copy=False) instead. To opt-in to the future behavior, set `pd.set_option('future.no_silent_downcasting', True)`\n",
      "  pfs[\"tripleg_id\"] = pfs[\"tripleg_id\"].ffill()\n",
      "C:\\Users\\ASUS\\anaconda3\\Lib\\site-packages\\trackintel\\preprocessing\\positionfixes.py:440: FutureWarning: Downcasting object dtype arrays on .fillna, .ffill, .bfill is deprecated and will change in a future version. Call result.infer_objects(copy=False) instead. To opt-in to the future behavior, set `pd.set_option('future.no_silent_downcasting', True)`\n",
      "  cond_overlap_end = cond_overlap & ~cond_temporal_gap.shift(-1).fillna(False) & pd.isna(pfs[\"tripleg_id\"])\n",
      "C:\\Users\\ASUS\\anaconda3\\Lib\\site-packages\\trackintel\\preprocessing\\positionfixes.py:573: UserWarning: The positionfixes with ids [2000190 2000191 2000192 ... 2099990 2099991 2099992] lead to invalid tripleg geometries. The resulting triplegs were omitted and the tripleg id of the positionfixes was set to nan\n",
      "  warnings.warn(warn_string)\n"
     ]
    },
    {
     "name": "stdout",
     "output_type": "stream",
     "text": [
      "          uid  d   t   x   y               geometry       date  \\\n",
      "2000000  4741  1  36  97  82  POINT (97.000 82.000) 2024-01-02   \n",
      "2000001  4741  2  15  93  82  POINT (93.000 82.000) 2024-01-03   \n",
      "2000002  4741  2  16  94  84  POINT (94.000 84.000) 2024-01-03   \n",
      "2000003  4741  2  19  95  88  POINT (95.000 88.000) 2024-01-03   \n",
      "2000004  4741  2  20  89  93  POINT (89.000 93.000) 2024-01-03   \n",
      "\n",
      "                   time            datetime  \n",
      "2000000 0 days 18:00:00 2024-01-02 18:00:00  \n",
      "2000001 0 days 07:30:00 2024-01-03 07:30:00  \n",
      "2000002 0 days 08:00:00 2024-01-03 08:00:00  \n",
      "2000003 0 days 09:30:00 2024-01-03 09:30:00  \n",
      "2000004 0 days 10:00:00 2024-01-03 10:00:00  \n",
      "1-itemsets done!\n",
      "2-itemsets done!\n",
      "3-itemsets done!\n"
     ]
    },
    {
     "name": "stderr",
     "output_type": "stream",
     "text": [
      "100%|████████████████████████████████████████████████████████████████████████████████| 246/246 [00:08<00:00, 27.83it/s]\n",
      "C:\\Users\\ASUS\\anaconda3\\Lib\\site-packages\\trackintel\\preprocessing\\positionfixes.py:361: FutureWarning: Downcasting object dtype arrays on .fillna, .ffill, .bfill is deprecated and will change in a future version. Call result.infer_objects(copy=False) instead. To opt-in to the future behavior, set `pd.set_option('future.no_silent_downcasting', True)`\n",
      "  pfs[\"tripleg_id\"] = pfs[\"tripleg_id\"].ffill()\n",
      "C:\\Users\\ASUS\\anaconda3\\Lib\\site-packages\\trackintel\\preprocessing\\positionfixes.py:440: FutureWarning: Downcasting object dtype arrays on .fillna, .ffill, .bfill is deprecated and will change in a future version. Call result.infer_objects(copy=False) instead. To opt-in to the future behavior, set `pd.set_option('future.no_silent_downcasting', True)`\n",
      "  cond_overlap_end = cond_overlap & ~cond_temporal_gap.shift(-1).fillna(False) & pd.isna(pfs[\"tripleg_id\"])\n",
      "C:\\Users\\ASUS\\anaconda3\\Lib\\site-packages\\trackintel\\preprocessing\\positionfixes.py:573: UserWarning: The positionfixes with ids [2100028 2100029 2100030 ... 2199992 2199993 2199994] lead to invalid tripleg geometries. The resulting triplegs were omitted and the tripleg id of the positionfixes was set to nan\n",
      "  warnings.warn(warn_string)\n"
     ]
    },
    {
     "name": "stdout",
     "output_type": "stream",
     "text": [
      "          uid  d   t   x   y               geometry       date  \\\n",
      "2100000  4985  6  42  95  90  POINT (95.000 90.000) 2024-01-07   \n",
      "2100001  4985  6  43  94  90  POINT (94.000 90.000) 2024-01-07   \n",
      "2100002  4985  6  44  94  90  POINT (94.000 90.000) 2024-01-07   \n",
      "2100003  4985  7   4  94  90  POINT (94.000 90.000) 2024-01-08   \n",
      "2100004  4985  7   5  94  90  POINT (94.000 90.000) 2024-01-08   \n",
      "\n",
      "                   time            datetime  \n",
      "2100000 0 days 21:00:00 2024-01-07 21:00:00  \n",
      "2100001 0 days 21:30:00 2024-01-07 21:30:00  \n",
      "2100002 0 days 22:00:00 2024-01-07 22:00:00  \n",
      "2100003 0 days 02:00:00 2024-01-08 02:00:00  \n",
      "2100004 0 days 02:30:00 2024-01-08 02:30:00  \n",
      "1-itemsets done!\n",
      "2-itemsets done!\n",
      "3-itemsets done!\n",
      "4-itemsets done!\n",
      "No new candidates generated. Stopping at 4-itemsets\n"
     ]
    },
    {
     "name": "stderr",
     "output_type": "stream",
     "text": [
      "100%|████████████████████████████████████████████████████████████████████████████████| 245/245 [00:09<00:00, 27.13it/s]\n",
      "C:\\Users\\ASUS\\anaconda3\\Lib\\site-packages\\trackintel\\preprocessing\\positionfixes.py:361: FutureWarning: Downcasting object dtype arrays on .fillna, .ffill, .bfill is deprecated and will change in a future version. Call result.infer_objects(copy=False) instead. To opt-in to the future behavior, set `pd.set_option('future.no_silent_downcasting', True)`\n",
      "  pfs[\"tripleg_id\"] = pfs[\"tripleg_id\"].ffill()\n",
      "C:\\Users\\ASUS\\anaconda3\\Lib\\site-packages\\trackintel\\preprocessing\\positionfixes.py:440: FutureWarning: Downcasting object dtype arrays on .fillna, .ffill, .bfill is deprecated and will change in a future version. Call result.infer_objects(copy=False) instead. To opt-in to the future behavior, set `pd.set_option('future.no_silent_downcasting', True)`\n",
      "  cond_overlap_end = cond_overlap & ~cond_temporal_gap.shift(-1).fillna(False) & pd.isna(pfs[\"tripleg_id\"])\n",
      "C:\\Users\\ASUS\\anaconda3\\Lib\\site-packages\\trackintel\\preprocessing\\positionfixes.py:573: UserWarning: The positionfixes with ids [2200002 2200003 2200044 ... 2299997 2299998 2299999] lead to invalid tripleg geometries. The resulting triplegs were omitted and the tripleg id of the positionfixes was set to nan\n",
      "  warnings.warn(warn_string)\n"
     ]
    },
    {
     "name": "stdout",
     "output_type": "stream",
     "text": [
      "          uid   d   t   x   y               geometry       date  \\\n",
      "2200000  5230  28  30  72  69  POINT (72.000 69.000) 2024-01-29   \n",
      "2200001  5230  28  31  64  60  POINT (64.000 60.000) 2024-01-29   \n",
      "2200002  5230  29  29  65  63  POINT (65.000 63.000) 2024-01-30   \n",
      "2200003  5230  29  30  65  63  POINT (65.000 63.000) 2024-01-30   \n",
      "2200004  5230  29  38  63  60  POINT (63.000 60.000) 2024-01-30   \n",
      "\n",
      "                   time            datetime  \n",
      "2200000 0 days 15:00:00 2024-01-29 15:00:00  \n",
      "2200001 0 days 15:30:00 2024-01-29 15:30:00  \n",
      "2200002 0 days 14:30:00 2024-01-30 14:30:00  \n",
      "2200003 0 days 15:00:00 2024-01-30 15:00:00  \n",
      "2200004 0 days 19:00:00 2024-01-30 19:00:00  \n",
      "1-itemsets done!\n",
      "2-itemsets done!\n"
     ]
    },
    {
     "name": "stderr",
     "output_type": "stream",
     "text": [
      "100%|████████████████████████████████████████████████████████████████████████████████| 239/239 [00:09<00:00, 25.49it/s]\n",
      "C:\\Users\\ASUS\\anaconda3\\Lib\\site-packages\\trackintel\\preprocessing\\positionfixes.py:361: FutureWarning: Downcasting object dtype arrays on .fillna, .ffill, .bfill is deprecated and will change in a future version. Call result.infer_objects(copy=False) instead. To opt-in to the future behavior, set `pd.set_option('future.no_silent_downcasting', True)`\n",
      "  pfs[\"tripleg_id\"] = pfs[\"tripleg_id\"].ffill()\n",
      "C:\\Users\\ASUS\\anaconda3\\Lib\\site-packages\\trackintel\\preprocessing\\positionfixes.py:440: FutureWarning: Downcasting object dtype arrays on .fillna, .ffill, .bfill is deprecated and will change in a future version. Call result.infer_objects(copy=False) instead. To opt-in to the future behavior, set `pd.set_option('future.no_silent_downcasting', True)`\n",
      "  cond_overlap_end = cond_overlap & ~cond_temporal_gap.shift(-1).fillna(False) & pd.isna(pfs[\"tripleg_id\"])\n",
      "C:\\Users\\ASUS\\anaconda3\\Lib\\site-packages\\trackintel\\preprocessing\\positionfixes.py:573: UserWarning: The positionfixes with ids [2300006 2300007 2300008 ... 2399826 2399890 2399891] lead to invalid tripleg geometries. The resulting triplegs were omitted and the tripleg id of the positionfixes was set to nan\n",
      "  warnings.warn(warn_string)\n"
     ]
    },
    {
     "name": "stdout",
     "output_type": "stream",
     "text": [
      "          uid   d   t   x   y               geometry       date  \\\n",
      "2300000  5475  28  18  45  46  POINT (45.000 46.000) 2024-01-29   \n",
      "2300001  5475  28  27  44  45  POINT (44.000 45.000) 2024-01-29   \n",
      "2300002  5475  28  30  44  45  POINT (44.000 45.000) 2024-01-29   \n",
      "2300003  5475  28  31  44  45  POINT (44.000 45.000) 2024-01-29   \n",
      "2300004  5475  28  32  44  46  POINT (44.000 46.000) 2024-01-29   \n",
      "\n",
      "                   time            datetime  \n",
      "2300000 0 days 09:00:00 2024-01-29 09:00:00  \n",
      "2300001 0 days 13:30:00 2024-01-29 13:30:00  \n",
      "2300002 0 days 15:00:00 2024-01-29 15:00:00  \n",
      "2300003 0 days 15:30:00 2024-01-29 15:30:00  \n",
      "2300004 0 days 16:00:00 2024-01-29 16:00:00  \n",
      "1-itemsets done!\n",
      "2-itemsets done!\n",
      "No new candidates generated. Stopping at 2-itemsets\n"
     ]
    },
    {
     "name": "stderr",
     "output_type": "stream",
     "text": [
      "100%|████████████████████████████████████████████████████████████████████████████████| 242/242 [00:09<00:00, 25.47it/s]\n",
      "C:\\Users\\ASUS\\anaconda3\\Lib\\site-packages\\trackintel\\preprocessing\\positionfixes.py:361: FutureWarning: Downcasting object dtype arrays on .fillna, .ffill, .bfill is deprecated and will change in a future version. Call result.infer_objects(copy=False) instead. To opt-in to the future behavior, set `pd.set_option('future.no_silent_downcasting', True)`\n",
      "  pfs[\"tripleg_id\"] = pfs[\"tripleg_id\"].ffill()\n",
      "C:\\Users\\ASUS\\anaconda3\\Lib\\site-packages\\trackintel\\preprocessing\\positionfixes.py:440: FutureWarning: Downcasting object dtype arrays on .fillna, .ffill, .bfill is deprecated and will change in a future version. Call result.infer_objects(copy=False) instead. To opt-in to the future behavior, set `pd.set_option('future.no_silent_downcasting', True)`\n",
      "  cond_overlap_end = cond_overlap & ~cond_temporal_gap.shift(-1).fillna(False) & pd.isna(pfs[\"tripleg_id\"])\n",
      "C:\\Users\\ASUS\\anaconda3\\Lib\\site-packages\\trackintel\\preprocessing\\positionfixes.py:573: UserWarning: The positionfixes with ids [2400089 2400090 2400141 ... 2499985 2499986 2499987] lead to invalid tripleg geometries. The resulting triplegs were omitted and the tripleg id of the positionfixes was set to nan\n",
      "  warnings.warn(warn_string)\n"
     ]
    },
    {
     "name": "stdout",
     "output_type": "stream",
     "text": [
      "          uid   d   t   x   y               geometry       date  \\\n",
      "2400000  5717  13  35  69  64  POINT (69.000 64.000) 2024-01-14   \n",
      "2400001  5717  13  36  69  65  POINT (69.000 65.000) 2024-01-14   \n",
      "2400002  5717  13  37  68  64  POINT (68.000 64.000) 2024-01-14   \n",
      "2400003  5717  13  38  69  65  POINT (69.000 65.000) 2024-01-14   \n",
      "2400004  5717  13  39  69  65  POINT (69.000 65.000) 2024-01-14   \n",
      "\n",
      "                   time            datetime  \n",
      "2400000 0 days 17:30:00 2024-01-14 17:30:00  \n",
      "2400001 0 days 18:00:00 2024-01-14 18:00:00  \n",
      "2400002 0 days 18:30:00 2024-01-14 18:30:00  \n",
      "2400003 0 days 19:00:00 2024-01-14 19:00:00  \n",
      "2400004 0 days 19:30:00 2024-01-14 19:30:00  \n",
      "1-itemsets done!\n",
      "2-itemsets done!\n",
      "No new candidates generated. Stopping at 2-itemsets\n"
     ]
    },
    {
     "name": "stderr",
     "output_type": "stream",
     "text": [
      "100%|████████████████████████████████████████████████████████████████████████████████| 246/246 [00:09<00:00, 25.09it/s]\n",
      "C:\\Users\\ASUS\\anaconda3\\Lib\\site-packages\\trackintel\\preprocessing\\positionfixes.py:361: FutureWarning: Downcasting object dtype arrays on .fillna, .ffill, .bfill is deprecated and will change in a future version. Call result.infer_objects(copy=False) instead. To opt-in to the future behavior, set `pd.set_option('future.no_silent_downcasting', True)`\n",
      "  pfs[\"tripleg_id\"] = pfs[\"tripleg_id\"].ffill()\n",
      "C:\\Users\\ASUS\\anaconda3\\Lib\\site-packages\\trackintel\\preprocessing\\positionfixes.py:440: FutureWarning: Downcasting object dtype arrays on .fillna, .ffill, .bfill is deprecated and will change in a future version. Call result.infer_objects(copy=False) instead. To opt-in to the future behavior, set `pd.set_option('future.no_silent_downcasting', True)`\n",
      "  cond_overlap_end = cond_overlap & ~cond_temporal_gap.shift(-1).fillna(False) & pd.isna(pfs[\"tripleg_id\"])\n",
      "C:\\Users\\ASUS\\anaconda3\\Lib\\site-packages\\trackintel\\preprocessing\\positionfixes.py:573: UserWarning: The positionfixes with ids [2500066 2500067 2500068 ... 2599676 2599963 2599964] lead to invalid tripleg geometries. The resulting triplegs were omitted and the tripleg id of the positionfixes was set to nan\n",
      "  warnings.warn(warn_string)\n"
     ]
    },
    {
     "name": "stdout",
     "output_type": "stream",
     "text": [
      "          uid   d   t    x    y                 geometry       date  \\\n",
      "2500000  5958  18  17  124  195  POINT (124.000 195.000) 2024-01-19   \n",
      "2500001  5958  18  18  126  199  POINT (126.000 199.000) 2024-01-19   \n",
      "2500002  5958  18  19  124  199  POINT (124.000 199.000) 2024-01-19   \n",
      "2500003  5958  18  20  124  199  POINT (124.000 199.000) 2024-01-19   \n",
      "2500004  5958  18  21  126  199  POINT (126.000 199.000) 2024-01-19   \n",
      "\n",
      "                   time            datetime  \n",
      "2500000 0 days 08:30:00 2024-01-19 08:30:00  \n",
      "2500001 0 days 09:00:00 2024-01-19 09:00:00  \n",
      "2500002 0 days 09:30:00 2024-01-19 09:30:00  \n",
      "2500003 0 days 10:00:00 2024-01-19 10:00:00  \n",
      "2500004 0 days 10:30:00 2024-01-19 10:30:00  \n",
      "1-itemsets done!\n",
      "2-itemsets done!\n",
      "No new candidates generated. Stopping at 2-itemsets\n"
     ]
    },
    {
     "name": "stderr",
     "output_type": "stream",
     "text": [
      "100%|████████████████████████████████████████████████████████████████████████████████| 238/238 [00:09<00:00, 25.57it/s]\n",
      "C:\\Users\\ASUS\\anaconda3\\Lib\\site-packages\\trackintel\\preprocessing\\positionfixes.py:361: FutureWarning: Downcasting object dtype arrays on .fillna, .ffill, .bfill is deprecated and will change in a future version. Call result.infer_objects(copy=False) instead. To opt-in to the future behavior, set `pd.set_option('future.no_silent_downcasting', True)`\n",
      "  pfs[\"tripleg_id\"] = pfs[\"tripleg_id\"].ffill()\n",
      "C:\\Users\\ASUS\\anaconda3\\Lib\\site-packages\\trackintel\\preprocessing\\positionfixes.py:440: FutureWarning: Downcasting object dtype arrays on .fillna, .ffill, .bfill is deprecated and will change in a future version. Call result.infer_objects(copy=False) instead. To opt-in to the future behavior, set `pd.set_option('future.no_silent_downcasting', True)`\n",
      "  cond_overlap_end = cond_overlap & ~cond_temporal_gap.shift(-1).fillna(False) & pd.isna(pfs[\"tripleg_id\"])\n",
      "C:\\Users\\ASUS\\anaconda3\\Lib\\site-packages\\trackintel\\preprocessing\\positionfixes.py:573: UserWarning: The positionfixes with ids [2600062 2600063 2600064 ... 2699943 2699944 2699945] lead to invalid tripleg geometries. The resulting triplegs were omitted and the tripleg id of the positionfixes was set to nan\n",
      "  warnings.warn(warn_string)\n"
     ]
    },
    {
     "name": "stdout",
     "output_type": "stream",
     "text": [
      "          uid   d   t   x    y                geometry       date  \\\n",
      "2600000  6203  20  31  94   85   POINT (94.000 85.000) 2024-01-21   \n",
      "2600001  6203  21  30  98   80   POINT (98.000 80.000) 2024-01-22   \n",
      "2600002  6203  21  41  94   83   POINT (94.000 83.000) 2024-01-22   \n",
      "2600003  6203  21  42  93   96   POINT (93.000 96.000) 2024-01-22   \n",
      "2600004  6203  21  43  86  180  POINT (86.000 180.000) 2024-01-22   \n",
      "\n",
      "                   time            datetime  \n",
      "2600000 0 days 15:30:00 2024-01-21 15:30:00  \n",
      "2600001 0 days 15:00:00 2024-01-22 15:00:00  \n",
      "2600002 0 days 20:30:00 2024-01-22 20:30:00  \n",
      "2600003 0 days 21:00:00 2024-01-22 21:00:00  \n",
      "2600004 0 days 21:30:00 2024-01-22 21:30:00  \n",
      "1-itemsets done!\n",
      "2-itemsets done!\n",
      "3-itemsets done!\n",
      "No new candidates generated. Stopping at 3-itemsets\n"
     ]
    },
    {
     "name": "stderr",
     "output_type": "stream",
     "text": [
      "100%|████████████████████████████████████████████████████████████████████████████████| 233/233 [00:09<00:00, 24.87it/s]\n",
      "C:\\Users\\ASUS\\anaconda3\\Lib\\site-packages\\trackintel\\preprocessing\\positionfixes.py:361: FutureWarning: Downcasting object dtype arrays on .fillna, .ffill, .bfill is deprecated and will change in a future version. Call result.infer_objects(copy=False) instead. To opt-in to the future behavior, set `pd.set_option('future.no_silent_downcasting', True)`\n",
      "  pfs[\"tripleg_id\"] = pfs[\"tripleg_id\"].ffill()\n",
      "C:\\Users\\ASUS\\anaconda3\\Lib\\site-packages\\trackintel\\preprocessing\\positionfixes.py:440: FutureWarning: Downcasting object dtype arrays on .fillna, .ffill, .bfill is deprecated and will change in a future version. Call result.infer_objects(copy=False) instead. To opt-in to the future behavior, set `pd.set_option('future.no_silent_downcasting', True)`\n",
      "  cond_overlap_end = cond_overlap & ~cond_temporal_gap.shift(-1).fillna(False) & pd.isna(pfs[\"tripleg_id\"])\n",
      "C:\\Users\\ASUS\\anaconda3\\Lib\\site-packages\\trackintel\\preprocessing\\positionfixes.py:573: UserWarning: The positionfixes with ids [2700006 2700007 2700032 ... 2799843 2799944 2799945] lead to invalid tripleg geometries. The resulting triplegs were omitted and the tripleg id of the positionfixes was set to nan\n",
      "  warnings.warn(warn_string)\n"
     ]
    },
    {
     "name": "stdout",
     "output_type": "stream",
     "text": [
      "          uid   d   t   x   y               geometry       date  \\\n",
      "2700000  6440  13  36  57  54  POINT (57.000 54.000) 2024-01-14   \n",
      "2700001  6440  13  37  57  53  POINT (57.000 53.000) 2024-01-14   \n",
      "2700002  6440  13  38  57  54  POINT (57.000 54.000) 2024-01-14   \n",
      "2700003  6440  13  39  59  55  POINT (59.000 55.000) 2024-01-14   \n",
      "2700004  6440  13  41  57  54  POINT (57.000 54.000) 2024-01-14   \n",
      "\n",
      "                   time            datetime  \n",
      "2700000 0 days 18:00:00 2024-01-14 18:00:00  \n",
      "2700001 0 days 18:30:00 2024-01-14 18:30:00  \n",
      "2700002 0 days 19:00:00 2024-01-14 19:00:00  \n",
      "2700003 0 days 19:30:00 2024-01-14 19:30:00  \n",
      "2700004 0 days 20:30:00 2024-01-14 20:30:00  \n",
      "1-itemsets done!\n",
      "2-itemsets done!\n"
     ]
    },
    {
     "name": "stderr",
     "output_type": "stream",
     "text": [
      "100%|████████████████████████████████████████████████████████████████████████████████| 232/232 [00:08<00:00, 26.38it/s]\n",
      "C:\\Users\\ASUS\\anaconda3\\Lib\\site-packages\\trackintel\\preprocessing\\positionfixes.py:361: FutureWarning: Downcasting object dtype arrays on .fillna, .ffill, .bfill is deprecated and will change in a future version. Call result.infer_objects(copy=False) instead. To opt-in to the future behavior, set `pd.set_option('future.no_silent_downcasting', True)`\n",
      "  pfs[\"tripleg_id\"] = pfs[\"tripleg_id\"].ffill()\n",
      "C:\\Users\\ASUS\\anaconda3\\Lib\\site-packages\\trackintel\\preprocessing\\positionfixes.py:440: FutureWarning: Downcasting object dtype arrays on .fillna, .ffill, .bfill is deprecated and will change in a future version. Call result.infer_objects(copy=False) instead. To opt-in to the future behavior, set `pd.set_option('future.no_silent_downcasting', True)`\n",
      "  cond_overlap_end = cond_overlap & ~cond_temporal_gap.shift(-1).fillna(False) & pd.isna(pfs[\"tripleg_id\"])\n",
      "C:\\Users\\ASUS\\anaconda3\\Lib\\site-packages\\trackintel\\preprocessing\\positionfixes.py:573: UserWarning: The positionfixes with ids [2800151 2800152 2800241 ... 2899961 2899994 2899995] lead to invalid tripleg geometries. The resulting triplegs were omitted and the tripleg id of the positionfixes was set to nan\n",
      "  warnings.warn(warn_string)\n"
     ]
    },
    {
     "name": "stdout",
     "output_type": "stream",
     "text": [
      "          uid   d   t    x    y                 geometry       date  \\\n",
      "2800000  6674  22   9  115  168  POINT (115.000 168.000) 2024-01-23   \n",
      "2800001  6674  22  11  116  166  POINT (116.000 166.000) 2024-01-23   \n",
      "2800002  6674  22  12  115  168  POINT (115.000 168.000) 2024-01-23   \n",
      "2800003  6674  22  13  116  166  POINT (116.000 166.000) 2024-01-23   \n",
      "2800004  6674  22  14  115  168  POINT (115.000 168.000) 2024-01-23   \n",
      "\n",
      "                   time            datetime  \n",
      "2800000 0 days 04:30:00 2024-01-23 04:30:00  \n",
      "2800001 0 days 05:30:00 2024-01-23 05:30:00  \n",
      "2800002 0 days 06:00:00 2024-01-23 06:00:00  \n",
      "2800003 0 days 06:30:00 2024-01-23 06:30:00  \n",
      "2800004 0 days 07:00:00 2024-01-23 07:00:00  \n",
      "1-itemsets done!\n",
      "2-itemsets done!\n",
      "No new candidates generated. Stopping at 2-itemsets\n"
     ]
    },
    {
     "name": "stderr",
     "output_type": "stream",
     "text": [
      "100%|████████████████████████████████████████████████████████████████████████████████| 244/244 [00:08<00:00, 27.93it/s]\n",
      "C:\\Users\\ASUS\\anaconda3\\Lib\\site-packages\\trackintel\\preprocessing\\positionfixes.py:361: FutureWarning: Downcasting object dtype arrays on .fillna, .ffill, .bfill is deprecated and will change in a future version. Call result.infer_objects(copy=False) instead. To opt-in to the future behavior, set `pd.set_option('future.no_silent_downcasting', True)`\n",
      "  pfs[\"tripleg_id\"] = pfs[\"tripleg_id\"].ffill()\n",
      "C:\\Users\\ASUS\\anaconda3\\Lib\\site-packages\\trackintel\\preprocessing\\positionfixes.py:440: FutureWarning: Downcasting object dtype arrays on .fillna, .ffill, .bfill is deprecated and will change in a future version. Call result.infer_objects(copy=False) instead. To opt-in to the future behavior, set `pd.set_option('future.no_silent_downcasting', True)`\n",
      "  cond_overlap_end = cond_overlap & ~cond_temporal_gap.shift(-1).fillna(False) & pd.isna(pfs[\"tripleg_id\"])\n",
      "C:\\Users\\ASUS\\anaconda3\\Lib\\site-packages\\trackintel\\preprocessing\\positionfixes.py:573: UserWarning: The positionfixes with ids [2900039 2900040 2900312 ... 2999522 2999547 2999548] lead to invalid tripleg geometries. The resulting triplegs were omitted and the tripleg id of the positionfixes was set to nan\n",
      "  warnings.warn(warn_string)\n"
     ]
    },
    {
     "name": "stdout",
     "output_type": "stream",
     "text": [
      "          uid   d   t   x   y               geometry       date  \\\n",
      "2900000  6906  23  17  80  93  POINT (80.000 93.000) 2024-01-24   \n",
      "2900001  6906  23  18  79  92  POINT (79.000 92.000) 2024-01-24   \n",
      "2900002  6906  23  21  80  92  POINT (80.000 92.000) 2024-01-24   \n",
      "2900003  6906  23  22  80  93  POINT (80.000 93.000) 2024-01-24   \n",
      "2900004  6906  23  25  80  92  POINT (80.000 92.000) 2024-01-24   \n",
      "\n",
      "                   time            datetime  \n",
      "2900000 0 days 08:30:00 2024-01-24 08:30:00  \n",
      "2900001 0 days 09:00:00 2024-01-24 09:00:00  \n",
      "2900002 0 days 10:30:00 2024-01-24 10:30:00  \n",
      "2900003 0 days 11:00:00 2024-01-24 11:00:00  \n",
      "2900004 0 days 12:30:00 2024-01-24 12:30:00  \n",
      "1-itemsets done!\n",
      "2-itemsets done!\n"
     ]
    },
    {
     "name": "stderr",
     "output_type": "stream",
     "text": [
      "100%|████████████████████████████████████████████████████████████████████████████████| 255/255 [00:08<00:00, 29.37it/s]\n",
      "C:\\Users\\ASUS\\anaconda3\\Lib\\site-packages\\trackintel\\preprocessing\\positionfixes.py:361: FutureWarning: Downcasting object dtype arrays on .fillna, .ffill, .bfill is deprecated and will change in a future version. Call result.infer_objects(copy=False) instead. To opt-in to the future behavior, set `pd.set_option('future.no_silent_downcasting', True)`\n",
      "  pfs[\"tripleg_id\"] = pfs[\"tripleg_id\"].ffill()\n",
      "C:\\Users\\ASUS\\anaconda3\\Lib\\site-packages\\trackintel\\preprocessing\\positionfixes.py:440: FutureWarning: Downcasting object dtype arrays on .fillna, .ffill, .bfill is deprecated and will change in a future version. Call result.infer_objects(copy=False) instead. To opt-in to the future behavior, set `pd.set_option('future.no_silent_downcasting', True)`\n",
      "  cond_overlap_end = cond_overlap & ~cond_temporal_gap.shift(-1).fillna(False) & pd.isna(pfs[\"tripleg_id\"])\n",
      "C:\\Users\\ASUS\\anaconda3\\Lib\\site-packages\\trackintel\\preprocessing\\positionfixes.py:573: UserWarning: The positionfixes with ids [3000063 3000064 3000065 ... 3099972 3099988 3099989] lead to invalid tripleg geometries. The resulting triplegs were omitted and the tripleg id of the positionfixes was set to nan\n",
      "  warnings.warn(warn_string)\n"
     ]
    },
    {
     "name": "stdout",
     "output_type": "stream",
     "text": [
      "          uid   d   t   x   y               geometry       date  \\\n",
      "3000000  7151  23  28  74  72  POINT (74.000 72.000) 2024-01-24   \n",
      "3000001  7151  24  18  77  73  POINT (77.000 73.000) 2024-01-25   \n",
      "3000002  7151  24  19  80  74  POINT (80.000 74.000) 2024-01-25   \n",
      "3000003  7151  24  20  85  79  POINT (85.000 79.000) 2024-01-25   \n",
      "3000004  7151  24  21  85  80  POINT (85.000 80.000) 2024-01-25   \n",
      "\n",
      "                   time            datetime  \n",
      "3000000 0 days 14:00:00 2024-01-24 14:00:00  \n",
      "3000001 0 days 09:00:00 2024-01-25 09:00:00  \n",
      "3000002 0 days 09:30:00 2024-01-25 09:30:00  \n",
      "3000003 0 days 10:00:00 2024-01-25 10:00:00  \n",
      "3000004 0 days 10:30:00 2024-01-25 10:30:00  \n",
      "1-itemsets done!\n",
      "2-itemsets done!\n"
     ]
    },
    {
     "name": "stderr",
     "output_type": "stream",
     "text": [
      "100%|████████████████████████████████████████████████████████████████████████████████| 249/249 [00:08<00:00, 28.59it/s]\n",
      "C:\\Users\\ASUS\\anaconda3\\Lib\\site-packages\\trackintel\\preprocessing\\positionfixes.py:361: FutureWarning: Downcasting object dtype arrays on .fillna, .ffill, .bfill is deprecated and will change in a future version. Call result.infer_objects(copy=False) instead. To opt-in to the future behavior, set `pd.set_option('future.no_silent_downcasting', True)`\n",
      "  pfs[\"tripleg_id\"] = pfs[\"tripleg_id\"].ffill()\n",
      "C:\\Users\\ASUS\\anaconda3\\Lib\\site-packages\\trackintel\\preprocessing\\positionfixes.py:440: FutureWarning: Downcasting object dtype arrays on .fillna, .ffill, .bfill is deprecated and will change in a future version. Call result.infer_objects(copy=False) instead. To opt-in to the future behavior, set `pd.set_option('future.no_silent_downcasting', True)`\n",
      "  cond_overlap_end = cond_overlap & ~cond_temporal_gap.shift(-1).fillna(False) & pd.isna(pfs[\"tripleg_id\"])\n",
      "C:\\Users\\ASUS\\anaconda3\\Lib\\site-packages\\trackintel\\preprocessing\\positionfixes.py:573: UserWarning: The positionfixes with ids [3100267 3100268 3100269 ... 3199884 3199970 3199971] lead to invalid tripleg geometries. The resulting triplegs were omitted and the tripleg id of the positionfixes was set to nan\n",
      "  warnings.warn(warn_string)\n"
     ]
    },
    {
     "name": "stdout",
     "output_type": "stream",
     "text": [
      "          uid   d   t   x    y                geometry       date  \\\n",
      "3100000  7408  26  37  15  198  POINT (15.000 198.000) 2024-01-27   \n",
      "3100001  7408  27   2  13  200  POINT (13.000 200.000) 2024-01-28   \n",
      "3100002  7408  27  19  13  199  POINT (13.000 199.000) 2024-01-28   \n",
      "3100003  7408  27  30  15  199  POINT (15.000 199.000) 2024-01-28   \n",
      "3100004  7408  27  32  16  199  POINT (16.000 199.000) 2024-01-28   \n",
      "\n",
      "                   time            datetime  \n",
      "3100000 0 days 18:30:00 2024-01-27 18:30:00  \n",
      "3100001 0 days 01:00:00 2024-01-28 01:00:00  \n",
      "3100002 0 days 09:30:00 2024-01-28 09:30:00  \n",
      "3100003 0 days 15:00:00 2024-01-28 15:00:00  \n",
      "3100004 0 days 16:00:00 2024-01-28 16:00:00  \n",
      "1-itemsets done!\n",
      "2-itemsets done!\n"
     ]
    },
    {
     "name": "stderr",
     "output_type": "stream",
     "text": [
      "100%|████████████████████████████████████████████████████████████████████████████████| 246/246 [00:09<00:00, 27.33it/s]\n",
      "C:\\Users\\ASUS\\anaconda3\\Lib\\site-packages\\trackintel\\preprocessing\\positionfixes.py:361: FutureWarning: Downcasting object dtype arrays on .fillna, .ffill, .bfill is deprecated and will change in a future version. Call result.infer_objects(copy=False) instead. To opt-in to the future behavior, set `pd.set_option('future.no_silent_downcasting', True)`\n",
      "  pfs[\"tripleg_id\"] = pfs[\"tripleg_id\"].ffill()\n",
      "C:\\Users\\ASUS\\anaconda3\\Lib\\site-packages\\trackintel\\preprocessing\\positionfixes.py:440: FutureWarning: Downcasting object dtype arrays on .fillna, .ffill, .bfill is deprecated and will change in a future version. Call result.infer_objects(copy=False) instead. To opt-in to the future behavior, set `pd.set_option('future.no_silent_downcasting', True)`\n",
      "  cond_overlap_end = cond_overlap & ~cond_temporal_gap.shift(-1).fillna(False) & pd.isna(pfs[\"tripleg_id\"])\n",
      "C:\\Users\\ASUS\\anaconda3\\Lib\\site-packages\\trackintel\\preprocessing\\positionfixes.py:573: UserWarning: The positionfixes with ids [3200055 3200056 3200315 ... 3299886 3299910 3299911] lead to invalid tripleg geometries. The resulting triplegs were omitted and the tripleg id of the positionfixes was set to nan\n",
      "  warnings.warn(warn_string)\n"
     ]
    },
    {
     "name": "stdout",
     "output_type": "stream",
     "text": [
      "          uid   d   t   x    y                geometry       date  \\\n",
      "3200000  7659  12  34  45  131  POINT (45.000 131.000) 2024-01-13   \n",
      "3200001  7659  12  35  47  122  POINT (47.000 122.000) 2024-01-13   \n",
      "3200002  7659  12  36  52  113  POINT (52.000 113.000) 2024-01-13   \n",
      "3200003  7659  12  43  51  112  POINT (51.000 112.000) 2024-01-13   \n",
      "3200004  7659  12  44  51  113  POINT (51.000 113.000) 2024-01-13   \n",
      "\n",
      "                   time            datetime  \n",
      "3200000 0 days 17:00:00 2024-01-13 17:00:00  \n",
      "3200001 0 days 17:30:00 2024-01-13 17:30:00  \n",
      "3200002 0 days 18:00:00 2024-01-13 18:00:00  \n",
      "3200003 0 days 21:30:00 2024-01-13 21:30:00  \n",
      "3200004 0 days 22:00:00 2024-01-13 22:00:00  \n",
      "1-itemsets done!\n",
      "2-itemsets done!\n",
      "No new candidates generated. Stopping at 2-itemsets\n"
     ]
    },
    {
     "name": "stderr",
     "output_type": "stream",
     "text": [
      "100%|████████████████████████████████████████████████████████████████████████████████| 248/248 [00:09<00:00, 27.24it/s]\n",
      "C:\\Users\\ASUS\\anaconda3\\Lib\\site-packages\\trackintel\\preprocessing\\positionfixes.py:361: FutureWarning: Downcasting object dtype arrays on .fillna, .ffill, .bfill is deprecated and will change in a future version. Call result.infer_objects(copy=False) instead. To opt-in to the future behavior, set `pd.set_option('future.no_silent_downcasting', True)`\n",
      "  pfs[\"tripleg_id\"] = pfs[\"tripleg_id\"].ffill()\n",
      "C:\\Users\\ASUS\\anaconda3\\Lib\\site-packages\\trackintel\\preprocessing\\positionfixes.py:440: FutureWarning: Downcasting object dtype arrays on .fillna, .ffill, .bfill is deprecated and will change in a future version. Call result.infer_objects(copy=False) instead. To opt-in to the future behavior, set `pd.set_option('future.no_silent_downcasting', True)`\n",
      "  cond_overlap_end = cond_overlap & ~cond_temporal_gap.shift(-1).fillna(False) & pd.isna(pfs[\"tripleg_id\"])\n",
      "C:\\Users\\ASUS\\anaconda3\\Lib\\site-packages\\trackintel\\preprocessing\\positionfixes.py:573: UserWarning: The positionfixes with ids [3300037 3300038 3300082 ... 3399921 3399978 3399979] lead to invalid tripleg geometries. The resulting triplegs were omitted and the tripleg id of the positionfixes was set to nan\n",
      "  warnings.warn(warn_string)\n"
     ]
    },
    {
     "name": "stdout",
     "output_type": "stream",
     "text": [
      "          uid   d   t   x   y               geometry       date  \\\n",
      "3300000  7906  28  44  82  93  POINT (82.000 93.000) 2024-01-29   \n",
      "3300001  7906  28  47  81  94  POINT (81.000 94.000) 2024-01-29   \n",
      "3300002  7906  29  18  82  93  POINT (82.000 93.000) 2024-01-30   \n",
      "3300003  7906  29  19  80  92  POINT (80.000 92.000) 2024-01-30   \n",
      "3300004  7906  29  20  81  92  POINT (81.000 92.000) 2024-01-30   \n",
      "\n",
      "                   time            datetime  \n",
      "3300000 0 days 22:00:00 2024-01-29 22:00:00  \n",
      "3300001 0 days 23:30:00 2024-01-29 23:30:00  \n",
      "3300002 0 days 09:00:00 2024-01-30 09:00:00  \n",
      "3300003 0 days 09:30:00 2024-01-30 09:30:00  \n",
      "3300004 0 days 10:00:00 2024-01-30 10:00:00  \n",
      "1-itemsets done!\n",
      "2-itemsets done!\n"
     ]
    },
    {
     "name": "stderr",
     "output_type": "stream",
     "text": [
      "100%|████████████████████████████████████████████████████████████████████████████████| 237/237 [00:09<00:00, 26.01it/s]\n",
      "C:\\Users\\ASUS\\anaconda3\\Lib\\site-packages\\trackintel\\preprocessing\\positionfixes.py:361: FutureWarning: Downcasting object dtype arrays on .fillna, .ffill, .bfill is deprecated and will change in a future version. Call result.infer_objects(copy=False) instead. To opt-in to the future behavior, set `pd.set_option('future.no_silent_downcasting', True)`\n",
      "  pfs[\"tripleg_id\"] = pfs[\"tripleg_id\"].ffill()\n",
      "C:\\Users\\ASUS\\anaconda3\\Lib\\site-packages\\trackintel\\preprocessing\\positionfixes.py:440: FutureWarning: Downcasting object dtype arrays on .fillna, .ffill, .bfill is deprecated and will change in a future version. Call result.infer_objects(copy=False) instead. To opt-in to the future behavior, set `pd.set_option('future.no_silent_downcasting', True)`\n",
      "  cond_overlap_end = cond_overlap & ~cond_temporal_gap.shift(-1).fillna(False) & pd.isna(pfs[\"tripleg_id\"])\n",
      "C:\\Users\\ASUS\\anaconda3\\Lib\\site-packages\\trackintel\\preprocessing\\positionfixes.py:573: UserWarning: The positionfixes with ids [3400035 3400036 3400040 ... 3499672 3499957 3499958] lead to invalid tripleg geometries. The resulting triplegs were omitted and the tripleg id of the positionfixes was set to nan\n",
      "  warnings.warn(warn_string)\n"
     ]
    },
    {
     "name": "stdout",
     "output_type": "stream",
     "text": [
      "          uid   d   t   x   y               geometry       date  \\\n",
      "3400000  8154  18  22  80  92  POINT (80.000 92.000) 2024-01-19   \n",
      "3400001  8154  18  23  79  89  POINT (79.000 89.000) 2024-01-19   \n",
      "3400002  8154  19  20  77  82  POINT (77.000 82.000) 2024-01-20   \n",
      "3400003  8154  19  21  77  86  POINT (77.000 86.000) 2024-01-20   \n",
      "3400004  8154  19  22  77  86  POINT (77.000 86.000) 2024-01-20   \n",
      "\n",
      "                   time            datetime  \n",
      "3400000 0 days 11:00:00 2024-01-19 11:00:00  \n",
      "3400001 0 days 11:30:00 2024-01-19 11:30:00  \n",
      "3400002 0 days 10:00:00 2024-01-20 10:00:00  \n",
      "3400003 0 days 10:30:00 2024-01-20 10:30:00  \n",
      "3400004 0 days 11:00:00 2024-01-20 11:00:00  \n",
      "1-itemsets done!\n",
      "2-itemsets done!\n"
     ]
    },
    {
     "name": "stderr",
     "output_type": "stream",
     "text": [
      "100%|████████████████████████████████████████████████████████████████████████████████| 248/248 [00:08<00:00, 27.80it/s]\n",
      "C:\\Users\\ASUS\\anaconda3\\Lib\\site-packages\\trackintel\\preprocessing\\positionfixes.py:361: FutureWarning: Downcasting object dtype arrays on .fillna, .ffill, .bfill is deprecated and will change in a future version. Call result.infer_objects(copy=False) instead. To opt-in to the future behavior, set `pd.set_option('future.no_silent_downcasting', True)`\n",
      "  pfs[\"tripleg_id\"] = pfs[\"tripleg_id\"].ffill()\n",
      "C:\\Users\\ASUS\\anaconda3\\Lib\\site-packages\\trackintel\\preprocessing\\positionfixes.py:440: FutureWarning: Downcasting object dtype arrays on .fillna, .ffill, .bfill is deprecated and will change in a future version. Call result.infer_objects(copy=False) instead. To opt-in to the future behavior, set `pd.set_option('future.no_silent_downcasting', True)`\n",
      "  cond_overlap_end = cond_overlap & ~cond_temporal_gap.shift(-1).fillna(False) & pd.isna(pfs[\"tripleg_id\"])\n",
      "C:\\Users\\ASUS\\anaconda3\\Lib\\site-packages\\trackintel\\preprocessing\\positionfixes.py:573: UserWarning: The positionfixes with ids [3500175 3500176 3500195 ... 3599993 3599997 3599998] lead to invalid tripleg geometries. The resulting triplegs were omitted and the tripleg id of the positionfixes was set to nan\n",
      "  warnings.warn(warn_string)\n"
     ]
    },
    {
     "name": "stdout",
     "output_type": "stream",
     "text": [
      "          uid   d   t   x    y                geometry       date  \\\n",
      "3500000  8391  14  26  19    2    POINT (19.000 2.000) 2024-01-15   \n",
      "3500001  8391  14  27  17    3    POINT (17.000 3.000) 2024-01-15   \n",
      "3500002  8391  14  28  28   31   POINT (28.000 31.000) 2024-01-15   \n",
      "3500003  8391  14  29  77   91   POINT (77.000 91.000) 2024-01-15   \n",
      "3500004  8391  14  30  67  113  POINT (67.000 113.000) 2024-01-15   \n",
      "\n",
      "                   time            datetime  \n",
      "3500000 0 days 13:00:00 2024-01-15 13:00:00  \n",
      "3500001 0 days 13:30:00 2024-01-15 13:30:00  \n",
      "3500002 0 days 14:00:00 2024-01-15 14:00:00  \n",
      "3500003 0 days 14:30:00 2024-01-15 14:30:00  \n",
      "3500004 0 days 15:00:00 2024-01-15 15:00:00  \n",
      "1-itemsets done!\n",
      "2-itemsets done!\n",
      "No new candidates generated. Stopping at 2-itemsets\n"
     ]
    },
    {
     "name": "stderr",
     "output_type": "stream",
     "text": [
      "100%|████████████████████████████████████████████████████████████████████████████████| 246/246 [00:09<00:00, 25.37it/s]\n",
      "C:\\Users\\ASUS\\anaconda3\\Lib\\site-packages\\trackintel\\preprocessing\\positionfixes.py:361: FutureWarning: Downcasting object dtype arrays on .fillna, .ffill, .bfill is deprecated and will change in a future version. Call result.infer_objects(copy=False) instead. To opt-in to the future behavior, set `pd.set_option('future.no_silent_downcasting', True)`\n",
      "  pfs[\"tripleg_id\"] = pfs[\"tripleg_id\"].ffill()\n",
      "C:\\Users\\ASUS\\anaconda3\\Lib\\site-packages\\trackintel\\preprocessing\\positionfixes.py:440: FutureWarning: Downcasting object dtype arrays on .fillna, .ffill, .bfill is deprecated and will change in a future version. Call result.infer_objects(copy=False) instead. To opt-in to the future behavior, set `pd.set_option('future.no_silent_downcasting', True)`\n",
      "  cond_overlap_end = cond_overlap & ~cond_temporal_gap.shift(-1).fillna(False) & pd.isna(pfs[\"tripleg_id\"])\n",
      "C:\\Users\\ASUS\\anaconda3\\Lib\\site-packages\\trackintel\\preprocessing\\positionfixes.py:573: UserWarning: The positionfixes with ids [3600006 3600007 3600114 ... 3699905 3699985 3699986] lead to invalid tripleg geometries. The resulting triplegs were omitted and the tripleg id of the positionfixes was set to nan\n",
      "  warnings.warn(warn_string)\n"
     ]
    },
    {
     "name": "stdout",
     "output_type": "stream",
     "text": [
      "          uid   d   t   x    y                geometry       date  \\\n",
      "3600000  8639  21  19  80  114  POINT (80.000 114.000) 2024-01-22   \n",
      "3600001  8639  21  20  89  167  POINT (89.000 167.000) 2024-01-22   \n",
      "3600002  8640   0  14  75  105  POINT (75.000 105.000) 2024-01-01   \n",
      "3600003  8640   0  15  80   96   POINT (80.000 96.000) 2024-01-01   \n",
      "3600004  8640   0  16  80   88   POINT (80.000 88.000) 2024-01-01   \n",
      "\n",
      "                   time            datetime  \n",
      "3600000 0 days 09:30:00 2024-01-22 09:30:00  \n",
      "3600001 0 days 10:00:00 2024-01-22 10:00:00  \n",
      "3600002 0 days 07:00:00 2024-01-01 07:00:00  \n",
      "3600003 0 days 07:30:00 2024-01-01 07:30:00  \n",
      "3600004 0 days 08:00:00 2024-01-01 08:00:00  \n",
      "1-itemsets done!\n",
      "2-itemsets done!\n",
      "No new candidates generated. Stopping at 2-itemsets\n"
     ]
    },
    {
     "name": "stderr",
     "output_type": "stream",
     "text": [
      "100%|████████████████████████████████████████████████████████████████████████████████| 245/245 [00:09<00:00, 24.61it/s]\n",
      "C:\\Users\\ASUS\\anaconda3\\Lib\\site-packages\\trackintel\\preprocessing\\positionfixes.py:361: FutureWarning: Downcasting object dtype arrays on .fillna, .ffill, .bfill is deprecated and will change in a future version. Call result.infer_objects(copy=False) instead. To opt-in to the future behavior, set `pd.set_option('future.no_silent_downcasting', True)`\n",
      "  pfs[\"tripleg_id\"] = pfs[\"tripleg_id\"].ffill()\n",
      "C:\\Users\\ASUS\\anaconda3\\Lib\\site-packages\\trackintel\\preprocessing\\positionfixes.py:440: FutureWarning: Downcasting object dtype arrays on .fillna, .ffill, .bfill is deprecated and will change in a future version. Call result.infer_objects(copy=False) instead. To opt-in to the future behavior, set `pd.set_option('future.no_silent_downcasting', True)`\n",
      "  cond_overlap_end = cond_overlap & ~cond_temporal_gap.shift(-1).fillna(False) & pd.isna(pfs[\"tripleg_id\"])\n",
      "C:\\Users\\ASUS\\anaconda3\\Lib\\site-packages\\trackintel\\preprocessing\\positionfixes.py:573: UserWarning: The positionfixes with ids [3700000 3700001 3700002 ... 3799899 3799900 3799901] lead to invalid tripleg geometries. The resulting triplegs were omitted and the tripleg id of the positionfixes was set to nan\n",
      "  warnings.warn(warn_string)\n"
     ]
    },
    {
     "name": "stdout",
     "output_type": "stream",
     "text": [
      "          uid   d   t   x    y                geometry       date  \\\n",
      "3700000  8884  17  18  80  100  POINT (80.000 100.000) 2024-01-18   \n",
      "3700001  8884  17  19  80  100  POINT (80.000 100.000) 2024-01-18   \n",
      "3700002  8884  17  20  80  100  POINT (80.000 100.000) 2024-01-18   \n",
      "3700003  8884  17  21  80  100  POINT (80.000 100.000) 2024-01-18   \n",
      "3700004  8884  17  22  80  100  POINT (80.000 100.000) 2024-01-18   \n",
      "\n",
      "                   time            datetime  \n",
      "3700000 0 days 09:00:00 2024-01-18 09:00:00  \n",
      "3700001 0 days 09:30:00 2024-01-18 09:30:00  \n",
      "3700002 0 days 10:00:00 2024-01-18 10:00:00  \n",
      "3700003 0 days 10:30:00 2024-01-18 10:30:00  \n",
      "3700004 0 days 11:00:00 2024-01-18 11:00:00  \n",
      "1-itemsets done!\n",
      "2-itemsets done!\n"
     ]
    },
    {
     "name": "stderr",
     "output_type": "stream",
     "text": [
      "100%|████████████████████████████████████████████████████████████████████████████████| 241/241 [00:08<00:00, 28.63it/s]\n",
      "C:\\Users\\ASUS\\anaconda3\\Lib\\site-packages\\trackintel\\preprocessing\\positionfixes.py:361: FutureWarning: Downcasting object dtype arrays on .fillna, .ffill, .bfill is deprecated and will change in a future version. Call result.infer_objects(copy=False) instead. To opt-in to the future behavior, set `pd.set_option('future.no_silent_downcasting', True)`\n",
      "  pfs[\"tripleg_id\"] = pfs[\"tripleg_id\"].ffill()\n",
      "C:\\Users\\ASUS\\anaconda3\\Lib\\site-packages\\trackintel\\preprocessing\\positionfixes.py:440: FutureWarning: Downcasting object dtype arrays on .fillna, .ffill, .bfill is deprecated and will change in a future version. Call result.infer_objects(copy=False) instead. To opt-in to the future behavior, set `pd.set_option('future.no_silent_downcasting', True)`\n",
      "  cond_overlap_end = cond_overlap & ~cond_temporal_gap.shift(-1).fillna(False) & pd.isna(pfs[\"tripleg_id\"])\n",
      "C:\\Users\\ASUS\\anaconda3\\Lib\\site-packages\\trackintel\\preprocessing\\positionfixes.py:573: UserWarning: The positionfixes with ids [3800000 3800001 3800055 ... 3899938 3899998 3899999] lead to invalid tripleg geometries. The resulting triplegs were omitted and the tripleg id of the positionfixes was set to nan\n",
      "  warnings.warn(warn_string)\n"
     ]
    },
    {
     "name": "stdout",
     "output_type": "stream",
     "text": [
      "          uid   d   t    x   y                geometry       date  \\\n",
      "3800000  9128  19  46  104  99  POINT (104.000 99.000) 2024-01-20   \n",
      "3800001  9128  19  47  104  99  POINT (104.000 99.000) 2024-01-20   \n",
      "3800002  9128  20   1  105  99  POINT (105.000 99.000) 2024-01-21   \n",
      "3800003  9128  20   2  104  99  POINT (104.000 99.000) 2024-01-21   \n",
      "3800004  9128  20   3  104  99  POINT (104.000 99.000) 2024-01-21   \n",
      "\n",
      "                   time            datetime  \n",
      "3800000 0 days 23:00:00 2024-01-20 23:00:00  \n",
      "3800001 0 days 23:30:00 2024-01-20 23:30:00  \n",
      "3800002 0 days 00:30:00 2024-01-21 00:30:00  \n",
      "3800003 0 days 01:00:00 2024-01-21 01:00:00  \n",
      "3800004 0 days 01:30:00 2024-01-21 01:30:00  \n",
      "1-itemsets done!\n",
      "2-itemsets done!\n"
     ]
    },
    {
     "name": "stderr",
     "output_type": "stream",
     "text": [
      "100%|████████████████████████████████████████████████████████████████████████████████| 245/245 [00:08<00:00, 27.80it/s]\n",
      "C:\\Users\\ASUS\\anaconda3\\Lib\\site-packages\\trackintel\\preprocessing\\positionfixes.py:361: FutureWarning: Downcasting object dtype arrays on .fillna, .ffill, .bfill is deprecated and will change in a future version. Call result.infer_objects(copy=False) instead. To opt-in to the future behavior, set `pd.set_option('future.no_silent_downcasting', True)`\n",
      "  pfs[\"tripleg_id\"] = pfs[\"tripleg_id\"].ffill()\n",
      "C:\\Users\\ASUS\\anaconda3\\Lib\\site-packages\\trackintel\\preprocessing\\positionfixes.py:440: FutureWarning: Downcasting object dtype arrays on .fillna, .ffill, .bfill is deprecated and will change in a future version. Call result.infer_objects(copy=False) instead. To opt-in to the future behavior, set `pd.set_option('future.no_silent_downcasting', True)`\n",
      "  cond_overlap_end = cond_overlap & ~cond_temporal_gap.shift(-1).fillna(False) & pd.isna(pfs[\"tripleg_id\"])\n",
      "C:\\Users\\ASUS\\anaconda3\\Lib\\site-packages\\trackintel\\preprocessing\\positionfixes.py:573: UserWarning: The positionfixes with ids [3900343 3900344 3900364 ... 3999869 3999870 3999871] lead to invalid tripleg geometries. The resulting triplegs were omitted and the tripleg id of the positionfixes was set to nan\n",
      "  warnings.warn(warn_string)\n"
     ]
    },
    {
     "name": "stdout",
     "output_type": "stream",
     "text": [
      "          uid   d   t   x    y                geometry       date  \\\n",
      "3900000  9369  29  25  64   58   POINT (64.000 58.000) 2024-01-30   \n",
      "3900001  9369  29  26  61   57   POINT (61.000 57.000) 2024-01-30   \n",
      "3900002  9369  29  27  58   56   POINT (58.000 56.000) 2024-01-30   \n",
      "3900003  9370   4  13  67  115  POINT (67.000 115.000) 2024-01-05   \n",
      "3900004  9370   4  14  69  107  POINT (69.000 107.000) 2024-01-05   \n",
      "\n",
      "                   time            datetime  \n",
      "3900000 0 days 12:30:00 2024-01-30 12:30:00  \n",
      "3900001 0 days 13:00:00 2024-01-30 13:00:00  \n",
      "3900002 0 days 13:30:00 2024-01-30 13:30:00  \n",
      "3900003 0 days 06:30:00 2024-01-05 06:30:00  \n",
      "3900004 0 days 07:00:00 2024-01-05 07:00:00  \n",
      "1-itemsets done!\n",
      "2-itemsets done!\n"
     ]
    },
    {
     "name": "stderr",
     "output_type": "stream",
     "text": [
      "100%|████████████████████████████████████████████████████████████████████████████████| 251/251 [00:09<00:00, 26.51it/s]\n",
      "C:\\Users\\ASUS\\anaconda3\\Lib\\site-packages\\trackintel\\preprocessing\\positionfixes.py:361: FutureWarning: Downcasting object dtype arrays on .fillna, .ffill, .bfill is deprecated and will change in a future version. Call result.infer_objects(copy=False) instead. To opt-in to the future behavior, set `pd.set_option('future.no_silent_downcasting', True)`\n",
      "  pfs[\"tripleg_id\"] = pfs[\"tripleg_id\"].ffill()\n",
      "C:\\Users\\ASUS\\anaconda3\\Lib\\site-packages\\trackintel\\preprocessing\\positionfixes.py:440: FutureWarning: Downcasting object dtype arrays on .fillna, .ffill, .bfill is deprecated and will change in a future version. Call result.infer_objects(copy=False) instead. To opt-in to the future behavior, set `pd.set_option('future.no_silent_downcasting', True)`\n",
      "  cond_overlap_end = cond_overlap & ~cond_temporal_gap.shift(-1).fillna(False) & pd.isna(pfs[\"tripleg_id\"])\n",
      "C:\\Users\\ASUS\\anaconda3\\Lib\\site-packages\\trackintel\\preprocessing\\positionfixes.py:573: UserWarning: The positionfixes with ids [4000067 4000068 4000075 ... 4099938 4099981 4099982] lead to invalid tripleg geometries. The resulting triplegs were omitted and the tripleg id of the positionfixes was set to nan\n",
      "  warnings.warn(warn_string)\n"
     ]
    },
    {
     "name": "stdout",
     "output_type": "stream",
     "text": [
      "          uid   d   t    x    y                 geometry       date  \\\n",
      "4000000  9614  19  15  134  109  POINT (134.000 109.000) 2024-01-20   \n",
      "4000001  9614  19  16  133  108  POINT (133.000 108.000) 2024-01-20   \n",
      "4000002  9614  19  25  133  108  POINT (133.000 108.000) 2024-01-20   \n",
      "4000003  9614  19  26  134  109  POINT (134.000 109.000) 2024-01-20   \n",
      "4000004  9614  19  32  133  108  POINT (133.000 108.000) 2024-01-20   \n",
      "\n",
      "                   time            datetime  \n",
      "4000000 0 days 07:30:00 2024-01-20 07:30:00  \n",
      "4000001 0 days 08:00:00 2024-01-20 08:00:00  \n",
      "4000002 0 days 12:30:00 2024-01-20 12:30:00  \n",
      "4000003 0 days 13:00:00 2024-01-20 13:00:00  \n",
      "4000004 0 days 16:00:00 2024-01-20 16:00:00  \n",
      "1-itemsets done!\n",
      "2-itemsets done!\n",
      "No new candidates generated. Stopping at 2-itemsets\n"
     ]
    },
    {
     "name": "stderr",
     "output_type": "stream",
     "text": [
      "100%|████████████████████████████████████████████████████████████████████████████████| 243/243 [00:09<00:00, 25.74it/s]\n",
      "C:\\Users\\ASUS\\anaconda3\\Lib\\site-packages\\trackintel\\preprocessing\\positionfixes.py:361: FutureWarning: Downcasting object dtype arrays on .fillna, .ffill, .bfill is deprecated and will change in a future version. Call result.infer_objects(copy=False) instead. To opt-in to the future behavior, set `pd.set_option('future.no_silent_downcasting', True)`\n",
      "  pfs[\"tripleg_id\"] = pfs[\"tripleg_id\"].ffill()\n",
      "C:\\Users\\ASUS\\anaconda3\\Lib\\site-packages\\trackintel\\preprocessing\\positionfixes.py:440: FutureWarning: Downcasting object dtype arrays on .fillna, .ffill, .bfill is deprecated and will change in a future version. Call result.infer_objects(copy=False) instead. To opt-in to the future behavior, set `pd.set_option('future.no_silent_downcasting', True)`\n",
      "  cond_overlap_end = cond_overlap & ~cond_temporal_gap.shift(-1).fillna(False) & pd.isna(pfs[\"tripleg_id\"])\n",
      "C:\\Users\\ASUS\\anaconda3\\Lib\\site-packages\\trackintel\\preprocessing\\positionfixes.py:573: UserWarning: The positionfixes with ids [4100000 4100001 4100002 ... 4199971 4199972 4199973] lead to invalid tripleg geometries. The resulting triplegs were omitted and the tripleg id of the positionfixes was set to nan\n",
      "  warnings.warn(warn_string)\n"
     ]
    },
    {
     "name": "stdout",
     "output_type": "stream",
     "text": [
      "          uid   d   t   x    y                geometry       date  \\\n",
      "4100000  9867  26   6  51  116  POINT (51.000 116.000) 2024-01-27   \n",
      "4100001  9867  26   7  51  116  POINT (51.000 116.000) 2024-01-27   \n",
      "4100002  9867  26   8  51  116  POINT (51.000 116.000) 2024-01-27   \n",
      "4100003  9867  26  11  51  116  POINT (51.000 116.000) 2024-01-27   \n",
      "4100004  9867  26  12  51  116  POINT (51.000 116.000) 2024-01-27   \n",
      "\n",
      "                   time            datetime  \n",
      "4100000 0 days 03:00:00 2024-01-27 03:00:00  \n",
      "4100001 0 days 03:30:00 2024-01-27 03:30:00  \n",
      "4100002 0 days 04:00:00 2024-01-27 04:00:00  \n",
      "4100003 0 days 05:30:00 2024-01-27 05:30:00  \n",
      "4100004 0 days 06:00:00 2024-01-27 06:00:00  \n",
      "1-itemsets done!\n",
      "2-itemsets done!\n"
     ]
    },
    {
     "name": "stderr",
     "output_type": "stream",
     "text": [
      "100%|████████████████████████████████████████████████████████████████████████████████| 245/245 [00:09<00:00, 27.14it/s]\n",
      "C:\\Users\\ASUS\\anaconda3\\Lib\\site-packages\\trackintel\\preprocessing\\positionfixes.py:361: FutureWarning: Downcasting object dtype arrays on .fillna, .ffill, .bfill is deprecated and will change in a future version. Call result.infer_objects(copy=False) instead. To opt-in to the future behavior, set `pd.set_option('future.no_silent_downcasting', True)`\n",
      "  pfs[\"tripleg_id\"] = pfs[\"tripleg_id\"].ffill()\n",
      "C:\\Users\\ASUS\\anaconda3\\Lib\\site-packages\\trackintel\\preprocessing\\positionfixes.py:440: FutureWarning: Downcasting object dtype arrays on .fillna, .ffill, .bfill is deprecated and will change in a future version. Call result.infer_objects(copy=False) instead. To opt-in to the future behavior, set `pd.set_option('future.no_silent_downcasting', True)`\n",
      "  cond_overlap_end = cond_overlap & ~cond_temporal_gap.shift(-1).fillna(False) & pd.isna(pfs[\"tripleg_id\"])\n",
      "C:\\Users\\ASUS\\anaconda3\\Lib\\site-packages\\trackintel\\preprocessing\\positionfixes.py:573: UserWarning: The positionfixes with ids [4200079 4200080 4200353 ... 4299512 4299547 4299548] lead to invalid tripleg geometries. The resulting triplegs were omitted and the tripleg id of the positionfixes was set to nan\n",
      "  warnings.warn(warn_string)\n"
     ]
    },
    {
     "name": "stdout",
     "output_type": "stream",
     "text": [
      "           uid   d   t   x   y               geometry       date  \\\n",
      "4200000  10110  10  20  57  54  POINT (57.000 54.000) 2024-01-11   \n",
      "4200001  10110  10  21  32  48  POINT (32.000 48.000) 2024-01-11   \n",
      "4200002  10110  12  32  32  48  POINT (32.000 48.000) 2024-01-13   \n",
      "4200003  10110  12  33  34  46  POINT (34.000 46.000) 2024-01-13   \n",
      "4200004  10110  12  34  55  52  POINT (55.000 52.000) 2024-01-13   \n",
      "\n",
      "                   time            datetime  \n",
      "4200000 0 days 10:00:00 2024-01-11 10:00:00  \n",
      "4200001 0 days 10:30:00 2024-01-11 10:30:00  \n",
      "4200002 0 days 16:00:00 2024-01-13 16:00:00  \n",
      "4200003 0 days 16:30:00 2024-01-13 16:30:00  \n",
      "4200004 0 days 17:00:00 2024-01-13 17:00:00  \n",
      "1-itemsets done!\n",
      "2-itemsets done!\n"
     ]
    },
    {
     "name": "stderr",
     "output_type": "stream",
     "text": [
      "100%|████████████████████████████████████████████████████████████████████████████████| 253/253 [00:09<00:00, 27.18it/s]\n",
      "C:\\Users\\ASUS\\anaconda3\\Lib\\site-packages\\trackintel\\preprocessing\\positionfixes.py:361: FutureWarning: Downcasting object dtype arrays on .fillna, .ffill, .bfill is deprecated and will change in a future version. Call result.infer_objects(copy=False) instead. To opt-in to the future behavior, set `pd.set_option('future.no_silent_downcasting', True)`\n",
      "  pfs[\"tripleg_id\"] = pfs[\"tripleg_id\"].ffill()\n",
      "C:\\Users\\ASUS\\anaconda3\\Lib\\site-packages\\trackintel\\preprocessing\\positionfixes.py:440: FutureWarning: Downcasting object dtype arrays on .fillna, .ffill, .bfill is deprecated and will change in a future version. Call result.infer_objects(copy=False) instead. To opt-in to the future behavior, set `pd.set_option('future.no_silent_downcasting', True)`\n",
      "  cond_overlap_end = cond_overlap & ~cond_temporal_gap.shift(-1).fillna(False) & pd.isna(pfs[\"tripleg_id\"])\n",
      "C:\\Users\\ASUS\\anaconda3\\Lib\\site-packages\\trackintel\\preprocessing\\positionfixes.py:573: UserWarning: The positionfixes with ids [4300020 4300021 4300084 ... 4399732 4399935 4399936] lead to invalid tripleg geometries. The resulting triplegs were omitted and the tripleg id of the positionfixes was set to nan\n",
      "  warnings.warn(warn_string)\n"
     ]
    },
    {
     "name": "stdout",
     "output_type": "stream",
     "text": [
      "           uid   d   t   x    y                geometry       date  \\\n",
      "4300000  10357  23  29  87  145  POINT (87.000 145.000) 2024-01-24   \n",
      "4300001  10357  23  30  88  145  POINT (88.000 145.000) 2024-01-24   \n",
      "4300002  10357  23  35  88  146  POINT (88.000 146.000) 2024-01-24   \n",
      "4300003  10357  23  36  87  145  POINT (87.000 145.000) 2024-01-24   \n",
      "4300004  10357  23  37  87  145  POINT (87.000 145.000) 2024-01-24   \n",
      "\n",
      "                   time            datetime  \n",
      "4300000 0 days 14:30:00 2024-01-24 14:30:00  \n",
      "4300001 0 days 15:00:00 2024-01-24 15:00:00  \n",
      "4300002 0 days 17:30:00 2024-01-24 17:30:00  \n",
      "4300003 0 days 18:00:00 2024-01-24 18:00:00  \n",
      "4300004 0 days 18:30:00 2024-01-24 18:30:00  \n",
      "1-itemsets done!\n",
      "2-itemsets done!\n"
     ]
    },
    {
     "name": "stderr",
     "output_type": "stream",
     "text": [
      "100%|████████████████████████████████████████████████████████████████████████████████| 252/252 [00:09<00:00, 27.67it/s]\n",
      "C:\\Users\\ASUS\\anaconda3\\Lib\\site-packages\\trackintel\\preprocessing\\positionfixes.py:361: FutureWarning: Downcasting object dtype arrays on .fillna, .ffill, .bfill is deprecated and will change in a future version. Call result.infer_objects(copy=False) instead. To opt-in to the future behavior, set `pd.set_option('future.no_silent_downcasting', True)`\n",
      "  pfs[\"tripleg_id\"] = pfs[\"tripleg_id\"].ffill()\n",
      "C:\\Users\\ASUS\\anaconda3\\Lib\\site-packages\\trackintel\\preprocessing\\positionfixes.py:440: FutureWarning: Downcasting object dtype arrays on .fillna, .ffill, .bfill is deprecated and will change in a future version. Call result.infer_objects(copy=False) instead. To opt-in to the future behavior, set `pd.set_option('future.no_silent_downcasting', True)`\n",
      "  cond_overlap_end = cond_overlap & ~cond_temporal_gap.shift(-1).fillna(False) & pd.isna(pfs[\"tripleg_id\"])\n",
      "C:\\Users\\ASUS\\anaconda3\\Lib\\site-packages\\trackintel\\preprocessing\\positionfixes.py:573: UserWarning: The positionfixes with ids [4400001 4400002 4400003 ... 4499984 4499985 4499986] lead to invalid tripleg geometries. The resulting triplegs were omitted and the tripleg id of the positionfixes was set to nan\n",
      "  warnings.warn(warn_string)\n"
     ]
    },
    {
     "name": "stdout",
     "output_type": "stream",
     "text": [
      "           uid  d   t   x   y               geometry       date  \\\n",
      "4400000  10611  0  36  97  53  POINT (97.000 53.000) 2024-01-01   \n",
      "4400001  10611  0  37  97  54  POINT (97.000 54.000) 2024-01-01   \n",
      "4400002  10611  0  38  97  54  POINT (97.000 54.000) 2024-01-01   \n",
      "4400003  10611  0  39  97  54  POINT (97.000 54.000) 2024-01-01   \n",
      "4400004  10611  0  41  97  53  POINT (97.000 53.000) 2024-01-01   \n",
      "\n",
      "                   time            datetime  \n",
      "4400000 0 days 18:00:00 2024-01-01 18:00:00  \n",
      "4400001 0 days 18:30:00 2024-01-01 18:30:00  \n",
      "4400002 0 days 19:00:00 2024-01-01 19:00:00  \n",
      "4400003 0 days 19:30:00 2024-01-01 19:30:00  \n",
      "4400004 0 days 20:30:00 2024-01-01 20:30:00  \n",
      "1-itemsets done!\n",
      "2-itemsets done!\n",
      "No new candidates generated. Stopping at 2-itemsets\n"
     ]
    },
    {
     "name": "stderr",
     "output_type": "stream",
     "text": [
      "100%|████████████████████████████████████████████████████████████████████████████████| 248/248 [00:08<00:00, 27.75it/s]\n",
      "C:\\Users\\ASUS\\anaconda3\\Lib\\site-packages\\trackintel\\preprocessing\\positionfixes.py:361: FutureWarning: Downcasting object dtype arrays on .fillna, .ffill, .bfill is deprecated and will change in a future version. Call result.infer_objects(copy=False) instead. To opt-in to the future behavior, set `pd.set_option('future.no_silent_downcasting', True)`\n",
      "  pfs[\"tripleg_id\"] = pfs[\"tripleg_id\"].ffill()\n",
      "C:\\Users\\ASUS\\anaconda3\\Lib\\site-packages\\trackintel\\preprocessing\\positionfixes.py:440: FutureWarning: Downcasting object dtype arrays on .fillna, .ffill, .bfill is deprecated and will change in a future version. Call result.infer_objects(copy=False) instead. To opt-in to the future behavior, set `pd.set_option('future.no_silent_downcasting', True)`\n",
      "  cond_overlap_end = cond_overlap & ~cond_temporal_gap.shift(-1).fillna(False) & pd.isna(pfs[\"tripleg_id\"])\n",
      "C:\\Users\\ASUS\\anaconda3\\Lib\\site-packages\\trackintel\\preprocessing\\positionfixes.py:573: UserWarning: The positionfixes with ids [4500008 4500009 4500010 ... 4599822 4599924 4599925] lead to invalid tripleg geometries. The resulting triplegs were omitted and the tripleg id of the positionfixes was set to nan\n",
      "  warnings.warn(warn_string)\n"
     ]
    },
    {
     "name": "stdout",
     "output_type": "stream",
     "text": [
      "           uid   d   t   x    y                geometry       date  \\\n",
      "4500000  10863  28  25  41  192  POINT (41.000 192.000) 2024-01-29   \n",
      "4500001  10863  28  26  41  192  POINT (41.000 192.000) 2024-01-29   \n",
      "4500002  10863  28  27  41  192  POINT (41.000 192.000) 2024-01-29   \n",
      "4500003  10863  28  28  41  191  POINT (41.000 191.000) 2024-01-29   \n",
      "4500004  10863  28  29  41  192  POINT (41.000 192.000) 2024-01-29   \n",
      "\n",
      "                   time            datetime  \n",
      "4500000 0 days 12:30:00 2024-01-29 12:30:00  \n",
      "4500001 0 days 13:00:00 2024-01-29 13:00:00  \n",
      "4500002 0 days 13:30:00 2024-01-29 13:30:00  \n",
      "4500003 0 days 14:00:00 2024-01-29 14:00:00  \n",
      "4500004 0 days 14:30:00 2024-01-29 14:30:00  \n",
      "1-itemsets done!\n",
      "2-itemsets done!\n"
     ]
    },
    {
     "name": "stderr",
     "output_type": "stream",
     "text": [
      "100%|████████████████████████████████████████████████████████████████████████████████| 246/246 [00:09<00:00, 27.07it/s]\n",
      "C:\\Users\\ASUS\\anaconda3\\Lib\\site-packages\\trackintel\\preprocessing\\positionfixes.py:361: FutureWarning: Downcasting object dtype arrays on .fillna, .ffill, .bfill is deprecated and will change in a future version. Call result.infer_objects(copy=False) instead. To opt-in to the future behavior, set `pd.set_option('future.no_silent_downcasting', True)`\n",
      "  pfs[\"tripleg_id\"] = pfs[\"tripleg_id\"].ffill()\n",
      "C:\\Users\\ASUS\\anaconda3\\Lib\\site-packages\\trackintel\\preprocessing\\positionfixes.py:440: FutureWarning: Downcasting object dtype arrays on .fillna, .ffill, .bfill is deprecated and will change in a future version. Call result.infer_objects(copy=False) instead. To opt-in to the future behavior, set `pd.set_option('future.no_silent_downcasting', True)`\n",
      "  cond_overlap_end = cond_overlap & ~cond_temporal_gap.shift(-1).fillna(False) & pd.isna(pfs[\"tripleg_id\"])\n",
      "C:\\Users\\ASUS\\anaconda3\\Lib\\site-packages\\trackintel\\preprocessing\\positionfixes.py:573: UserWarning: The positionfixes with ids [4600008 4600009 4600121 ... 4699933 4699934 4699935] lead to invalid tripleg geometries. The resulting triplegs were omitted and the tripleg id of the positionfixes was set to nan\n",
      "  warnings.warn(warn_string)\n"
     ]
    },
    {
     "name": "stdout",
     "output_type": "stream",
     "text": [
      "           uid  d   t   x    y                geometry       date  \\\n",
      "4600000  11110  9  36  82  144  POINT (82.000 144.000) 2024-01-10   \n",
      "4600001  11110  9  37  81  151  POINT (81.000 151.000) 2024-01-10   \n",
      "4600002  11110  9  43  82  165  POINT (82.000 165.000) 2024-01-10   \n",
      "4600003  11110  9  44  81  142  POINT (81.000 142.000) 2024-01-10   \n",
      "4600004  11110  9  45  99  129  POINT (99.000 129.000) 2024-01-10   \n",
      "\n",
      "                   time            datetime  \n",
      "4600000 0 days 18:00:00 2024-01-10 18:00:00  \n",
      "4600001 0 days 18:30:00 2024-01-10 18:30:00  \n",
      "4600002 0 days 21:30:00 2024-01-10 21:30:00  \n",
      "4600003 0 days 22:00:00 2024-01-10 22:00:00  \n",
      "4600004 0 days 22:30:00 2024-01-10 22:30:00  \n",
      "1-itemsets done!\n",
      "2-itemsets done!\n",
      "No new candidates generated. Stopping at 2-itemsets\n"
     ]
    },
    {
     "name": "stderr",
     "output_type": "stream",
     "text": [
      "100%|████████████████████████████████████████████████████████████████████████████████| 239/239 [00:08<00:00, 27.86it/s]\n",
      "C:\\Users\\ASUS\\anaconda3\\Lib\\site-packages\\trackintel\\preprocessing\\positionfixes.py:361: FutureWarning: Downcasting object dtype arrays on .fillna, .ffill, .bfill is deprecated and will change in a future version. Call result.infer_objects(copy=False) instead. To opt-in to the future behavior, set `pd.set_option('future.no_silent_downcasting', True)`\n",
      "  pfs[\"tripleg_id\"] = pfs[\"tripleg_id\"].ffill()\n",
      "C:\\Users\\ASUS\\anaconda3\\Lib\\site-packages\\trackintel\\preprocessing\\positionfixes.py:440: FutureWarning: Downcasting object dtype arrays on .fillna, .ffill, .bfill is deprecated and will change in a future version. Call result.infer_objects(copy=False) instead. To opt-in to the future behavior, set `pd.set_option('future.no_silent_downcasting', True)`\n",
      "  cond_overlap_end = cond_overlap & ~cond_temporal_gap.shift(-1).fillna(False) & pd.isna(pfs[\"tripleg_id\"])\n",
      "C:\\Users\\ASUS\\anaconda3\\Lib\\site-packages\\trackintel\\preprocessing\\positionfixes.py:573: UserWarning: The positionfixes with ids [4700016 4700017 4700060 ... 4799762 4799843 4799844] lead to invalid tripleg geometries. The resulting triplegs were omitted and the tripleg id of the positionfixes was set to nan\n",
      "  warnings.warn(warn_string)\n"
     ]
    },
    {
     "name": "stdout",
     "output_type": "stream",
     "text": [
      "           uid   d   t    x    y                geometry       date  \\\n",
      "4700000  11358  16  13   77  102  POINT (77.000 102.000) 2024-01-17   \n",
      "4700001  11358  16  16   78  102  POINT (78.000 102.000) 2024-01-17   \n",
      "4700002  11358  16  19   83  100  POINT (83.000 100.000) 2024-01-17   \n",
      "4700003  11358  16  20  107   97  POINT (107.000 97.000) 2024-01-17   \n",
      "4700004  11358  16  21  109   93  POINT (109.000 93.000) 2024-01-17   \n",
      "\n",
      "                   time            datetime  \n",
      "4700000 0 days 06:30:00 2024-01-17 06:30:00  \n",
      "4700001 0 days 08:00:00 2024-01-17 08:00:00  \n",
      "4700002 0 days 09:30:00 2024-01-17 09:30:00  \n",
      "4700003 0 days 10:00:00 2024-01-17 10:00:00  \n",
      "4700004 0 days 10:30:00 2024-01-17 10:30:00  \n",
      "1-itemsets done!\n",
      "2-itemsets done!\n",
      "3-itemsets done!\n"
     ]
    },
    {
     "name": "stderr",
     "output_type": "stream",
     "text": [
      "100%|████████████████████████████████████████████████████████████████████████████████| 244/244 [00:08<00:00, 29.17it/s]\n",
      "C:\\Users\\ASUS\\anaconda3\\Lib\\site-packages\\trackintel\\preprocessing\\positionfixes.py:361: FutureWarning: Downcasting object dtype arrays on .fillna, .ffill, .bfill is deprecated and will change in a future version. Call result.infer_objects(copy=False) instead. To opt-in to the future behavior, set `pd.set_option('future.no_silent_downcasting', True)`\n",
      "  pfs[\"tripleg_id\"] = pfs[\"tripleg_id\"].ffill()\n",
      "C:\\Users\\ASUS\\anaconda3\\Lib\\site-packages\\trackintel\\preprocessing\\positionfixes.py:440: FutureWarning: Downcasting object dtype arrays on .fillna, .ffill, .bfill is deprecated and will change in a future version. Call result.infer_objects(copy=False) instead. To opt-in to the future behavior, set `pd.set_option('future.no_silent_downcasting', True)`\n",
      "  cond_overlap_end = cond_overlap & ~cond_temporal_gap.shift(-1).fillna(False) & pd.isna(pfs[\"tripleg_id\"])\n",
      "C:\\Users\\ASUS\\anaconda3\\Lib\\site-packages\\trackintel\\preprocessing\\positionfixes.py:573: UserWarning: The positionfixes with ids [4800219 4800220 4800387 ... 4899913 4899935 4899936] lead to invalid tripleg geometries. The resulting triplegs were omitted and the tripleg id of the positionfixes was set to nan\n",
      "  warnings.warn(warn_string)\n"
     ]
    },
    {
     "name": "stdout",
     "output_type": "stream",
     "text": [
      "           uid  d   t    x    y                 geometry       date  \\\n",
      "4800000  11596  6  33  156  182  POINT (156.000 182.000) 2024-01-07   \n",
      "4800001  11596  6  34  157  175  POINT (157.000 175.000) 2024-01-07   \n",
      "4800002  11596  6  35  132  140  POINT (132.000 140.000) 2024-01-07   \n",
      "4800003  11596  6  37  129  136  POINT (129.000 136.000) 2024-01-07   \n",
      "4800004  11596  6  39  131  138  POINT (131.000 138.000) 2024-01-07   \n",
      "\n",
      "                   time            datetime  \n",
      "4800000 0 days 16:30:00 2024-01-07 16:30:00  \n",
      "4800001 0 days 17:00:00 2024-01-07 17:00:00  \n",
      "4800002 0 days 17:30:00 2024-01-07 17:30:00  \n",
      "4800003 0 days 18:30:00 2024-01-07 18:30:00  \n",
      "4800004 0 days 19:30:00 2024-01-07 19:30:00  \n",
      "1-itemsets done!\n",
      "2-itemsets done!\n",
      "No new candidates generated. Stopping at 2-itemsets\n"
     ]
    },
    {
     "name": "stderr",
     "output_type": "stream",
     "text": [
      "100%|████████████████████████████████████████████████████████████████████████████████| 262/262 [00:09<00:00, 28.82it/s]\n",
      "C:\\Users\\ASUS\\anaconda3\\Lib\\site-packages\\trackintel\\preprocessing\\positionfixes.py:361: FutureWarning: Downcasting object dtype arrays on .fillna, .ffill, .bfill is deprecated and will change in a future version. Call result.infer_objects(copy=False) instead. To opt-in to the future behavior, set `pd.set_option('future.no_silent_downcasting', True)`\n",
      "  pfs[\"tripleg_id\"] = pfs[\"tripleg_id\"].ffill()\n",
      "C:\\Users\\ASUS\\anaconda3\\Lib\\site-packages\\trackintel\\preprocessing\\positionfixes.py:440: FutureWarning: Downcasting object dtype arrays on .fillna, .ffill, .bfill is deprecated and will change in a future version. Call result.infer_objects(copy=False) instead. To opt-in to the future behavior, set `pd.set_option('future.no_silent_downcasting', True)`\n",
      "  cond_overlap_end = cond_overlap & ~cond_temporal_gap.shift(-1).fillna(False) & pd.isna(pfs[\"tripleg_id\"])\n",
      "C:\\Users\\ASUS\\anaconda3\\Lib\\site-packages\\trackintel\\preprocessing\\positionfixes.py:573: UserWarning: The positionfixes with ids [4900030 4900031 4900092 ... 4999968 4999969 4999970] lead to invalid tripleg geometries. The resulting triplegs were omitted and the tripleg id of the positionfixes was set to nan\n",
      "  warnings.warn(warn_string)\n"
     ]
    },
    {
     "name": "stdout",
     "output_type": "stream",
     "text": [
      "           uid   d   t   x   y               geometry       date  \\\n",
      "4900000  11840  23  39  58  56  POINT (58.000 56.000) 2024-01-24   \n",
      "4900001  11840  23  40  59  56  POINT (59.000 56.000) 2024-01-24   \n",
      "4900002  11840  23  42  58  56  POINT (58.000 56.000) 2024-01-24   \n",
      "4900003  11840  23  43  59  56  POINT (59.000 56.000) 2024-01-24   \n",
      "4900004  11840  23  45  58  56  POINT (58.000 56.000) 2024-01-24   \n",
      "\n",
      "                   time            datetime  \n",
      "4900000 0 days 19:30:00 2024-01-24 19:30:00  \n",
      "4900001 0 days 20:00:00 2024-01-24 20:00:00  \n",
      "4900002 0 days 21:00:00 2024-01-24 21:00:00  \n",
      "4900003 0 days 21:30:00 2024-01-24 21:30:00  \n",
      "4900004 0 days 22:30:00 2024-01-24 22:30:00  \n",
      "1-itemsets done!\n",
      "2-itemsets done!\n",
      "3-itemsets done!\n",
      "4-itemsets done!\n",
      "5-itemsets done!\n",
      "No new candidates generated. Stopping at 5-itemsets\n"
     ]
    },
    {
     "name": "stderr",
     "output_type": "stream",
     "text": [
      "100%|████████████████████████████████████████████████████████████████████████████████| 247/247 [00:09<00:00, 26.56it/s]\n",
      "C:\\Users\\ASUS\\anaconda3\\Lib\\site-packages\\trackintel\\preprocessing\\positionfixes.py:361: FutureWarning: Downcasting object dtype arrays on .fillna, .ffill, .bfill is deprecated and will change in a future version. Call result.infer_objects(copy=False) instead. To opt-in to the future behavior, set `pd.set_option('future.no_silent_downcasting', True)`\n",
      "  pfs[\"tripleg_id\"] = pfs[\"tripleg_id\"].ffill()\n",
      "C:\\Users\\ASUS\\anaconda3\\Lib\\site-packages\\trackintel\\preprocessing\\positionfixes.py:440: FutureWarning: Downcasting object dtype arrays on .fillna, .ffill, .bfill is deprecated and will change in a future version. Call result.infer_objects(copy=False) instead. To opt-in to the future behavior, set `pd.set_option('future.no_silent_downcasting', True)`\n",
      "  cond_overlap_end = cond_overlap & ~cond_temporal_gap.shift(-1).fillna(False) & pd.isna(pfs[\"tripleg_id\"])\n",
      "C:\\Users\\ASUS\\anaconda3\\Lib\\site-packages\\trackintel\\preprocessing\\positionfixes.py:573: UserWarning: The positionfixes with ids [5000019 5000020 5000092 ... 5099831 5099871 5099872] lead to invalid tripleg geometries. The resulting triplegs were omitted and the tripleg id of the positionfixes was set to nan\n",
      "  warnings.warn(warn_string)\n"
     ]
    },
    {
     "name": "stdout",
     "output_type": "stream",
     "text": [
      "           uid   d   t    x    y                 geometry       date  \\\n",
      "5000000  12101  28  44  158  172  POINT (158.000 172.000) 2024-01-29   \n",
      "5000001  12101  29  20   94   93    POINT (94.000 93.000) 2024-01-30   \n",
      "5000002  12101  29  21   91   94    POINT (91.000 94.000) 2024-01-30   \n",
      "5000003  12101  29  22   86   90    POINT (86.000 90.000) 2024-01-30   \n",
      "5000004  12101  29  24   88   90    POINT (88.000 90.000) 2024-01-30   \n",
      "\n",
      "                   time            datetime  \n",
      "5000000 0 days 22:00:00 2024-01-29 22:00:00  \n",
      "5000001 0 days 10:00:00 2024-01-30 10:00:00  \n",
      "5000002 0 days 10:30:00 2024-01-30 10:30:00  \n",
      "5000003 0 days 11:00:00 2024-01-30 11:00:00  \n",
      "5000004 0 days 12:00:00 2024-01-30 12:00:00  \n",
      "1-itemsets done!\n",
      "2-itemsets done!\n"
     ]
    },
    {
     "name": "stderr",
     "output_type": "stream",
     "text": [
      "100%|████████████████████████████████████████████████████████████████████████████████| 281/281 [00:09<00:00, 29.84it/s]\n",
      "C:\\Users\\ASUS\\anaconda3\\Lib\\site-packages\\trackintel\\preprocessing\\positionfixes.py:361: FutureWarning: Downcasting object dtype arrays on .fillna, .ffill, .bfill is deprecated and will change in a future version. Call result.infer_objects(copy=False) instead. To opt-in to the future behavior, set `pd.set_option('future.no_silent_downcasting', True)`\n",
      "  pfs[\"tripleg_id\"] = pfs[\"tripleg_id\"].ffill()\n",
      "C:\\Users\\ASUS\\anaconda3\\Lib\\site-packages\\trackintel\\preprocessing\\positionfixes.py:440: FutureWarning: Downcasting object dtype arrays on .fillna, .ffill, .bfill is deprecated and will change in a future version. Call result.infer_objects(copy=False) instead. To opt-in to the future behavior, set `pd.set_option('future.no_silent_downcasting', True)`\n",
      "  cond_overlap_end = cond_overlap & ~cond_temporal_gap.shift(-1).fillna(False) & pd.isna(pfs[\"tripleg_id\"])\n",
      "C:\\Users\\ASUS\\anaconda3\\Lib\\site-packages\\trackintel\\preprocessing\\positionfixes.py:573: UserWarning: The positionfixes with ids [5100130 5100131 5100132 ... 5199960 5199961 5199962] lead to invalid tripleg geometries. The resulting triplegs were omitted and the tripleg id of the positionfixes was set to nan\n",
      "  warnings.warn(warn_string)\n"
     ]
    },
    {
     "name": "stdout",
     "output_type": "stream",
     "text": [
      "           uid   d   t   x   y               geometry       date  \\\n",
      "5100000  12350  22  23  88  94  POINT (88.000 94.000) 2024-01-23   \n",
      "5100001  12350  22  24  89  95  POINT (89.000 95.000) 2024-01-23   \n",
      "5100002  12350  22  25  88  94  POINT (88.000 94.000) 2024-01-23   \n",
      "5100003  12350  22  26  89  95  POINT (89.000 95.000) 2024-01-23   \n",
      "5100004  12350  22  27  88  94  POINT (88.000 94.000) 2024-01-23   \n",
      "\n",
      "                   time            datetime  \n",
      "5100000 0 days 11:30:00 2024-01-23 11:30:00  \n",
      "5100001 0 days 12:00:00 2024-01-23 12:00:00  \n",
      "5100002 0 days 12:30:00 2024-01-23 12:30:00  \n",
      "5100003 0 days 13:00:00 2024-01-23 13:00:00  \n",
      "5100004 0 days 13:30:00 2024-01-23 13:30:00  \n",
      "1-itemsets done!\n",
      "2-itemsets done!\n",
      "No new candidates generated. Stopping at 2-itemsets\n"
     ]
    },
    {
     "name": "stderr",
     "output_type": "stream",
     "text": [
      "100%|████████████████████████████████████████████████████████████████████████████████| 263/263 [00:09<00:00, 27.94it/s]\n",
      "C:\\Users\\ASUS\\anaconda3\\Lib\\site-packages\\trackintel\\preprocessing\\positionfixes.py:361: FutureWarning: Downcasting object dtype arrays on .fillna, .ffill, .bfill is deprecated and will change in a future version. Call result.infer_objects(copy=False) instead. To opt-in to the future behavior, set `pd.set_option('future.no_silent_downcasting', True)`\n",
      "  pfs[\"tripleg_id\"] = pfs[\"tripleg_id\"].ffill()\n",
      "C:\\Users\\ASUS\\anaconda3\\Lib\\site-packages\\trackintel\\preprocessing\\positionfixes.py:440: FutureWarning: Downcasting object dtype arrays on .fillna, .ffill, .bfill is deprecated and will change in a future version. Call result.infer_objects(copy=False) instead. To opt-in to the future behavior, set `pd.set_option('future.no_silent_downcasting', True)`\n",
      "  cond_overlap_end = cond_overlap & ~cond_temporal_gap.shift(-1).fillna(False) & pd.isna(pfs[\"tripleg_id\"])\n",
      "C:\\Users\\ASUS\\anaconda3\\Lib\\site-packages\\trackintel\\preprocessing\\positionfixes.py:573: UserWarning: The positionfixes with ids [5200032 5200033 5200037 ... 5299616 5299672 5299673] lead to invalid tripleg geometries. The resulting triplegs were omitted and the tripleg id of the positionfixes was set to nan\n",
      "  warnings.warn(warn_string)\n"
     ]
    },
    {
     "name": "stdout",
     "output_type": "stream",
     "text": [
      "           uid   d   t    x    y                 geometry       date  \\\n",
      "5200000  12630  27  38  164  188  POINT (164.000 188.000) 2024-01-28   \n",
      "5200001  12630  27  39  166  188  POINT (166.000 188.000) 2024-01-28   \n",
      "5200002  12630  27  40  165  188  POINT (165.000 188.000) 2024-01-28   \n",
      "5200003  12630  27  42  165  188  POINT (165.000 188.000) 2024-01-28   \n",
      "5200004  12630  27  43  165  188  POINT (165.000 188.000) 2024-01-28   \n",
      "\n",
      "                   time            datetime  \n",
      "5200000 0 days 19:00:00 2024-01-28 19:00:00  \n",
      "5200001 0 days 19:30:00 2024-01-28 19:30:00  \n",
      "5200002 0 days 20:00:00 2024-01-28 20:00:00  \n",
      "5200003 0 days 21:00:00 2024-01-28 21:00:00  \n",
      "5200004 0 days 21:30:00 2024-01-28 21:30:00  \n",
      "1-itemsets done!\n",
      "2-itemsets done!\n"
     ]
    },
    {
     "name": "stderr",
     "output_type": "stream",
     "text": [
      "100%|████████████████████████████████████████████████████████████████████████████████| 248/248 [00:09<00:00, 27.11it/s]\n",
      "C:\\Users\\ASUS\\anaconda3\\Lib\\site-packages\\trackintel\\preprocessing\\positionfixes.py:361: FutureWarning: Downcasting object dtype arrays on .fillna, .ffill, .bfill is deprecated and will change in a future version. Call result.infer_objects(copy=False) instead. To opt-in to the future behavior, set `pd.set_option('future.no_silent_downcasting', True)`\n",
      "  pfs[\"tripleg_id\"] = pfs[\"tripleg_id\"].ffill()\n",
      "C:\\Users\\ASUS\\anaconda3\\Lib\\site-packages\\trackintel\\preprocessing\\positionfixes.py:440: FutureWarning: Downcasting object dtype arrays on .fillna, .ffill, .bfill is deprecated and will change in a future version. Call result.infer_objects(copy=False) instead. To opt-in to the future behavior, set `pd.set_option('future.no_silent_downcasting', True)`\n",
      "  cond_overlap_end = cond_overlap & ~cond_temporal_gap.shift(-1).fillna(False) & pd.isna(pfs[\"tripleg_id\"])\n",
      "C:\\Users\\ASUS\\anaconda3\\Lib\\site-packages\\trackintel\\preprocessing\\positionfixes.py:573: UserWarning: The positionfixes with ids [5300106 5300107 5300125 ... 5399976 5399982 5399983] lead to invalid tripleg geometries. The resulting triplegs were omitted and the tripleg id of the positionfixes was set to nan\n",
      "  warnings.warn(warn_string)\n"
     ]
    },
    {
     "name": "stdout",
     "output_type": "stream",
     "text": [
      "           uid   d   t   x    y                geometry       date  \\\n",
      "5300000  12894  24  26  77   95   POINT (77.000 95.000) 2024-01-25   \n",
      "5300001  12894  24  28  76   95   POINT (76.000 95.000) 2024-01-25   \n",
      "5300002  12894  24  29  59  103  POINT (59.000 103.000) 2024-01-25   \n",
      "5300003  12894  24  31  61  110  POINT (61.000 110.000) 2024-01-25   \n",
      "5300004  12894  24  32  60  109  POINT (60.000 109.000) 2024-01-25   \n",
      "\n",
      "                   time            datetime  \n",
      "5300000 0 days 13:00:00 2024-01-25 13:00:00  \n",
      "5300001 0 days 14:00:00 2024-01-25 14:00:00  \n",
      "5300002 0 days 14:30:00 2024-01-25 14:30:00  \n",
      "5300003 0 days 15:30:00 2024-01-25 15:30:00  \n",
      "5300004 0 days 16:00:00 2024-01-25 16:00:00  \n",
      "1-itemsets done!\n",
      "2-itemsets done!\n",
      "No new candidates generated. Stopping at 2-itemsets\n"
     ]
    },
    {
     "name": "stderr",
     "output_type": "stream",
     "text": [
      "100%|████████████████████████████████████████████████████████████████████████████████| 269/269 [00:09<00:00, 29.39it/s]\n",
      "C:\\Users\\ASUS\\anaconda3\\Lib\\site-packages\\trackintel\\preprocessing\\positionfixes.py:361: FutureWarning: Downcasting object dtype arrays on .fillna, .ffill, .bfill is deprecated and will change in a future version. Call result.infer_objects(copy=False) instead. To opt-in to the future behavior, set `pd.set_option('future.no_silent_downcasting', True)`\n",
      "  pfs[\"tripleg_id\"] = pfs[\"tripleg_id\"].ffill()\n",
      "C:\\Users\\ASUS\\anaconda3\\Lib\\site-packages\\trackintel\\preprocessing\\positionfixes.py:440: FutureWarning: Downcasting object dtype arrays on .fillna, .ffill, .bfill is deprecated and will change in a future version. Call result.infer_objects(copy=False) instead. To opt-in to the future behavior, set `pd.set_option('future.no_silent_downcasting', True)`\n",
      "  cond_overlap_end = cond_overlap & ~cond_temporal_gap.shift(-1).fillna(False) & pd.isna(pfs[\"tripleg_id\"])\n",
      "C:\\Users\\ASUS\\anaconda3\\Lib\\site-packages\\trackintel\\preprocessing\\positionfixes.py:573: UserWarning: The positionfixes with ids [5400000 5400001 5400046 ... 5499883 5499884 5499885] lead to invalid tripleg geometries. The resulting triplegs were omitted and the tripleg id of the positionfixes was set to nan\n",
      "  warnings.warn(warn_string)\n"
     ]
    },
    {
     "name": "stdout",
     "output_type": "stream",
     "text": [
      "           uid   d   t   x   y               geometry       date  \\\n",
      "5400000  13142  10  13  33  38  POINT (33.000 38.000) 2024-01-11   \n",
      "5400001  13142  10  14  33  38  POINT (33.000 38.000) 2024-01-11   \n",
      "5400002  13142  10  21  33  38  POINT (33.000 38.000) 2024-01-11   \n",
      "5400003  13142  10  22  46  42  POINT (46.000 42.000) 2024-01-11   \n",
      "5400004  13142  10  23  76  79  POINT (76.000 79.000) 2024-01-11   \n",
      "\n",
      "                   time            datetime  \n",
      "5400000 0 days 06:30:00 2024-01-11 06:30:00  \n",
      "5400001 0 days 07:00:00 2024-01-11 07:00:00  \n",
      "5400002 0 days 10:30:00 2024-01-11 10:30:00  \n",
      "5400003 0 days 11:00:00 2024-01-11 11:00:00  \n",
      "5400004 0 days 11:30:00 2024-01-11 11:30:00  \n",
      "1-itemsets done!\n",
      "2-itemsets done!\n",
      "No new candidates generated. Stopping at 2-itemsets\n"
     ]
    },
    {
     "name": "stderr",
     "output_type": "stream",
     "text": [
      "100%|████████████████████████████████████████████████████████████████████████████████| 248/248 [00:09<00:00, 26.96it/s]\n",
      "C:\\Users\\ASUS\\anaconda3\\Lib\\site-packages\\trackintel\\preprocessing\\positionfixes.py:361: FutureWarning: Downcasting object dtype arrays on .fillna, .ffill, .bfill is deprecated and will change in a future version. Call result.infer_objects(copy=False) instead. To opt-in to the future behavior, set `pd.set_option('future.no_silent_downcasting', True)`\n",
      "  pfs[\"tripleg_id\"] = pfs[\"tripleg_id\"].ffill()\n",
      "C:\\Users\\ASUS\\anaconda3\\Lib\\site-packages\\trackintel\\preprocessing\\positionfixes.py:440: FutureWarning: Downcasting object dtype arrays on .fillna, .ffill, .bfill is deprecated and will change in a future version. Call result.infer_objects(copy=False) instead. To opt-in to the future behavior, set `pd.set_option('future.no_silent_downcasting', True)`\n",
      "  cond_overlap_end = cond_overlap & ~cond_temporal_gap.shift(-1).fillna(False) & pd.isna(pfs[\"tripleg_id\"])\n",
      "C:\\Users\\ASUS\\anaconda3\\Lib\\site-packages\\trackintel\\preprocessing\\positionfixes.py:573: UserWarning: The positionfixes with ids [5500003 5500004 5500005 ... 5599732 5599733 5599734] lead to invalid tripleg geometries. The resulting triplegs were omitted and the tripleg id of the positionfixes was set to nan\n",
      "  warnings.warn(warn_string)\n"
     ]
    },
    {
     "name": "stdout",
     "output_type": "stream",
     "text": [
      "           uid   d   t    x   y                geometry       date  \\\n",
      "5500000  13410  19  16  106  87  POINT (106.000 87.000) 2024-01-20   \n",
      "5500001  13410  19  17  111  80  POINT (111.000 80.000) 2024-01-20   \n",
      "5500002  13410  19  18  123  64  POINT (123.000 64.000) 2024-01-20   \n",
      "5500003  13410  19  20  123  64  POINT (123.000 64.000) 2024-01-20   \n",
      "5500004  13410  19  21  123  64  POINT (123.000 64.000) 2024-01-20   \n",
      "\n",
      "                   time            datetime  \n",
      "5500000 0 days 08:00:00 2024-01-20 08:00:00  \n",
      "5500001 0 days 08:30:00 2024-01-20 08:30:00  \n",
      "5500002 0 days 09:00:00 2024-01-20 09:00:00  \n",
      "5500003 0 days 10:00:00 2024-01-20 10:00:00  \n",
      "5500004 0 days 10:30:00 2024-01-20 10:30:00  \n",
      "1-itemsets done!\n",
      "2-itemsets done!\n",
      "No new candidates generated. Stopping at 2-itemsets\n"
     ]
    },
    {
     "name": "stderr",
     "output_type": "stream",
     "text": [
      "100%|████████████████████████████████████████████████████████████████████████████████| 243/243 [00:08<00:00, 27.50it/s]\n",
      "C:\\Users\\ASUS\\anaconda3\\Lib\\site-packages\\trackintel\\preprocessing\\positionfixes.py:361: FutureWarning: Downcasting object dtype arrays on .fillna, .ffill, .bfill is deprecated and will change in a future version. Call result.infer_objects(copy=False) instead. To opt-in to the future behavior, set `pd.set_option('future.no_silent_downcasting', True)`\n",
      "  pfs[\"tripleg_id\"] = pfs[\"tripleg_id\"].ffill()\n",
      "C:\\Users\\ASUS\\anaconda3\\Lib\\site-packages\\trackintel\\preprocessing\\positionfixes.py:440: FutureWarning: Downcasting object dtype arrays on .fillna, .ffill, .bfill is deprecated and will change in a future version. Call result.infer_objects(copy=False) instead. To opt-in to the future behavior, set `pd.set_option('future.no_silent_downcasting', True)`\n",
      "  cond_overlap_end = cond_overlap & ~cond_temporal_gap.shift(-1).fillna(False) & pd.isna(pfs[\"tripleg_id\"])\n",
      "C:\\Users\\ASUS\\anaconda3\\Lib\\site-packages\\trackintel\\preprocessing\\positionfixes.py:573: UserWarning: The positionfixes with ids [5600106 5600107 5600308 ... 5699836 5699853 5699854] lead to invalid tripleg geometries. The resulting triplegs were omitted and the tripleg id of the positionfixes was set to nan\n",
      "  warnings.warn(warn_string)\n"
     ]
    },
    {
     "name": "stdout",
     "output_type": "stream",
     "text": [
      "           uid   d   t   x    y                geometry       date  \\\n",
      "5600000  13658  26  12  93   97   POINT (93.000 97.000) 2024-01-27   \n",
      "5600001  13658  26  13  87  168  POINT (87.000 168.000) 2024-01-27   \n",
      "5600002  13658  26  14  88  184  POINT (88.000 184.000) 2024-01-27   \n",
      "5600003  13658  28  41  89  186  POINT (89.000 186.000) 2024-01-29   \n",
      "5600004  13658  28  42  88  184  POINT (88.000 184.000) 2024-01-29   \n",
      "\n",
      "                   time            datetime  \n",
      "5600000 0 days 06:00:00 2024-01-27 06:00:00  \n",
      "5600001 0 days 06:30:00 2024-01-27 06:30:00  \n",
      "5600002 0 days 07:00:00 2024-01-27 07:00:00  \n",
      "5600003 0 days 20:30:00 2024-01-29 20:30:00  \n",
      "5600004 0 days 21:00:00 2024-01-29 21:00:00  \n",
      "1-itemsets done!\n",
      "2-itemsets done!\n",
      "No new candidates generated. Stopping at 2-itemsets\n"
     ]
    },
    {
     "name": "stderr",
     "output_type": "stream",
     "text": [
      "100%|████████████████████████████████████████████████████████████████████████████████| 249/249 [00:09<00:00, 27.41it/s]\n",
      "C:\\Users\\ASUS\\anaconda3\\Lib\\site-packages\\trackintel\\preprocessing\\positionfixes.py:361: FutureWarning: Downcasting object dtype arrays on .fillna, .ffill, .bfill is deprecated and will change in a future version. Call result.infer_objects(copy=False) instead. To opt-in to the future behavior, set `pd.set_option('future.no_silent_downcasting', True)`\n",
      "  pfs[\"tripleg_id\"] = pfs[\"tripleg_id\"].ffill()\n",
      "C:\\Users\\ASUS\\anaconda3\\Lib\\site-packages\\trackintel\\preprocessing\\positionfixes.py:440: FutureWarning: Downcasting object dtype arrays on .fillna, .ffill, .bfill is deprecated and will change in a future version. Call result.infer_objects(copy=False) instead. To opt-in to the future behavior, set `pd.set_option('future.no_silent_downcasting', True)`\n",
      "  cond_overlap_end = cond_overlap & ~cond_temporal_gap.shift(-1).fillna(False) & pd.isna(pfs[\"tripleg_id\"])\n",
      "C:\\Users\\ASUS\\anaconda3\\Lib\\site-packages\\trackintel\\preprocessing\\positionfixes.py:573: UserWarning: The positionfixes with ids [5700056 5700057 5700306 ... 5799882 5799917 5799918] lead to invalid tripleg geometries. The resulting triplegs were omitted and the tripleg id of the positionfixes was set to nan\n",
      "  warnings.warn(warn_string)\n"
     ]
    },
    {
     "name": "stdout",
     "output_type": "stream",
     "text": [
      "           uid   d  t   x    y                geometry       date  \\\n",
      "5700000  13901  10  1   6  167   POINT (6.000 167.000) 2024-01-11   \n",
      "5700001  13901  10  2  19  172  POINT (19.000 172.000) 2024-01-11   \n",
      "5700002  13901  10  3  36  173  POINT (36.000 173.000) 2024-01-11   \n",
      "5700003  13901  10  5  29  170  POINT (29.000 170.000) 2024-01-11   \n",
      "5700004  13901  10  6  37  172  POINT (37.000 172.000) 2024-01-11   \n",
      "\n",
      "                   time            datetime  \n",
      "5700000 0 days 00:30:00 2024-01-11 00:30:00  \n",
      "5700001 0 days 01:00:00 2024-01-11 01:00:00  \n",
      "5700002 0 days 01:30:00 2024-01-11 01:30:00  \n",
      "5700003 0 days 02:30:00 2024-01-11 02:30:00  \n",
      "5700004 0 days 03:00:00 2024-01-11 03:00:00  \n",
      "1-itemsets done!\n",
      "2-itemsets done!\n",
      "3-itemsets done!\n",
      "4-itemsets done!\n",
      "5-itemsets done!\n",
      "No new candidates generated. Stopping at 5-itemsets\n"
     ]
    },
    {
     "name": "stderr",
     "output_type": "stream",
     "text": [
      "100%|████████████████████████████████████████████████████████████████████████████████| 267/267 [00:08<00:00, 30.31it/s]\n",
      "C:\\Users\\ASUS\\anaconda3\\Lib\\site-packages\\trackintel\\preprocessing\\positionfixes.py:361: FutureWarning: Downcasting object dtype arrays on .fillna, .ffill, .bfill is deprecated and will change in a future version. Call result.infer_objects(copy=False) instead. To opt-in to the future behavior, set `pd.set_option('future.no_silent_downcasting', True)`\n",
      "  pfs[\"tripleg_id\"] = pfs[\"tripleg_id\"].ffill()\n",
      "C:\\Users\\ASUS\\anaconda3\\Lib\\site-packages\\trackintel\\preprocessing\\positionfixes.py:440: FutureWarning: Downcasting object dtype arrays on .fillna, .ffill, .bfill is deprecated and will change in a future version. Call result.infer_objects(copy=False) instead. To opt-in to the future behavior, set `pd.set_option('future.no_silent_downcasting', True)`\n",
      "  cond_overlap_end = cond_overlap & ~cond_temporal_gap.shift(-1).fillna(False) & pd.isna(pfs[\"tripleg_id\"])\n",
      "C:\\Users\\ASUS\\anaconda3\\Lib\\site-packages\\trackintel\\preprocessing\\positionfixes.py:573: UserWarning: The positionfixes with ids [5800013 5800014 5800043 ... 5899772 5899777 5899778] lead to invalid tripleg geometries. The resulting triplegs were omitted and the tripleg id of the positionfixes was set to nan\n",
      "  warnings.warn(warn_string)\n"
     ]
    },
    {
     "name": "stdout",
     "output_type": "stream",
     "text": [
      "           uid   d   t   x   y               geometry       date  \\\n",
      "5800000  14150  28   5  98  90  POINT (98.000 90.000) 2024-01-29   \n",
      "5800001  14150  28   9  97  92  POINT (97.000 92.000) 2024-01-29   \n",
      "5800002  14150  28  10  98  90  POINT (98.000 90.000) 2024-01-29   \n",
      "5800003  14150  28  12  97  92  POINT (97.000 92.000) 2024-01-29   \n",
      "5800004  14150  28  13  98  90  POINT (98.000 90.000) 2024-01-29   \n",
      "\n",
      "                   time            datetime  \n",
      "5800000 0 days 02:30:00 2024-01-29 02:30:00  \n",
      "5800001 0 days 04:30:00 2024-01-29 04:30:00  \n",
      "5800002 0 days 05:00:00 2024-01-29 05:00:00  \n",
      "5800003 0 days 06:00:00 2024-01-29 06:00:00  \n",
      "5800004 0 days 06:30:00 2024-01-29 06:30:00  \n",
      "1-itemsets done!\n",
      "2-itemsets done!\n",
      "No new candidates generated. Stopping at 2-itemsets\n"
     ]
    },
    {
     "name": "stderr",
     "output_type": "stream",
     "text": [
      "100%|████████████████████████████████████████████████████████████████████████████████| 256/256 [00:08<00:00, 29.05it/s]\n",
      "C:\\Users\\ASUS\\anaconda3\\Lib\\site-packages\\trackintel\\preprocessing\\positionfixes.py:361: FutureWarning: Downcasting object dtype arrays on .fillna, .ffill, .bfill is deprecated and will change in a future version. Call result.infer_objects(copy=False) instead. To opt-in to the future behavior, set `pd.set_option('future.no_silent_downcasting', True)`\n",
      "  pfs[\"tripleg_id\"] = pfs[\"tripleg_id\"].ffill()\n",
      "C:\\Users\\ASUS\\anaconda3\\Lib\\site-packages\\trackintel\\preprocessing\\positionfixes.py:440: FutureWarning: Downcasting object dtype arrays on .fillna, .ffill, .bfill is deprecated and will change in a future version. Call result.infer_objects(copy=False) instead. To opt-in to the future behavior, set `pd.set_option('future.no_silent_downcasting', True)`\n",
      "  cond_overlap_end = cond_overlap & ~cond_temporal_gap.shift(-1).fillna(False) & pd.isna(pfs[\"tripleg_id\"])\n",
      "C:\\Users\\ASUS\\anaconda3\\Lib\\site-packages\\trackintel\\preprocessing\\positionfixes.py:573: UserWarning: The positionfixes with ids [5900031 5900032 5900057 ... 5999962 5999974 5999975] lead to invalid tripleg geometries. The resulting triplegs were omitted and the tripleg id of the positionfixes was set to nan\n",
      "  warnings.warn(warn_string)\n"
     ]
    },
    {
     "name": "stdout",
     "output_type": "stream",
     "text": [
      "           uid   d   t   x   y               geometry       date  \\\n",
      "5900000  14419  10  41  77  99  POINT (77.000 99.000) 2024-01-11   \n",
      "5900001  14419  10  43  78  99  POINT (78.000 99.000) 2024-01-11   \n",
      "5900002  14419  10  44  77  99  POINT (77.000 99.000) 2024-01-11   \n",
      "5900003  14419  10  45  78  99  POINT (78.000 99.000) 2024-01-11   \n",
      "5900004  14419  11  14  80  96  POINT (80.000 96.000) 2024-01-12   \n",
      "\n",
      "                   time            datetime  \n",
      "5900000 0 days 20:30:00 2024-01-11 20:30:00  \n",
      "5900001 0 days 21:30:00 2024-01-11 21:30:00  \n",
      "5900002 0 days 22:00:00 2024-01-11 22:00:00  \n",
      "5900003 0 days 22:30:00 2024-01-11 22:30:00  \n",
      "5900004 0 days 07:00:00 2024-01-12 07:00:00  \n",
      "1-itemsets done!\n",
      "2-itemsets done!\n"
     ]
    },
    {
     "name": "stderr",
     "output_type": "stream",
     "text": [
      "100%|████████████████████████████████████████████████████████████████████████████████| 256/256 [00:08<00:00, 29.34it/s]\n",
      "C:\\Users\\ASUS\\anaconda3\\Lib\\site-packages\\trackintel\\preprocessing\\positionfixes.py:361: FutureWarning: Downcasting object dtype arrays on .fillna, .ffill, .bfill is deprecated and will change in a future version. Call result.infer_objects(copy=False) instead. To opt-in to the future behavior, set `pd.set_option('future.no_silent_downcasting', True)`\n",
      "  pfs[\"tripleg_id\"] = pfs[\"tripleg_id\"].ffill()\n",
      "C:\\Users\\ASUS\\anaconda3\\Lib\\site-packages\\trackintel\\preprocessing\\positionfixes.py:440: FutureWarning: Downcasting object dtype arrays on .fillna, .ffill, .bfill is deprecated and will change in a future version. Call result.infer_objects(copy=False) instead. To opt-in to the future behavior, set `pd.set_option('future.no_silent_downcasting', True)`\n",
      "  cond_overlap_end = cond_overlap & ~cond_temporal_gap.shift(-1).fillna(False) & pd.isna(pfs[\"tripleg_id\"])\n",
      "C:\\Users\\ASUS\\anaconda3\\Lib\\site-packages\\trackintel\\preprocessing\\positionfixes.py:573: UserWarning: The positionfixes with ids [6000001 6000002 6000003 ... 6099901 6099924 6099925] lead to invalid tripleg geometries. The resulting triplegs were omitted and the tripleg id of the positionfixes was set to nan\n",
      "  warnings.warn(warn_string)\n"
     ]
    },
    {
     "name": "stdout",
     "output_type": "stream",
     "text": [
      "           uid   d   t   x   y               geometry       date  \\\n",
      "6000000  14674  25  18  80  96  POINT (80.000 96.000) 2024-01-26   \n",
      "6000001  14674  25  20  80  96  POINT (80.000 96.000) 2024-01-26   \n",
      "6000002  14674  25  21  80  96  POINT (80.000 96.000) 2024-01-26   \n",
      "6000003  14674  25  22  80  96  POINT (80.000 96.000) 2024-01-26   \n",
      "6000004  14674  25  23  80  96  POINT (80.000 96.000) 2024-01-26   \n",
      "\n",
      "                   time            datetime  \n",
      "6000000 0 days 09:00:00 2024-01-26 09:00:00  \n",
      "6000001 0 days 10:00:00 2024-01-26 10:00:00  \n",
      "6000002 0 days 10:30:00 2024-01-26 10:30:00  \n",
      "6000003 0 days 11:00:00 2024-01-26 11:00:00  \n",
      "6000004 0 days 11:30:00 2024-01-26 11:30:00  \n",
      "1-itemsets done!\n",
      "2-itemsets done!\n",
      "No new candidates generated. Stopping at 2-itemsets\n"
     ]
    },
    {
     "name": "stderr",
     "output_type": "stream",
     "text": [
      "100%|████████████████████████████████████████████████████████████████████████████████| 260/260 [00:09<00:00, 28.41it/s]\n",
      "C:\\Users\\ASUS\\anaconda3\\Lib\\site-packages\\trackintel\\preprocessing\\positionfixes.py:361: FutureWarning: Downcasting object dtype arrays on .fillna, .ffill, .bfill is deprecated and will change in a future version. Call result.infer_objects(copy=False) instead. To opt-in to the future behavior, set `pd.set_option('future.no_silent_downcasting', True)`\n",
      "  pfs[\"tripleg_id\"] = pfs[\"tripleg_id\"].ffill()\n",
      "C:\\Users\\ASUS\\anaconda3\\Lib\\site-packages\\trackintel\\preprocessing\\positionfixes.py:440: FutureWarning: Downcasting object dtype arrays on .fillna, .ffill, .bfill is deprecated and will change in a future version. Call result.infer_objects(copy=False) instead. To opt-in to the future behavior, set `pd.set_option('future.no_silent_downcasting', True)`\n",
      "  cond_overlap_end = cond_overlap & ~cond_temporal_gap.shift(-1).fillna(False) & pd.isna(pfs[\"tripleg_id\"])\n",
      "C:\\Users\\ASUS\\anaconda3\\Lib\\site-packages\\trackintel\\preprocessing\\positionfixes.py:573: UserWarning: The positionfixes with ids [6100045 6100046 6100047 ... 6199987 6199995 6199996] lead to invalid tripleg geometries. The resulting triplegs were omitted and the tripleg id of the positionfixes was set to nan\n",
      "  warnings.warn(warn_string)\n"
     ]
    },
    {
     "name": "stdout",
     "output_type": "stream",
     "text": [
      "           uid   d   t   x    y                geometry       date  \\\n",
      "6100000  14929  28  24  69  103  POINT (69.000 103.000) 2024-01-29   \n",
      "6100001  14929  28  25  69  104  POINT (69.000 104.000) 2024-01-29   \n",
      "6100002  14929  28  27  69  104  POINT (69.000 104.000) 2024-01-29   \n",
      "6100003  14929  28  28  69  104  POINT (69.000 104.000) 2024-01-29   \n",
      "6100004  14929  28  29  73   89   POINT (73.000 89.000) 2024-01-29   \n",
      "\n",
      "                   time            datetime  \n",
      "6100000 0 days 12:00:00 2024-01-29 12:00:00  \n",
      "6100001 0 days 12:30:00 2024-01-29 12:30:00  \n",
      "6100002 0 days 13:30:00 2024-01-29 13:30:00  \n",
      "6100003 0 days 14:00:00 2024-01-29 14:00:00  \n",
      "6100004 0 days 14:30:00 2024-01-29 14:30:00  \n",
      "1-itemsets done!\n",
      "2-itemsets done!\n",
      "No new candidates generated. Stopping at 2-itemsets\n"
     ]
    },
    {
     "name": "stderr",
     "output_type": "stream",
     "text": [
      "100%|████████████████████████████████████████████████████████████████████████████████| 266/266 [00:08<00:00, 30.16it/s]\n",
      "C:\\Users\\ASUS\\anaconda3\\Lib\\site-packages\\trackintel\\preprocessing\\positionfixes.py:361: FutureWarning: Downcasting object dtype arrays on .fillna, .ffill, .bfill is deprecated and will change in a future version. Call result.infer_objects(copy=False) instead. To opt-in to the future behavior, set `pd.set_option('future.no_silent_downcasting', True)`\n",
      "  pfs[\"tripleg_id\"] = pfs[\"tripleg_id\"].ffill()\n",
      "C:\\Users\\ASUS\\anaconda3\\Lib\\site-packages\\trackintel\\preprocessing\\positionfixes.py:440: FutureWarning: Downcasting object dtype arrays on .fillna, .ffill, .bfill is deprecated and will change in a future version. Call result.infer_objects(copy=False) instead. To opt-in to the future behavior, set `pd.set_option('future.no_silent_downcasting', True)`\n",
      "  cond_overlap_end = cond_overlap & ~cond_temporal_gap.shift(-1).fillna(False) & pd.isna(pfs[\"tripleg_id\"])\n",
      "C:\\Users\\ASUS\\anaconda3\\Lib\\site-packages\\trackintel\\preprocessing\\positionfixes.py:573: UserWarning: The positionfixes with ids [6200006 6200007 6200018 ... 6299979 6299980 6299981] lead to invalid tripleg geometries. The resulting triplegs were omitted and the tripleg id of the positionfixes was set to nan\n",
      "  warnings.warn(warn_string)\n"
     ]
    },
    {
     "name": "stdout",
     "output_type": "stream",
     "text": [
      "           uid   d   t   x    y                geometry       date  \\\n",
      "6200000  15188  15  30  79  199  POINT (79.000 199.000) 2024-01-16   \n",
      "6200001  15188  15  37  79  200  POINT (79.000 200.000) 2024-01-16   \n",
      "6200002  15188  16  17  79  199  POINT (79.000 199.000) 2024-01-17   \n",
      "6200003  15188  16  26  79  199  POINT (79.000 199.000) 2024-01-17   \n",
      "6200004  15188  16  28  79  199  POINT (79.000 199.000) 2024-01-17   \n",
      "\n",
      "                   time            datetime  \n",
      "6200000 0 days 15:00:00 2024-01-16 15:00:00  \n",
      "6200001 0 days 18:30:00 2024-01-16 18:30:00  \n",
      "6200002 0 days 08:30:00 2024-01-17 08:30:00  \n",
      "6200003 0 days 13:00:00 2024-01-17 13:00:00  \n",
      "6200004 0 days 14:00:00 2024-01-17 14:00:00  \n",
      "1-itemsets done!\n",
      "2-itemsets done!\n",
      "No new candidates generated. Stopping at 2-itemsets\n"
     ]
    },
    {
     "name": "stderr",
     "output_type": "stream",
     "text": [
      "100%|████████████████████████████████████████████████████████████████████████████████| 245/245 [00:10<00:00, 24.34it/s]\n",
      "C:\\Users\\ASUS\\anaconda3\\Lib\\site-packages\\trackintel\\preprocessing\\positionfixes.py:361: FutureWarning: Downcasting object dtype arrays on .fillna, .ffill, .bfill is deprecated and will change in a future version. Call result.infer_objects(copy=False) instead. To opt-in to the future behavior, set `pd.set_option('future.no_silent_downcasting', True)`\n",
      "  pfs[\"tripleg_id\"] = pfs[\"tripleg_id\"].ffill()\n",
      "C:\\Users\\ASUS\\anaconda3\\Lib\\site-packages\\trackintel\\preprocessing\\positionfixes.py:440: FutureWarning: Downcasting object dtype arrays on .fillna, .ffill, .bfill is deprecated and will change in a future version. Call result.infer_objects(copy=False) instead. To opt-in to the future behavior, set `pd.set_option('future.no_silent_downcasting', True)`\n",
      "  cond_overlap_end = cond_overlap & ~cond_temporal_gap.shift(-1).fillna(False) & pd.isna(pfs[\"tripleg_id\"])\n",
      "C:\\Users\\ASUS\\anaconda3\\Lib\\site-packages\\trackintel\\preprocessing\\positionfixes.py:573: UserWarning: The positionfixes with ids [6300095 6300096 6300097 ... 6399983 6399998 6399999] lead to invalid tripleg geometries. The resulting triplegs were omitted and the tripleg id of the positionfixes was set to nan\n",
      "  warnings.warn(warn_string)\n"
     ]
    },
    {
     "name": "stdout",
     "output_type": "stream",
     "text": [
      "           uid   d   t   x   y               geometry       date  \\\n",
      "6300000  15454  11  37  88  92  POINT (88.000 92.000) 2024-01-12   \n",
      "6300001  15454  11  38  89  90  POINT (89.000 90.000) 2024-01-12   \n",
      "6300002  15454  11  39  89  92  POINT (89.000 92.000) 2024-01-12   \n",
      "6300003  15454  11  40  89  91  POINT (89.000 91.000) 2024-01-12   \n",
      "6300004  15454  11  41  89  90  POINT (89.000 90.000) 2024-01-12   \n",
      "\n",
      "                   time            datetime  \n",
      "6300000 0 days 18:30:00 2024-01-12 18:30:00  \n",
      "6300001 0 days 19:00:00 2024-01-12 19:00:00  \n",
      "6300002 0 days 19:30:00 2024-01-12 19:30:00  \n",
      "6300003 0 days 20:00:00 2024-01-12 20:00:00  \n",
      "6300004 0 days 20:30:00 2024-01-12 20:30:00  \n",
      "1-itemsets done!\n",
      "2-itemsets done!\n",
      "3-itemsets done!\n"
     ]
    },
    {
     "name": "stderr",
     "output_type": "stream",
     "text": [
      "100%|████████████████████████████████████████████████████████████████████████████████| 259/259 [00:08<00:00, 29.55it/s]\n",
      "C:\\Users\\ASUS\\anaconda3\\Lib\\site-packages\\trackintel\\preprocessing\\positionfixes.py:361: FutureWarning: Downcasting object dtype arrays on .fillna, .ffill, .bfill is deprecated and will change in a future version. Call result.infer_objects(copy=False) instead. To opt-in to the future behavior, set `pd.set_option('future.no_silent_downcasting', True)`\n",
      "  pfs[\"tripleg_id\"] = pfs[\"tripleg_id\"].ffill()\n",
      "C:\\Users\\ASUS\\anaconda3\\Lib\\site-packages\\trackintel\\preprocessing\\positionfixes.py:440: FutureWarning: Downcasting object dtype arrays on .fillna, .ffill, .bfill is deprecated and will change in a future version. Call result.infer_objects(copy=False) instead. To opt-in to the future behavior, set `pd.set_option('future.no_silent_downcasting', True)`\n",
      "  cond_overlap_end = cond_overlap & ~cond_temporal_gap.shift(-1).fillna(False) & pd.isna(pfs[\"tripleg_id\"])\n",
      "C:\\Users\\ASUS\\anaconda3\\Lib\\site-packages\\trackintel\\preprocessing\\positionfixes.py:573: UserWarning: The positionfixes with ids [6400020 6400021 6400125 ... 6499829 6499889 6499890] lead to invalid tripleg geometries. The resulting triplegs were omitted and the tripleg id of the positionfixes was set to nan\n",
      "  warnings.warn(warn_string)\n"
     ]
    },
    {
     "name": "stdout",
     "output_type": "stream",
     "text": [
      "           uid  d   t   x   y               geometry       date  \\\n",
      "6400000  15698  0   8  57  53  POINT (57.000 53.000) 2024-01-01   \n",
      "6400001  15698  0   9  58  54  POINT (58.000 54.000) 2024-01-01   \n",
      "6400002  15698  0  10  57  53  POINT (57.000 53.000) 2024-01-01   \n",
      "6400003  15698  0  11  58  54  POINT (58.000 54.000) 2024-01-01   \n",
      "6400004  15698  0  12  58  54  POINT (58.000 54.000) 2024-01-01   \n",
      "\n",
      "                   time            datetime  \n",
      "6400000 0 days 04:00:00 2024-01-01 04:00:00  \n",
      "6400001 0 days 04:30:00 2024-01-01 04:30:00  \n",
      "6400002 0 days 05:00:00 2024-01-01 05:00:00  \n",
      "6400003 0 days 05:30:00 2024-01-01 05:30:00  \n",
      "6400004 0 days 06:00:00 2024-01-01 06:00:00  \n",
      "1-itemsets done!\n",
      "2-itemsets done!\n"
     ]
    },
    {
     "name": "stderr",
     "output_type": "stream",
     "text": [
      "100%|████████████████████████████████████████████████████████████████████████████████| 261/261 [00:08<00:00, 29.01it/s]\n",
      "C:\\Users\\ASUS\\anaconda3\\Lib\\site-packages\\trackintel\\preprocessing\\positionfixes.py:361: FutureWarning: Downcasting object dtype arrays on .fillna, .ffill, .bfill is deprecated and will change in a future version. Call result.infer_objects(copy=False) instead. To opt-in to the future behavior, set `pd.set_option('future.no_silent_downcasting', True)`\n",
      "  pfs[\"tripleg_id\"] = pfs[\"tripleg_id\"].ffill()\n",
      "C:\\Users\\ASUS\\anaconda3\\Lib\\site-packages\\trackintel\\preprocessing\\positionfixes.py:440: FutureWarning: Downcasting object dtype arrays on .fillna, .ffill, .bfill is deprecated and will change in a future version. Call result.infer_objects(copy=False) instead. To opt-in to the future behavior, set `pd.set_option('future.no_silent_downcasting', True)`\n",
      "  cond_overlap_end = cond_overlap & ~cond_temporal_gap.shift(-1).fillna(False) & pd.isna(pfs[\"tripleg_id\"])\n",
      "C:\\Users\\ASUS\\anaconda3\\Lib\\site-packages\\trackintel\\preprocessing\\positionfixes.py:573: UserWarning: The positionfixes with ids [6500032 6500033 6500038 ... 6599986 6599987 6599988] lead to invalid tripleg geometries. The resulting triplegs were omitted and the tripleg id of the positionfixes was set to nan\n",
      "  warnings.warn(warn_string)\n"
     ]
    },
    {
     "name": "stdout",
     "output_type": "stream",
     "text": [
      "           uid   d   t   x    y                geometry       date  \\\n",
      "6500000  15957  28  26  64  115  POINT (64.000 115.000) 2024-01-29   \n",
      "6500001  15957  28  27  64  115  POINT (64.000 115.000) 2024-01-29   \n",
      "6500002  15957  28  28  71  119  POINT (71.000 119.000) 2024-01-29   \n",
      "6500003  15957  28  29  82  125  POINT (82.000 125.000) 2024-01-29   \n",
      "6500004  15957  28  30  78  113  POINT (78.000 113.000) 2024-01-29   \n",
      "\n",
      "                   time            datetime  \n",
      "6500000 0 days 13:00:00 2024-01-29 13:00:00  \n",
      "6500001 0 days 13:30:00 2024-01-29 13:30:00  \n",
      "6500002 0 days 14:00:00 2024-01-29 14:00:00  \n",
      "6500003 0 days 14:30:00 2024-01-29 14:30:00  \n",
      "6500004 0 days 15:00:00 2024-01-29 15:00:00  \n",
      "1-itemsets done!\n",
      "2-itemsets done!\n"
     ]
    },
    {
     "name": "stderr",
     "output_type": "stream",
     "text": [
      "100%|████████████████████████████████████████████████████████████████████████████████| 277/277 [00:09<00:00, 30.22it/s]\n",
      "C:\\Users\\ASUS\\anaconda3\\Lib\\site-packages\\trackintel\\preprocessing\\positionfixes.py:361: FutureWarning: Downcasting object dtype arrays on .fillna, .ffill, .bfill is deprecated and will change in a future version. Call result.infer_objects(copy=False) instead. To opt-in to the future behavior, set `pd.set_option('future.no_silent_downcasting', True)`\n",
      "  pfs[\"tripleg_id\"] = pfs[\"tripleg_id\"].ffill()\n",
      "C:\\Users\\ASUS\\anaconda3\\Lib\\site-packages\\trackintel\\preprocessing\\positionfixes.py:440: FutureWarning: Downcasting object dtype arrays on .fillna, .ffill, .bfill is deprecated and will change in a future version. Call result.infer_objects(copy=False) instead. To opt-in to the future behavior, set `pd.set_option('future.no_silent_downcasting', True)`\n",
      "  cond_overlap_end = cond_overlap & ~cond_temporal_gap.shift(-1).fillna(False) & pd.isna(pfs[\"tripleg_id\"])\n",
      "C:\\Users\\ASUS\\anaconda3\\Lib\\site-packages\\trackintel\\preprocessing\\positionfixes.py:573: UserWarning: The positionfixes with ids [6600231 6600232 6600233 ... 6699840 6699841 6699842] lead to invalid tripleg geometries. The resulting triplegs were omitted and the tripleg id of the positionfixes was set to nan\n",
      "  warnings.warn(warn_string)\n"
     ]
    },
    {
     "name": "stdout",
     "output_type": "stream",
     "text": [
      "           uid   d   t   x   y               geometry       date  \\\n",
      "6600000  16217  25  35  78  84  POINT (78.000 84.000) 2024-01-26   \n",
      "6600001  16217  25  38  78  84  POINT (78.000 84.000) 2024-01-26   \n",
      "6600002  16217  25  46  78  83  POINT (78.000 83.000) 2024-01-26   \n",
      "6600003  16217  26  15  78  83  POINT (78.000 83.000) 2024-01-27   \n",
      "6600004  16217  26  16  79  84  POINT (79.000 84.000) 2024-01-27   \n",
      "\n",
      "                   time            datetime  \n",
      "6600000 0 days 17:30:00 2024-01-26 17:30:00  \n",
      "6600001 0 days 19:00:00 2024-01-26 19:00:00  \n",
      "6600002 0 days 23:00:00 2024-01-26 23:00:00  \n",
      "6600003 0 days 07:30:00 2024-01-27 07:30:00  \n",
      "6600004 0 days 08:00:00 2024-01-27 08:00:00  \n",
      "1-itemsets done!\n",
      "2-itemsets done!\n",
      "No new candidates generated. Stopping at 2-itemsets\n"
     ]
    },
    {
     "name": "stderr",
     "output_type": "stream",
     "text": [
      "100%|████████████████████████████████████████████████████████████████████████████████| 262/262 [00:09<00:00, 26.86it/s]\n",
      "C:\\Users\\ASUS\\anaconda3\\Lib\\site-packages\\trackintel\\preprocessing\\positionfixes.py:361: FutureWarning: Downcasting object dtype arrays on .fillna, .ffill, .bfill is deprecated and will change in a future version. Call result.infer_objects(copy=False) instead. To opt-in to the future behavior, set `pd.set_option('future.no_silent_downcasting', True)`\n",
      "  pfs[\"tripleg_id\"] = pfs[\"tripleg_id\"].ffill()\n",
      "C:\\Users\\ASUS\\anaconda3\\Lib\\site-packages\\trackintel\\preprocessing\\positionfixes.py:440: FutureWarning: Downcasting object dtype arrays on .fillna, .ffill, .bfill is deprecated and will change in a future version. Call result.infer_objects(copy=False) instead. To opt-in to the future behavior, set `pd.set_option('future.no_silent_downcasting', True)`\n",
      "  cond_overlap_end = cond_overlap & ~cond_temporal_gap.shift(-1).fillna(False) & pd.isna(pfs[\"tripleg_id\"])\n",
      "C:\\Users\\ASUS\\anaconda3\\Lib\\site-packages\\trackintel\\preprocessing\\positionfixes.py:573: UserWarning: The positionfixes with ids [6700110 6700111 6700204 ... 6799957 6799958 6799959] lead to invalid tripleg geometries. The resulting triplegs were omitted and the tripleg id of the positionfixes was set to nan\n",
      "  warnings.warn(warn_string)\n"
     ]
    },
    {
     "name": "stdout",
     "output_type": "stream",
     "text": [
      "           uid   d   t   x    y                geometry       date  \\\n",
      "6700000  16493  24  18  69  102  POINT (69.000 102.000) 2024-01-25   \n",
      "6700001  16493  24  21  69  103  POINT (69.000 103.000) 2024-01-25   \n",
      "6700002  16493  24  22  77   98   POINT (77.000 98.000) 2024-01-25   \n",
      "6700003  16493  24  23  80   93   POINT (80.000 93.000) 2024-01-25   \n",
      "6700004  16493  24  35  81   94   POINT (81.000 94.000) 2024-01-25   \n",
      "\n",
      "                   time            datetime  \n",
      "6700000 0 days 09:00:00 2024-01-25 09:00:00  \n",
      "6700001 0 days 10:30:00 2024-01-25 10:30:00  \n",
      "6700002 0 days 11:00:00 2024-01-25 11:00:00  \n",
      "6700003 0 days 11:30:00 2024-01-25 11:30:00  \n",
      "6700004 0 days 17:30:00 2024-01-25 17:30:00  \n",
      "1-itemsets done!\n",
      "2-itemsets done!\n",
      "No new candidates generated. Stopping at 2-itemsets\n"
     ]
    },
    {
     "name": "stderr",
     "output_type": "stream",
     "text": [
      "100%|████████████████████████████████████████████████████████████████████████████████| 264/264 [00:09<00:00, 28.69it/s]\n",
      "C:\\Users\\ASUS\\anaconda3\\Lib\\site-packages\\trackintel\\preprocessing\\positionfixes.py:361: FutureWarning: Downcasting object dtype arrays on .fillna, .ffill, .bfill is deprecated and will change in a future version. Call result.infer_objects(copy=False) instead. To opt-in to the future behavior, set `pd.set_option('future.no_silent_downcasting', True)`\n",
      "  pfs[\"tripleg_id\"] = pfs[\"tripleg_id\"].ffill()\n",
      "C:\\Users\\ASUS\\anaconda3\\Lib\\site-packages\\trackintel\\preprocessing\\positionfixes.py:440: FutureWarning: Downcasting object dtype arrays on .fillna, .ffill, .bfill is deprecated and will change in a future version. Call result.infer_objects(copy=False) instead. To opt-in to the future behavior, set `pd.set_option('future.no_silent_downcasting', True)`\n",
      "  cond_overlap_end = cond_overlap & ~cond_temporal_gap.shift(-1).fillna(False) & pd.isna(pfs[\"tripleg_id\"])\n",
      "C:\\Users\\ASUS\\anaconda3\\Lib\\site-packages\\trackintel\\preprocessing\\positionfixes.py:573: UserWarning: The positionfixes with ids [6800058 6800059 6800060 ... 6899987 6899998 6899999] lead to invalid tripleg geometries. The resulting triplegs were omitted and the tripleg id of the positionfixes was set to nan\n",
      "  warnings.warn(warn_string)\n"
     ]
    },
    {
     "name": "stdout",
     "output_type": "stream",
     "text": [
      "           uid   d   t   x    y                geometry       date  \\\n",
      "6800000  16756   9  43  47  128  POINT (47.000 128.000) 2024-01-10   \n",
      "6800001  16756   9  45  47  127  POINT (47.000 127.000) 2024-01-10   \n",
      "6800002  16756  10   1  47  127  POINT (47.000 127.000) 2024-01-11   \n",
      "6800003  16756  10  12  47  127  POINT (47.000 127.000) 2024-01-11   \n",
      "6800004  16756  10  15  46  128  POINT (46.000 128.000) 2024-01-11   \n",
      "\n",
      "                   time            datetime  \n",
      "6800000 0 days 21:30:00 2024-01-10 21:30:00  \n",
      "6800001 0 days 22:30:00 2024-01-10 22:30:00  \n",
      "6800002 0 days 00:30:00 2024-01-11 00:30:00  \n",
      "6800003 0 days 06:00:00 2024-01-11 06:00:00  \n",
      "6800004 0 days 07:30:00 2024-01-11 07:30:00  \n",
      "1-itemsets done!\n",
      "2-itemsets done!\n",
      "No new candidates generated. Stopping at 2-itemsets\n"
     ]
    },
    {
     "name": "stderr",
     "output_type": "stream",
     "text": [
      "100%|████████████████████████████████████████████████████████████████████████████████| 257/257 [00:09<00:00, 26.83it/s]\n",
      "C:\\Users\\ASUS\\anaconda3\\Lib\\site-packages\\trackintel\\preprocessing\\positionfixes.py:361: FutureWarning: Downcasting object dtype arrays on .fillna, .ffill, .bfill is deprecated and will change in a future version. Call result.infer_objects(copy=False) instead. To opt-in to the future behavior, set `pd.set_option('future.no_silent_downcasting', True)`\n",
      "  pfs[\"tripleg_id\"] = pfs[\"tripleg_id\"].ffill()\n",
      "C:\\Users\\ASUS\\anaconda3\\Lib\\site-packages\\trackintel\\preprocessing\\positionfixes.py:440: FutureWarning: Downcasting object dtype arrays on .fillna, .ffill, .bfill is deprecated and will change in a future version. Call result.infer_objects(copy=False) instead. To opt-in to the future behavior, set `pd.set_option('future.no_silent_downcasting', True)`\n",
      "  cond_overlap_end = cond_overlap & ~cond_temporal_gap.shift(-1).fillna(False) & pd.isna(pfs[\"tripleg_id\"])\n",
      "C:\\Users\\ASUS\\anaconda3\\Lib\\site-packages\\trackintel\\preprocessing\\positionfixes.py:573: UserWarning: The positionfixes with ids [6900015 6900016 6900115 ... 6999928 6999929 6999930] lead to invalid tripleg geometries. The resulting triplegs were omitted and the tripleg id of the positionfixes was set to nan\n",
      "  warnings.warn(warn_string)\n"
     ]
    },
    {
     "name": "stdout",
     "output_type": "stream",
     "text": [
      "           uid   d   t    x    y                 geometry       date  \\\n",
      "6900000  17020  26  27  105  101  POINT (105.000 101.000) 2024-01-27   \n",
      "6900001  17020  26  30  105  100  POINT (105.000 100.000) 2024-01-27   \n",
      "6900002  17020  28  16  106   99   POINT (106.000 99.000) 2024-01-29   \n",
      "6900003  17020  28  17  105  102  POINT (105.000 102.000) 2024-01-29   \n",
      "6900004  17020  28  18  105  101  POINT (105.000 101.000) 2024-01-29   \n",
      "\n",
      "                   time            datetime  \n",
      "6900000 0 days 13:30:00 2024-01-27 13:30:00  \n",
      "6900001 0 days 15:00:00 2024-01-27 15:00:00  \n",
      "6900002 0 days 08:00:00 2024-01-29 08:00:00  \n",
      "6900003 0 days 08:30:00 2024-01-29 08:30:00  \n",
      "6900004 0 days 09:00:00 2024-01-29 09:00:00  \n",
      "1-itemsets done!\n",
      "2-itemsets done!\n",
      "No new candidates generated. Stopping at 2-itemsets\n"
     ]
    },
    {
     "name": "stderr",
     "output_type": "stream",
     "text": [
      "100%|████████████████████████████████████████████████████████████████████████████████| 267/267 [00:09<00:00, 28.42it/s]\n",
      "C:\\Users\\ASUS\\anaconda3\\Lib\\site-packages\\trackintel\\preprocessing\\positionfixes.py:361: FutureWarning: Downcasting object dtype arrays on .fillna, .ffill, .bfill is deprecated and will change in a future version. Call result.infer_objects(copy=False) instead. To opt-in to the future behavior, set `pd.set_option('future.no_silent_downcasting', True)`\n",
      "  pfs[\"tripleg_id\"] = pfs[\"tripleg_id\"].ffill()\n",
      "C:\\Users\\ASUS\\anaconda3\\Lib\\site-packages\\trackintel\\preprocessing\\positionfixes.py:440: FutureWarning: Downcasting object dtype arrays on .fillna, .ffill, .bfill is deprecated and will change in a future version. Call result.infer_objects(copy=False) instead. To opt-in to the future behavior, set `pd.set_option('future.no_silent_downcasting', True)`\n",
      "  cond_overlap_end = cond_overlap & ~cond_temporal_gap.shift(-1).fillna(False) & pd.isna(pfs[\"tripleg_id\"])\n",
      "C:\\Users\\ASUS\\anaconda3\\Lib\\site-packages\\trackintel\\preprocessing\\positionfixes.py:573: UserWarning: The positionfixes with ids [7000026 7000027 7000049 ... 7099988 7099993 7099994] lead to invalid tripleg geometries. The resulting triplegs were omitted and the tripleg id of the positionfixes was set to nan\n",
      "  warnings.warn(warn_string)\n"
     ]
    },
    {
     "name": "stdout",
     "output_type": "stream",
     "text": [
      "           uid   d   t   x   y               geometry       date  \\\n",
      "7000000  17276  26  47  30  41  POINT (30.000 41.000) 2024-01-27   \n",
      "7000001  17276  27   0  31  40  POINT (31.000 40.000) 2024-01-28   \n",
      "7000002  17276  27  12  31  41  POINT (31.000 41.000) 2024-01-28   \n",
      "7000003  17276  27  13  30  41  POINT (30.000 41.000) 2024-01-28   \n",
      "7000004  17276  27  20  30  43  POINT (30.000 43.000) 2024-01-28   \n",
      "\n",
      "                   time            datetime  \n",
      "7000000 0 days 23:30:00 2024-01-27 23:30:00  \n",
      "7000001 0 days 00:00:00 2024-01-28 00:00:00  \n",
      "7000002 0 days 06:00:00 2024-01-28 06:00:00  \n",
      "7000003 0 days 06:30:00 2024-01-28 06:30:00  \n",
      "7000004 0 days 10:00:00 2024-01-28 10:00:00  \n",
      "1-itemsets done!\n",
      "2-itemsets done!\n",
      "No new candidates generated. Stopping at 2-itemsets\n"
     ]
    },
    {
     "name": "stderr",
     "output_type": "stream",
     "text": [
      "100%|████████████████████████████████████████████████████████████████████████████████| 270/270 [00:08<00:00, 30.11it/s]\n",
      "C:\\Users\\ASUS\\anaconda3\\Lib\\site-packages\\trackintel\\preprocessing\\positionfixes.py:361: FutureWarning: Downcasting object dtype arrays on .fillna, .ffill, .bfill is deprecated and will change in a future version. Call result.infer_objects(copy=False) instead. To opt-in to the future behavior, set `pd.set_option('future.no_silent_downcasting', True)`\n",
      "  pfs[\"tripleg_id\"] = pfs[\"tripleg_id\"].ffill()\n",
      "C:\\Users\\ASUS\\anaconda3\\Lib\\site-packages\\trackintel\\preprocessing\\positionfixes.py:440: FutureWarning: Downcasting object dtype arrays on .fillna, .ffill, .bfill is deprecated and will change in a future version. Call result.infer_objects(copy=False) instead. To opt-in to the future behavior, set `pd.set_option('future.no_silent_downcasting', True)`\n",
      "  cond_overlap_end = cond_overlap & ~cond_temporal_gap.shift(-1).fillna(False) & pd.isna(pfs[\"tripleg_id\"])\n",
      "C:\\Users\\ASUS\\anaconda3\\Lib\\site-packages\\trackintel\\preprocessing\\positionfixes.py:573: UserWarning: The positionfixes with ids [7100039 7100040 7100069 ... 7199652 7199755 7199756] lead to invalid tripleg geometries. The resulting triplegs were omitted and the tripleg id of the positionfixes was set to nan\n",
      "  warnings.warn(warn_string)\n"
     ]
    },
    {
     "name": "stdout",
     "output_type": "stream",
     "text": [
      "           uid   d   t   x    y                geometry       date  \\\n",
      "7100000  17542  19  23  48  113  POINT (48.000 113.000) 2024-01-20   \n",
      "7100001  17542  19  24  49  113  POINT (49.000 113.000) 2024-01-20   \n",
      "7100002  17542  19  32  51  116  POINT (51.000 116.000) 2024-01-20   \n",
      "7100003  17542  19  33  50  108  POINT (50.000 108.000) 2024-01-20   \n",
      "7100004  17542  20  15  50  107  POINT (50.000 107.000) 2024-01-21   \n",
      "\n",
      "                   time            datetime  \n",
      "7100000 0 days 11:30:00 2024-01-20 11:30:00  \n",
      "7100001 0 days 12:00:00 2024-01-20 12:00:00  \n",
      "7100002 0 days 16:00:00 2024-01-20 16:00:00  \n",
      "7100003 0 days 16:30:00 2024-01-20 16:30:00  \n",
      "7100004 0 days 07:30:00 2024-01-21 07:30:00  \n",
      "1-itemsets done!\n",
      "2-itemsets done!\n",
      "No new candidates generated. Stopping at 2-itemsets\n"
     ]
    },
    {
     "name": "stderr",
     "output_type": "stream",
     "text": [
      "100%|████████████████████████████████████████████████████████████████████████████████| 270/270 [00:09<00:00, 28.08it/s]\n",
      "C:\\Users\\ASUS\\anaconda3\\Lib\\site-packages\\trackintel\\preprocessing\\positionfixes.py:361: FutureWarning: Downcasting object dtype arrays on .fillna, .ffill, .bfill is deprecated and will change in a future version. Call result.infer_objects(copy=False) instead. To opt-in to the future behavior, set `pd.set_option('future.no_silent_downcasting', True)`\n",
      "  pfs[\"tripleg_id\"] = pfs[\"tripleg_id\"].ffill()\n",
      "C:\\Users\\ASUS\\anaconda3\\Lib\\site-packages\\trackintel\\preprocessing\\positionfixes.py:440: FutureWarning: Downcasting object dtype arrays on .fillna, .ffill, .bfill is deprecated and will change in a future version. Call result.infer_objects(copy=False) instead. To opt-in to the future behavior, set `pd.set_option('future.no_silent_downcasting', True)`\n",
      "  cond_overlap_end = cond_overlap & ~cond_temporal_gap.shift(-1).fillna(False) & pd.isna(pfs[\"tripleg_id\"])\n",
      "C:\\Users\\ASUS\\anaconda3\\Lib\\site-packages\\trackintel\\preprocessing\\positionfixes.py:573: UserWarning: The positionfixes with ids [7200082 7200083 7200134 ... 7299967 7299968 7299969] lead to invalid tripleg geometries. The resulting triplegs were omitted and the tripleg id of the positionfixes was set to nan\n",
      "  warnings.warn(warn_string)\n"
     ]
    },
    {
     "name": "stdout",
     "output_type": "stream",
     "text": [
      "           uid   d   t   x    y                geometry       date  \\\n",
      "7200000  17813  25   0  86  149  POINT (86.000 149.000) 2024-01-26   \n",
      "7200001  17813  25  35  85  146  POINT (85.000 146.000) 2024-01-26   \n",
      "7200002  17813  25  37  77  136  POINT (77.000 136.000) 2024-01-26   \n",
      "7200003  17813  25  40  77  136  POINT (77.000 136.000) 2024-01-26   \n",
      "7200004  17813  25  41  79  144  POINT (79.000 144.000) 2024-01-26   \n",
      "\n",
      "                   time            datetime  \n",
      "7200000 0 days 00:00:00 2024-01-26 00:00:00  \n",
      "7200001 0 days 17:30:00 2024-01-26 17:30:00  \n",
      "7200002 0 days 18:30:00 2024-01-26 18:30:00  \n",
      "7200003 0 days 20:00:00 2024-01-26 20:00:00  \n",
      "7200004 0 days 20:30:00 2024-01-26 20:30:00  \n",
      "1-itemsets done!\n",
      "2-itemsets done!\n"
     ]
    },
    {
     "name": "stderr",
     "output_type": "stream",
     "text": [
      "100%|████████████████████████████████████████████████████████████████████████████████| 268/268 [00:09<00:00, 29.12it/s]\n",
      "C:\\Users\\ASUS\\anaconda3\\Lib\\site-packages\\trackintel\\preprocessing\\positionfixes.py:361: FutureWarning: Downcasting object dtype arrays on .fillna, .ffill, .bfill is deprecated and will change in a future version. Call result.infer_objects(copy=False) instead. To opt-in to the future behavior, set `pd.set_option('future.no_silent_downcasting', True)`\n",
      "  pfs[\"tripleg_id\"] = pfs[\"tripleg_id\"].ffill()\n",
      "C:\\Users\\ASUS\\anaconda3\\Lib\\site-packages\\trackintel\\preprocessing\\positionfixes.py:440: FutureWarning: Downcasting object dtype arrays on .fillna, .ffill, .bfill is deprecated and will change in a future version. Call result.infer_objects(copy=False) instead. To opt-in to the future behavior, set `pd.set_option('future.no_silent_downcasting', True)`\n",
      "  cond_overlap_end = cond_overlap & ~cond_temporal_gap.shift(-1).fillna(False) & pd.isna(pfs[\"tripleg_id\"])\n",
      "C:\\Users\\ASUS\\anaconda3\\Lib\\site-packages\\trackintel\\preprocessing\\positionfixes.py:573: UserWarning: The positionfixes with ids [7300007 7300008 7300009 ... 7399366 7399958 7399959] lead to invalid tripleg geometries. The resulting triplegs were omitted and the tripleg id of the positionfixes was set to nan\n",
      "  warnings.warn(warn_string)\n"
     ]
    },
    {
     "name": "stdout",
     "output_type": "stream",
     "text": [
      "           uid   d   t   x   y               geometry       date  \\\n",
      "7300000  18083   9  33  80  96  POINT (80.000 96.000) 2024-01-10   \n",
      "7300001  18083   9  36  81  96  POINT (81.000 96.000) 2024-01-10   \n",
      "7300002  18083   9  37  82  90  POINT (82.000 90.000) 2024-01-10   \n",
      "7300003  18083  10  16  80  95  POINT (80.000 95.000) 2024-01-11   \n",
      "7300004  18083  10  17  80  96  POINT (80.000 96.000) 2024-01-11   \n",
      "\n",
      "                   time            datetime  \n",
      "7300000 0 days 16:30:00 2024-01-10 16:30:00  \n",
      "7300001 0 days 18:00:00 2024-01-10 18:00:00  \n",
      "7300002 0 days 18:30:00 2024-01-10 18:30:00  \n",
      "7300003 0 days 08:00:00 2024-01-11 08:00:00  \n",
      "7300004 0 days 08:30:00 2024-01-11 08:30:00  \n",
      "1-itemsets done!\n",
      "2-itemsets done!\n"
     ]
    },
    {
     "name": "stderr",
     "output_type": "stream",
     "text": [
      "100%|████████████████████████████████████████████████████████████████████████████████| 283/283 [00:09<00:00, 31.24it/s]\n",
      "C:\\Users\\ASUS\\anaconda3\\Lib\\site-packages\\trackintel\\preprocessing\\positionfixes.py:361: FutureWarning: Downcasting object dtype arrays on .fillna, .ffill, .bfill is deprecated and will change in a future version. Call result.infer_objects(copy=False) instead. To opt-in to the future behavior, set `pd.set_option('future.no_silent_downcasting', True)`\n",
      "  pfs[\"tripleg_id\"] = pfs[\"tripleg_id\"].ffill()\n",
      "C:\\Users\\ASUS\\anaconda3\\Lib\\site-packages\\trackintel\\preprocessing\\positionfixes.py:440: FutureWarning: Downcasting object dtype arrays on .fillna, .ffill, .bfill is deprecated and will change in a future version. Call result.infer_objects(copy=False) instead. To opt-in to the future behavior, set `pd.set_option('future.no_silent_downcasting', True)`\n",
      "  cond_overlap_end = cond_overlap & ~cond_temporal_gap.shift(-1).fillna(False) & pd.isna(pfs[\"tripleg_id\"])\n",
      "C:\\Users\\ASUS\\anaconda3\\Lib\\site-packages\\trackintel\\preprocessing\\positionfixes.py:573: UserWarning: The positionfixes with ids [7400025 7400026 7400027 ... 7499923 7499936 7499937] lead to invalid tripleg geometries. The resulting triplegs were omitted and the tripleg id of the positionfixes was set to nan\n",
      "  warnings.warn(warn_string)\n"
     ]
    },
    {
     "name": "stdout",
     "output_type": "stream",
     "text": [
      "           uid  d   t   x   y               geometry       date  \\\n",
      "7400000  18351  2  32  83  91  POINT (83.000 91.000) 2024-01-03   \n",
      "7400001  18351  2  39  83  90  POINT (83.000 90.000) 2024-01-03   \n",
      "7400002  18351  2  40  83  91  POINT (83.000 91.000) 2024-01-03   \n",
      "7400003  18351  2  41  82  93  POINT (82.000 93.000) 2024-01-03   \n",
      "7400004  18351  2  42  82  93  POINT (82.000 93.000) 2024-01-03   \n",
      "\n",
      "                   time            datetime  \n",
      "7400000 0 days 16:00:00 2024-01-03 16:00:00  \n",
      "7400001 0 days 19:30:00 2024-01-03 19:30:00  \n",
      "7400002 0 days 20:00:00 2024-01-03 20:00:00  \n",
      "7400003 0 days 20:30:00 2024-01-03 20:30:00  \n",
      "7400004 0 days 21:00:00 2024-01-03 21:00:00  \n",
      "1-itemsets done!\n",
      "2-itemsets done!\n",
      "No new candidates generated. Stopping at 2-itemsets\n"
     ]
    },
    {
     "name": "stderr",
     "output_type": "stream",
     "text": [
      "100%|████████████████████████████████████████████████████████████████████████████████| 274/274 [00:09<00:00, 28.70it/s]\n",
      "C:\\Users\\ASUS\\anaconda3\\Lib\\site-packages\\trackintel\\preprocessing\\positionfixes.py:361: FutureWarning: Downcasting object dtype arrays on .fillna, .ffill, .bfill is deprecated and will change in a future version. Call result.infer_objects(copy=False) instead. To opt-in to the future behavior, set `pd.set_option('future.no_silent_downcasting', True)`\n",
      "  pfs[\"tripleg_id\"] = pfs[\"tripleg_id\"].ffill()\n",
      "C:\\Users\\ASUS\\anaconda3\\Lib\\site-packages\\trackintel\\preprocessing\\positionfixes.py:440: FutureWarning: Downcasting object dtype arrays on .fillna, .ffill, .bfill is deprecated and will change in a future version. Call result.infer_objects(copy=False) instead. To opt-in to the future behavior, set `pd.set_option('future.no_silent_downcasting', True)`\n",
      "  cond_overlap_end = cond_overlap & ~cond_temporal_gap.shift(-1).fillna(False) & pd.isna(pfs[\"tripleg_id\"])\n",
      "C:\\Users\\ASUS\\anaconda3\\Lib\\site-packages\\trackintel\\preprocessing\\positionfixes.py:573: UserWarning: The positionfixes with ids [7500045 7500046 7500047 ... 7599874 7599875 7599876] lead to invalid tripleg geometries. The resulting triplegs were omitted and the tripleg id of the positionfixes was set to nan\n",
      "  warnings.warn(warn_string)\n"
     ]
    },
    {
     "name": "stdout",
     "output_type": "stream",
     "text": [
      "           uid   d   t    x    y                 geometry       date  \\\n",
      "7500000  18633  13  31  161  183  POINT (161.000 183.000) 2024-01-14   \n",
      "7500001  18633  13  32  162  176  POINT (162.000 176.000) 2024-01-14   \n",
      "7500002  18633  13  33  161  170  POINT (161.000 170.000) 2024-01-14   \n",
      "7500003  18633  13  34  161  171  POINT (161.000 171.000) 2024-01-14   \n",
      "7500004  18633  13  35  161  170  POINT (161.000 170.000) 2024-01-14   \n",
      "\n",
      "                   time            datetime  \n",
      "7500000 0 days 15:30:00 2024-01-14 15:30:00  \n",
      "7500001 0 days 16:00:00 2024-01-14 16:00:00  \n",
      "7500002 0 days 16:30:00 2024-01-14 16:30:00  \n",
      "7500003 0 days 17:00:00 2024-01-14 17:00:00  \n",
      "7500004 0 days 17:30:00 2024-01-14 17:30:00  \n",
      "1-itemsets done!\n",
      "2-itemsets done!\n"
     ]
    },
    {
     "name": "stderr",
     "output_type": "stream",
     "text": [
      "100%|████████████████████████████████████████████████████████████████████████████████| 284/284 [00:09<00:00, 30.66it/s]\n",
      "C:\\Users\\ASUS\\anaconda3\\Lib\\site-packages\\trackintel\\preprocessing\\positionfixes.py:361: FutureWarning: Downcasting object dtype arrays on .fillna, .ffill, .bfill is deprecated and will change in a future version. Call result.infer_objects(copy=False) instead. To opt-in to the future behavior, set `pd.set_option('future.no_silent_downcasting', True)`\n",
      "  pfs[\"tripleg_id\"] = pfs[\"tripleg_id\"].ffill()\n",
      "C:\\Users\\ASUS\\anaconda3\\Lib\\site-packages\\trackintel\\preprocessing\\positionfixes.py:440: FutureWarning: Downcasting object dtype arrays on .fillna, .ffill, .bfill is deprecated and will change in a future version. Call result.infer_objects(copy=False) instead. To opt-in to the future behavior, set `pd.set_option('future.no_silent_downcasting', True)`\n",
      "  cond_overlap_end = cond_overlap & ~cond_temporal_gap.shift(-1).fillna(False) & pd.isna(pfs[\"tripleg_id\"])\n",
      "C:\\Users\\ASUS\\anaconda3\\Lib\\site-packages\\trackintel\\preprocessing\\positionfixes.py:573: UserWarning: The positionfixes with ids [7600093 7600094 7600129 ... 7699787 7699909 7699910] lead to invalid tripleg geometries. The resulting triplegs were omitted and the tripleg id of the positionfixes was set to nan\n",
      "  warnings.warn(warn_string)\n"
     ]
    },
    {
     "name": "stdout",
     "output_type": "stream",
     "text": [
      "           uid   d   t   x   y               geometry       date  \\\n",
      "7600000  18906  15  33  90  94  POINT (90.000 94.000) 2024-01-16   \n",
      "7600001  18906  15  34  90  94  POINT (90.000 94.000) 2024-01-16   \n",
      "7600002  18906  15  35  85  93  POINT (85.000 93.000) 2024-01-16   \n",
      "7600003  18906  15  38  87  93  POINT (87.000 93.000) 2024-01-16   \n",
      "7600004  18906  15  39  88  93  POINT (88.000 93.000) 2024-01-16   \n",
      "\n",
      "                   time            datetime  \n",
      "7600000 0 days 16:30:00 2024-01-16 16:30:00  \n",
      "7600001 0 days 17:00:00 2024-01-16 17:00:00  \n",
      "7600002 0 days 17:30:00 2024-01-16 17:30:00  \n",
      "7600003 0 days 19:00:00 2024-01-16 19:00:00  \n",
      "7600004 0 days 19:30:00 2024-01-16 19:30:00  \n",
      "1-itemsets done!\n",
      "2-itemsets done!\n"
     ]
    },
    {
     "name": "stderr",
     "output_type": "stream",
     "text": [
      "100%|████████████████████████████████████████████████████████████████████████████████| 292/292 [00:08<00:00, 33.16it/s]\n",
      "C:\\Users\\ASUS\\anaconda3\\Lib\\site-packages\\trackintel\\preprocessing\\positionfixes.py:361: FutureWarning: Downcasting object dtype arrays on .fillna, .ffill, .bfill is deprecated and will change in a future version. Call result.infer_objects(copy=False) instead. To opt-in to the future behavior, set `pd.set_option('future.no_silent_downcasting', True)`\n",
      "  pfs[\"tripleg_id\"] = pfs[\"tripleg_id\"].ffill()\n",
      "C:\\Users\\ASUS\\anaconda3\\Lib\\site-packages\\trackintel\\preprocessing\\positionfixes.py:440: FutureWarning: Downcasting object dtype arrays on .fillna, .ffill, .bfill is deprecated and will change in a future version. Call result.infer_objects(copy=False) instead. To opt-in to the future behavior, set `pd.set_option('future.no_silent_downcasting', True)`\n",
      "  cond_overlap_end = cond_overlap & ~cond_temporal_gap.shift(-1).fillna(False) & pd.isna(pfs[\"tripleg_id\"])\n",
      "C:\\Users\\ASUS\\anaconda3\\Lib\\site-packages\\trackintel\\preprocessing\\positionfixes.py:573: UserWarning: The positionfixes with ids [7700033 7700034 7700120 ... 7799982 7799991 7799992] lead to invalid tripleg geometries. The resulting triplegs were omitted and the tripleg id of the positionfixes was set to nan\n",
      "  warnings.warn(warn_string)\n"
     ]
    },
    {
     "name": "stdout",
     "output_type": "stream",
     "text": [
      "           uid   d   t   x   y               geometry       date  \\\n",
      "7700000  19192  25  14  44  45  POINT (44.000 45.000) 2024-01-26   \n",
      "7700001  19192  25  15  45  44  POINT (45.000 44.000) 2024-01-26   \n",
      "7700002  19192  25  16  44  44  POINT (44.000 44.000) 2024-01-26   \n",
      "7700003  19192  25  17  45  45  POINT (45.000 45.000) 2024-01-26   \n",
      "7700004  19192  25  24  44  45  POINT (44.000 45.000) 2024-01-26   \n",
      "\n",
      "                   time            datetime  \n",
      "7700000 0 days 07:00:00 2024-01-26 07:00:00  \n",
      "7700001 0 days 07:30:00 2024-01-26 07:30:00  \n",
      "7700002 0 days 08:00:00 2024-01-26 08:00:00  \n",
      "7700003 0 days 08:30:00 2024-01-26 08:30:00  \n",
      "7700004 0 days 12:00:00 2024-01-26 12:00:00  \n",
      "1-itemsets done!\n",
      "2-itemsets done!\n"
     ]
    },
    {
     "name": "stderr",
     "output_type": "stream",
     "text": [
      "100%|████████████████████████████████████████████████████████████████████████████████| 277/277 [00:08<00:00, 31.72it/s]\n",
      "C:\\Users\\ASUS\\anaconda3\\Lib\\site-packages\\trackintel\\preprocessing\\positionfixes.py:361: FutureWarning: Downcasting object dtype arrays on .fillna, .ffill, .bfill is deprecated and will change in a future version. Call result.infer_objects(copy=False) instead. To opt-in to the future behavior, set `pd.set_option('future.no_silent_downcasting', True)`\n",
      "  pfs[\"tripleg_id\"] = pfs[\"tripleg_id\"].ffill()\n",
      "C:\\Users\\ASUS\\anaconda3\\Lib\\site-packages\\trackintel\\preprocessing\\positionfixes.py:440: FutureWarning: Downcasting object dtype arrays on .fillna, .ffill, .bfill is deprecated and will change in a future version. Call result.infer_objects(copy=False) instead. To opt-in to the future behavior, set `pd.set_option('future.no_silent_downcasting', True)`\n",
      "  cond_overlap_end = cond_overlap & ~cond_temporal_gap.shift(-1).fillna(False) & pd.isna(pfs[\"tripleg_id\"])\n",
      "C:\\Users\\ASUS\\anaconda3\\Lib\\site-packages\\trackintel\\preprocessing\\positionfixes.py:573: UserWarning: The positionfixes with ids [7800033 7800034 7800057 ... 7899968 7899981 7899982] lead to invalid tripleg geometries. The resulting triplegs were omitted and the tripleg id of the positionfixes was set to nan\n",
      "  warnings.warn(warn_string)\n"
     ]
    },
    {
     "name": "stdout",
     "output_type": "stream",
     "text": [
      "           uid   d   t   x    y                geometry       date  \\\n",
      "7800000  19483   9  41  81   99   POINT (81.000 99.000) 2024-01-10   \n",
      "7800001  19483  10  10  82   99   POINT (82.000 99.000) 2024-01-11   \n",
      "7800002  19483  10  11  83  102  POINT (83.000 102.000) 2024-01-11   \n",
      "7800003  19483  10  13  87  107  POINT (87.000 107.000) 2024-01-11   \n",
      "7800004  19483  10  14  88  107  POINT (88.000 107.000) 2024-01-11   \n",
      "\n",
      "                   time            datetime  \n",
      "7800000 0 days 20:30:00 2024-01-10 20:30:00  \n",
      "7800001 0 days 05:00:00 2024-01-11 05:00:00  \n",
      "7800002 0 days 05:30:00 2024-01-11 05:30:00  \n",
      "7800003 0 days 06:30:00 2024-01-11 06:30:00  \n",
      "7800004 0 days 07:00:00 2024-01-11 07:00:00  \n",
      "1-itemsets done!\n",
      "2-itemsets done!\n",
      "No new candidates generated. Stopping at 2-itemsets\n"
     ]
    },
    {
     "name": "stderr",
     "output_type": "stream",
     "text": [
      "100%|████████████████████████████████████████████████████████████████████████████████| 276/276 [00:08<00:00, 31.23it/s]\n",
      "C:\\Users\\ASUS\\anaconda3\\Lib\\site-packages\\trackintel\\preprocessing\\positionfixes.py:361: FutureWarning: Downcasting object dtype arrays on .fillna, .ffill, .bfill is deprecated and will change in a future version. Call result.infer_objects(copy=False) instead. To opt-in to the future behavior, set `pd.set_option('future.no_silent_downcasting', True)`\n",
      "  pfs[\"tripleg_id\"] = pfs[\"tripleg_id\"].ffill()\n",
      "C:\\Users\\ASUS\\anaconda3\\Lib\\site-packages\\trackintel\\preprocessing\\positionfixes.py:440: FutureWarning: Downcasting object dtype arrays on .fillna, .ffill, .bfill is deprecated and will change in a future version. Call result.infer_objects(copy=False) instead. To opt-in to the future behavior, set `pd.set_option('future.no_silent_downcasting', True)`\n",
      "  cond_overlap_end = cond_overlap & ~cond_temporal_gap.shift(-1).fillna(False) & pd.isna(pfs[\"tripleg_id\"])\n",
      "C:\\Users\\ASUS\\anaconda3\\Lib\\site-packages\\trackintel\\preprocessing\\positionfixes.py:573: UserWarning: The positionfixes with ids [7900027 7900028 7900063 ... 7999969 7999992 7999993] lead to invalid tripleg geometries. The resulting triplegs were omitted and the tripleg id of the positionfixes was set to nan\n",
      "  warnings.warn(warn_string)\n"
     ]
    },
    {
     "name": "stdout",
     "output_type": "stream",
     "text": [
      "           uid   d   t   x   y               geometry       date  \\\n",
      "7900000  19760  19  38  81  94  POINT (81.000 94.000) 2024-01-20   \n",
      "7900001  19760  19  39  82  93  POINT (82.000 93.000) 2024-01-20   \n",
      "7900002  19760  19  40  82  94  POINT (82.000 94.000) 2024-01-20   \n",
      "7900003  19760  19  41  81  94  POINT (81.000 94.000) 2024-01-20   \n",
      "7900004  19760  19  42  82  93  POINT (82.000 93.000) 2024-01-20   \n",
      "\n",
      "                   time            datetime  \n",
      "7900000 0 days 19:00:00 2024-01-20 19:00:00  \n",
      "7900001 0 days 19:30:00 2024-01-20 19:30:00  \n",
      "7900002 0 days 20:00:00 2024-01-20 20:00:00  \n",
      "7900003 0 days 20:30:00 2024-01-20 20:30:00  \n",
      "7900004 0 days 21:00:00 2024-01-20 21:00:00  \n",
      "1-itemsets done!\n",
      "2-itemsets done!\n"
     ]
    },
    {
     "name": "stderr",
     "output_type": "stream",
     "text": [
      "100%|████████████████████████████████████████████████████████████████████████████████| 287/287 [00:08<00:00, 32.61it/s]\n",
      "C:\\Users\\ASUS\\anaconda3\\Lib\\site-packages\\trackintel\\preprocessing\\positionfixes.py:361: FutureWarning: Downcasting object dtype arrays on .fillna, .ffill, .bfill is deprecated and will change in a future version. Call result.infer_objects(copy=False) instead. To opt-in to the future behavior, set `pd.set_option('future.no_silent_downcasting', True)`\n",
      "  pfs[\"tripleg_id\"] = pfs[\"tripleg_id\"].ffill()\n",
      "C:\\Users\\ASUS\\anaconda3\\Lib\\site-packages\\trackintel\\preprocessing\\positionfixes.py:440: FutureWarning: Downcasting object dtype arrays on .fillna, .ffill, .bfill is deprecated and will change in a future version. Call result.infer_objects(copy=False) instead. To opt-in to the future behavior, set `pd.set_option('future.no_silent_downcasting', True)`\n",
      "  cond_overlap_end = cond_overlap & ~cond_temporal_gap.shift(-1).fillna(False) & pd.isna(pfs[\"tripleg_id\"])\n",
      "C:\\Users\\ASUS\\anaconda3\\Lib\\site-packages\\trackintel\\preprocessing\\positionfixes.py:573: UserWarning: The positionfixes with ids [8000026 8000027 8000034 ... 8099886 8099908 8099909] lead to invalid tripleg geometries. The resulting triplegs were omitted and the tripleg id of the positionfixes was set to nan\n",
      "  warnings.warn(warn_string)\n"
     ]
    },
    {
     "name": "stdout",
     "output_type": "stream",
     "text": [
      "           uid   d   t   x    y                geometry       date  \\\n",
      "8000000  20037  11  41  75   91   POINT (75.000 91.000) 2024-01-12   \n",
      "8000001  20037  12  11  77   92   POINT (77.000 92.000) 2024-01-13   \n",
      "8000002  20037  12  12  78   92   POINT (78.000 92.000) 2024-01-13   \n",
      "8000003  20037  12  13  77   90   POINT (77.000 90.000) 2024-01-13   \n",
      "8000004  20037  12  14  97  100  POINT (97.000 100.000) 2024-01-13   \n",
      "\n",
      "                   time            datetime  \n",
      "8000000 0 days 20:30:00 2024-01-12 20:30:00  \n",
      "8000001 0 days 05:30:00 2024-01-13 05:30:00  \n",
      "8000002 0 days 06:00:00 2024-01-13 06:00:00  \n",
      "8000003 0 days 06:30:00 2024-01-13 06:30:00  \n",
      "8000004 0 days 07:00:00 2024-01-13 07:00:00  \n",
      "1-itemsets done!\n",
      "2-itemsets done!\n",
      "No new candidates generated. Stopping at 2-itemsets\n"
     ]
    },
    {
     "name": "stderr",
     "output_type": "stream",
     "text": [
      "100%|████████████████████████████████████████████████████████████████████████████████| 280/280 [00:09<00:00, 30.84it/s]\n",
      "C:\\Users\\ASUS\\anaconda3\\Lib\\site-packages\\trackintel\\preprocessing\\positionfixes.py:361: FutureWarning: Downcasting object dtype arrays on .fillna, .ffill, .bfill is deprecated and will change in a future version. Call result.infer_objects(copy=False) instead. To opt-in to the future behavior, set `pd.set_option('future.no_silent_downcasting', True)`\n",
      "  pfs[\"tripleg_id\"] = pfs[\"tripleg_id\"].ffill()\n",
      "C:\\Users\\ASUS\\anaconda3\\Lib\\site-packages\\trackintel\\preprocessing\\positionfixes.py:440: FutureWarning: Downcasting object dtype arrays on .fillna, .ffill, .bfill is deprecated and will change in a future version. Call result.infer_objects(copy=False) instead. To opt-in to the future behavior, set `pd.set_option('future.no_silent_downcasting', True)`\n",
      "  cond_overlap_end = cond_overlap & ~cond_temporal_gap.shift(-1).fillna(False) & pd.isna(pfs[\"tripleg_id\"])\n",
      "C:\\Users\\ASUS\\anaconda3\\Lib\\site-packages\\trackintel\\preprocessing\\positionfixes.py:573: UserWarning: The positionfixes with ids [8100043 8100044 8100191 ... 8199938 8199984 8199985] lead to invalid tripleg geometries. The resulting triplegs were omitted and the tripleg id of the positionfixes was set to nan\n",
      "  warnings.warn(warn_string)\n"
     ]
    },
    {
     "name": "stdout",
     "output_type": "stream",
     "text": [
      "           uid   d   t   x   y               geometry       date  \\\n",
      "8100000  20323  25  26  86  94  POINT (86.000 94.000) 2024-01-26   \n",
      "8100001  20323  25  27  89  99  POINT (89.000 99.000) 2024-01-26   \n",
      "8100002  20323  25  29  95  98  POINT (95.000 98.000) 2024-01-26   \n",
      "8100003  20323  26  18  88  94  POINT (88.000 94.000) 2024-01-27   \n",
      "8100004  20323  26  20  86  92  POINT (86.000 92.000) 2024-01-27   \n",
      "\n",
      "                   time            datetime  \n",
      "8100000 0 days 13:00:00 2024-01-26 13:00:00  \n",
      "8100001 0 days 13:30:00 2024-01-26 13:30:00  \n",
      "8100002 0 days 14:30:00 2024-01-26 14:30:00  \n",
      "8100003 0 days 09:00:00 2024-01-27 09:00:00  \n",
      "8100004 0 days 10:00:00 2024-01-27 10:00:00  \n",
      "1-itemsets done!\n",
      "2-itemsets done!\n",
      "No new candidates generated. Stopping at 2-itemsets\n"
     ]
    },
    {
     "name": "stderr",
     "output_type": "stream",
     "text": [
      "100%|████████████████████████████████████████████████████████████████████████████████| 285/285 [00:08<00:00, 31.71it/s]\n",
      "C:\\Users\\ASUS\\anaconda3\\Lib\\site-packages\\trackintel\\preprocessing\\positionfixes.py:361: FutureWarning: Downcasting object dtype arrays on .fillna, .ffill, .bfill is deprecated and will change in a future version. Call result.infer_objects(copy=False) instead. To opt-in to the future behavior, set `pd.set_option('future.no_silent_downcasting', True)`\n",
      "  pfs[\"tripleg_id\"] = pfs[\"tripleg_id\"].ffill()\n",
      "C:\\Users\\ASUS\\anaconda3\\Lib\\site-packages\\trackintel\\preprocessing\\positionfixes.py:440: FutureWarning: Downcasting object dtype arrays on .fillna, .ffill, .bfill is deprecated and will change in a future version. Call result.infer_objects(copy=False) instead. To opt-in to the future behavior, set `pd.set_option('future.no_silent_downcasting', True)`\n",
      "  cond_overlap_end = cond_overlap & ~cond_temporal_gap.shift(-1).fillna(False) & pd.isna(pfs[\"tripleg_id\"])\n",
      "C:\\Users\\ASUS\\anaconda3\\Lib\\site-packages\\trackintel\\preprocessing\\positionfixes.py:573: UserWarning: The positionfixes with ids [8200285 8200286 8200511 ... 8299933 8299960 8299961] lead to invalid tripleg geometries. The resulting triplegs were omitted and the tripleg id of the positionfixes was set to nan\n",
      "  warnings.warn(warn_string)\n"
     ]
    },
    {
     "name": "stdout",
     "output_type": "stream",
     "text": [
      "           uid   d   t   x    y                geometry       date  \\\n",
      "8200000  20602  23  10  45  110  POINT (45.000 110.000) 2024-01-24   \n",
      "8200001  20602  23  15  45  109  POINT (45.000 109.000) 2024-01-24   \n",
      "8200002  20602  23  16  69  104  POINT (69.000 104.000) 2024-01-24   \n",
      "8200003  20602  23  17  45  108  POINT (45.000 108.000) 2024-01-24   \n",
      "8200004  20602  23  18  44  109  POINT (44.000 109.000) 2024-01-24   \n",
      "\n",
      "                   time            datetime  \n",
      "8200000 0 days 05:00:00 2024-01-24 05:00:00  \n",
      "8200001 0 days 07:30:00 2024-01-24 07:30:00  \n",
      "8200002 0 days 08:00:00 2024-01-24 08:00:00  \n",
      "8200003 0 days 08:30:00 2024-01-24 08:30:00  \n",
      "8200004 0 days 09:00:00 2024-01-24 09:00:00  \n",
      "1-itemsets done!\n",
      "2-itemsets done!\n"
     ]
    },
    {
     "name": "stderr",
     "output_type": "stream",
     "text": [
      "100%|████████████████████████████████████████████████████████████████████████████████| 296/296 [00:08<00:00, 33.72it/s]\n",
      "C:\\Users\\ASUS\\anaconda3\\Lib\\site-packages\\trackintel\\preprocessing\\positionfixes.py:361: FutureWarning: Downcasting object dtype arrays on .fillna, .ffill, .bfill is deprecated and will change in a future version. Call result.infer_objects(copy=False) instead. To opt-in to the future behavior, set `pd.set_option('future.no_silent_downcasting', True)`\n",
      "  pfs[\"tripleg_id\"] = pfs[\"tripleg_id\"].ffill()\n",
      "C:\\Users\\ASUS\\anaconda3\\Lib\\site-packages\\trackintel\\preprocessing\\positionfixes.py:440: FutureWarning: Downcasting object dtype arrays on .fillna, .ffill, .bfill is deprecated and will change in a future version. Call result.infer_objects(copy=False) instead. To opt-in to the future behavior, set `pd.set_option('future.no_silent_downcasting', True)`\n",
      "  cond_overlap_end = cond_overlap & ~cond_temporal_gap.shift(-1).fillna(False) & pd.isna(pfs[\"tripleg_id\"])\n",
      "C:\\Users\\ASUS\\anaconda3\\Lib\\site-packages\\trackintel\\preprocessing\\positionfixes.py:573: UserWarning: The positionfixes with ids [8300097 8300098 8300159 ... 8399888 8399906 8399907] lead to invalid tripleg geometries. The resulting triplegs were omitted and the tripleg id of the positionfixes was set to nan\n",
      "  warnings.warn(warn_string)\n"
     ]
    },
    {
     "name": "stdout",
     "output_type": "stream",
     "text": [
      "           uid  d   t   x   y               geometry       date  \\\n",
      "8300000  20887  1   9  42  44  POINT (42.000 44.000) 2024-01-02   \n",
      "8300001  20887  1  10  42  44  POINT (42.000 44.000) 2024-01-02   \n",
      "8300002  20887  1  11  43  44  POINT (43.000 44.000) 2024-01-02   \n",
      "8300003  20887  1  12  41  43  POINT (41.000 43.000) 2024-01-02   \n",
      "8300004  20887  1  13  41  43  POINT (41.000 43.000) 2024-01-02   \n",
      "\n",
      "                   time            datetime  \n",
      "8300000 0 days 04:30:00 2024-01-02 04:30:00  \n",
      "8300001 0 days 05:00:00 2024-01-02 05:00:00  \n",
      "8300002 0 days 05:30:00 2024-01-02 05:30:00  \n",
      "8300003 0 days 06:00:00 2024-01-02 06:00:00  \n",
      "8300004 0 days 06:30:00 2024-01-02 06:30:00  \n",
      "1-itemsets done!\n",
      "2-itemsets done!\n"
     ]
    },
    {
     "name": "stderr",
     "output_type": "stream",
     "text": [
      "100%|████████████████████████████████████████████████████████████████████████████████| 275/275 [00:09<00:00, 30.53it/s]\n",
      "C:\\Users\\ASUS\\anaconda3\\Lib\\site-packages\\trackintel\\preprocessing\\positionfixes.py:361: FutureWarning: Downcasting object dtype arrays on .fillna, .ffill, .bfill is deprecated and will change in a future version. Call result.infer_objects(copy=False) instead. To opt-in to the future behavior, set `pd.set_option('future.no_silent_downcasting', True)`\n",
      "  pfs[\"tripleg_id\"] = pfs[\"tripleg_id\"].ffill()\n",
      "C:\\Users\\ASUS\\anaconda3\\Lib\\site-packages\\trackintel\\preprocessing\\positionfixes.py:440: FutureWarning: Downcasting object dtype arrays on .fillna, .ffill, .bfill is deprecated and will change in a future version. Call result.infer_objects(copy=False) instead. To opt-in to the future behavior, set `pd.set_option('future.no_silent_downcasting', True)`\n",
      "  cond_overlap_end = cond_overlap & ~cond_temporal_gap.shift(-1).fillna(False) & pd.isna(pfs[\"tripleg_id\"])\n",
      "C:\\Users\\ASUS\\anaconda3\\Lib\\site-packages\\trackintel\\preprocessing\\positionfixes.py:573: UserWarning: The positionfixes with ids [8400017 8400018 8400084 ... 8499759 8499857 8499858] lead to invalid tripleg geometries. The resulting triplegs were omitted and the tripleg id of the positionfixes was set to nan\n",
      "  warnings.warn(warn_string)\n"
     ]
    },
    {
     "name": "stdout",
     "output_type": "stream",
     "text": [
      "           uid   d   t   x   y               geometry       date  \\\n",
      "8400000  21183  10  34  38  95  POINT (38.000 95.000) 2024-01-11   \n",
      "8400001  21183  10  35  35  93  POINT (35.000 93.000) 2024-01-11   \n",
      "8400002  21183  10  36  38  95  POINT (38.000 95.000) 2024-01-11   \n",
      "8400003  21183  10  44  42  95  POINT (42.000 95.000) 2024-01-11   \n",
      "8400004  21183  11  15  40  95  POINT (40.000 95.000) 2024-01-12   \n",
      "\n",
      "                   time            datetime  \n",
      "8400000 0 days 17:00:00 2024-01-11 17:00:00  \n",
      "8400001 0 days 17:30:00 2024-01-11 17:30:00  \n",
      "8400002 0 days 18:00:00 2024-01-11 18:00:00  \n",
      "8400003 0 days 22:00:00 2024-01-11 22:00:00  \n",
      "8400004 0 days 07:30:00 2024-01-12 07:30:00  \n",
      "1-itemsets done!\n",
      "2-itemsets done!\n",
      "No new candidates generated. Stopping at 2-itemsets\n"
     ]
    },
    {
     "name": "stderr",
     "output_type": "stream",
     "text": [
      "100%|████████████████████████████████████████████████████████████████████████████████| 299/299 [00:08<00:00, 34.44it/s]\n",
      "C:\\Users\\ASUS\\anaconda3\\Lib\\site-packages\\trackintel\\preprocessing\\positionfixes.py:361: FutureWarning: Downcasting object dtype arrays on .fillna, .ffill, .bfill is deprecated and will change in a future version. Call result.infer_objects(copy=False) instead. To opt-in to the future behavior, set `pd.set_option('future.no_silent_downcasting', True)`\n",
      "  pfs[\"tripleg_id\"] = pfs[\"tripleg_id\"].ffill()\n",
      "C:\\Users\\ASUS\\anaconda3\\Lib\\site-packages\\trackintel\\preprocessing\\positionfixes.py:440: FutureWarning: Downcasting object dtype arrays on .fillna, .ffill, .bfill is deprecated and will change in a future version. Call result.infer_objects(copy=False) instead. To opt-in to the future behavior, set `pd.set_option('future.no_silent_downcasting', True)`\n",
      "  cond_overlap_end = cond_overlap & ~cond_temporal_gap.shift(-1).fillna(False) & pd.isna(pfs[\"tripleg_id\"])\n",
      "C:\\Users\\ASUS\\anaconda3\\Lib\\site-packages\\trackintel\\preprocessing\\positionfixes.py:573: UserWarning: The positionfixes with ids [8500482 8500483 8500599 ... 8599971 8599994 8599995] lead to invalid tripleg geometries. The resulting triplegs were omitted and the tripleg id of the positionfixes was set to nan\n",
      "  warnings.warn(warn_string)\n"
     ]
    },
    {
     "name": "stdout",
     "output_type": "stream",
     "text": [
      "           uid  d   t   x   y               geometry       date  \\\n",
      "8500000  21457  4  46  82  79  POINT (82.000 79.000) 2024-01-05   \n",
      "8500001  21457  4  47  77  92  POINT (77.000 92.000) 2024-01-05   \n",
      "8500002  21457  5   0  72  99  POINT (72.000 99.000) 2024-01-06   \n",
      "8500003  21457  5   3  76  82  POINT (76.000 82.000) 2024-01-06   \n",
      "8500004  21457  5   4  82  80  POINT (82.000 80.000) 2024-01-06   \n",
      "\n",
      "                   time            datetime  \n",
      "8500000 0 days 23:00:00 2024-01-05 23:00:00  \n",
      "8500001 0 days 23:30:00 2024-01-05 23:30:00  \n",
      "8500002 0 days 00:00:00 2024-01-06 00:00:00  \n",
      "8500003 0 days 01:30:00 2024-01-06 01:30:00  \n",
      "8500004 0 days 02:00:00 2024-01-06 02:00:00  \n",
      "1-itemsets done!\n",
      "2-itemsets done!\n",
      "No new candidates generated. Stopping at 2-itemsets\n"
     ]
    },
    {
     "name": "stderr",
     "output_type": "stream",
     "text": [
      "100%|████████████████████████████████████████████████████████████████████████████████| 294/294 [00:08<00:00, 33.44it/s]\n",
      "C:\\Users\\ASUS\\anaconda3\\Lib\\site-packages\\trackintel\\preprocessing\\positionfixes.py:361: FutureWarning: Downcasting object dtype arrays on .fillna, .ffill, .bfill is deprecated and will change in a future version. Call result.infer_objects(copy=False) instead. To opt-in to the future behavior, set `pd.set_option('future.no_silent_downcasting', True)`\n",
      "  pfs[\"tripleg_id\"] = pfs[\"tripleg_id\"].ffill()\n",
      "C:\\Users\\ASUS\\anaconda3\\Lib\\site-packages\\trackintel\\preprocessing\\positionfixes.py:440: FutureWarning: Downcasting object dtype arrays on .fillna, .ffill, .bfill is deprecated and will change in a future version. Call result.infer_objects(copy=False) instead. To opt-in to the future behavior, set `pd.set_option('future.no_silent_downcasting', True)`\n",
      "  cond_overlap_end = cond_overlap & ~cond_temporal_gap.shift(-1).fillna(False) & pd.isna(pfs[\"tripleg_id\"])\n",
      "C:\\Users\\ASUS\\anaconda3\\Lib\\site-packages\\trackintel\\preprocessing\\positionfixes.py:573: UserWarning: The positionfixes with ids [8600009 8600010 8600026 ... 8699993 8699994 8699995] lead to invalid tripleg geometries. The resulting triplegs were omitted and the tripleg id of the positionfixes was set to nan\n",
      "  warnings.warn(warn_string)\n"
     ]
    },
    {
     "name": "stdout",
     "output_type": "stream",
     "text": [
      "           uid  d   t   x   y               geometry       date  \\\n",
      "8600000  21755  3  31  85  73  POINT (85.000 73.000) 2024-01-04   \n",
      "8600001  21755  3  32  83  72  POINT (83.000 72.000) 2024-01-04   \n",
      "8600002  21755  3  39  85  73  POINT (85.000 73.000) 2024-01-04   \n",
      "8600003  21755  3  46  85  73  POINT (85.000 73.000) 2024-01-04   \n",
      "8600004  21755  3  47  83  72  POINT (83.000 72.000) 2024-01-04   \n",
      "\n",
      "                   time            datetime  \n",
      "8600000 0 days 15:30:00 2024-01-04 15:30:00  \n",
      "8600001 0 days 16:00:00 2024-01-04 16:00:00  \n",
      "8600002 0 days 19:30:00 2024-01-04 19:30:00  \n",
      "8600003 0 days 23:00:00 2024-01-04 23:00:00  \n",
      "8600004 0 days 23:30:00 2024-01-04 23:30:00  \n",
      "1-itemsets done!\n",
      "2-itemsets done!\n",
      "No new candidates generated. Stopping at 2-itemsets\n"
     ]
    },
    {
     "name": "stderr",
     "output_type": "stream",
     "text": [
      "100%|████████████████████████████████████████████████████████████████████████████████| 293/293 [00:09<00:00, 31.51it/s]\n",
      "C:\\Users\\ASUS\\anaconda3\\Lib\\site-packages\\trackintel\\preprocessing\\positionfixes.py:361: FutureWarning: Downcasting object dtype arrays on .fillna, .ffill, .bfill is deprecated and will change in a future version. Call result.infer_objects(copy=False) instead. To opt-in to the future behavior, set `pd.set_option('future.no_silent_downcasting', True)`\n",
      "  pfs[\"tripleg_id\"] = pfs[\"tripleg_id\"].ffill()\n",
      "C:\\Users\\ASUS\\anaconda3\\Lib\\site-packages\\trackintel\\preprocessing\\positionfixes.py:440: FutureWarning: Downcasting object dtype arrays on .fillna, .ffill, .bfill is deprecated and will change in a future version. Call result.infer_objects(copy=False) instead. To opt-in to the future behavior, set `pd.set_option('future.no_silent_downcasting', True)`\n",
      "  cond_overlap_end = cond_overlap & ~cond_temporal_gap.shift(-1).fillna(False) & pd.isna(pfs[\"tripleg_id\"])\n",
      "C:\\Users\\ASUS\\anaconda3\\Lib\\site-packages\\trackintel\\preprocessing\\positionfixes.py:573: UserWarning: The positionfixes with ids [8700014 8700015 8700016 ... 8799833 8799917 8799918] lead to invalid tripleg geometries. The resulting triplegs were omitted and the tripleg id of the positionfixes was set to nan\n",
      "  warnings.warn(warn_string)\n"
     ]
    },
    {
     "name": "stdout",
     "output_type": "stream",
     "text": [
      "           uid   d   t   x   y               geometry       date  \\\n",
      "8700000  22048  26  17  52  82  POINT (52.000 82.000) 2024-01-27   \n",
      "8700001  22048  26  18  51  82  POINT (51.000 82.000) 2024-01-27   \n",
      "8700002  22048  26  20  52  82  POINT (52.000 82.000) 2024-01-27   \n",
      "8700003  22048  26  23  48  94  POINT (48.000 94.000) 2024-01-27   \n",
      "8700004  22048  26  24  35  94  POINT (35.000 94.000) 2024-01-27   \n",
      "\n",
      "                   time            datetime  \n",
      "8700000 0 days 08:30:00 2024-01-27 08:30:00  \n",
      "8700001 0 days 09:00:00 2024-01-27 09:00:00  \n",
      "8700002 0 days 10:00:00 2024-01-27 10:00:00  \n",
      "8700003 0 days 11:30:00 2024-01-27 11:30:00  \n",
      "8700004 0 days 12:00:00 2024-01-27 12:00:00  \n",
      "1-itemsets done!\n",
      "2-itemsets done!\n",
      "No new candidates generated. Stopping at 2-itemsets\n"
     ]
    },
    {
     "name": "stderr",
     "output_type": "stream",
     "text": [
      "100%|████████████████████████████████████████████████████████████████████████████████| 290/290 [00:08<00:00, 33.14it/s]\n",
      "C:\\Users\\ASUS\\anaconda3\\Lib\\site-packages\\trackintel\\preprocessing\\positionfixes.py:361: FutureWarning: Downcasting object dtype arrays on .fillna, .ffill, .bfill is deprecated and will change in a future version. Call result.infer_objects(copy=False) instead. To opt-in to the future behavior, set `pd.set_option('future.no_silent_downcasting', True)`\n",
      "  pfs[\"tripleg_id\"] = pfs[\"tripleg_id\"].ffill()\n",
      "C:\\Users\\ASUS\\anaconda3\\Lib\\site-packages\\trackintel\\preprocessing\\positionfixes.py:440: FutureWarning: Downcasting object dtype arrays on .fillna, .ffill, .bfill is deprecated and will change in a future version. Call result.infer_objects(copy=False) instead. To opt-in to the future behavior, set `pd.set_option('future.no_silent_downcasting', True)`\n",
      "  cond_overlap_end = cond_overlap & ~cond_temporal_gap.shift(-1).fillna(False) & pd.isna(pfs[\"tripleg_id\"])\n",
      "C:\\Users\\ASUS\\anaconda3\\Lib\\site-packages\\trackintel\\preprocessing\\positionfixes.py:573: UserWarning: The positionfixes with ids [8800029 8800030 8800309 ... 8899894 8899995 8899996] lead to invalid tripleg geometries. The resulting triplegs were omitted and the tripleg id of the positionfixes was set to nan\n",
      "  warnings.warn(warn_string)\n"
     ]
    },
    {
     "name": "stdout",
     "output_type": "stream",
     "text": [
      "           uid   d   t   x   y               geometry       date  \\\n",
      "8800000  22340  22  31  85  80  POINT (85.000 80.000) 2024-01-23   \n",
      "8800001  22340  22  35  84  81  POINT (84.000 81.000) 2024-01-23   \n",
      "8800002  22340  22  36  82  76  POINT (82.000 76.000) 2024-01-23   \n",
      "8800003  22340  22  37  64  61  POINT (64.000 61.000) 2024-01-23   \n",
      "8800004  22340  23  18  70  64  POINT (70.000 64.000) 2024-01-24   \n",
      "\n",
      "                   time            datetime  \n",
      "8800000 0 days 15:30:00 2024-01-23 15:30:00  \n",
      "8800001 0 days 17:30:00 2024-01-23 17:30:00  \n",
      "8800002 0 days 18:00:00 2024-01-23 18:00:00  \n",
      "8800003 0 days 18:30:00 2024-01-23 18:30:00  \n",
      "8800004 0 days 09:00:00 2024-01-24 09:00:00  \n",
      "1-itemsets done!\n",
      "2-itemsets done!\n"
     ]
    },
    {
     "name": "stderr",
     "output_type": "stream",
     "text": [
      "100%|████████████████████████████████████████████████████████████████████████████████| 291/291 [00:08<00:00, 33.58it/s]\n",
      "C:\\Users\\ASUS\\anaconda3\\Lib\\site-packages\\trackintel\\preprocessing\\positionfixes.py:361: FutureWarning: Downcasting object dtype arrays on .fillna, .ffill, .bfill is deprecated and will change in a future version. Call result.infer_objects(copy=False) instead. To opt-in to the future behavior, set `pd.set_option('future.no_silent_downcasting', True)`\n",
      "  pfs[\"tripleg_id\"] = pfs[\"tripleg_id\"].ffill()\n",
      "C:\\Users\\ASUS\\anaconda3\\Lib\\site-packages\\trackintel\\preprocessing\\positionfixes.py:440: FutureWarning: Downcasting object dtype arrays on .fillna, .ffill, .bfill is deprecated and will change in a future version. Call result.infer_objects(copy=False) instead. To opt-in to the future behavior, set `pd.set_option('future.no_silent_downcasting', True)`\n",
      "  cond_overlap_end = cond_overlap & ~cond_temporal_gap.shift(-1).fillna(False) & pd.isna(pfs[\"tripleg_id\"])\n",
      "C:\\Users\\ASUS\\anaconda3\\Lib\\site-packages\\trackintel\\preprocessing\\positionfixes.py:573: UserWarning: The positionfixes with ids [8900001 8900002 8900003 ... 8999973 8999991 8999992] lead to invalid tripleg geometries. The resulting triplegs were omitted and the tripleg id of the positionfixes was set to nan\n",
      "  warnings.warn(warn_string)\n"
     ]
    },
    {
     "name": "stdout",
     "output_type": "stream",
     "text": [
      "           uid   d   t   x    y                geometry       date  \\\n",
      "8900000  22629  19  40  10  199  POINT (10.000 199.000) 2024-01-20   \n",
      "8900001  22629  20  18   9  196   POINT (9.000 196.000) 2024-01-21   \n",
      "8900002  22629  20  19   9  196   POINT (9.000 196.000) 2024-01-21   \n",
      "8900003  22629  20  20   9  196   POINT (9.000 196.000) 2024-01-21   \n",
      "8900004  22629  20  21   9  196   POINT (9.000 196.000) 2024-01-21   \n",
      "\n",
      "                   time            datetime  \n",
      "8900000 0 days 20:00:00 2024-01-20 20:00:00  \n",
      "8900001 0 days 09:00:00 2024-01-21 09:00:00  \n",
      "8900002 0 days 09:30:00 2024-01-21 09:30:00  \n",
      "8900003 0 days 10:00:00 2024-01-21 10:00:00  \n",
      "8900004 0 days 10:30:00 2024-01-21 10:30:00  \n",
      "1-itemsets done!\n",
      "2-itemsets done!\n",
      "No new candidates generated. Stopping at 2-itemsets\n"
     ]
    },
    {
     "name": "stderr",
     "output_type": "stream",
     "text": [
      "100%|████████████████████████████████████████████████████████████████████████████████| 294/294 [00:08<00:00, 34.41it/s]\n",
      "C:\\Users\\ASUS\\anaconda3\\Lib\\site-packages\\trackintel\\preprocessing\\positionfixes.py:361: FutureWarning: Downcasting object dtype arrays on .fillna, .ffill, .bfill is deprecated and will change in a future version. Call result.infer_objects(copy=False) instead. To opt-in to the future behavior, set `pd.set_option('future.no_silent_downcasting', True)`\n",
      "  pfs[\"tripleg_id\"] = pfs[\"tripleg_id\"].ffill()\n",
      "C:\\Users\\ASUS\\anaconda3\\Lib\\site-packages\\trackintel\\preprocessing\\positionfixes.py:440: FutureWarning: Downcasting object dtype arrays on .fillna, .ffill, .bfill is deprecated and will change in a future version. Call result.infer_objects(copy=False) instead. To opt-in to the future behavior, set `pd.set_option('future.no_silent_downcasting', True)`\n",
      "  cond_overlap_end = cond_overlap & ~cond_temporal_gap.shift(-1).fillna(False) & pd.isna(pfs[\"tripleg_id\"])\n",
      "C:\\Users\\ASUS\\anaconda3\\Lib\\site-packages\\trackintel\\preprocessing\\positionfixes.py:573: UserWarning: The positionfixes with ids [9000131 9000132 9000150 ... 9099970 9099973 9099974] lead to invalid tripleg geometries. The resulting triplegs were omitted and the tripleg id of the positionfixes was set to nan\n",
      "  warnings.warn(warn_string)\n"
     ]
    },
    {
     "name": "stdout",
     "output_type": "stream",
     "text": [
      "           uid   d   t   x   y               geometry       date  \\\n",
      "9000000  22919  10  24  80  96  POINT (80.000 96.000) 2024-01-11   \n",
      "9000001  22919  10  25  81  97  POINT (81.000 97.000) 2024-01-11   \n",
      "9000002  22919  10  32  80  95  POINT (80.000 95.000) 2024-01-11   \n",
      "9000003  22919  10  33  81  94  POINT (81.000 94.000) 2024-01-11   \n",
      "9000004  22919  10  44  81  97  POINT (81.000 97.000) 2024-01-11   \n",
      "\n",
      "                   time            datetime  \n",
      "9000000 0 days 12:00:00 2024-01-11 12:00:00  \n",
      "9000001 0 days 12:30:00 2024-01-11 12:30:00  \n",
      "9000002 0 days 16:00:00 2024-01-11 16:00:00  \n",
      "9000003 0 days 16:30:00 2024-01-11 16:30:00  \n",
      "9000004 0 days 22:00:00 2024-01-11 22:00:00  \n",
      "1-itemsets done!\n",
      "2-itemsets done!\n",
      "No new candidates generated. Stopping at 2-itemsets\n"
     ]
    },
    {
     "name": "stderr",
     "output_type": "stream",
     "text": [
      "100%|████████████████████████████████████████████████████████████████████████████████| 307/307 [00:08<00:00, 37.08it/s]\n",
      "C:\\Users\\ASUS\\anaconda3\\Lib\\site-packages\\trackintel\\preprocessing\\positionfixes.py:361: FutureWarning: Downcasting object dtype arrays on .fillna, .ffill, .bfill is deprecated and will change in a future version. Call result.infer_objects(copy=False) instead. To opt-in to the future behavior, set `pd.set_option('future.no_silent_downcasting', True)`\n",
      "  pfs[\"tripleg_id\"] = pfs[\"tripleg_id\"].ffill()\n",
      "C:\\Users\\ASUS\\anaconda3\\Lib\\site-packages\\trackintel\\preprocessing\\positionfixes.py:440: FutureWarning: Downcasting object dtype arrays on .fillna, .ffill, .bfill is deprecated and will change in a future version. Call result.infer_objects(copy=False) instead. To opt-in to the future behavior, set `pd.set_option('future.no_silent_downcasting', True)`\n",
      "  cond_overlap_end = cond_overlap & ~cond_temporal_gap.shift(-1).fillna(False) & pd.isna(pfs[\"tripleg_id\"])\n",
      "C:\\Users\\ASUS\\anaconda3\\Lib\\site-packages\\trackintel\\preprocessing\\positionfixes.py:573: UserWarning: The positionfixes with ids [9100262 9100263 9100552 ... 9199782 9199991 9199992] lead to invalid tripleg geometries. The resulting triplegs were omitted and the tripleg id of the positionfixes was set to nan\n",
      "  warnings.warn(warn_string)\n"
     ]
    },
    {
     "name": "stdout",
     "output_type": "stream",
     "text": [
      "           uid   d   t   x    y                geometry       date  \\\n",
      "9100000  23212  24  47  92  160  POINT (92.000 160.000) 2024-01-25   \n",
      "9100001  23212  25  13  92  160  POINT (92.000 160.000) 2024-01-26   \n",
      "9100002  23212  25  34  93  161  POINT (93.000 161.000) 2024-01-26   \n",
      "9100003  23212  25  35  93  160  POINT (93.000 160.000) 2024-01-26   \n",
      "9100004  23212  26  13  92  160  POINT (92.000 160.000) 2024-01-27   \n",
      "\n",
      "                   time            datetime  \n",
      "9100000 0 days 23:30:00 2024-01-25 23:30:00  \n",
      "9100001 0 days 06:30:00 2024-01-26 06:30:00  \n",
      "9100002 0 days 17:00:00 2024-01-26 17:00:00  \n",
      "9100003 0 days 17:30:00 2024-01-26 17:30:00  \n",
      "9100004 0 days 06:30:00 2024-01-27 06:30:00  \n",
      "1-itemsets done!\n",
      "2-itemsets done!\n",
      "No new candidates generated. Stopping at 2-itemsets\n"
     ]
    },
    {
     "name": "stderr",
     "output_type": "stream",
     "text": [
      "100%|████████████████████████████████████████████████████████████████████████████████| 315/315 [00:08<00:00, 37.87it/s]\n",
      "C:\\Users\\ASUS\\anaconda3\\Lib\\site-packages\\trackintel\\preprocessing\\positionfixes.py:361: FutureWarning: Downcasting object dtype arrays on .fillna, .ffill, .bfill is deprecated and will change in a future version. Call result.infer_objects(copy=False) instead. To opt-in to the future behavior, set `pd.set_option('future.no_silent_downcasting', True)`\n",
      "  pfs[\"tripleg_id\"] = pfs[\"tripleg_id\"].ffill()\n",
      "C:\\Users\\ASUS\\anaconda3\\Lib\\site-packages\\trackintel\\preprocessing\\positionfixes.py:440: FutureWarning: Downcasting object dtype arrays on .fillna, .ffill, .bfill is deprecated and will change in a future version. Call result.infer_objects(copy=False) instead. To opt-in to the future behavior, set `pd.set_option('future.no_silent_downcasting', True)`\n",
      "  cond_overlap_end = cond_overlap & ~cond_temporal_gap.shift(-1).fillna(False) & pd.isna(pfs[\"tripleg_id\"])\n",
      "C:\\Users\\ASUS\\anaconda3\\Lib\\site-packages\\trackintel\\preprocessing\\positionfixes.py:573: UserWarning: The positionfixes with ids [9200016 9200017 9200041 ... 9299813 9299992 9299993] lead to invalid tripleg geometries. The resulting triplegs were omitted and the tripleg id of the positionfixes was set to nan\n",
      "  warnings.warn(warn_string)\n"
     ]
    },
    {
     "name": "stdout",
     "output_type": "stream",
     "text": [
      "           uid  d   t   x   y               geometry       date  \\\n",
      "9200000  23518  1  25  33  39  POINT (33.000 39.000) 2024-01-02   \n",
      "9200001  23518  1  34  33  39  POINT (33.000 39.000) 2024-01-02   \n",
      "9200002  23518  1  35  33  39  POINT (33.000 39.000) 2024-01-02   \n",
      "9200003  23518  1  36  34  39  POINT (34.000 39.000) 2024-01-02   \n",
      "9200004  23518  1  37  36  45  POINT (36.000 45.000) 2024-01-02   \n",
      "\n",
      "                   time            datetime  \n",
      "9200000 0 days 12:30:00 2024-01-02 12:30:00  \n",
      "9200001 0 days 17:00:00 2024-01-02 17:00:00  \n",
      "9200002 0 days 17:30:00 2024-01-02 17:30:00  \n",
      "9200003 0 days 18:00:00 2024-01-02 18:00:00  \n",
      "9200004 0 days 18:30:00 2024-01-02 18:30:00  \n",
      "1-itemsets done!\n",
      "2-itemsets done!\n",
      "No new candidates generated. Stopping at 2-itemsets\n"
     ]
    },
    {
     "name": "stderr",
     "output_type": "stream",
     "text": [
      "100%|████████████████████████████████████████████████████████████████████████████████| 302/302 [00:09<00:00, 33.25it/s]\n",
      "C:\\Users\\ASUS\\anaconda3\\Lib\\site-packages\\trackintel\\preprocessing\\positionfixes.py:361: FutureWarning: Downcasting object dtype arrays on .fillna, .ffill, .bfill is deprecated and will change in a future version. Call result.infer_objects(copy=False) instead. To opt-in to the future behavior, set `pd.set_option('future.no_silent_downcasting', True)`\n",
      "  pfs[\"tripleg_id\"] = pfs[\"tripleg_id\"].ffill()\n",
      "C:\\Users\\ASUS\\anaconda3\\Lib\\site-packages\\trackintel\\preprocessing\\positionfixes.py:440: FutureWarning: Downcasting object dtype arrays on .fillna, .ffill, .bfill is deprecated and will change in a future version. Call result.infer_objects(copy=False) instead. To opt-in to the future behavior, set `pd.set_option('future.no_silent_downcasting', True)`\n",
      "  cond_overlap_end = cond_overlap & ~cond_temporal_gap.shift(-1).fillna(False) & pd.isna(pfs[\"tripleg_id\"])\n",
      "C:\\Users\\ASUS\\anaconda3\\Lib\\site-packages\\trackintel\\preprocessing\\positionfixes.py:573: UserWarning: The positionfixes with ids [9300037 9300038 9300154 ... 9399499 9399566 9399567] lead to invalid tripleg geometries. The resulting triplegs were omitted and the tripleg id of the positionfixes was set to nan\n",
      "  warnings.warn(warn_string)\n"
     ]
    },
    {
     "name": "stdout",
     "output_type": "stream",
     "text": [
      "           uid   d  t   x   y               geometry       date  \\\n",
      "9300000  23832  18  4  34  44  POINT (34.000 44.000) 2024-01-19   \n",
      "9300001  23832  18  5  35  44  POINT (35.000 44.000) 2024-01-19   \n",
      "9300002  23832  18  6  35  44  POINT (35.000 44.000) 2024-01-19   \n",
      "9300003  23832  18  7  34  44  POINT (34.000 44.000) 2024-01-19   \n",
      "9300004  23832  18  8  34  44  POINT (34.000 44.000) 2024-01-19   \n",
      "\n",
      "                   time            datetime  \n",
      "9300000 0 days 02:00:00 2024-01-19 02:00:00  \n",
      "9300001 0 days 02:30:00 2024-01-19 02:30:00  \n",
      "9300002 0 days 03:00:00 2024-01-19 03:00:00  \n",
      "9300003 0 days 03:30:00 2024-01-19 03:30:00  \n",
      "9300004 0 days 04:00:00 2024-01-19 04:00:00  \n",
      "1-itemsets done!\n",
      "2-itemsets done!\n",
      "3-itemsets done!\n"
     ]
    },
    {
     "name": "stderr",
     "output_type": "stream",
     "text": [
      "100%|████████████████████████████████████████████████████████████████████████████████| 244/244 [00:10<00:00, 24.35it/s]\n",
      "C:\\Users\\ASUS\\anaconda3\\Lib\\site-packages\\trackintel\\preprocessing\\positionfixes.py:361: FutureWarning: Downcasting object dtype arrays on .fillna, .ffill, .bfill is deprecated and will change in a future version. Call result.infer_objects(copy=False) instead. To opt-in to the future behavior, set `pd.set_option('future.no_silent_downcasting', True)`\n",
      "  pfs[\"tripleg_id\"] = pfs[\"tripleg_id\"].ffill()\n",
      "C:\\Users\\ASUS\\anaconda3\\Lib\\site-packages\\trackintel\\preprocessing\\positionfixes.py:440: FutureWarning: Downcasting object dtype arrays on .fillna, .ffill, .bfill is deprecated and will change in a future version. Call result.infer_objects(copy=False) instead. To opt-in to the future behavior, set `pd.set_option('future.no_silent_downcasting', True)`\n",
      "  cond_overlap_end = cond_overlap & ~cond_temporal_gap.shift(-1).fillna(False) & pd.isna(pfs[\"tripleg_id\"])\n",
      "C:\\Users\\ASUS\\anaconda3\\Lib\\site-packages\\trackintel\\preprocessing\\positionfixes.py:573: UserWarning: The positionfixes with ids [9400041 9400042 9400411 ... 9499772 9499886 9499887] lead to invalid tripleg geometries. The resulting triplegs were omitted and the tripleg id of the positionfixes was set to nan\n",
      "  warnings.warn(warn_string)\n"
     ]
    },
    {
     "name": "stdout",
     "output_type": "stream",
     "text": [
      "           uid   d   t   x    y                geometry       date  \\\n",
      "9400000  24133  21  26  91  164  POINT (91.000 164.000) 2024-01-22   \n",
      "9400001  24133  21  30  89  167  POINT (89.000 167.000) 2024-01-22   \n",
      "9400002  24133  21  31  91  164  POINT (91.000 164.000) 2024-01-22   \n",
      "9400003  24133  21  32  91  164  POINT (91.000 164.000) 2024-01-22   \n",
      "9400004  24133  21  33  88  168  POINT (88.000 168.000) 2024-01-22   \n",
      "\n",
      "                   time            datetime  \n",
      "9400000 0 days 13:00:00 2024-01-22 13:00:00  \n",
      "9400001 0 days 15:00:00 2024-01-22 15:00:00  \n",
      "9400002 0 days 15:30:00 2024-01-22 15:30:00  \n",
      "9400003 0 days 16:00:00 2024-01-22 16:00:00  \n",
      "9400004 0 days 16:30:00 2024-01-22 16:30:00  \n",
      "1-itemsets done!\n",
      "2-itemsets done!\n"
     ]
    },
    {
     "name": "stderr",
     "output_type": "stream",
     "text": [
      "100%|████████████████████████████████████████████████████████████████████████████████| 248/248 [00:09<00:00, 27.35it/s]\n",
      "C:\\Users\\ASUS\\anaconda3\\Lib\\site-packages\\trackintel\\preprocessing\\positionfixes.py:361: FutureWarning: Downcasting object dtype arrays on .fillna, .ffill, .bfill is deprecated and will change in a future version. Call result.infer_objects(copy=False) instead. To opt-in to the future behavior, set `pd.set_option('future.no_silent_downcasting', True)`\n",
      "  pfs[\"tripleg_id\"] = pfs[\"tripleg_id\"].ffill()\n",
      "C:\\Users\\ASUS\\anaconda3\\Lib\\site-packages\\trackintel\\preprocessing\\positionfixes.py:440: FutureWarning: Downcasting object dtype arrays on .fillna, .ffill, .bfill is deprecated and will change in a future version. Call result.infer_objects(copy=False) instead. To opt-in to the future behavior, set `pd.set_option('future.no_silent_downcasting', True)`\n",
      "  cond_overlap_end = cond_overlap & ~cond_temporal_gap.shift(-1).fillna(False) & pd.isna(pfs[\"tripleg_id\"])\n",
      "C:\\Users\\ASUS\\anaconda3\\Lib\\site-packages\\trackintel\\preprocessing\\positionfixes.py:573: UserWarning: The positionfixes with ids [9500645 9500646 9500785 ... 9599866 9599979 9599980] lead to invalid tripleg geometries. The resulting triplegs were omitted and the tripleg id of the positionfixes was set to nan\n",
      "  warnings.warn(warn_string)\n"
     ]
    },
    {
     "name": "stdout",
     "output_type": "stream",
     "text": [
      "           uid  d   t    x    y                 geometry       date  \\\n",
      "9500000  24376  3  20  113   75   POINT (113.000 75.000) 2024-01-04   \n",
      "9500001  24376  3  21  105   93   POINT (105.000 93.000) 2024-01-04   \n",
      "9500002  24376  3  22  104  100  POINT (104.000 100.000) 2024-01-04   \n",
      "9500003  24376  3  23   93  117   POINT (93.000 117.000) 2024-01-04   \n",
      "9500004  24376  3  26   95  112   POINT (95.000 112.000) 2024-01-04   \n",
      "\n",
      "                   time            datetime  \n",
      "9500000 0 days 10:00:00 2024-01-04 10:00:00  \n",
      "9500001 0 days 10:30:00 2024-01-04 10:30:00  \n",
      "9500002 0 days 11:00:00 2024-01-04 11:00:00  \n",
      "9500003 0 days 11:30:00 2024-01-04 11:30:00  \n",
      "9500004 0 days 13:00:00 2024-01-04 13:00:00  \n",
      "1-itemsets done!\n",
      "2-itemsets done!\n",
      "3-itemsets done!\n",
      "4-itemsets done!\n",
      "No new candidates generated. Stopping at 4-itemsets\n"
     ]
    },
    {
     "name": "stderr",
     "output_type": "stream",
     "text": [
      "100%|████████████████████████████████████████████████████████████████████████████████| 273/273 [00:08<00:00, 31.59it/s]\n",
      "C:\\Users\\ASUS\\anaconda3\\Lib\\site-packages\\trackintel\\preprocessing\\positionfixes.py:361: FutureWarning: Downcasting object dtype arrays on .fillna, .ffill, .bfill is deprecated and will change in a future version. Call result.infer_objects(copy=False) instead. To opt-in to the future behavior, set `pd.set_option('future.no_silent_downcasting', True)`\n",
      "  pfs[\"tripleg_id\"] = pfs[\"tripleg_id\"].ffill()\n",
      "C:\\Users\\ASUS\\anaconda3\\Lib\\site-packages\\trackintel\\preprocessing\\positionfixes.py:440: FutureWarning: Downcasting object dtype arrays on .fillna, .ffill, .bfill is deprecated and will change in a future version. Call result.infer_objects(copy=False) instead. To opt-in to the future behavior, set `pd.set_option('future.no_silent_downcasting', True)`\n",
      "  cond_overlap_end = cond_overlap & ~cond_temporal_gap.shift(-1).fillna(False) & pd.isna(pfs[\"tripleg_id\"])\n",
      "C:\\Users\\ASUS\\anaconda3\\Lib\\site-packages\\trackintel\\preprocessing\\positionfixes.py:573: UserWarning: The positionfixes with ids [9600288 9600289 9600345 ... 9699887 9699898 9699899] lead to invalid tripleg geometries. The resulting triplegs were omitted and the tripleg id of the positionfixes was set to nan\n",
      "  warnings.warn(warn_string)\n"
     ]
    },
    {
     "name": "stdout",
     "output_type": "stream",
     "text": [
      "           uid  d   t   x    y                geometry       date  \\\n",
      "9600000  24623  5  19  69  182  POINT (69.000 182.000) 2024-01-06   \n",
      "9600001  24623  5  20  69  183  POINT (69.000 183.000) 2024-01-06   \n",
      "9600002  24623  5  21  69  182  POINT (69.000 182.000) 2024-01-06   \n",
      "9600003  24623  5  22  69  182  POINT (69.000 182.000) 2024-01-06   \n",
      "9600004  24623  5  23  69  182  POINT (69.000 182.000) 2024-01-06   \n",
      "\n",
      "                   time            datetime  \n",
      "9600000 0 days 09:30:00 2024-01-06 09:30:00  \n",
      "9600001 0 days 10:00:00 2024-01-06 10:00:00  \n",
      "9600002 0 days 10:30:00 2024-01-06 10:30:00  \n",
      "9600003 0 days 11:00:00 2024-01-06 11:00:00  \n",
      "9600004 0 days 11:30:00 2024-01-06 11:30:00  \n",
      "1-itemsets done!\n",
      "2-itemsets done!\n",
      "No new candidates generated. Stopping at 2-itemsets\n"
     ]
    },
    {
     "name": "stderr",
     "output_type": "stream",
     "text": [
      "100%|████████████████████████████████████████████████████████████████████████████████| 104/104 [00:03<00:00, 34.57it/s]\n",
      "C:\\Users\\ASUS\\anaconda3\\Lib\\site-packages\\trackintel\\preprocessing\\positionfixes.py:361: FutureWarning: Downcasting object dtype arrays on .fillna, .ffill, .bfill is deprecated and will change in a future version. Call result.infer_objects(copy=False) instead. To opt-in to the future behavior, set `pd.set_option('future.no_silent_downcasting', True)`\n",
      "  pfs[\"tripleg_id\"] = pfs[\"tripleg_id\"].ffill()\n",
      "C:\\Users\\ASUS\\anaconda3\\Lib\\site-packages\\trackintel\\preprocessing\\positionfixes.py:440: FutureWarning: Downcasting object dtype arrays on .fillna, .ffill, .bfill is deprecated and will change in a future version. Call result.infer_objects(copy=False) instead. To opt-in to the future behavior, set `pd.set_option('future.no_silent_downcasting', True)`\n",
      "  cond_overlap_end = cond_overlap & ~cond_temporal_gap.shift(-1).fillna(False) & pd.isna(pfs[\"tripleg_id\"])\n",
      "C:\\Users\\ASUS\\anaconda3\\Lib\\site-packages\\trackintel\\preprocessing\\positionfixes.py:573: UserWarning: The positionfixes with ids [9700102 9700103 9700223 ... 9735813 9736066 9736067] lead to invalid tripleg geometries. The resulting triplegs were omitted and the tripleg id of the positionfixes was set to nan\n",
      "  warnings.warn(warn_string)\n"
     ]
    },
    {
     "name": "stdout",
     "output_type": "stream",
     "text": [
      "           uid   d   t   x   y               geometry       date  \\\n",
      "9700000  24895  12  17  57  56  POINT (57.000 56.000) 2024-01-13   \n",
      "9700001  24895  12  19  57  56  POINT (57.000 56.000) 2024-01-13   \n",
      "9700002  24895  12  21  58  55  POINT (58.000 55.000) 2024-01-13   \n",
      "9700003  24895  12  22  57  56  POINT (57.000 56.000) 2024-01-13   \n",
      "9700004  24895  12  23  57  56  POINT (57.000 56.000) 2024-01-13   \n",
      "\n",
      "                   time            datetime  \n",
      "9700000 0 days 08:30:00 2024-01-13 08:30:00  \n",
      "9700001 0 days 09:30:00 2024-01-13 09:30:00  \n",
      "9700002 0 days 10:30:00 2024-01-13 10:30:00  \n",
      "9700003 0 days 11:00:00 2024-01-13 11:00:00  \n",
      "9700004 0 days 11:30:00 2024-01-13 11:30:00  \n",
      "1-itemsets done!\n",
      "2-itemsets done!\n",
      "No new candidates generated. Stopping at 2-itemsets\n"
     ]
    }
   ],
   "source": [
    "# Process data in chunks\n",
    "for chunk in pd.read_csv('cityB_filtered.csv', chunksize=chunk_size):\n",
    "    # Preprocess each chunk\n",
    "    gdf_chunk = preprocess_data(chunk, start_date)\n",
    "    \n",
    "    # Generate position fixes and triplegs\n",
    "    pfs_chunk = ti.io.read_positionfixes_gpd(gdf_chunk, tracked_at=\"datetime\", user_id=\"uid\", geom_col=\"geometry\", tz='Asia/Tokyo')\n",
    "    pfs_chunk, sp_chunk = pfs_chunk.as_positionfixes.generate_staypoints(gap_threshold=gap_threshold_sp, dist_threshold=dist_threshold, \n",
    "                                                                         print_progress=True)\n",
    "    pfs_chunk, tpls_chunk = pfs_chunk.generate_triplegs(staypoints=sp_chunk, method='overlap_staypoints', gap_threshold=gap_threshold_trip)\n",
    "\n",
    "    print(gdf_chunk[:5])\n",
    "    \n",
    "    # Convert triplegs to sequences\n",
    "    tpls_chunk['tripleg_list'] = tpls_chunk['geom'].apply(lambda geom: list(geom.coords))\n",
    "    tripleg_list = tpls_chunk['tripleg_list'].tolist()\n",
    "    \n",
    "    # Preprocess triplegs by removing consecutive duplicates\n",
    "    processed_triplegs = preprocess_tripleg(tripleg_list)\n",
    "    splitted_triplegs = split_triplegs(processed_triplegs, 10)\n",
    "    \n",
    "    # Apply GSP on each chunk and collect patterns\n",
    "    gsp = GSP(splitted_triplegs, min_support)\n",
    "    frequent_patterns_chunk = gsp.run()\n",
    "    all_frequent_patterns.update(frequent_patterns_chunk)"
   ]
  },
  {
   "cell_type": "code",
   "execution_count": 35,
   "id": "06f37a4f-926f-4564-b0b7-c2ee665fa6fb",
   "metadata": {},
   "outputs": [
    {
     "data": {
      "image/png": "[encoded data removed]",
      "text/plain": [
       "<Figure size 1200x1200 with 1 Axes>"
      ]
     },
     "metadata": {},
     "output_type": "display_data"
    }
   ],
   "source": [
    "# Visualize top patterns\n",
    "# Extract positionfixes and staypoints from a subset of processed data for visualization\n",
    "positionfixes = pfs_chunk[pfs_chunk['staypoint_id'].isna()][:500000]\n",
    "staypoints = pfs_chunk.dropna(subset=['staypoint_id'])[:500000]\n",
    "\n",
    "plt.figure(figsize=(12, 12))\n",
    "plt.scatter(positionfixes['x'], positionfixes['y'], label='Positionfixes', color='#6495ED', s=2, alpha=0.7)\n",
    "plt.scatter(staypoints['x'], staypoints['y'], label='Staypoints', color='#FFB6C1', s=2, alpha=0.7)\n",
    "\n",
    "# Plot each frequent pattern\n",
    "for pattern, count in all_frequent_patterns.items():\n",
    "    x_coords = [point[0] for point in pattern]\n",
    "    y_coords = [point[1] for point in pattern]\n",
    "    plt.plot(x_coords, y_coords, linestyle='-', alpha=1, linewidth=1.5, color='black')\n",
    "\n",
    "# Add a legend entry for triplegs\n",
    "plt.plot([], [], linestyle='-', color='black', label='Frequent Patterns')\n",
    "\n",
    "# Set labels and title\n",
    "plt.xlabel('X')\n",
    "plt.ylabel('Y')\n",
    "plt.title(f'City B Frequent Patterns on X-Y Grid with min_support {min_support}')\n",
    "plt.legend()\n",
    "plt.grid(True)\n",
    "plt.show()"
   ]
  },
  {
   "cell_type": "code",
   "execution_count": 31,
   "id": "fa5676c9-ad20-4330-b2a1-82912923b148",
   "metadata": {},
   "outputs": [],
   "source": [
    "# Convert the frequent patterns to a DataFrame for easier saving\n",
    "patterns_df = pd.DataFrame({\n",
    "    'Pattern': [pattern for pattern in all_frequent_patterns.keys()],\n",
    "    'Count': [count for count in all_frequent_patterns.values()]\n",
    "})"
   ]
  },
  {
   "cell_type": "code",
   "execution_count": 33,
   "id": "40bdc93e-911c-4234-825a-20c6187862d3",
   "metadata": {},
   "outputs": [
    {
     "data": {
      "text/html": [
       "<div>\n",
       "<style scoped>\n",
       "    .dataframe tbody tr th:only-of-type {\n",
       "        vertical-align: middle;\n",
       "    }\n",
       "\n",
       "    .dataframe tbody tr th {\n",
       "        vertical-align: top;\n",
       "    }\n",
       "\n",
       "    .dataframe thead th {\n",
       "        text-align: right;\n",
       "    }\n",
       "</style>\n",
       "<table border=\"1\" class=\"dataframe\">\n",
       "  <thead>\n",
       "    <tr style=\"text-align: right;\">\n",
       "      <th></th>\n",
       "      <th>Pattern</th>\n",
       "      <th>Count</th>\n",
       "    </tr>\n",
       "  </thead>\n",
       "  <tbody>\n",
       "    <tr>\n",
       "      <th>0</th>\n",
       "      <td>((89.0, 77.0),)</td>\n",
       "      <td>10</td>\n",
       "    </tr>\n",
       "    <tr>\n",
       "      <th>1</th>\n",
       "      <td>((80.0, 95.0),)</td>\n",
       "      <td>10</td>\n",
       "    </tr>\n",
       "    <tr>\n",
       "      <th>2</th>\n",
       "      <td>((80.0, 104.0),)</td>\n",
       "      <td>10</td>\n",
       "    </tr>\n",
       "    <tr>\n",
       "      <th>3</th>\n",
       "      <td>((67.0, 180.0),)</td>\n",
       "      <td>10</td>\n",
       "    </tr>\n",
       "    <tr>\n",
       "      <th>4</th>\n",
       "      <td>((74.0, 75.0),)</td>\n",
       "      <td>10</td>\n",
       "    </tr>\n",
       "  </tbody>\n",
       "</table>\n",
       "</div>"
      ],
      "text/plain": [
       "            Pattern  Count\n",
       "0   ((89.0, 77.0),)     10\n",
       "1   ((80.0, 95.0),)     10\n",
       "2  ((80.0, 104.0),)     10\n",
       "3  ((67.0, 180.0),)     10\n",
       "4   ((74.0, 75.0),)     10"
      ]
     },
     "execution_count": 33,
     "metadata": {},
     "output_type": "execute_result"
    }
   ],
   "source": [
    "patterns_df.head()"
   ]
  },
  {
   "cell_type": "code",
   "execution_count": 32,
   "id": "a3268ad4-e473-447e-b9c2-06df5250eced",
   "metadata": {},
   "outputs": [],
   "source": [
    "# Save the patterns to a CSV file\n",
    "patterns_df.to_csv(\"CityB_frequent_patterns_minsup10.csv\", index=False)"
   ]
  },
  {
   "cell_type": "code",
   "execution_count": 34,
   "id": "0160f285-f98a-4af6-81c1-3752af47b645",
   "metadata": {},
   "outputs": [
    {
     "data": {
      "text/html": [
       "<div>\n",
       "<style scoped>\n",
       "    .dataframe tbody tr th:only-of-type {\n",
       "        vertical-align: middle;\n",
       "    }\n",
       "\n",
       "    .dataframe tbody tr th {\n",
       "        vertical-align: top;\n",
       "    }\n",
       "\n",
       "    .dataframe thead th {\n",
       "        text-align: right;\n",
       "    }\n",
       "</style>\n",
       "<table border=\"1\" class=\"dataframe\">\n",
       "  <thead>\n",
       "    <tr style=\"text-align: right;\">\n",
       "      <th></th>\n",
       "      <th>Pattern</th>\n",
       "      <th>Count</th>\n",
       "    </tr>\n",
       "  </thead>\n",
       "  <tbody>\n",
       "    <tr>\n",
       "      <th>2717</th>\n",
       "      <td>((81.0, 90.0), (80.0, 90.0), (81.0, 90.0), (80...</td>\n",
       "      <td>10</td>\n",
       "    </tr>\n",
       "    <tr>\n",
       "      <th>2982</th>\n",
       "      <td>((76.0, 90.0), (77.0, 90.0), (76.0, 90.0), (77...</td>\n",
       "      <td>10</td>\n",
       "    </tr>\n",
       "  </tbody>\n",
       "</table>\n",
       "</div>"
      ],
      "text/plain": [
       "                                                Pattern  Count\n",
       "2717  ((81.0, 90.0), (80.0, 90.0), (81.0, 90.0), (80...     10\n",
       "2982  ((76.0, 90.0), (77.0, 90.0), (76.0, 90.0), (77...     10"
      ]
     },
     "execution_count": 34,
     "metadata": {},
     "output_type": "execute_result"
    }
   ],
   "source": [
    "# Check for long patterns\n",
    "long_patterns = patterns_df[patterns_df['Pattern'].apply(len) >= 5]\n",
    "\n",
    "# Display the result\n",
    "long_patterns"
   ]
  },
  {
   "cell_type": "code",
   "execution_count": null,
   "id": "28b6d73a-c525-4635-a68c-1d5baa756ab0",
   "metadata": {},
   "outputs": [],
   "source": []
  }
 ],
 "metadata": {
  "kernelspec": {
   "display_name": "Python 3 (ipykernel)",
   "language": "python",
   "name": "python3"
  },
  "language_info": {
   "codemirror_mode": {
    "name": "ipython",
    "version": 3
   },
   "file_extension": ".py",
   "mimetype": "text/x-python",
   "name": "python",
   "nbconvert_exporter": "python",
   "pygments_lexer": "ipython3",
   "version": "3.12.4"
  }
 },
 "nbformat": 4,
 "nbformat_minor": 5
}
