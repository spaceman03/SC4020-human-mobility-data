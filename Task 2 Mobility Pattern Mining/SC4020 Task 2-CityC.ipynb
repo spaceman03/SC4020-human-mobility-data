{
 "cells": [
  {
   "cell_type": "markdown",
   "id": "62d42c3d-cb21-447a-a71d-a9615aab9e0e",
   "metadata": {},
   "source": [
    "# Introduction"
   ]
  },
  {
   "cell_type": "markdown",
   "id": "f1e66e39-8d08-4063-a695-bb97cde7042e",
   "metadata": {},
   "source": [
    "trackintel documentation: https://trackintel.readthedocs.io/en/latest/modules/model.html#trackintel.Positionfixes"
   ]
  },
  {
   "cell_type": "markdown",
   "id": "5f5e5680-b51e-4385-a936-4e30cf01cc60",
   "metadata": {},
   "source": [
    "trackintel tutorial: https://github.com/mie-lab/trackintel/blob/master/examples/trackintel_basic_tutorial.ipynb"
   ]
  },
  {
   "cell_type": "code",
   "execution_count": 4,
   "id": "7d7bffcc-a5ab-4cd1-adc1-469a638e5028",
   "metadata": {},
   "outputs": [
    {
     "name": "stdout",
     "output_type": "stream",
     "text": [
      "Requirement already satisfied: trackintel in c:\\users\\zhixu\\anaconda3\\lib\\site-packages (1.3.1)\n",
      "Requirement already satisfied: pandas in c:\\users\\zhixu\\anaconda3\\lib\\site-packages (from trackintel) (2.2.2)\n",
      "Requirement already satisfied: geopandas>=0.12.0 in c:\\users\\zhixu\\anaconda3\\lib\\site-packages (from trackintel) (0.14.4)\n",
      "Requirement already satisfied: matplotlib in c:\\users\\zhixu\\anaconda3\\lib\\site-packages (from trackintel) (3.8.4)\n",
      "Requirement already satisfied: numpy in c:\\users\\zhixu\\anaconda3\\lib\\site-packages (from trackintel) (1.26.4)\n",
      "Requirement already satisfied: shapely in c:\\users\\zhixu\\anaconda3\\lib\\site-packages (from trackintel) (2.0.6)\n",
      "Requirement already satisfied: networkx in c:\\users\\zhixu\\anaconda3\\lib\\site-packages (from trackintel) (3.2.1)\n",
      "Requirement already satisfied: geoalchemy2 in c:\\users\\zhixu\\anaconda3\\lib\\site-packages (from trackintel) (0.15.2)\n",
      "Requirement already satisfied: osmnx in c:\\users\\zhixu\\anaconda3\\lib\\site-packages (from trackintel) (1.9.4)\n",
      "Requirement already satisfied: scikit-learn in c:\\users\\zhixu\\anaconda3\\lib\\site-packages (from trackintel) (1.4.2)\n",
      "Requirement already satisfied: tqdm in c:\\users\\zhixu\\anaconda3\\lib\\site-packages (from trackintel) (4.66.4)\n",
      "Requirement already satisfied: similaritymeasures in c:\\users\\zhixu\\anaconda3\\lib\\site-packages (from trackintel) (1.2.0)\n",
      "Requirement already satisfied: fiona>=1.8.21 in c:\\users\\zhixu\\anaconda3\\lib\\site-packages (from geopandas>=0.12.0->trackintel) (1.10.1)\n",
      "Requirement already satisfied: packaging in c:\\users\\zhixu\\anaconda3\\lib\\site-packages (from geopandas>=0.12.0->trackintel) (23.2)\n",
      "Requirement already satisfied: pyproj>=3.3.0 in c:\\users\\zhixu\\anaconda3\\lib\\site-packages (from geopandas>=0.12.0->trackintel) (3.7.0)\n",
      "Requirement already satisfied: python-dateutil>=2.8.2 in c:\\users\\zhixu\\anaconda3\\lib\\site-packages (from pandas->trackintel) (2.9.0.post0)\n",
      "Requirement already satisfied: pytz>=2020.1 in c:\\users\\zhixu\\anaconda3\\lib\\site-packages (from pandas->trackintel) (2024.1)\n",
      "Requirement already satisfied: tzdata>=2022.7 in c:\\users\\zhixu\\anaconda3\\lib\\site-packages (from pandas->trackintel) (2023.3)\n",
      "Requirement already satisfied: SQLAlchemy>=1.4 in c:\\users\\zhixu\\anaconda3\\lib\\site-packages (from geoalchemy2->trackintel) (2.0.30)\n",
      "Requirement already satisfied: contourpy>=1.0.1 in c:\\users\\zhixu\\anaconda3\\lib\\site-packages (from matplotlib->trackintel) (1.2.0)\n",
      "Requirement already satisfied: cycler>=0.10 in c:\\users\\zhixu\\anaconda3\\lib\\site-packages (from matplotlib->trackintel) (0.11.0)\n",
      "Requirement already satisfied: fonttools>=4.22.0 in c:\\users\\zhixu\\anaconda3\\lib\\site-packages (from matplotlib->trackintel) (4.51.0)\n",
      "Requirement already satisfied: kiwisolver>=1.3.1 in c:\\users\\zhixu\\anaconda3\\lib\\site-packages (from matplotlib->trackintel) (1.4.4)\n",
      "Requirement already satisfied: pillow>=8 in c:\\users\\zhixu\\anaconda3\\lib\\site-packages (from matplotlib->trackintel) (10.3.0)\n",
      "Requirement already satisfied: pyparsing>=2.3.1 in c:\\users\\zhixu\\anaconda3\\lib\\site-packages (from matplotlib->trackintel) (3.0.9)\n",
      "Requirement already satisfied: requests<2.33,>=2.27 in c:\\users\\zhixu\\anaconda3\\lib\\site-packages (from osmnx->trackintel) (2.32.2)\n",
      "Requirement already satisfied: scipy>=1.6.0 in c:\\users\\zhixu\\anaconda3\\lib\\site-packages (from scikit-learn->trackintel) (1.12.0)\n",
      "Requirement already satisfied: joblib>=1.2.0 in c:\\users\\zhixu\\anaconda3\\lib\\site-packages (from scikit-learn->trackintel) (1.4.2)\n",
      "Requirement already satisfied: threadpoolctl>=2.0.0 in c:\\users\\zhixu\\anaconda3\\lib\\site-packages (from scikit-learn->trackintel) (2.2.0)\n",
      "Requirement already satisfied: colorama in c:\\users\\zhixu\\anaconda3\\lib\\site-packages (from tqdm->trackintel) (0.4.6)\n",
      "Requirement already satisfied: attrs>=19.2.0 in c:\\users\\zhixu\\anaconda3\\lib\\site-packages (from fiona>=1.8.21->geopandas>=0.12.0->trackintel) (23.1.0)\n",
      "Requirement already satisfied: certifi in c:\\users\\zhixu\\anaconda3\\lib\\site-packages (from fiona>=1.8.21->geopandas>=0.12.0->trackintel) (2024.7.4)\n",
      "Requirement already satisfied: click~=8.0 in c:\\users\\zhixu\\anaconda3\\lib\\site-packages (from fiona>=1.8.21->geopandas>=0.12.0->trackintel) (8.1.7)\n",
      "Requirement already satisfied: click-plugins>=1.0 in c:\\users\\zhixu\\anaconda3\\lib\\site-packages (from fiona>=1.8.21->geopandas>=0.12.0->trackintel) (1.1.1)\n",
      "Requirement already satisfied: cligj>=0.5 in c:\\users\\zhixu\\anaconda3\\lib\\site-packages (from fiona>=1.8.21->geopandas>=0.12.0->trackintel) (0.7.2)\n",
      "Requirement already satisfied: six>=1.5 in c:\\users\\zhixu\\anaconda3\\lib\\site-packages (from python-dateutil>=2.8.2->pandas->trackintel) (1.16.0)\n",
      "Requirement already satisfied: charset-normalizer<4,>=2 in c:\\users\\zhixu\\anaconda3\\lib\\site-packages (from requests<2.33,>=2.27->osmnx->trackintel) (2.0.4)\n",
      "Requirement already satisfied: idna<4,>=2.5 in c:\\users\\zhixu\\anaconda3\\lib\\site-packages (from requests<2.33,>=2.27->osmnx->trackintel) (3.7)\n",
      "Requirement already satisfied: urllib3<3,>=1.21.1 in c:\\users\\zhixu\\anaconda3\\lib\\site-packages (from requests<2.33,>=2.27->osmnx->trackintel) (2.2.2)\n",
      "Requirement already satisfied: typing-extensions>=4.6.0 in c:\\users\\zhixu\\anaconda3\\lib\\site-packages (from SQLAlchemy>=1.4->geoalchemy2->trackintel) (4.11.0)\n",
      "Requirement already satisfied: greenlet!=0.4.17 in c:\\users\\zhixu\\anaconda3\\lib\\site-packages (from SQLAlchemy>=1.4->geoalchemy2->trackintel) (3.0.1)\n"
     ]
    }
   ],
   "source": [
    "!pip install trackintel"
   ]
  },
  {
   "cell_type": "code",
   "execution_count": 5,
   "id": "10b713e0-6073-417e-b9d9-0bcc7f61f664",
   "metadata": {},
   "outputs": [],
   "source": [
    "import geopandas as gpd\n",
    "import numpy as np\n",
    "import pandas as pd\n",
    "\n",
    "from collections import defaultdict\n",
    "from datetime import timedelta\n",
    "from matplotlib import pyplot as plt\n",
    "from multiprocessing import Pool\n",
    "from shapely.geometry import LineString\n",
    "from shapely.geometry import Point\n",
    "\n",
    "import trackintel as ti"
   ]
  },
  {
   "cell_type": "code",
   "execution_count": 6,
   "id": "3ccc56c3-fe0d-4eef-a42a-7040a29b5f14",
   "metadata": {},
   "outputs": [
    {
     "data": {
      "text/html": [
       "<div>\n",
       "<style scoped>\n",
       "    .dataframe tbody tr th:only-of-type {\n",
       "        vertical-align: middle;\n",
       "    }\n",
       "\n",
       "    .dataframe tbody tr th {\n",
       "        vertical-align: top;\n",
       "    }\n",
       "\n",
       "    .dataframe thead th {\n",
       "        text-align: right;\n",
       "    }\n",
       "</style>\n",
       "<table border=\"1\" class=\"dataframe\">\n",
       "  <thead>\n",
       "    <tr style=\"text-align: right;\">\n",
       "      <th></th>\n",
       "      <th>uid</th>\n",
       "      <th>d</th>\n",
       "      <th>t</th>\n",
       "      <th>x</th>\n",
       "      <th>y</th>\n",
       "    </tr>\n",
       "  </thead>\n",
       "  <tbody>\n",
       "    <tr>\n",
       "      <th>0</th>\n",
       "      <td>0</td>\n",
       "      <td>5</td>\n",
       "      <td>15</td>\n",
       "      <td>28</td>\n",
       "      <td>157</td>\n",
       "    </tr>\n",
       "    <tr>\n",
       "      <th>1</th>\n",
       "      <td>0</td>\n",
       "      <td>5</td>\n",
       "      <td>16</td>\n",
       "      <td>28</td>\n",
       "      <td>158</td>\n",
       "    </tr>\n",
       "    <tr>\n",
       "      <th>2</th>\n",
       "      <td>0</td>\n",
       "      <td>5</td>\n",
       "      <td>17</td>\n",
       "      <td>28</td>\n",
       "      <td>157</td>\n",
       "    </tr>\n",
       "    <tr>\n",
       "      <th>3</th>\n",
       "      <td>0</td>\n",
       "      <td>5</td>\n",
       "      <td>18</td>\n",
       "      <td>29</td>\n",
       "      <td>158</td>\n",
       "    </tr>\n",
       "    <tr>\n",
       "      <th>4</th>\n",
       "      <td>0</td>\n",
       "      <td>5</td>\n",
       "      <td>19</td>\n",
       "      <td>27</td>\n",
       "      <td>157</td>\n",
       "    </tr>\n",
       "  </tbody>\n",
       "</table>\n",
       "</div>"
      ],
      "text/plain": [
       "   uid  d   t   x    y\n",
       "0    0  5  15  28  157\n",
       "1    0  5  16  28  158\n",
       "2    0  5  17  28  157\n",
       "3    0  5  18  29  158\n",
       "4    0  5  19  27  157"
      ]
     },
     "execution_count": 6,
     "metadata": {},
     "output_type": "execute_result"
    }
   ],
   "source": [
    "cityC = pd.read_csv('cityC_challengedata.csv.gz', compression='gzip')\n",
    "cityC.head()"
   ]
  },
  {
   "cell_type": "code",
   "execution_count": 7,
   "id": "4332deea-cccf-4ac1-81b2-8dfd2558fdc8",
   "metadata": {},
   "outputs": [
    {
     "data": {
      "text/plain": [
       "(18456528, 5)"
      ]
     },
     "execution_count": 7,
     "metadata": {},
     "output_type": "execute_result"
    }
   ],
   "source": [
    "cityC.shape"
   ]
  },
  {
   "cell_type": "code",
   "execution_count": 8,
   "id": "5f9c84b8-20cf-4cdb-ae7c-0948809eabec",
   "metadata": {},
   "outputs": [
    {
     "name": "stdout",
     "output_type": "stream",
     "text": [
      "<class 'pandas.core.frame.DataFrame'>\n",
      "RangeIndex: 18456528 entries, 0 to 18456527\n",
      "Data columns (total 5 columns):\n",
      " #   Column  Dtype\n",
      "---  ------  -----\n",
      " 0   uid     int64\n",
      " 1   d       int64\n",
      " 2   t       int64\n",
      " 3   x       int64\n",
      " 4   y       int64\n",
      "dtypes: int64(5)\n",
      "memory usage: 704.1 MB\n"
     ]
    }
   ],
   "source": [
    "cityC.info()"
   ]
  },
  {
   "cell_type": "markdown",
   "id": "a10bb79d-7da3-46f6-8ffa-67f51cad54d5",
   "metadata": {},
   "source": [
    "`d`: Days since start of the data collection, ranges from 0-74 (the data is collected over 75 days)   \n",
    "`t`: Ranges from 0-47 (the data is collected every 30 mins, there is 48 such periods in 1 day)"
   ]
  },
  {
   "cell_type": "markdown",
   "id": "cfdae578-335e-411d-a831-9c9c6a12981a",
   "metadata": {},
   "source": [
    "# Data Preprocessing"
   ]
  },
  {
   "cell_type": "markdown",
   "id": "0c3bc3aa-8203-444f-9ac3-72f11f06f0b9",
   "metadata": {},
   "source": [
    "Limit the data to only the first month's data (30 days), i.e. `d` < 30."
   ]
  },
  {
   "cell_type": "code",
   "execution_count": 12,
   "id": "7c07671a-aa2b-4caa-a196-ea6e2b469579",
   "metadata": {},
   "outputs": [],
   "source": [
    "cityC = cityC[cityC['d'] < 30]"
   ]
  },
  {
   "cell_type": "code",
   "execution_count": 13,
   "id": "35a23f1a-91b9-4397-9be6-904e97e98e15",
   "metadata": {},
   "outputs": [
    {
     "data": {
      "text/plain": [
       "(7428781, 5)"
      ]
     },
     "execution_count": 13,
     "metadata": {},
     "output_type": "execute_result"
    }
   ],
   "source": [
    "cityC.shape"
   ]
  },
  {
   "cell_type": "code",
   "execution_count": 14,
   "id": "80dadd66-8fc5-4d64-bf0f-06100d2b6a86",
   "metadata": {},
   "outputs": [],
   "source": [
    "# Save to a temporary file for later use\n",
    "cityC.to_csv('cityC_filtered.csv', index=False)"
   ]
  },
  {
   "cell_type": "markdown",
   "id": "f2fc3561-bbe9-4001-b9f4-03a9e6c8c568",
   "metadata": {},
   "source": [
    "Here, we define an arbitrary start date of the data collected."
   ]
  },
  {
   "cell_type": "code",
   "execution_count": 16,
   "id": "6876fdb8-5e9b-4bb9-a57d-ebf2aaade551",
   "metadata": {},
   "outputs": [],
   "source": [
    "# Define the start date\n",
    "start_date = pd.to_datetime(\"2024-01-01\")"
   ]
  },
  {
   "cell_type": "code",
   "execution_count": 17,
   "id": "6d2382c8-2826-44f8-ab8f-6f8510a9b6fa",
   "metadata": {},
   "outputs": [],
   "source": [
    "def preprocess_data(data, start_date):\n",
    "    # Create Point geometries\n",
    "    geometry = [Point(xy) for xy in zip(data['x'], data['y'])]\n",
    "\n",
    "    # Create a GeoDataFrame\n",
    "    gdf = gpd.GeoDataFrame(data, geometry=geometry)\n",
    "    gdf.set_crs(epsg=3857, inplace=True)\n",
    "\n",
    "    # Convert 'd' (days since start) to actual date\n",
    "    gdf['date'] = start_date + pd.to_timedelta(gdf['d'], unit='D')\n",
    "    \n",
    "    # Convert 't' (30-minute intervals) to time of day\n",
    "    gdf['time'] = pd.to_timedelta(gdf['t'] * 30, unit='m')  # Each 't' is multiplied by 30 minutes\n",
    "    \n",
    "    # Combine 'date' and 'time' into a single datetime column\n",
    "    gdf['datetime'] = gdf['date'] + gdf['time']\n",
    "\n",
    "    return gdf"
   ]
  },
  {
   "cell_type": "code",
   "execution_count": 18,
   "id": "80e9750f-1f07-4b9c-bb7c-54b2b6a03755",
   "metadata": {},
   "outputs": [],
   "source": [
    "def remove_consecutive_duplicates(sequence):\n",
    "    \"\"\"Remove consecutive duplicate coordinates from a sequence.\"\"\"\n",
    "    cleaned_sequence = [sequence[0]]  # Start with the first element\n",
    "    for i in range(1, len(sequence)):\n",
    "        if sequence[i] != sequence[i - 1]:  # Only add if different from the previous point\n",
    "            cleaned_sequence.append(sequence[i])\n",
    "    return cleaned_sequence\n",
    "\n",
    "def preprocess_tripleg(dataset):\n",
    "    \"\"\"Preprocess each tripleg in the dataset by removing consecutive duplicates.\"\"\"\n",
    "    return [remove_consecutive_duplicates(sequence) for sequence in dataset]"
   ]
  },
  {
   "cell_type": "code",
   "execution_count": 19,
   "id": "96930f88-c2cf-4068-8476-d1cd58849bf5",
   "metadata": {},
   "outputs": [],
   "source": [
    "def split_triplegs(triplegs, max_length):\n",
    "    processed_triplegs = []\n",
    "    for tripleg in triplegs:      \n",
    "        # Split if the cleaned tripleg is too long\n",
    "        if len(tripleg) > max_length:\n",
    "            for i in range(0, len(tripleg), max_length):\n",
    "                processed_triplegs.append(tripleg[i:i + max_length])\n",
    "        else:\n",
    "            processed_triplegs.append(tripleg)\n",
    "    return processed_triplegs"
   ]
  },
  {
   "cell_type": "markdown",
   "id": "b6097134-0768-4ff0-b845-176f9acf0c04",
   "metadata": {},
   "source": [
    "# GSP Algorithm"
   ]
  },
  {
   "cell_type": "code",
   "execution_count": 21,
   "id": "ced1f5c3-a773-42bc-a51d-4f569b9dd45a",
   "metadata": {},
   "outputs": [],
   "source": [
    "class GSP:\n",
    "    def __init__(self, sequences, min_support):\n",
    "        self.sequences = sequences          # List of sequences with coordinate pairs\n",
    "        self.min_support = min_support      # Minimum support threshold\n",
    "        self.frequent_patterns = []         # Store all found frequent patterns\n",
    "\n",
    "    def is_subsequence(self, candidate, sequence):\n",
    "        candidate_index = 0  # Start with the first element of candidate\n",
    "        for item in sequence:\n",
    "            if item == candidate[candidate_index]:  # Check if current item matches the current candidate element\n",
    "                candidate_index += 1  # Move to the next element in candidate\n",
    "                if candidate_index == len(candidate):  # If we matched all elements in candidate, it's a subsequence\n",
    "                    return True\n",
    "        return False  # If we finish the loop without matching all of candidate, return False\n",
    "    \n",
    "    def count_support(self, candidates):\n",
    "        \"\"\"\n",
    "        Count the support of each candidate in the sequences\n",
    "        \"\"\"\n",
    "        support_count = defaultdict(int)\n",
    "        for sequence in self.sequences:\n",
    "            # Filter out sequences that are too short to contain any candidates of the current length\n",
    "            if len(sequence) < len(next(iter(candidates))):  # All candidates are of the same length\n",
    "                continue\n",
    "                \n",
    "            for candidate in candidates:\n",
    "                if support_count[candidate] >= min_support: # Early stopping: stop counting if min_support is reached\n",
    "                    continue\n",
    "                    \n",
    "                if self.is_subsequence(candidate, sequence):\n",
    "                    support_count[candidate] += 1\n",
    "\n",
    "        # Filter out candidates that meet minimum support threshold\n",
    "        support_count = {seq: count for seq, count in support_count.items() if count >= self.min_support}\n",
    "        return support_count\n",
    "\n",
    "    def generate_candidates(self, prev_frequent_patterns, k):\n",
    "        \"\"\"Generate candidate sequences of a specified length by merging sequences with common prefixes/suffixes.\n",
    "        Includes Apriori check to remove candidate sequences with any non-frequent subsequence.\n",
    "        \"\"\"\n",
    "        candidates = set()\n",
    "        for pattern1 in prev_frequent_patterns:\n",
    "            for pattern2 in prev_frequent_patterns:\n",
    "                if pattern1 == pattern2: # Don't merge the same sequences\n",
    "                    continue\n",
    "                # Merge two sequences if they share k-1 items\n",
    "                if pattern1[1:] == pattern2[:-1]:  # Ensure that only relevant sequences are merged\n",
    "                    candidate = pattern1 + (pattern2[-1],)\n",
    "                    # Apriori check: Keep only if all (k-1) subsequences are frequent\n",
    "                    if all(candidate[i:i+k-1] in prev_frequent_patterns for i in range(len(candidate) - k + 1)):\n",
    "                        candidates.add(candidate)\n",
    "                        \n",
    "        return candidates\n",
    "\n",
    "    def run(self):\n",
    "        \"\"\"\n",
    "        Run the GSP algorithm\n",
    "        \"\"\"\n",
    "        # Step 1: Find frequent 1-sequences (individual locations)\n",
    "        all_items = set(item for sequence in self.sequences for item in sequence)\n",
    "        initial_candidates = [(item,) for item in all_items]\n",
    "        frequent_patterns = self.count_support(initial_candidates)\n",
    "        \n",
    "        # Add to result list\n",
    "        self.frequent_patterns.extend(frequent_patterns.items())\n",
    "        print(\"1-itemsets done!\")\n",
    "        \n",
    "        k = 2  # Start with 2-sequences\n",
    "\n",
    "        while frequent_patterns:\n",
    "            # Step 2: Generate candidate k-sequences (those with infrequent subsequences are removed)\n",
    "            candidates = self.generate_candidates(frequent_patterns.keys(), k)\n",
    "            if not candidates: # Break if no new candidates are generated\n",
    "                print(f\"No new candidates generated. Stopping at {k-1}-itemsets\")\n",
    "                break\n",
    "            \n",
    "            # Step 3: Count support for each candidate (those that do not meet min_support are removed)\n",
    "            frequent_patterns = self.count_support(candidates)\n",
    "            \n",
    "            # Add found frequent patterns to result list\n",
    "            if frequent_patterns:\n",
    "                self.frequent_patterns.extend(frequent_patterns.items())\n",
    "                print(f\"{k}-itemsets done!\")\n",
    "            \n",
    "            # Move to the next level\n",
    "            k += 1\n",
    "\n",
    "        return self.frequent_patterns"
   ]
  },
  {
   "cell_type": "code",
   "execution_count": 22,
   "id": "338f3466-46f9-4e9f-b43a-8cd5d08f0ec1",
   "metadata": {},
   "outputs": [],
   "source": [
    "# Define constants\n",
    "chunk_size = 100000  # Number of rows to load per chunk\n",
    "min_support = 10  # Minimum support for frequent patterns\n",
    "gap_threshold_sp = 45  # Gap threshold for staypoint detection\n",
    "gap_threshold_trip = 45 # Gap threshold for triplegs generation\n",
    "dist_threshold = 10  # Distance threshold for staypoints\n",
    "max_tripleg_length = 10 # Maximum length of each tripleg"
   ]
  },
  {
   "cell_type": "code",
   "execution_count": 23,
   "id": "d2017950-8c8d-4a64-b62b-42b0a84ea088",
   "metadata": {},
   "outputs": [],
   "source": [
    "# Dictionary to store patterns by chunk\n",
    "all_frequent_patterns = defaultdict(list)"
   ]
  },
  {
   "cell_type": "code",
   "execution_count": 24,
   "id": "143c6ff0-e4a3-4965-8da8-d62f4eebd8c2",
   "metadata": {
    "scrolled": true
   },
   "outputs": [
    {
     "name": "stderr",
     "output_type": "stream",
     "text": [
      "100%|████████████████████████████████████████████████████████████████████████████████| 226/226 [00:18<00:00, 12.05it/s]\n",
      "C:\\Users\\zhixu\\anaconda3\\Lib\\site-packages\\trackintel\\preprocessing\\positionfixes.py:361: FutureWarning: Downcasting object dtype arrays on .fillna, .ffill, .bfill is deprecated and will change in a future version. Call result.infer_objects(copy=False) instead. To opt-in to the future behavior, set `pd.set_option('future.no_silent_downcasting', True)`\n",
      "  pfs[\"tripleg_id\"] = pfs[\"tripleg_id\"].ffill()\n",
      "C:\\Users\\zhixu\\anaconda3\\Lib\\site-packages\\trackintel\\preprocessing\\positionfixes.py:440: FutureWarning: Downcasting object dtype arrays on .fillna, .ffill, .bfill is deprecated and will change in a future version. Call result.infer_objects(copy=False) instead. To opt-in to the future behavior, set `pd.set_option('future.no_silent_downcasting', True)`\n",
      "  cond_overlap_end = cond_overlap & ~cond_temporal_gap.shift(-1).fillna(False) & pd.isna(pfs[\"tripleg_id\"])\n",
      "C:\\Users\\zhixu\\anaconda3\\Lib\\site-packages\\trackintel\\preprocessing\\positionfixes.py:573: UserWarning: The positionfixes with ids [   38    39    54 ... 99787 99862 99863] lead to invalid tripleg geometries. The resulting triplegs were omitted and the tripleg id of the positionfixes was set to nan\n",
      "  warnings.warn(warn_string)\n"
     ]
    },
    {
     "name": "stdout",
     "output_type": "stream",
     "text": [
      "   uid  d   t   x    y                geometry       date            time  \\\n",
      "0    0  5  15  28  157  POINT (28.000 157.000) 2024-01-06 0 days 07:30:00   \n",
      "1    0  5  16  28  158  POINT (28.000 158.000) 2024-01-06 0 days 08:00:00   \n",
      "2    0  5  17  28  157  POINT (28.000 157.000) 2024-01-06 0 days 08:30:00   \n",
      "3    0  5  18  29  158  POINT (29.000 158.000) 2024-01-06 0 days 09:00:00   \n",
      "4    0  5  19  27  157  POINT (27.000 157.000) 2024-01-06 0 days 09:30:00   \n",
      "\n",
      "             datetime  \n",
      "0 2024-01-06 07:30:00  \n",
      "1 2024-01-06 08:00:00  \n",
      "2 2024-01-06 08:30:00  \n",
      "3 2024-01-06 09:00:00  \n",
      "4 2024-01-06 09:30:00  \n",
      "1-itemsets done!\n",
      "2-itemsets done!\n"
     ]
    },
    {
     "name": "stderr",
     "output_type": "stream",
     "text": [
      "100%|████████████████████████████████████████████████████████████████████████████████| 238/238 [00:19<00:00, 12.18it/s]\n",
      "C:\\Users\\zhixu\\anaconda3\\Lib\\site-packages\\trackintel\\preprocessing\\positionfixes.py:361: FutureWarning: Downcasting object dtype arrays on .fillna, .ffill, .bfill is deprecated and will change in a future version. Call result.infer_objects(copy=False) instead. To opt-in to the future behavior, set `pd.set_option('future.no_silent_downcasting', True)`\n",
      "  pfs[\"tripleg_id\"] = pfs[\"tripleg_id\"].ffill()\n",
      "C:\\Users\\zhixu\\anaconda3\\Lib\\site-packages\\trackintel\\preprocessing\\positionfixes.py:440: FutureWarning: Downcasting object dtype arrays on .fillna, .ffill, .bfill is deprecated and will change in a future version. Call result.infer_objects(copy=False) instead. To opt-in to the future behavior, set `pd.set_option('future.no_silent_downcasting', True)`\n",
      "  cond_overlap_end = cond_overlap & ~cond_temporal_gap.shift(-1).fillna(False) & pd.isna(pfs[\"tripleg_id\"])\n",
      "C:\\Users\\zhixu\\anaconda3\\Lib\\site-packages\\trackintel\\preprocessing\\positionfixes.py:573: UserWarning: The positionfixes with ids [100199 100200 100479 ... 199966 199988 199989] lead to invalid tripleg geometries. The resulting triplegs were omitted and the tripleg id of the positionfixes was set to nan\n",
      "  warnings.warn(warn_string)\n"
     ]
    },
    {
     "name": "stdout",
     "output_type": "stream",
     "text": [
      "        uid   d   t   x    y                geometry       date  \\\n",
      "100000  226  22  29  43  167  POINT (43.000 167.000) 2024-01-23   \n",
      "100001  226  22  30  21  170  POINT (21.000 170.000) 2024-01-23   \n",
      "100002  226  22  31  13  171  POINT (13.000 171.000) 2024-01-23   \n",
      "100003  226  22  32  13  171  POINT (13.000 171.000) 2024-01-23   \n",
      "100004  226  22  35  13  160  POINT (13.000 160.000) 2024-01-23   \n",
      "\n",
      "                  time            datetime  \n",
      "100000 0 days 14:30:00 2024-01-23 14:30:00  \n",
      "100001 0 days 15:00:00 2024-01-23 15:00:00  \n",
      "100002 0 days 15:30:00 2024-01-23 15:30:00  \n",
      "100003 0 days 16:00:00 2024-01-23 16:00:00  \n",
      "100004 0 days 17:30:00 2024-01-23 17:30:00  \n",
      "1-itemsets done!\n",
      "2-itemsets done!\n"
     ]
    },
    {
     "name": "stderr",
     "output_type": "stream",
     "text": [
      "100%|████████████████████████████████████████████████████████████████████████████████| 242/242 [00:18<00:00, 13.04it/s]\n",
      "C:\\Users\\zhixu\\anaconda3\\Lib\\site-packages\\trackintel\\preprocessing\\positionfixes.py:361: FutureWarning: Downcasting object dtype arrays on .fillna, .ffill, .bfill is deprecated and will change in a future version. Call result.infer_objects(copy=False) instead. To opt-in to the future behavior, set `pd.set_option('future.no_silent_downcasting', True)`\n",
      "  pfs[\"tripleg_id\"] = pfs[\"tripleg_id\"].ffill()\n",
      "C:\\Users\\zhixu\\anaconda3\\Lib\\site-packages\\trackintel\\preprocessing\\positionfixes.py:440: FutureWarning: Downcasting object dtype arrays on .fillna, .ffill, .bfill is deprecated and will change in a future version. Call result.infer_objects(copy=False) instead. To opt-in to the future behavior, set `pd.set_option('future.no_silent_downcasting', True)`\n",
      "  cond_overlap_end = cond_overlap & ~cond_temporal_gap.shift(-1).fillna(False) & pd.isna(pfs[\"tripleg_id\"])\n",
      "C:\\Users\\zhixu\\anaconda3\\Lib\\site-packages\\trackintel\\preprocessing\\positionfixes.py:573: UserWarning: The positionfixes with ids [200004 200005 200028 ... 299934 299942 299943] lead to invalid tripleg geometries. The resulting triplegs were omitted and the tripleg id of the positionfixes was set to nan\n",
      "  warnings.warn(warn_string)\n"
     ]
    },
    {
     "name": "stdout",
     "output_type": "stream",
     "text": [
      "        uid   d   t   x    y                geometry       date  \\\n",
      "200000  464  23  19  24  157  POINT (24.000 157.000) 2024-01-24   \n",
      "200001  464  23  25  24  157  POINT (24.000 157.000) 2024-01-24   \n",
      "200002  464  23  32  24  158  POINT (24.000 158.000) 2024-01-24   \n",
      "200003  464  23  35  24  157  POINT (24.000 157.000) 2024-01-24   \n",
      "200004  464  23  39  24  157  POINT (24.000 157.000) 2024-01-24   \n",
      "\n",
      "                  time            datetime  \n",
      "200000 0 days 09:30:00 2024-01-24 09:30:00  \n",
      "200001 0 days 12:30:00 2024-01-24 12:30:00  \n",
      "200002 0 days 16:00:00 2024-01-24 16:00:00  \n",
      "200003 0 days 17:30:00 2024-01-24 17:30:00  \n",
      "200004 0 days 19:30:00 2024-01-24 19:30:00  \n",
      "1-itemsets done!\n",
      "2-itemsets done!\n"
     ]
    },
    {
     "name": "stderr",
     "output_type": "stream",
     "text": [
      "100%|████████████████████████████████████████████████████████████████████████████████| 249/249 [00:17<00:00, 14.35it/s]\n",
      "C:\\Users\\zhixu\\anaconda3\\Lib\\site-packages\\trackintel\\preprocessing\\positionfixes.py:361: FutureWarning: Downcasting object dtype arrays on .fillna, .ffill, .bfill is deprecated and will change in a future version. Call result.infer_objects(copy=False) instead. To opt-in to the future behavior, set `pd.set_option('future.no_silent_downcasting', True)`\n",
      "  pfs[\"tripleg_id\"] = pfs[\"tripleg_id\"].ffill()\n",
      "C:\\Users\\zhixu\\anaconda3\\Lib\\site-packages\\trackintel\\preprocessing\\positionfixes.py:440: FutureWarning: Downcasting object dtype arrays on .fillna, .ffill, .bfill is deprecated and will change in a future version. Call result.infer_objects(copy=False) instead. To opt-in to the future behavior, set `pd.set_option('future.no_silent_downcasting', True)`\n",
      "  cond_overlap_end = cond_overlap & ~cond_temporal_gap.shift(-1).fillna(False) & pd.isna(pfs[\"tripleg_id\"])\n",
      "C:\\Users\\zhixu\\anaconda3\\Lib\\site-packages\\trackintel\\preprocessing\\positionfixes.py:573: UserWarning: The positionfixes with ids [300070 300071 300494 ... 399798 399945 399946] lead to invalid tripleg geometries. The resulting triplegs were omitted and the tripleg id of the positionfixes was set to nan\n",
      "  warnings.warn(warn_string)\n"
     ]
    },
    {
     "name": "stdout",
     "output_type": "stream",
     "text": [
      "        uid  d   t   x    y                geometry       date  \\\n",
      "300000  708  2  16  29  152  POINT (29.000 152.000) 2024-01-03   \n",
      "300001  708  2  17  28  152  POINT (28.000 152.000) 2024-01-03   \n",
      "300002  708  2  18  26  149  POINT (26.000 149.000) 2024-01-03   \n",
      "300003  708  2  20  26  150  POINT (26.000 150.000) 2024-01-03   \n",
      "300004  708  2  21  26  150  POINT (26.000 150.000) 2024-01-03   \n",
      "\n",
      "                  time            datetime  \n",
      "300000 0 days 08:00:00 2024-01-03 08:00:00  \n",
      "300001 0 days 08:30:00 2024-01-03 08:30:00  \n",
      "300002 0 days 09:00:00 2024-01-03 09:00:00  \n",
      "300003 0 days 10:00:00 2024-01-03 10:00:00  \n",
      "300004 0 days 10:30:00 2024-01-03 10:30:00  \n",
      "1-itemsets done!\n",
      "2-itemsets done!\n"
     ]
    },
    {
     "name": "stderr",
     "output_type": "stream",
     "text": [
      "100%|████████████████████████████████████████████████████████████████████████████████| 265/265 [00:18<00:00, 14.47it/s]\n",
      "C:\\Users\\zhixu\\anaconda3\\Lib\\site-packages\\trackintel\\preprocessing\\positionfixes.py:361: FutureWarning: Downcasting object dtype arrays on .fillna, .ffill, .bfill is deprecated and will change in a future version. Call result.infer_objects(copy=False) instead. To opt-in to the future behavior, set `pd.set_option('future.no_silent_downcasting', True)`\n",
      "  pfs[\"tripleg_id\"] = pfs[\"tripleg_id\"].ffill()\n",
      "C:\\Users\\zhixu\\anaconda3\\Lib\\site-packages\\trackintel\\preprocessing\\positionfixes.py:440: FutureWarning: Downcasting object dtype arrays on .fillna, .ffill, .bfill is deprecated and will change in a future version. Call result.infer_objects(copy=False) instead. To opt-in to the future behavior, set `pd.set_option('future.no_silent_downcasting', True)`\n",
      "  cond_overlap_end = cond_overlap & ~cond_temporal_gap.shift(-1).fillna(False) & pd.isna(pfs[\"tripleg_id\"])\n",
      "C:\\Users\\zhixu\\anaconda3\\Lib\\site-packages\\trackintel\\preprocessing\\positionfixes.py:573: UserWarning: The positionfixes with ids [400002 400003 400027 ... 499874 499922 499923] lead to invalid tripleg geometries. The resulting triplegs were omitted and the tripleg id of the positionfixes was set to nan\n",
      "  warnings.warn(warn_string)\n"
     ]
    },
    {
     "name": "stdout",
     "output_type": "stream",
     "text": [
      "        uid   d   t   x    y                geometry       date  \\\n",
      "400000  957  11  37  20  160  POINT (20.000 160.000) 2024-01-12   \n",
      "400001  957  11  38  19  162  POINT (19.000 162.000) 2024-01-12   \n",
      "400002  957  12  15  25  153  POINT (25.000 153.000) 2024-01-13   \n",
      "400003  957  12  16  25  153  POINT (25.000 153.000) 2024-01-13   \n",
      "400004  957  12  18  25  152  POINT (25.000 152.000) 2024-01-13   \n",
      "\n",
      "                  time            datetime  \n",
      "400000 0 days 18:30:00 2024-01-12 18:30:00  \n",
      "400001 0 days 19:00:00 2024-01-12 19:00:00  \n",
      "400002 0 days 07:30:00 2024-01-13 07:30:00  \n",
      "400003 0 days 08:00:00 2024-01-13 08:00:00  \n",
      "400004 0 days 09:00:00 2024-01-13 09:00:00  \n",
      "1-itemsets done!\n",
      "2-itemsets done!\n",
      "No new candidates generated. Stopping at 2-itemsets\n"
     ]
    },
    {
     "name": "stderr",
     "output_type": "stream",
     "text": [
      "100%|████████████████████████████████████████████████████████████████████████████████| 259/259 [00:16<00:00, 15.55it/s]\n",
      "C:\\Users\\zhixu\\anaconda3\\Lib\\site-packages\\trackintel\\preprocessing\\positionfixes.py:361: FutureWarning: Downcasting object dtype arrays on .fillna, .ffill, .bfill is deprecated and will change in a future version. Call result.infer_objects(copy=False) instead. To opt-in to the future behavior, set `pd.set_option('future.no_silent_downcasting', True)`\n",
      "  pfs[\"tripleg_id\"] = pfs[\"tripleg_id\"].ffill()\n",
      "C:\\Users\\zhixu\\anaconda3\\Lib\\site-packages\\trackintel\\preprocessing\\positionfixes.py:440: FutureWarning: Downcasting object dtype arrays on .fillna, .ffill, .bfill is deprecated and will change in a future version. Call result.infer_objects(copy=False) instead. To opt-in to the future behavior, set `pd.set_option('future.no_silent_downcasting', True)`\n",
      "  cond_overlap_end = cond_overlap & ~cond_temporal_gap.shift(-1).fillna(False) & pd.isna(pfs[\"tripleg_id\"])\n",
      "C:\\Users\\zhixu\\anaconda3\\Lib\\site-packages\\trackintel\\preprocessing\\positionfixes.py:573: UserWarning: The positionfixes with ids [500060 500061 500076 ... 599536 599938 599939] lead to invalid tripleg geometries. The resulting triplegs were omitted and the tripleg id of the positionfixes was set to nan\n",
      "  warnings.warn(warn_string)\n"
     ]
    },
    {
     "name": "stdout",
     "output_type": "stream",
     "text": [
      "         uid   d   t   x    y                geometry       date  \\\n",
      "500000  1223  24  28  23  159  POINT (23.000 159.000) 2024-01-25   \n",
      "500001  1223  24  29  25  160  POINT (25.000 160.000) 2024-01-25   \n",
      "500002  1223  24  32  26  156  POINT (26.000 156.000) 2024-01-25   \n",
      "500003  1223  24  33  31  155  POINT (31.000 155.000) 2024-01-25   \n",
      "500004  1223  24  34  33  154  POINT (33.000 154.000) 2024-01-25   \n",
      "\n",
      "                  time            datetime  \n",
      "500000 0 days 14:00:00 2024-01-25 14:00:00  \n",
      "500001 0 days 14:30:00 2024-01-25 14:30:00  \n",
      "500002 0 days 16:00:00 2024-01-25 16:00:00  \n",
      "500003 0 days 16:30:00 2024-01-25 16:30:00  \n",
      "500004 0 days 17:00:00 2024-01-25 17:00:00  \n",
      "1-itemsets done!\n",
      "2-itemsets done!\n"
     ]
    },
    {
     "name": "stderr",
     "output_type": "stream",
     "text": [
      "100%|████████████████████████████████████████████████████████████████████████████████| 259/259 [00:16<00:00, 15.38it/s]\n",
      "C:\\Users\\zhixu\\anaconda3\\Lib\\site-packages\\trackintel\\preprocessing\\positionfixes.py:361: FutureWarning: Downcasting object dtype arrays on .fillna, .ffill, .bfill is deprecated and will change in a future version. Call result.infer_objects(copy=False) instead. To opt-in to the future behavior, set `pd.set_option('future.no_silent_downcasting', True)`\n",
      "  pfs[\"tripleg_id\"] = pfs[\"tripleg_id\"].ffill()\n",
      "C:\\Users\\zhixu\\anaconda3\\Lib\\site-packages\\trackintel\\preprocessing\\positionfixes.py:440: FutureWarning: Downcasting object dtype arrays on .fillna, .ffill, .bfill is deprecated and will change in a future version. Call result.infer_objects(copy=False) instead. To opt-in to the future behavior, set `pd.set_option('future.no_silent_downcasting', True)`\n",
      "  cond_overlap_end = cond_overlap & ~cond_temporal_gap.shift(-1).fillna(False) & pd.isna(pfs[\"tripleg_id\"])\n",
      "C:\\Users\\zhixu\\anaconda3\\Lib\\site-packages\\trackintel\\preprocessing\\positionfixes.py:573: UserWarning: The positionfixes with ids [600036 600037 600283 ... 699837 699849 699850] lead to invalid tripleg geometries. The resulting triplegs were omitted and the tripleg id of the positionfixes was set to nan\n",
      "  warnings.warn(warn_string)\n"
     ]
    },
    {
     "name": "stdout",
     "output_type": "stream",
     "text": [
      "         uid   d   t   x    y                geometry       date  \\\n",
      "600000  1484  17  33  32  149  POINT (32.000 149.000) 2024-01-18   \n",
      "600001  1484  17  34  32  151  POINT (32.000 151.000) 2024-01-18   \n",
      "600002  1484  17  35  35  144  POINT (35.000 144.000) 2024-01-18   \n",
      "600003  1484  17  36  36  140  POINT (36.000 140.000) 2024-01-18   \n",
      "600004  1484  18  18  32  156  POINT (32.000 156.000) 2024-01-19   \n",
      "\n",
      "                  time            datetime  \n",
      "600000 0 days 16:30:00 2024-01-18 16:30:00  \n",
      "600001 0 days 17:00:00 2024-01-18 17:00:00  \n",
      "600002 0 days 17:30:00 2024-01-18 17:30:00  \n",
      "600003 0 days 18:00:00 2024-01-18 18:00:00  \n",
      "600004 0 days 09:00:00 2024-01-19 09:00:00  \n",
      "1-itemsets done!\n",
      "2-itemsets done!\n",
      "No new candidates generated. Stopping at 2-itemsets\n"
     ]
    },
    {
     "name": "stderr",
     "output_type": "stream",
     "text": [
      "100%|████████████████████████████████████████████████████████████████████████████████| 248/248 [00:17<00:00, 14.23it/s]\n",
      "C:\\Users\\zhixu\\anaconda3\\Lib\\site-packages\\trackintel\\preprocessing\\positionfixes.py:361: FutureWarning: Downcasting object dtype arrays on .fillna, .ffill, .bfill is deprecated and will change in a future version. Call result.infer_objects(copy=False) instead. To opt-in to the future behavior, set `pd.set_option('future.no_silent_downcasting', True)`\n",
      "  pfs[\"tripleg_id\"] = pfs[\"tripleg_id\"].ffill()\n",
      "C:\\Users\\zhixu\\anaconda3\\Lib\\site-packages\\trackintel\\preprocessing\\positionfixes.py:440: FutureWarning: Downcasting object dtype arrays on .fillna, .ffill, .bfill is deprecated and will change in a future version. Call result.infer_objects(copy=False) instead. To opt-in to the future behavior, set `pd.set_option('future.no_silent_downcasting', True)`\n",
      "  cond_overlap_end = cond_overlap & ~cond_temporal_gap.shift(-1).fillna(False) & pd.isna(pfs[\"tripleg_id\"])\n",
      "C:\\Users\\zhixu\\anaconda3\\Lib\\site-packages\\trackintel\\preprocessing\\positionfixes.py:573: UserWarning: The positionfixes with ids [700005 700006 700080 ... 799968 799972 799973] lead to invalid tripleg geometries. The resulting triplegs were omitted and the tripleg id of the positionfixes was set to nan\n",
      "  warnings.warn(warn_string)\n"
     ]
    },
    {
     "name": "stdout",
     "output_type": "stream",
     "text": [
      "         uid   d  t   x    y                geometry       date  \\\n",
      "700000  1744  10  4  26  154  POINT (26.000 154.000) 2024-01-11   \n",
      "700001  1744  10  5  24  154  POINT (24.000 154.000) 2024-01-11   \n",
      "700002  1744  10  6  13  169  POINT (13.000 169.000) 2024-01-11   \n",
      "700003  1744  10  7  14  169  POINT (14.000 169.000) 2024-01-11   \n",
      "700004  1744  10  8  19  167  POINT (19.000 167.000) 2024-01-11   \n",
      "\n",
      "                  time            datetime  \n",
      "700000 0 days 02:00:00 2024-01-11 02:00:00  \n",
      "700001 0 days 02:30:00 2024-01-11 02:30:00  \n",
      "700002 0 days 03:00:00 2024-01-11 03:00:00  \n",
      "700003 0 days 03:30:00 2024-01-11 03:30:00  \n",
      "700004 0 days 04:00:00 2024-01-11 04:00:00  \n",
      "1-itemsets done!\n",
      "2-itemsets done!\n"
     ]
    },
    {
     "name": "stderr",
     "output_type": "stream",
     "text": [
      "100%|████████████████████████████████████████████████████████████████████████████████| 263/263 [00:20<00:00, 12.96it/s]\n",
      "C:\\Users\\zhixu\\anaconda3\\Lib\\site-packages\\trackintel\\preprocessing\\positionfixes.py:361: FutureWarning: Downcasting object dtype arrays on .fillna, .ffill, .bfill is deprecated and will change in a future version. Call result.infer_objects(copy=False) instead. To opt-in to the future behavior, set `pd.set_option('future.no_silent_downcasting', True)`\n",
      "  pfs[\"tripleg_id\"] = pfs[\"tripleg_id\"].ffill()\n",
      "C:\\Users\\zhixu\\anaconda3\\Lib\\site-packages\\trackintel\\preprocessing\\positionfixes.py:440: FutureWarning: Downcasting object dtype arrays on .fillna, .ffill, .bfill is deprecated and will change in a future version. Call result.infer_objects(copy=False) instead. To opt-in to the future behavior, set `pd.set_option('future.no_silent_downcasting', True)`\n",
      "  cond_overlap_end = cond_overlap & ~cond_temporal_gap.shift(-1).fillna(False) & pd.isna(pfs[\"tripleg_id\"])\n",
      "C:\\Users\\zhixu\\anaconda3\\Lib\\site-packages\\trackintel\\preprocessing\\positionfixes.py:573: UserWarning: The positionfixes with ids [800012 800013 800015 ... 899984 899987 899988] lead to invalid tripleg geometries. The resulting triplegs were omitted and the tripleg id of the positionfixes was set to nan\n",
      "  warnings.warn(warn_string)\n"
     ]
    },
    {
     "name": "stdout",
     "output_type": "stream",
     "text": [
      "         uid   d   t   x    y                geometry       date  \\\n",
      "800000  1991  14  29  33  133  POINT (33.000 133.000) 2024-01-15   \n",
      "800001  1991  14  30  34  133  POINT (34.000 133.000) 2024-01-15   \n",
      "800002  1991  14  32  33  133  POINT (33.000 133.000) 2024-01-15   \n",
      "800003  1991  14  33  33  133  POINT (33.000 133.000) 2024-01-15   \n",
      "800004  1991  14  34  33  133  POINT (33.000 133.000) 2024-01-15   \n",
      "\n",
      "                  time            datetime  \n",
      "800000 0 days 14:30:00 2024-01-15 14:30:00  \n",
      "800001 0 days 15:00:00 2024-01-15 15:00:00  \n",
      "800002 0 days 16:00:00 2024-01-15 16:00:00  \n",
      "800003 0 days 16:30:00 2024-01-15 16:30:00  \n",
      "800004 0 days 17:00:00 2024-01-15 17:00:00  \n",
      "1-itemsets done!\n",
      "2-itemsets done!\n",
      "No new candidates generated. Stopping at 2-itemsets\n"
     ]
    },
    {
     "name": "stderr",
     "output_type": "stream",
     "text": [
      "100%|████████████████████████████████████████████████████████████████████████████████| 247/247 [00:18<00:00, 13.32it/s]\n",
      "C:\\Users\\zhixu\\anaconda3\\Lib\\site-packages\\trackintel\\preprocessing\\positionfixes.py:361: FutureWarning: Downcasting object dtype arrays on .fillna, .ffill, .bfill is deprecated and will change in a future version. Call result.infer_objects(copy=False) instead. To opt-in to the future behavior, set `pd.set_option('future.no_silent_downcasting', True)`\n",
      "  pfs[\"tripleg_id\"] = pfs[\"tripleg_id\"].ffill()\n",
      "C:\\Users\\zhixu\\anaconda3\\Lib\\site-packages\\trackintel\\preprocessing\\positionfixes.py:440: FutureWarning: Downcasting object dtype arrays on .fillna, .ffill, .bfill is deprecated and will change in a future version. Call result.infer_objects(copy=False) instead. To opt-in to the future behavior, set `pd.set_option('future.no_silent_downcasting', True)`\n",
      "  cond_overlap_end = cond_overlap & ~cond_temporal_gap.shift(-1).fillna(False) & pd.isna(pfs[\"tripleg_id\"])\n",
      "C:\\Users\\zhixu\\anaconda3\\Lib\\site-packages\\trackintel\\preprocessing\\positionfixes.py:573: UserWarning: The positionfixes with ids [900050 900051 900405 ... 999771 999906 999907] lead to invalid tripleg geometries. The resulting triplegs were omitted and the tripleg id of the positionfixes was set to nan\n",
      "  warnings.warn(warn_string)\n"
     ]
    },
    {
     "name": "stdout",
     "output_type": "stream",
     "text": [
      "         uid   d   t   x    y                geometry       date  \\\n",
      "900000  2253  25  31  22  178  POINT (22.000 178.000) 2024-01-26   \n",
      "900001  2253  25  39  21  178  POINT (21.000 178.000) 2024-01-26   \n",
      "900002  2253  26  14  21  170  POINT (21.000 170.000) 2024-01-27   \n",
      "900003  2253  26  15  29  166  POINT (29.000 166.000) 2024-01-27   \n",
      "900004  2253  26  16  50  148  POINT (50.000 148.000) 2024-01-27   \n",
      "\n",
      "                  time            datetime  \n",
      "900000 0 days 15:30:00 2024-01-26 15:30:00  \n",
      "900001 0 days 19:30:00 2024-01-26 19:30:00  \n",
      "900002 0 days 07:00:00 2024-01-27 07:00:00  \n",
      "900003 0 days 07:30:00 2024-01-27 07:30:00  \n",
      "900004 0 days 08:00:00 2024-01-27 08:00:00  \n",
      "1-itemsets done!\n",
      "2-itemsets done!\n"
     ]
    },
    {
     "name": "stderr",
     "output_type": "stream",
     "text": [
      "100%|████████████████████████████████████████████████████████████████████████████████| 252/252 [00:18<00:00, 13.30it/s]\n",
      "C:\\Users\\zhixu\\anaconda3\\Lib\\site-packages\\trackintel\\preprocessing\\positionfixes.py:361: FutureWarning: Downcasting object dtype arrays on .fillna, .ffill, .bfill is deprecated and will change in a future version. Call result.infer_objects(copy=False) instead. To opt-in to the future behavior, set `pd.set_option('future.no_silent_downcasting', True)`\n",
      "  pfs[\"tripleg_id\"] = pfs[\"tripleg_id\"].ffill()\n",
      "C:\\Users\\zhixu\\anaconda3\\Lib\\site-packages\\trackintel\\preprocessing\\positionfixes.py:440: FutureWarning: Downcasting object dtype arrays on .fillna, .ffill, .bfill is deprecated and will change in a future version. Call result.infer_objects(copy=False) instead. To opt-in to the future behavior, set `pd.set_option('future.no_silent_downcasting', True)`\n",
      "  cond_overlap_end = cond_overlap & ~cond_temporal_gap.shift(-1).fillna(False) & pd.isna(pfs[\"tripleg_id\"])\n",
      "C:\\Users\\zhixu\\anaconda3\\Lib\\site-packages\\trackintel\\preprocessing\\positionfixes.py:573: UserWarning: The positionfixes with ids [1000073 1000074 1000082 ... 1099831 1099929 1099930] lead to invalid tripleg geometries. The resulting triplegs were omitted and the tripleg id of the positionfixes was set to nan\n",
      "  warnings.warn(warn_string)\n"
     ]
    },
    {
     "name": "stdout",
     "output_type": "stream",
     "text": [
      "          uid   d   t   x    y                geometry       date  \\\n",
      "1000000  2499  24  40  27  182  POINT (27.000 182.000) 2024-01-25   \n",
      "1000001  2499  24  41  29  158  POINT (29.000 158.000) 2024-01-25   \n",
      "1000002  2499  25  14  24  179  POINT (24.000 179.000) 2024-01-26   \n",
      "1000003  2499  25  15  26  182  POINT (26.000 182.000) 2024-01-26   \n",
      "1000004  2499  25  16  27  183  POINT (27.000 183.000) 2024-01-26   \n",
      "\n",
      "                   time            datetime  \n",
      "1000000 0 days 20:00:00 2024-01-25 20:00:00  \n",
      "1000001 0 days 20:30:00 2024-01-25 20:30:00  \n",
      "1000002 0 days 07:00:00 2024-01-26 07:00:00  \n",
      "1000003 0 days 07:30:00 2024-01-26 07:30:00  \n",
      "1000004 0 days 08:00:00 2024-01-26 08:00:00  \n",
      "1-itemsets done!\n",
      "2-itemsets done!\n"
     ]
    },
    {
     "name": "stderr",
     "output_type": "stream",
     "text": [
      "100%|████████████████████████████████████████████████████████████████████████████████| 230/230 [00:18<00:00, 12.44it/s]\n",
      "C:\\Users\\zhixu\\anaconda3\\Lib\\site-packages\\trackintel\\preprocessing\\positionfixes.py:361: FutureWarning: Downcasting object dtype arrays on .fillna, .ffill, .bfill is deprecated and will change in a future version. Call result.infer_objects(copy=False) instead. To opt-in to the future behavior, set `pd.set_option('future.no_silent_downcasting', True)`\n",
      "  pfs[\"tripleg_id\"] = pfs[\"tripleg_id\"].ffill()\n",
      "C:\\Users\\zhixu\\anaconda3\\Lib\\site-packages\\trackintel\\preprocessing\\positionfixes.py:440: FutureWarning: Downcasting object dtype arrays on .fillna, .ffill, .bfill is deprecated and will change in a future version. Call result.infer_objects(copy=False) instead. To opt-in to the future behavior, set `pd.set_option('future.no_silent_downcasting', True)`\n",
      "  cond_overlap_end = cond_overlap & ~cond_temporal_gap.shift(-1).fillna(False) & pd.isna(pfs[\"tripleg_id\"])\n",
      "C:\\Users\\zhixu\\anaconda3\\Lib\\site-packages\\trackintel\\preprocessing\\positionfixes.py:573: UserWarning: The positionfixes with ids [1100002 1100003 1100353 ... 1199955 1199994 1199995] lead to invalid tripleg geometries. The resulting triplegs were omitted and the tripleg id of the positionfixes was set to nan\n",
      "  warnings.warn(warn_string)\n"
     ]
    },
    {
     "name": "stdout",
     "output_type": "stream",
     "text": [
      "          uid   d   t   x    y                geometry       date  \\\n",
      "1100000  2751  11  16  14  153  POINT (14.000 153.000) 2024-01-12   \n",
      "1100001  2751  11  17  13  153  POINT (13.000 153.000) 2024-01-12   \n",
      "1100002  2751  11  19  14  153  POINT (14.000 153.000) 2024-01-12   \n",
      "1100003  2751  11  20  14  153  POINT (14.000 153.000) 2024-01-12   \n",
      "1100004  2751  11  22  14  153  POINT (14.000 153.000) 2024-01-12   \n",
      "\n",
      "                   time            datetime  \n",
      "1100000 0 days 08:00:00 2024-01-12 08:00:00  \n",
      "1100001 0 days 08:30:00 2024-01-12 08:30:00  \n",
      "1100002 0 days 09:30:00 2024-01-12 09:30:00  \n",
      "1100003 0 days 10:00:00 2024-01-12 10:00:00  \n",
      "1100004 0 days 11:00:00 2024-01-12 11:00:00  \n",
      "1-itemsets done!\n",
      "2-itemsets done!\n",
      "No new candidates generated. Stopping at 2-itemsets\n"
     ]
    },
    {
     "name": "stderr",
     "output_type": "stream",
     "text": [
      "100%|████████████████████████████████████████████████████████████████████████████████| 248/248 [00:14<00:00, 17.51it/s]\n",
      "C:\\Users\\zhixu\\anaconda3\\Lib\\site-packages\\trackintel\\preprocessing\\positionfixes.py:361: FutureWarning: Downcasting object dtype arrays on .fillna, .ffill, .bfill is deprecated and will change in a future version. Call result.infer_objects(copy=False) instead. To opt-in to the future behavior, set `pd.set_option('future.no_silent_downcasting', True)`\n",
      "  pfs[\"tripleg_id\"] = pfs[\"tripleg_id\"].ffill()\n",
      "C:\\Users\\zhixu\\anaconda3\\Lib\\site-packages\\trackintel\\preprocessing\\positionfixes.py:440: FutureWarning: Downcasting object dtype arrays on .fillna, .ffill, .bfill is deprecated and will change in a future version. Call result.infer_objects(copy=False) instead. To opt-in to the future behavior, set `pd.set_option('future.no_silent_downcasting', True)`\n",
      "  cond_overlap_end = cond_overlap & ~cond_temporal_gap.shift(-1).fillna(False) & pd.isna(pfs[\"tripleg_id\"])\n",
      "C:\\Users\\zhixu\\anaconda3\\Lib\\site-packages\\trackintel\\preprocessing\\positionfixes.py:573: UserWarning: The positionfixes with ids [1200112 1200113 1200188 ... 1299823 1299921 1299922] lead to invalid tripleg geometries. The resulting triplegs were omitted and the tripleg id of the positionfixes was set to nan\n",
      "  warnings.warn(warn_string)\n"
     ]
    },
    {
     "name": "stdout",
     "output_type": "stream",
     "text": [
      "          uid   d  t   x    y                geometry       date  \\\n",
      "1200000  2981  28  2  32  140  POINT (32.000 140.000) 2024-01-29   \n",
      "1200001  2981  28  4  33  142  POINT (33.000 142.000) 2024-01-29   \n",
      "1200002  2981  28  6  33  142  POINT (33.000 142.000) 2024-01-29   \n",
      "1200003  2981  28  7  32  140  POINT (32.000 140.000) 2024-01-29   \n",
      "1200004  2981  28  9  33  142  POINT (33.000 142.000) 2024-01-29   \n",
      "\n",
      "                   time            datetime  \n",
      "1200000 0 days 01:00:00 2024-01-29 01:00:00  \n",
      "1200001 0 days 02:00:00 2024-01-29 02:00:00  \n",
      "1200002 0 days 03:00:00 2024-01-29 03:00:00  \n",
      "1200003 0 days 03:30:00 2024-01-29 03:30:00  \n",
      "1200004 0 days 04:30:00 2024-01-29 04:30:00  \n",
      "1-itemsets done!\n",
      "2-itemsets done!\n",
      "No new candidates generated. Stopping at 2-itemsets\n"
     ]
    },
    {
     "name": "stderr",
     "output_type": "stream",
     "text": [
      "100%|████████████████████████████████████████████████████████████████████████████████| 248/248 [00:18<00:00, 13.66it/s]\n",
      "C:\\Users\\zhixu\\anaconda3\\Lib\\site-packages\\trackintel\\preprocessing\\positionfixes.py:361: FutureWarning: Downcasting object dtype arrays on .fillna, .ffill, .bfill is deprecated and will change in a future version. Call result.infer_objects(copy=False) instead. To opt-in to the future behavior, set `pd.set_option('future.no_silent_downcasting', True)`\n",
      "  pfs[\"tripleg_id\"] = pfs[\"tripleg_id\"].ffill()\n",
      "C:\\Users\\zhixu\\anaconda3\\Lib\\site-packages\\trackintel\\preprocessing\\positionfixes.py:440: FutureWarning: Downcasting object dtype arrays on .fillna, .ffill, .bfill is deprecated and will change in a future version. Call result.infer_objects(copy=False) instead. To opt-in to the future behavior, set `pd.set_option('future.no_silent_downcasting', True)`\n",
      "  cond_overlap_end = cond_overlap & ~cond_temporal_gap.shift(-1).fillna(False) & pd.isna(pfs[\"tripleg_id\"])\n",
      "C:\\Users\\zhixu\\anaconda3\\Lib\\site-packages\\trackintel\\preprocessing\\positionfixes.py:573: UserWarning: The positionfixes with ids [1300095 1300096 1300249 ... 1399753 1399866 1399867] lead to invalid tripleg geometries. The resulting triplegs were omitted and the tripleg id of the positionfixes was set to nan\n",
      "  warnings.warn(warn_string)\n"
     ]
    },
    {
     "name": "stdout",
     "output_type": "stream",
     "text": [
      "          uid   d   t   x    y                geometry       date  \\\n",
      "1300000  3230  22  21  24  150  POINT (24.000 150.000) 2024-01-23   \n",
      "1300001  3230  22  22  24  150  POINT (24.000 150.000) 2024-01-23   \n",
      "1300002  3230  22  23  25  150  POINT (25.000 150.000) 2024-01-23   \n",
      "1300003  3230  22  24  24  151  POINT (24.000 151.000) 2024-01-23   \n",
      "1300004  3230  22  25  25  151  POINT (25.000 151.000) 2024-01-23   \n",
      "\n",
      "                   time            datetime  \n",
      "1300000 0 days 10:30:00 2024-01-23 10:30:00  \n",
      "1300001 0 days 11:00:00 2024-01-23 11:00:00  \n",
      "1300002 0 days 11:30:00 2024-01-23 11:30:00  \n",
      "1300003 0 days 12:00:00 2024-01-23 12:00:00  \n",
      "1300004 0 days 12:30:00 2024-01-23 12:30:00  \n",
      "1-itemsets done!\n",
      "2-itemsets done!\n"
     ]
    },
    {
     "name": "stderr",
     "output_type": "stream",
     "text": [
      "100%|████████████████████████████████████████████████████████████████████████████████| 252/252 [00:17<00:00, 14.21it/s]\n",
      "C:\\Users\\zhixu\\anaconda3\\Lib\\site-packages\\trackintel\\preprocessing\\positionfixes.py:361: FutureWarning: Downcasting object dtype arrays on .fillna, .ffill, .bfill is deprecated and will change in a future version. Call result.infer_objects(copy=False) instead. To opt-in to the future behavior, set `pd.set_option('future.no_silent_downcasting', True)`\n",
      "  pfs[\"tripleg_id\"] = pfs[\"tripleg_id\"].ffill()\n",
      "C:\\Users\\zhixu\\anaconda3\\Lib\\site-packages\\trackintel\\preprocessing\\positionfixes.py:440: FutureWarning: Downcasting object dtype arrays on .fillna, .ffill, .bfill is deprecated and will change in a future version. Call result.infer_objects(copy=False) instead. To opt-in to the future behavior, set `pd.set_option('future.no_silent_downcasting', True)`\n",
      "  cond_overlap_end = cond_overlap & ~cond_temporal_gap.shift(-1).fillna(False) & pd.isna(pfs[\"tripleg_id\"])\n",
      "C:\\Users\\zhixu\\anaconda3\\Lib\\site-packages\\trackintel\\preprocessing\\positionfixes.py:573: UserWarning: The positionfixes with ids [1400136 1400137 1400196 ... 1499894 1499921 1499922] lead to invalid tripleg geometries. The resulting triplegs were omitted and the tripleg id of the positionfixes was set to nan\n",
      "  warnings.warn(warn_string)\n"
     ]
    },
    {
     "name": "stdout",
     "output_type": "stream",
     "text": [
      "          uid   d   t   x    y                geometry       date  \\\n",
      "1400000  3478  24  19  32  156  POINT (32.000 156.000) 2024-01-25   \n",
      "1400001  3478  24  20  27  159  POINT (27.000 159.000) 2024-01-25   \n",
      "1400002  3478  24  21  33  163  POINT (33.000 163.000) 2024-01-25   \n",
      "1400003  3478  24  23  33  161  POINT (33.000 161.000) 2024-01-25   \n",
      "1400004  3478  24  27  33  163  POINT (33.000 163.000) 2024-01-25   \n",
      "\n",
      "                   time            datetime  \n",
      "1400000 0 days 09:30:00 2024-01-25 09:30:00  \n",
      "1400001 0 days 10:00:00 2024-01-25 10:00:00  \n",
      "1400002 0 days 10:30:00 2024-01-25 10:30:00  \n",
      "1400003 0 days 11:30:00 2024-01-25 11:30:00  \n",
      "1400004 0 days 13:30:00 2024-01-25 13:30:00  \n",
      "1-itemsets done!\n",
      "2-itemsets done!\n",
      "No new candidates generated. Stopping at 2-itemsets\n"
     ]
    },
    {
     "name": "stderr",
     "output_type": "stream",
     "text": [
      "100%|████████████████████████████████████████████████████████████████████████████████| 247/247 [00:17<00:00, 14.46it/s]\n",
      "C:\\Users\\zhixu\\anaconda3\\Lib\\site-packages\\trackintel\\preprocessing\\positionfixes.py:361: FutureWarning: Downcasting object dtype arrays on .fillna, .ffill, .bfill is deprecated and will change in a future version. Call result.infer_objects(copy=False) instead. To opt-in to the future behavior, set `pd.set_option('future.no_silent_downcasting', True)`\n",
      "  pfs[\"tripleg_id\"] = pfs[\"tripleg_id\"].ffill()\n",
      "C:\\Users\\zhixu\\anaconda3\\Lib\\site-packages\\trackintel\\preprocessing\\positionfixes.py:440: FutureWarning: Downcasting object dtype arrays on .fillna, .ffill, .bfill is deprecated and will change in a future version. Call result.infer_objects(copy=False) instead. To opt-in to the future behavior, set `pd.set_option('future.no_silent_downcasting', True)`\n",
      "  cond_overlap_end = cond_overlap & ~cond_temporal_gap.shift(-1).fillna(False) & pd.isna(pfs[\"tripleg_id\"])\n",
      "C:\\Users\\zhixu\\anaconda3\\Lib\\site-packages\\trackintel\\preprocessing\\positionfixes.py:573: UserWarning: The positionfixes with ids [1500042 1500043 1500223 ... 1599891 1599954 1599955] lead to invalid tripleg geometries. The resulting triplegs were omitted and the tripleg id of the positionfixes was set to nan\n",
      "  warnings.warn(warn_string)\n"
     ]
    },
    {
     "name": "stdout",
     "output_type": "stream",
     "text": [
      "          uid   d   t   x   y               geometry       date  \\\n",
      "1500000  3730  10  24  48  88  POINT (48.000 88.000) 2024-01-11   \n",
      "1500001  3730  10  26  48  88  POINT (48.000 88.000) 2024-01-11   \n",
      "1500002  3730  10  31  49  88  POINT (49.000 88.000) 2024-01-11   \n",
      "1500003  3730  10  32  49  87  POINT (49.000 87.000) 2024-01-11   \n",
      "1500004  3730  10  33  49  87  POINT (49.000 87.000) 2024-01-11   \n",
      "\n",
      "                   time            datetime  \n",
      "1500000 0 days 12:00:00 2024-01-11 12:00:00  \n",
      "1500001 0 days 13:00:00 2024-01-11 13:00:00  \n",
      "1500002 0 days 15:30:00 2024-01-11 15:30:00  \n",
      "1500003 0 days 16:00:00 2024-01-11 16:00:00  \n",
      "1500004 0 days 16:30:00 2024-01-11 16:30:00  \n",
      "1-itemsets done!\n",
      "2-itemsets done!\n"
     ]
    },
    {
     "name": "stderr",
     "output_type": "stream",
     "text": [
      "100%|████████████████████████████████████████████████████████████████████████████████| 258/258 [00:13<00:00, 18.86it/s]\n",
      "C:\\Users\\zhixu\\anaconda3\\Lib\\site-packages\\trackintel\\preprocessing\\positionfixes.py:361: FutureWarning: Downcasting object dtype arrays on .fillna, .ffill, .bfill is deprecated and will change in a future version. Call result.infer_objects(copy=False) instead. To opt-in to the future behavior, set `pd.set_option('future.no_silent_downcasting', True)`\n",
      "  pfs[\"tripleg_id\"] = pfs[\"tripleg_id\"].ffill()\n",
      "C:\\Users\\zhixu\\anaconda3\\Lib\\site-packages\\trackintel\\preprocessing\\positionfixes.py:440: FutureWarning: Downcasting object dtype arrays on .fillna, .ffill, .bfill is deprecated and will change in a future version. Call result.infer_objects(copy=False) instead. To opt-in to the future behavior, set `pd.set_option('future.no_silent_downcasting', True)`\n",
      "  cond_overlap_end = cond_overlap & ~cond_temporal_gap.shift(-1).fillna(False) & pd.isna(pfs[\"tripleg_id\"])\n",
      "C:\\Users\\zhixu\\anaconda3\\Lib\\site-packages\\trackintel\\preprocessing\\positionfixes.py:573: UserWarning: The positionfixes with ids [1600013 1600014 1600022 ... 1699888 1699975 1699976] lead to invalid tripleg geometries. The resulting triplegs were omitted and the tripleg id of the positionfixes was set to nan\n",
      "  warnings.warn(warn_string)\n"
     ]
    },
    {
     "name": "stdout",
     "output_type": "stream",
     "text": [
      "          uid   d   t   x    y                geometry       date  \\\n",
      "1600000  3976  29  36  41  146  POINT (41.000 146.000) 2024-01-30   \n",
      "1600001  3977   0  21  34  146  POINT (34.000 146.000) 2024-01-01   \n",
      "1600002  3977   0  23  36  140  POINT (36.000 140.000) 2024-01-01   \n",
      "1600003  3977   0  24  37  156  POINT (37.000 156.000) 2024-01-01   \n",
      "1600004  3977   0  27  26  152  POINT (26.000 152.000) 2024-01-01   \n",
      "\n",
      "                   time            datetime  \n",
      "1600000 0 days 18:00:00 2024-01-30 18:00:00  \n",
      "1600001 0 days 10:30:00 2024-01-01 10:30:00  \n",
      "1600002 0 days 11:30:00 2024-01-01 11:30:00  \n",
      "1600003 0 days 12:00:00 2024-01-01 12:00:00  \n",
      "1600004 0 days 13:30:00 2024-01-01 13:30:00  \n",
      "1-itemsets done!\n",
      "2-itemsets done!\n"
     ]
    },
    {
     "name": "stderr",
     "output_type": "stream",
     "text": [
      "100%|████████████████████████████████████████████████████████████████████████████████| 256/256 [00:15<00:00, 16.65it/s]\n",
      "C:\\Users\\zhixu\\anaconda3\\Lib\\site-packages\\trackintel\\preprocessing\\positionfixes.py:361: FutureWarning: Downcasting object dtype arrays on .fillna, .ffill, .bfill is deprecated and will change in a future version. Call result.infer_objects(copy=False) instead. To opt-in to the future behavior, set `pd.set_option('future.no_silent_downcasting', True)`\n",
      "  pfs[\"tripleg_id\"] = pfs[\"tripleg_id\"].ffill()\n",
      "C:\\Users\\zhixu\\anaconda3\\Lib\\site-packages\\trackintel\\preprocessing\\positionfixes.py:440: FutureWarning: Downcasting object dtype arrays on .fillna, .ffill, .bfill is deprecated and will change in a future version. Call result.infer_objects(copy=False) instead. To opt-in to the future behavior, set `pd.set_option('future.no_silent_downcasting', True)`\n",
      "  cond_overlap_end = cond_overlap & ~cond_temporal_gap.shift(-1).fillna(False) & pd.isna(pfs[\"tripleg_id\"])\n",
      "C:\\Users\\zhixu\\anaconda3\\Lib\\site-packages\\trackintel\\preprocessing\\positionfixes.py:573: UserWarning: The positionfixes with ids [1700041 1700042 1700685 ... 1799903 1799995 1799996] lead to invalid tripleg geometries. The resulting triplegs were omitted and the tripleg id of the positionfixes was set to nan\n",
      "  warnings.warn(warn_string)\n"
     ]
    },
    {
     "name": "stdout",
     "output_type": "stream",
     "text": [
      "          uid   d   t   x    y                geometry       date  \\\n",
      "1700000  4236  10  25  27  171  POINT (27.000 171.000) 2024-01-11   \n",
      "1700001  4236  10  26  27  170  POINT (27.000 170.000) 2024-01-11   \n",
      "1700002  4236  10  27  27  170  POINT (27.000 170.000) 2024-01-11   \n",
      "1700003  4236  10  28  27  170  POINT (27.000 170.000) 2024-01-11   \n",
      "1700004  4236  10  29  28  171  POINT (28.000 171.000) 2024-01-11   \n",
      "\n",
      "                   time            datetime  \n",
      "1700000 0 days 12:30:00 2024-01-11 12:30:00  \n",
      "1700001 0 days 13:00:00 2024-01-11 13:00:00  \n",
      "1700002 0 days 13:30:00 2024-01-11 13:30:00  \n",
      "1700003 0 days 14:00:00 2024-01-11 14:00:00  \n",
      "1700004 0 days 14:30:00 2024-01-11 14:30:00  \n",
      "1-itemsets done!\n",
      "2-itemsets done!\n"
     ]
    },
    {
     "name": "stderr",
     "output_type": "stream",
     "text": [
      "100%|████████████████████████████████████████████████████████████████████████████████| 260/260 [00:19<00:00, 13.31it/s]\n",
      "C:\\Users\\zhixu\\anaconda3\\Lib\\site-packages\\trackintel\\preprocessing\\positionfixes.py:361: FutureWarning: Downcasting object dtype arrays on .fillna, .ffill, .bfill is deprecated and will change in a future version. Call result.infer_objects(copy=False) instead. To opt-in to the future behavior, set `pd.set_option('future.no_silent_downcasting', True)`\n",
      "  pfs[\"tripleg_id\"] = pfs[\"tripleg_id\"].ffill()\n",
      "C:\\Users\\zhixu\\anaconda3\\Lib\\site-packages\\trackintel\\preprocessing\\positionfixes.py:440: FutureWarning: Downcasting object dtype arrays on .fillna, .ffill, .bfill is deprecated and will change in a future version. Call result.infer_objects(copy=False) instead. To opt-in to the future behavior, set `pd.set_option('future.no_silent_downcasting', True)`\n",
      "  cond_overlap_end = cond_overlap & ~cond_temporal_gap.shift(-1).fillna(False) & pd.isna(pfs[\"tripleg_id\"])\n",
      "C:\\Users\\zhixu\\anaconda3\\Lib\\site-packages\\trackintel\\preprocessing\\positionfixes.py:573: UserWarning: The positionfixes with ids [1800014 1800015 1800022 ... 1899972 1899991 1899992] lead to invalid tripleg geometries. The resulting triplegs were omitted and the tripleg id of the positionfixes was set to nan\n",
      "  warnings.warn(warn_string)\n"
     ]
    },
    {
     "name": "stdout",
     "output_type": "stream",
     "text": [
      "          uid   d   t   x    y                geometry       date  \\\n",
      "1800000  4492  23   5  54   68   POINT (54.000 68.000) 2024-01-24   \n",
      "1800001  4492  23  14  55   69   POINT (55.000 69.000) 2024-01-24   \n",
      "1800002  4492  23  16  41  113  POINT (41.000 113.000) 2024-01-24   \n",
      "1800003  4492  23  18  28  151  POINT (28.000 151.000) 2024-01-24   \n",
      "1800004  4492  23  23  29  149  POINT (29.000 149.000) 2024-01-24   \n",
      "\n",
      "                   time            datetime  \n",
      "1800000 0 days 02:30:00 2024-01-24 02:30:00  \n",
      "1800001 0 days 07:00:00 2024-01-24 07:00:00  \n",
      "1800002 0 days 08:00:00 2024-01-24 08:00:00  \n",
      "1800003 0 days 09:00:00 2024-01-24 09:00:00  \n",
      "1800004 0 days 11:30:00 2024-01-24 11:30:00  \n",
      "1-itemsets done!\n",
      "2-itemsets done!\n"
     ]
    },
    {
     "name": "stderr",
     "output_type": "stream",
     "text": [
      "100%|████████████████████████████████████████████████████████████████████████████████| 265/265 [00:17<00:00, 14.90it/s]\n",
      "C:\\Users\\zhixu\\anaconda3\\Lib\\site-packages\\trackintel\\preprocessing\\positionfixes.py:361: FutureWarning: Downcasting object dtype arrays on .fillna, .ffill, .bfill is deprecated and will change in a future version. Call result.infer_objects(copy=False) instead. To opt-in to the future behavior, set `pd.set_option('future.no_silent_downcasting', True)`\n",
      "  pfs[\"tripleg_id\"] = pfs[\"tripleg_id\"].ffill()\n",
      "C:\\Users\\zhixu\\anaconda3\\Lib\\site-packages\\trackintel\\preprocessing\\positionfixes.py:440: FutureWarning: Downcasting object dtype arrays on .fillna, .ffill, .bfill is deprecated and will change in a future version. Call result.infer_objects(copy=False) instead. To opt-in to the future behavior, set `pd.set_option('future.no_silent_downcasting', True)`\n",
      "  cond_overlap_end = cond_overlap & ~cond_temporal_gap.shift(-1).fillna(False) & pd.isna(pfs[\"tripleg_id\"])\n",
      "C:\\Users\\zhixu\\anaconda3\\Lib\\site-packages\\trackintel\\preprocessing\\positionfixes.py:573: UserWarning: The positionfixes with ids [1900007 1900008 1900070 ... 1999805 1999974 1999975] lead to invalid tripleg geometries. The resulting triplegs were omitted and the tripleg id of the positionfixes was set to nan\n",
      "  warnings.warn(warn_string)\n"
     ]
    },
    {
     "name": "stdout",
     "output_type": "stream",
     "text": [
      "          uid   d   t   x    y                geometry       date  \\\n",
      "1900000  4753  18  29  17  174  POINT (17.000 174.000) 2024-01-19   \n",
      "1900001  4753  18  30  17  174  POINT (17.000 174.000) 2024-01-19   \n",
      "1900002  4753  18  31  19  170  POINT (19.000 170.000) 2024-01-19   \n",
      "1900003  4753  18  32  18  173  POINT (18.000 173.000) 2024-01-19   \n",
      "1900004  4753  18  33  18  173  POINT (18.000 173.000) 2024-01-19   \n",
      "\n",
      "                   time            datetime  \n",
      "1900000 0 days 14:30:00 2024-01-19 14:30:00  \n",
      "1900001 0 days 15:00:00 2024-01-19 15:00:00  \n",
      "1900002 0 days 15:30:00 2024-01-19 15:30:00  \n",
      "1900003 0 days 16:00:00 2024-01-19 16:00:00  \n",
      "1900004 0 days 16:30:00 2024-01-19 16:30:00  \n",
      "1-itemsets done!\n",
      "2-itemsets done!\n"
     ]
    },
    {
     "name": "stderr",
     "output_type": "stream",
     "text": [
      "100%|████████████████████████████████████████████████████████████████████████████████| 276/276 [00:17<00:00, 15.35it/s]\n",
      "C:\\Users\\zhixu\\anaconda3\\Lib\\site-packages\\trackintel\\preprocessing\\positionfixes.py:361: FutureWarning: Downcasting object dtype arrays on .fillna, .ffill, .bfill is deprecated and will change in a future version. Call result.infer_objects(copy=False) instead. To opt-in to the future behavior, set `pd.set_option('future.no_silent_downcasting', True)`\n",
      "  pfs[\"tripleg_id\"] = pfs[\"tripleg_id\"].ffill()\n",
      "C:\\Users\\zhixu\\anaconda3\\Lib\\site-packages\\trackintel\\preprocessing\\positionfixes.py:440: FutureWarning: Downcasting object dtype arrays on .fillna, .ffill, .bfill is deprecated and will change in a future version. Call result.infer_objects(copy=False) instead. To opt-in to the future behavior, set `pd.set_option('future.no_silent_downcasting', True)`\n",
      "  cond_overlap_end = cond_overlap & ~cond_temporal_gap.shift(-1).fillna(False) & pd.isna(pfs[\"tripleg_id\"])\n",
      "C:\\Users\\zhixu\\anaconda3\\Lib\\site-packages\\trackintel\\preprocessing\\positionfixes.py:573: UserWarning: The positionfixes with ids [2000023 2000024 2000047 ... 2099961 2099962 2099963] lead to invalid tripleg geometries. The resulting triplegs were omitted and the tripleg id of the positionfixes was set to nan\n",
      "  warnings.warn(warn_string)\n"
     ]
    },
    {
     "name": "stdout",
     "output_type": "stream",
     "text": [
      "          uid   d   t   x    y                geometry       date  \\\n",
      "2000000  5019  21  14  35  154  POINT (35.000 154.000) 2024-01-22   \n",
      "2000001  5019  21  15  20  172  POINT (20.000 172.000) 2024-01-22   \n",
      "2000002  5019  21  16  38  154  POINT (38.000 154.000) 2024-01-22   \n",
      "2000003  5019  21  23  38  155  POINT (38.000 155.000) 2024-01-22   \n",
      "2000004  5019  21  24  34  138  POINT (34.000 138.000) 2024-01-22   \n",
      "\n",
      "                   time            datetime  \n",
      "2000000 0 days 07:00:00 2024-01-22 07:00:00  \n",
      "2000001 0 days 07:30:00 2024-01-22 07:30:00  \n",
      "2000002 0 days 08:00:00 2024-01-22 08:00:00  \n",
      "2000003 0 days 11:30:00 2024-01-22 11:30:00  \n",
      "2000004 0 days 12:00:00 2024-01-22 12:00:00  \n",
      "1-itemsets done!\n",
      "2-itemsets done!\n"
     ]
    },
    {
     "name": "stderr",
     "output_type": "stream",
     "text": [
      "100%|████████████████████████████████████████████████████████████████████████████████| 253/253 [00:18<00:00, 13.79it/s]\n",
      "C:\\Users\\zhixu\\anaconda3\\Lib\\site-packages\\trackintel\\preprocessing\\positionfixes.py:361: FutureWarning: Downcasting object dtype arrays on .fillna, .ffill, .bfill is deprecated and will change in a future version. Call result.infer_objects(copy=False) instead. To opt-in to the future behavior, set `pd.set_option('future.no_silent_downcasting', True)`\n",
      "  pfs[\"tripleg_id\"] = pfs[\"tripleg_id\"].ffill()\n",
      "C:\\Users\\zhixu\\anaconda3\\Lib\\site-packages\\trackintel\\preprocessing\\positionfixes.py:440: FutureWarning: Downcasting object dtype arrays on .fillna, .ffill, .bfill is deprecated and will change in a future version. Call result.infer_objects(copy=False) instead. To opt-in to the future behavior, set `pd.set_option('future.no_silent_downcasting', True)`\n",
      "  cond_overlap_end = cond_overlap & ~cond_temporal_gap.shift(-1).fillna(False) & pd.isna(pfs[\"tripleg_id\"])\n",
      "C:\\Users\\zhixu\\anaconda3\\Lib\\site-packages\\trackintel\\preprocessing\\positionfixes.py:573: UserWarning: The positionfixes with ids [2100054 2100055 2100057 ... 2199131 2199942 2199943] lead to invalid tripleg geometries. The resulting triplegs were omitted and the tripleg id of the positionfixes was set to nan\n",
      "  warnings.warn(warn_string)\n"
     ]
    },
    {
     "name": "stdout",
     "output_type": "stream",
     "text": [
      "          uid  d   t   x    y                geometry       date  \\\n",
      "2100000  5294  6  24  32  155  POINT (32.000 155.000) 2024-01-07   \n",
      "2100001  5294  6  28  32  155  POINT (32.000 155.000) 2024-01-07   \n",
      "2100002  5294  6  29  33  145  POINT (33.000 145.000) 2024-01-07   \n",
      "2100003  5294  6  30  39  125  POINT (39.000 125.000) 2024-01-07   \n",
      "2100004  5294  6  36  41  131  POINT (41.000 131.000) 2024-01-07   \n",
      "\n",
      "                   time            datetime  \n",
      "2100000 0 days 12:00:00 2024-01-07 12:00:00  \n",
      "2100001 0 days 14:00:00 2024-01-07 14:00:00  \n",
      "2100002 0 days 14:30:00 2024-01-07 14:30:00  \n",
      "2100003 0 days 15:00:00 2024-01-07 15:00:00  \n",
      "2100004 0 days 18:00:00 2024-01-07 18:00:00  \n",
      "1-itemsets done!\n",
      "2-itemsets done!\n"
     ]
    },
    {
     "name": "stderr",
     "output_type": "stream",
     "text": [
      "100%|████████████████████████████████████████████████████████████████████████████████| 244/244 [00:22<00:00, 10.93it/s]\n",
      "C:\\Users\\zhixu\\anaconda3\\Lib\\site-packages\\trackintel\\preprocessing\\positionfixes.py:361: FutureWarning: Downcasting object dtype arrays on .fillna, .ffill, .bfill is deprecated and will change in a future version. Call result.infer_objects(copy=False) instead. To opt-in to the future behavior, set `pd.set_option('future.no_silent_downcasting', True)`\n",
      "  pfs[\"tripleg_id\"] = pfs[\"tripleg_id\"].ffill()\n",
      "C:\\Users\\zhixu\\anaconda3\\Lib\\site-packages\\trackintel\\preprocessing\\positionfixes.py:440: FutureWarning: Downcasting object dtype arrays on .fillna, .ffill, .bfill is deprecated and will change in a future version. Call result.infer_objects(copy=False) instead. To opt-in to the future behavior, set `pd.set_option('future.no_silent_downcasting', True)`\n",
      "  cond_overlap_end = cond_overlap & ~cond_temporal_gap.shift(-1).fillna(False) & pd.isna(pfs[\"tripleg_id\"])\n",
      "C:\\Users\\zhixu\\anaconda3\\Lib\\site-packages\\trackintel\\preprocessing\\positionfixes.py:573: UserWarning: The positionfixes with ids [2200964 2200965 2200966 ... 2299289 2299332 2299333] lead to invalid tripleg geometries. The resulting triplegs were omitted and the tripleg id of the positionfixes was set to nan\n",
      "  warnings.warn(warn_string)\n"
     ]
    },
    {
     "name": "stdout",
     "output_type": "stream",
     "text": [
      "          uid  d   t   x    y                geometry       date  \\\n",
      "2200000  5546  3  41  14  172  POINT (14.000 172.000) 2024-01-04   \n",
      "2200001  5546  4  11  23  174  POINT (23.000 174.000) 2024-01-05   \n",
      "2200002  5546  4  12  15  175  POINT (15.000 175.000) 2024-01-05   \n",
      "2200003  5546  4  26  21  170  POINT (21.000 170.000) 2024-01-05   \n",
      "2200004  5546  4  27  32  143  POINT (32.000 143.000) 2024-01-05   \n",
      "\n",
      "                   time            datetime  \n",
      "2200000 0 days 20:30:00 2024-01-04 20:30:00  \n",
      "2200001 0 days 05:30:00 2024-01-05 05:30:00  \n",
      "2200002 0 days 06:00:00 2024-01-05 06:00:00  \n",
      "2200003 0 days 13:00:00 2024-01-05 13:00:00  \n",
      "2200004 0 days 13:30:00 2024-01-05 13:30:00  \n",
      "1-itemsets done!\n",
      "2-itemsets done!\n",
      "No new candidates generated. Stopping at 2-itemsets\n"
     ]
    },
    {
     "name": "stderr",
     "output_type": "stream",
     "text": [
      "100%|████████████████████████████████████████████████████████████████████████████████| 255/255 [00:19<00:00, 13.32it/s]\n",
      "C:\\Users\\zhixu\\anaconda3\\Lib\\site-packages\\trackintel\\preprocessing\\positionfixes.py:361: FutureWarning: Downcasting object dtype arrays on .fillna, .ffill, .bfill is deprecated and will change in a future version. Call result.infer_objects(copy=False) instead. To opt-in to the future behavior, set `pd.set_option('future.no_silent_downcasting', True)`\n",
      "  pfs[\"tripleg_id\"] = pfs[\"tripleg_id\"].ffill()\n",
      "C:\\Users\\zhixu\\anaconda3\\Lib\\site-packages\\trackintel\\preprocessing\\positionfixes.py:440: FutureWarning: Downcasting object dtype arrays on .fillna, .ffill, .bfill is deprecated and will change in a future version. Call result.infer_objects(copy=False) instead. To opt-in to the future behavior, set `pd.set_option('future.no_silent_downcasting', True)`\n",
      "  cond_overlap_end = cond_overlap & ~cond_temporal_gap.shift(-1).fillna(False) & pd.isna(pfs[\"tripleg_id\"])\n",
      "C:\\Users\\zhixu\\anaconda3\\Lib\\site-packages\\trackintel\\preprocessing\\positionfixes.py:573: UserWarning: The positionfixes with ids [2300174 2300175 2300230 ... 2399892 2399968 2399969] lead to invalid tripleg geometries. The resulting triplegs were omitted and the tripleg id of the positionfixes was set to nan\n",
      "  warnings.warn(warn_string)\n"
     ]
    },
    {
     "name": "stdout",
     "output_type": "stream",
     "text": [
      "          uid   d   t   x    y                geometry       date  \\\n",
      "2300000  5789  19  42  23  169  POINT (23.000 169.000) 2024-01-20   \n",
      "2300001  5789  19  43  23  169  POINT (23.000 169.000) 2024-01-20   \n",
      "2300002  5789  19  44  24  169  POINT (24.000 169.000) 2024-01-20   \n",
      "2300003  5789  19  45  23  169  POINT (23.000 169.000) 2024-01-20   \n",
      "2300004  5789  19  46  23  169  POINT (23.000 169.000) 2024-01-20   \n",
      "\n",
      "                   time            datetime  \n",
      "2300000 0 days 21:00:00 2024-01-20 21:00:00  \n",
      "2300001 0 days 21:30:00 2024-01-20 21:30:00  \n",
      "2300002 0 days 22:00:00 2024-01-20 22:00:00  \n",
      "2300003 0 days 22:30:00 2024-01-20 22:30:00  \n",
      "2300004 0 days 23:00:00 2024-01-20 23:00:00  \n",
      "1-itemsets done!\n",
      "2-itemsets done!\n"
     ]
    },
    {
     "name": "stderr",
     "output_type": "stream",
     "text": [
      "100%|████████████████████████████████████████████████████████████████████████████████| 256/256 [00:18<00:00, 13.64it/s]\n",
      "C:\\Users\\zhixu\\anaconda3\\Lib\\site-packages\\trackintel\\preprocessing\\positionfixes.py:361: FutureWarning: Downcasting object dtype arrays on .fillna, .ffill, .bfill is deprecated and will change in a future version. Call result.infer_objects(copy=False) instead. To opt-in to the future behavior, set `pd.set_option('future.no_silent_downcasting', True)`\n",
      "  pfs[\"tripleg_id\"] = pfs[\"tripleg_id\"].ffill()\n",
      "C:\\Users\\zhixu\\anaconda3\\Lib\\site-packages\\trackintel\\preprocessing\\positionfixes.py:440: FutureWarning: Downcasting object dtype arrays on .fillna, .ffill, .bfill is deprecated and will change in a future version. Call result.infer_objects(copy=False) instead. To opt-in to the future behavior, set `pd.set_option('future.no_silent_downcasting', True)`\n",
      "  cond_overlap_end = cond_overlap & ~cond_temporal_gap.shift(-1).fillna(False) & pd.isna(pfs[\"tripleg_id\"])\n",
      "C:\\Users\\zhixu\\anaconda3\\Lib\\site-packages\\trackintel\\preprocessing\\positionfixes.py:573: UserWarning: The positionfixes with ids [2400011 2400012 2400013 ... 2499985 2499995 2499996] lead to invalid tripleg geometries. The resulting triplegs were omitted and the tripleg id of the positionfixes was set to nan\n",
      "  warnings.warn(warn_string)\n"
     ]
    },
    {
     "name": "stdout",
     "output_type": "stream",
     "text": [
      "          uid   d   t   x    y                geometry       date  \\\n",
      "2400000  6047  12  26  25  135  POINT (25.000 135.000) 2024-01-13   \n",
      "2400001  6047  12  27  25  135  POINT (25.000 135.000) 2024-01-13   \n",
      "2400002  6047  12  28  25  134  POINT (25.000 134.000) 2024-01-13   \n",
      "2400003  6047  12  29  25  135  POINT (25.000 135.000) 2024-01-13   \n",
      "2400004  6047  12  30  25  135  POINT (25.000 135.000) 2024-01-13   \n",
      "\n",
      "                   time            datetime  \n",
      "2400000 0 days 13:00:00 2024-01-13 13:00:00  \n",
      "2400001 0 days 13:30:00 2024-01-13 13:30:00  \n",
      "2400002 0 days 14:00:00 2024-01-13 14:00:00  \n",
      "2400003 0 days 14:30:00 2024-01-13 14:30:00  \n",
      "2400004 0 days 15:00:00 2024-01-13 15:00:00  \n",
      "1-itemsets done!\n",
      "2-itemsets done!\n"
     ]
    },
    {
     "name": "stderr",
     "output_type": "stream",
     "text": [
      "100%|████████████████████████████████████████████████████████████████████████████████| 253/253 [00:18<00:00, 13.68it/s]\n",
      "C:\\Users\\zhixu\\anaconda3\\Lib\\site-packages\\trackintel\\preprocessing\\positionfixes.py:361: FutureWarning: Downcasting object dtype arrays on .fillna, .ffill, .bfill is deprecated and will change in a future version. Call result.infer_objects(copy=False) instead. To opt-in to the future behavior, set `pd.set_option('future.no_silent_downcasting', True)`\n",
      "  pfs[\"tripleg_id\"] = pfs[\"tripleg_id\"].ffill()\n",
      "C:\\Users\\zhixu\\anaconda3\\Lib\\site-packages\\trackintel\\preprocessing\\positionfixes.py:440: FutureWarning: Downcasting object dtype arrays on .fillna, .ffill, .bfill is deprecated and will change in a future version. Call result.infer_objects(copy=False) instead. To opt-in to the future behavior, set `pd.set_option('future.no_silent_downcasting', True)`\n",
      "  cond_overlap_end = cond_overlap & ~cond_temporal_gap.shift(-1).fillna(False) & pd.isna(pfs[\"tripleg_id\"])\n",
      "C:\\Users\\zhixu\\anaconda3\\Lib\\site-packages\\trackintel\\preprocessing\\positionfixes.py:573: UserWarning: The positionfixes with ids [2500000 2500001 2500002 ... 2599832 2599983 2599984] lead to invalid tripleg geometries. The resulting triplegs were omitted and the tripleg id of the positionfixes was set to nan\n",
      "  warnings.warn(warn_string)\n"
     ]
    },
    {
     "name": "stdout",
     "output_type": "stream",
     "text": [
      "          uid  d   t   x    y                geometry       date  \\\n",
      "2500000  6302  0  44  38  145  POINT (38.000 145.000) 2024-01-01   \n",
      "2500001  6302  0  45  38  145  POINT (38.000 145.000) 2024-01-01   \n",
      "2500002  6302  1  15  38  145  POINT (38.000 145.000) 2024-01-02   \n",
      "2500003  6302  1  16  38  145  POINT (38.000 145.000) 2024-01-02   \n",
      "2500004  6302  1  18  38  145  POINT (38.000 145.000) 2024-01-02   \n",
      "\n",
      "                   time            datetime  \n",
      "2500000 0 days 22:00:00 2024-01-01 22:00:00  \n",
      "2500001 0 days 22:30:00 2024-01-01 22:30:00  \n",
      "2500002 0 days 07:30:00 2024-01-02 07:30:00  \n",
      "2500003 0 days 08:00:00 2024-01-02 08:00:00  \n",
      "2500004 0 days 09:00:00 2024-01-02 09:00:00  \n",
      "1-itemsets done!\n",
      "2-itemsets done!\n",
      "No new candidates generated. Stopping at 2-itemsets\n"
     ]
    },
    {
     "name": "stderr",
     "output_type": "stream",
     "text": [
      "100%|████████████████████████████████████████████████████████████████████████████████| 268/268 [00:18<00:00, 14.86it/s]\n",
      "C:\\Users\\zhixu\\anaconda3\\Lib\\site-packages\\trackintel\\preprocessing\\positionfixes.py:361: FutureWarning: Downcasting object dtype arrays on .fillna, .ffill, .bfill is deprecated and will change in a future version. Call result.infer_objects(copy=False) instead. To opt-in to the future behavior, set `pd.set_option('future.no_silent_downcasting', True)`\n",
      "  pfs[\"tripleg_id\"] = pfs[\"tripleg_id\"].ffill()\n",
      "C:\\Users\\zhixu\\anaconda3\\Lib\\site-packages\\trackintel\\preprocessing\\positionfixes.py:440: FutureWarning: Downcasting object dtype arrays on .fillna, .ffill, .bfill is deprecated and will change in a future version. Call result.infer_objects(copy=False) instead. To opt-in to the future behavior, set `pd.set_option('future.no_silent_downcasting', True)`\n",
      "  cond_overlap_end = cond_overlap & ~cond_temporal_gap.shift(-1).fillna(False) & pd.isna(pfs[\"tripleg_id\"])\n",
      "C:\\Users\\zhixu\\anaconda3\\Lib\\site-packages\\trackintel\\preprocessing\\positionfixes.py:573: UserWarning: The positionfixes with ids [2600143 2600144 2600150 ... 2699776 2699979 2699980] lead to invalid tripleg geometries. The resulting triplegs were omitted and the tripleg id of the positionfixes was set to nan\n",
      "  warnings.warn(warn_string)\n"
     ]
    },
    {
     "name": "stdout",
     "output_type": "stream",
     "text": [
      "          uid   d   t   x    y                geometry       date  \\\n",
      "2600000  6556  21  36  40  126  POINT (40.000 126.000) 2024-01-22   \n",
      "2600001  6556  21  37  41  116  POINT (41.000 116.000) 2024-01-22   \n",
      "2600002  6556  22  12  41  113  POINT (41.000 113.000) 2024-01-23   \n",
      "2600003  6556  22  13  48   92   POINT (48.000 92.000) 2024-01-23   \n",
      "2600004  6556  22  23  60   85   POINT (60.000 85.000) 2024-01-23   \n",
      "\n",
      "                   time            datetime  \n",
      "2600000 0 days 18:00:00 2024-01-22 18:00:00  \n",
      "2600001 0 days 18:30:00 2024-01-22 18:30:00  \n",
      "2600002 0 days 06:00:00 2024-01-23 06:00:00  \n",
      "2600003 0 days 06:30:00 2024-01-23 06:30:00  \n",
      "2600004 0 days 11:30:00 2024-01-23 11:30:00  \n",
      "1-itemsets done!\n",
      "2-itemsets done!\n"
     ]
    },
    {
     "name": "stderr",
     "output_type": "stream",
     "text": [
      "100%|████████████████████████████████████████████████████████████████████████████████| 269/269 [00:17<00:00, 15.59it/s]\n",
      "C:\\Users\\zhixu\\anaconda3\\Lib\\site-packages\\trackintel\\preprocessing\\positionfixes.py:361: FutureWarning: Downcasting object dtype arrays on .fillna, .ffill, .bfill is deprecated and will change in a future version. Call result.infer_objects(copy=False) instead. To opt-in to the future behavior, set `pd.set_option('future.no_silent_downcasting', True)`\n",
      "  pfs[\"tripleg_id\"] = pfs[\"tripleg_id\"].ffill()\n",
      "C:\\Users\\zhixu\\anaconda3\\Lib\\site-packages\\trackintel\\preprocessing\\positionfixes.py:440: FutureWarning: Downcasting object dtype arrays on .fillna, .ffill, .bfill is deprecated and will change in a future version. Call result.infer_objects(copy=False) instead. To opt-in to the future behavior, set `pd.set_option('future.no_silent_downcasting', True)`\n",
      "  cond_overlap_end = cond_overlap & ~cond_temporal_gap.shift(-1).fillna(False) & pd.isna(pfs[\"tripleg_id\"])\n",
      "C:\\Users\\zhixu\\anaconda3\\Lib\\site-packages\\trackintel\\preprocessing\\positionfixes.py:573: UserWarning: The positionfixes with ids [2700278 2700279 2700310 ... 2799963 2799996 2799997] lead to invalid tripleg geometries. The resulting triplegs were omitted and the tripleg id of the positionfixes was set to nan\n",
      "  warnings.warn(warn_string)\n"
     ]
    },
    {
     "name": "stdout",
     "output_type": "stream",
     "text": [
      "          uid   d   t   x    y                geometry       date  \\\n",
      "2700000  6825  12  38  33  158  POINT (33.000 158.000) 2024-01-13   \n",
      "2700001  6825  12  39  30  160  POINT (30.000 160.000) 2024-01-13   \n",
      "2700002  6825  12  40  31  160  POINT (31.000 160.000) 2024-01-13   \n",
      "2700003  6825  12  42  30  160  POINT (30.000 160.000) 2024-01-13   \n",
      "2700004  6825  12  43  31  160  POINT (31.000 160.000) 2024-01-13   \n",
      "\n",
      "                   time            datetime  \n",
      "2700000 0 days 19:00:00 2024-01-13 19:00:00  \n",
      "2700001 0 days 19:30:00 2024-01-13 19:30:00  \n",
      "2700002 0 days 20:00:00 2024-01-13 20:00:00  \n",
      "2700003 0 days 21:00:00 2024-01-13 21:00:00  \n",
      "2700004 0 days 21:30:00 2024-01-13 21:30:00  \n",
      "1-itemsets done!\n",
      "2-itemsets done!\n"
     ]
    },
    {
     "name": "stderr",
     "output_type": "stream",
     "text": [
      "100%|████████████████████████████████████████████████████████████████████████████████| 262/262 [00:14<00:00, 17.87it/s]\n",
      "C:\\Users\\zhixu\\anaconda3\\Lib\\site-packages\\trackintel\\preprocessing\\positionfixes.py:361: FutureWarning: Downcasting object dtype arrays on .fillna, .ffill, .bfill is deprecated and will change in a future version. Call result.infer_objects(copy=False) instead. To opt-in to the future behavior, set `pd.set_option('future.no_silent_downcasting', True)`\n",
      "  pfs[\"tripleg_id\"] = pfs[\"tripleg_id\"].ffill()\n",
      "C:\\Users\\zhixu\\anaconda3\\Lib\\site-packages\\trackintel\\preprocessing\\positionfixes.py:440: FutureWarning: Downcasting object dtype arrays on .fillna, .ffill, .bfill is deprecated and will change in a future version. Call result.infer_objects(copy=False) instead. To opt-in to the future behavior, set `pd.set_option('future.no_silent_downcasting', True)`\n",
      "  cond_overlap_end = cond_overlap & ~cond_temporal_gap.shift(-1).fillna(False) & pd.isna(pfs[\"tripleg_id\"])\n",
      "C:\\Users\\zhixu\\anaconda3\\Lib\\site-packages\\trackintel\\preprocessing\\positionfixes.py:573: UserWarning: The positionfixes with ids [2800122 2800123 2800134 ... 2899754 2899776 2899777] lead to invalid tripleg geometries. The resulting triplegs were omitted and the tripleg id of the positionfixes was set to nan\n",
      "  warnings.warn(warn_string)\n"
     ]
    },
    {
     "name": "stdout",
     "output_type": "stream",
     "text": [
      "          uid   d  t   x    y                geometry       date  \\\n",
      "2800000  7094  24  1  33  142  POINT (33.000 142.000) 2024-01-25   \n",
      "2800001  7094  24  2  33  143  POINT (33.000 143.000) 2024-01-25   \n",
      "2800002  7094  24  3  33  142  POINT (33.000 142.000) 2024-01-25   \n",
      "2800003  7094  24  4  33  142  POINT (33.000 142.000) 2024-01-25   \n",
      "2800004  7094  24  5  33  142  POINT (33.000 142.000) 2024-01-25   \n",
      "\n",
      "                   time            datetime  \n",
      "2800000 0 days 00:30:00 2024-01-25 00:30:00  \n",
      "2800001 0 days 01:00:00 2024-01-25 01:00:00  \n",
      "2800002 0 days 01:30:00 2024-01-25 01:30:00  \n",
      "2800003 0 days 02:00:00 2024-01-25 02:00:00  \n",
      "2800004 0 days 02:30:00 2024-01-25 02:30:00  \n",
      "1-itemsets done!\n",
      "2-itemsets done!\n",
      "No new candidates generated. Stopping at 2-itemsets\n"
     ]
    },
    {
     "name": "stderr",
     "output_type": "stream",
     "text": [
      "100%|████████████████████████████████████████████████████████████████████████████████| 263/263 [00:17<00:00, 15.12it/s]\n",
      "C:\\Users\\zhixu\\anaconda3\\Lib\\site-packages\\trackintel\\preprocessing\\positionfixes.py:361: FutureWarning: Downcasting object dtype arrays on .fillna, .ffill, .bfill is deprecated and will change in a future version. Call result.infer_objects(copy=False) instead. To opt-in to the future behavior, set `pd.set_option('future.no_silent_downcasting', True)`\n",
      "  pfs[\"tripleg_id\"] = pfs[\"tripleg_id\"].ffill()\n",
      "C:\\Users\\zhixu\\anaconda3\\Lib\\site-packages\\trackintel\\preprocessing\\positionfixes.py:440: FutureWarning: Downcasting object dtype arrays on .fillna, .ffill, .bfill is deprecated and will change in a future version. Call result.infer_objects(copy=False) instead. To opt-in to the future behavior, set `pd.set_option('future.no_silent_downcasting', True)`\n",
      "  cond_overlap_end = cond_overlap & ~cond_temporal_gap.shift(-1).fillna(False) & pd.isna(pfs[\"tripleg_id\"])\n",
      "C:\\Users\\zhixu\\anaconda3\\Lib\\site-packages\\trackintel\\preprocessing\\positionfixes.py:573: UserWarning: The positionfixes with ids [2900307 2900308 2900575 ... 2999941 2999980 2999981] lead to invalid tripleg geometries. The resulting triplegs were omitted and the tripleg id of the positionfixes was set to nan\n",
      "  warnings.warn(warn_string)\n"
     ]
    },
    {
     "name": "stdout",
     "output_type": "stream",
     "text": [
      "          uid   d   t   x    y                geometry       date  \\\n",
      "2900000  7357  16  10  51   38   POINT (51.000 38.000) 2024-01-17   \n",
      "2900001  7357  16  11  51   38   POINT (51.000 38.000) 2024-01-17   \n",
      "2900002  7357  16  12  50   39   POINT (50.000 39.000) 2024-01-17   \n",
      "2900003  7357  16  13  56   72   POINT (56.000 72.000) 2024-01-17   \n",
      "2900004  7357  16  14  40  117  POINT (40.000 117.000) 2024-01-17   \n",
      "\n",
      "                   time            datetime  \n",
      "2900000 0 days 05:00:00 2024-01-17 05:00:00  \n",
      "2900001 0 days 05:30:00 2024-01-17 05:30:00  \n",
      "2900002 0 days 06:00:00 2024-01-17 06:00:00  \n",
      "2900003 0 days 06:30:00 2024-01-17 06:30:00  \n",
      "2900004 0 days 07:00:00 2024-01-17 07:00:00  \n",
      "1-itemsets done!\n",
      "2-itemsets done!\n"
     ]
    },
    {
     "name": "stderr",
     "output_type": "stream",
     "text": [
      "100%|████████████████████████████████████████████████████████████████████████████████| 264/264 [00:18<00:00, 14.58it/s]\n",
      "C:\\Users\\zhixu\\anaconda3\\Lib\\site-packages\\trackintel\\preprocessing\\positionfixes.py:361: FutureWarning: Downcasting object dtype arrays on .fillna, .ffill, .bfill is deprecated and will change in a future version. Call result.infer_objects(copy=False) instead. To opt-in to the future behavior, set `pd.set_option('future.no_silent_downcasting', True)`\n",
      "  pfs[\"tripleg_id\"] = pfs[\"tripleg_id\"].ffill()\n",
      "C:\\Users\\zhixu\\anaconda3\\Lib\\site-packages\\trackintel\\preprocessing\\positionfixes.py:440: FutureWarning: Downcasting object dtype arrays on .fillna, .ffill, .bfill is deprecated and will change in a future version. Call result.infer_objects(copy=False) instead. To opt-in to the future behavior, set `pd.set_option('future.no_silent_downcasting', True)`\n",
      "  cond_overlap_end = cond_overlap & ~cond_temporal_gap.shift(-1).fillna(False) & pd.isna(pfs[\"tripleg_id\"])\n",
      "C:\\Users\\zhixu\\anaconda3\\Lib\\site-packages\\trackintel\\preprocessing\\positionfixes.py:573: UserWarning: The positionfixes with ids [3000004 3000005 3000006 ... 3099950 3099958 3099959] lead to invalid tripleg geometries. The resulting triplegs were omitted and the tripleg id of the positionfixes was set to nan\n",
      "  warnings.warn(warn_string)\n"
     ]
    },
    {
     "name": "stdout",
     "output_type": "stream",
     "text": [
      "          uid   d   t   x    y                geometry       date  \\\n",
      "3000000  7620  20  43  11  170  POINT (11.000 170.000) 2024-01-21   \n",
      "3000001  7620  20  44  11  172  POINT (11.000 172.000) 2024-01-21   \n",
      "3000002  7620  21   0  11  172  POINT (11.000 172.000) 2024-01-22   \n",
      "3000003  7620  21   1  10  171  POINT (10.000 171.000) 2024-01-22   \n",
      "3000004  7620  21   4  11  172  POINT (11.000 172.000) 2024-01-22   \n",
      "\n",
      "                   time            datetime  \n",
      "3000000 0 days 21:30:00 2024-01-21 21:30:00  \n",
      "3000001 0 days 22:00:00 2024-01-21 22:00:00  \n",
      "3000002 0 days 00:00:00 2024-01-22 00:00:00  \n",
      "3000003 0 days 00:30:00 2024-01-22 00:30:00  \n",
      "3000004 0 days 02:00:00 2024-01-22 02:00:00  \n",
      "1-itemsets done!\n",
      "2-itemsets done!\n"
     ]
    },
    {
     "name": "stderr",
     "output_type": "stream",
     "text": [
      "100%|████████████████████████████████████████████████████████████████████████████████| 271/271 [00:21<00:00, 12.90it/s]\n",
      "C:\\Users\\zhixu\\anaconda3\\Lib\\site-packages\\trackintel\\preprocessing\\positionfixes.py:361: FutureWarning: Downcasting object dtype arrays on .fillna, .ffill, .bfill is deprecated and will change in a future version. Call result.infer_objects(copy=False) instead. To opt-in to the future behavior, set `pd.set_option('future.no_silent_downcasting', True)`\n",
      "  pfs[\"tripleg_id\"] = pfs[\"tripleg_id\"].ffill()\n",
      "C:\\Users\\zhixu\\anaconda3\\Lib\\site-packages\\trackintel\\preprocessing\\positionfixes.py:440: FutureWarning: Downcasting object dtype arrays on .fillna, .ffill, .bfill is deprecated and will change in a future version. Call result.infer_objects(copy=False) instead. To opt-in to the future behavior, set `pd.set_option('future.no_silent_downcasting', True)`\n",
      "  cond_overlap_end = cond_overlap & ~cond_temporal_gap.shift(-1).fillna(False) & pd.isna(pfs[\"tripleg_id\"])\n",
      "C:\\Users\\zhixu\\anaconda3\\Lib\\site-packages\\trackintel\\preprocessing\\positionfixes.py:573: UserWarning: The positionfixes with ids [3100030 3100031 3100124 ... 3199917 3199972 3199973] lead to invalid tripleg geometries. The resulting triplegs were omitted and the tripleg id of the positionfixes was set to nan\n",
      "  warnings.warn(warn_string)\n"
     ]
    },
    {
     "name": "stdout",
     "output_type": "stream",
     "text": [
      "          uid  d   t   x    y                geometry       date  \\\n",
      "3100000  7885  8  24  29  144  POINT (29.000 144.000) 2024-01-09   \n",
      "3100001  7885  8  26  26  145  POINT (26.000 145.000) 2024-01-09   \n",
      "3100002  7885  8  27  27  145  POINT (27.000 145.000) 2024-01-09   \n",
      "3100003  7885  8  28  27  136  POINT (27.000 136.000) 2024-01-09   \n",
      "3100004  7885  8  29  33  141  POINT (33.000 141.000) 2024-01-09   \n",
      "\n",
      "                   time            datetime  \n",
      "3100000 0 days 12:00:00 2024-01-09 12:00:00  \n",
      "3100001 0 days 13:00:00 2024-01-09 13:00:00  \n",
      "3100002 0 days 13:30:00 2024-01-09 13:30:00  \n",
      "3100003 0 days 14:00:00 2024-01-09 14:00:00  \n",
      "3100004 0 days 14:30:00 2024-01-09 14:30:00  \n",
      "1-itemsets done!\n",
      "2-itemsets done!\n",
      "No new candidates generated. Stopping at 2-itemsets\n"
     ]
    },
    {
     "name": "stderr",
     "output_type": "stream",
     "text": [
      "100%|████████████████████████████████████████████████████████████████████████████████| 262/262 [00:14<00:00, 17.61it/s]\n",
      "C:\\Users\\zhixu\\anaconda3\\Lib\\site-packages\\trackintel\\preprocessing\\positionfixes.py:361: FutureWarning: Downcasting object dtype arrays on .fillna, .ffill, .bfill is deprecated and will change in a future version. Call result.infer_objects(copy=False) instead. To opt-in to the future behavior, set `pd.set_option('future.no_silent_downcasting', True)`\n",
      "  pfs[\"tripleg_id\"] = pfs[\"tripleg_id\"].ffill()\n",
      "C:\\Users\\zhixu\\anaconda3\\Lib\\site-packages\\trackintel\\preprocessing\\positionfixes.py:440: FutureWarning: Downcasting object dtype arrays on .fillna, .ffill, .bfill is deprecated and will change in a future version. Call result.infer_objects(copy=False) instead. To opt-in to the future behavior, set `pd.set_option('future.no_silent_downcasting', True)`\n",
      "  cond_overlap_end = cond_overlap & ~cond_temporal_gap.shift(-1).fillna(False) & pd.isna(pfs[\"tripleg_id\"])\n",
      "C:\\Users\\zhixu\\anaconda3\\Lib\\site-packages\\trackintel\\preprocessing\\positionfixes.py:573: UserWarning: The positionfixes with ids [3200078 3200079 3200080 ... 3299803 3299804 3299805] lead to invalid tripleg geometries. The resulting triplegs were omitted and the tripleg id of the positionfixes was set to nan\n",
      "  warnings.warn(warn_string)\n"
     ]
    },
    {
     "name": "stdout",
     "output_type": "stream",
     "text": [
      "          uid   d   t   x    y                geometry       date  \\\n",
      "3200000  8156  13  20  32  188  POINT (32.000 188.000) 2024-01-14   \n",
      "3200001  8156  13  21  35  192  POINT (35.000 192.000) 2024-01-14   \n",
      "3200002  8156  13  27  28  183  POINT (28.000 183.000) 2024-01-14   \n",
      "3200003  8156  13  35  30  182  POINT (30.000 182.000) 2024-01-14   \n",
      "3200004  8156  13  36  27  182  POINT (27.000 182.000) 2024-01-14   \n",
      "\n",
      "                   time            datetime  \n",
      "3200000 0 days 10:00:00 2024-01-14 10:00:00  \n",
      "3200001 0 days 10:30:00 2024-01-14 10:30:00  \n",
      "3200002 0 days 13:30:00 2024-01-14 13:30:00  \n",
      "3200003 0 days 17:30:00 2024-01-14 17:30:00  \n",
      "3200004 0 days 18:00:00 2024-01-14 18:00:00  \n",
      "1-itemsets done!\n",
      "2-itemsets done!\n"
     ]
    },
    {
     "name": "stderr",
     "output_type": "stream",
     "text": [
      "100%|████████████████████████████████████████████████████████████████████████████████| 251/251 [00:16<00:00, 15.55it/s]\n",
      "C:\\Users\\zhixu\\anaconda3\\Lib\\site-packages\\trackintel\\preprocessing\\positionfixes.py:361: FutureWarning: Downcasting object dtype arrays on .fillna, .ffill, .bfill is deprecated and will change in a future version. Call result.infer_objects(copy=False) instead. To opt-in to the future behavior, set `pd.set_option('future.no_silent_downcasting', True)`\n",
      "  pfs[\"tripleg_id\"] = pfs[\"tripleg_id\"].ffill()\n",
      "C:\\Users\\zhixu\\anaconda3\\Lib\\site-packages\\trackintel\\preprocessing\\positionfixes.py:440: FutureWarning: Downcasting object dtype arrays on .fillna, .ffill, .bfill is deprecated and will change in a future version. Call result.infer_objects(copy=False) instead. To opt-in to the future behavior, set `pd.set_option('future.no_silent_downcasting', True)`\n",
      "  cond_overlap_end = cond_overlap & ~cond_temporal_gap.shift(-1).fillna(False) & pd.isna(pfs[\"tripleg_id\"])\n",
      "C:\\Users\\zhixu\\anaconda3\\Lib\\site-packages\\trackintel\\preprocessing\\positionfixes.py:573: UserWarning: The positionfixes with ids [3300083 3300084 3300099 ... 3399388 3399389 3399390] lead to invalid tripleg geometries. The resulting triplegs were omitted and the tripleg id of the positionfixes was set to nan\n",
      "  warnings.warn(warn_string)\n"
     ]
    },
    {
     "name": "stdout",
     "output_type": "stream",
     "text": [
      "          uid  d   t   x    y                geometry       date  \\\n",
      "3300000  8419  9  11  11  176  POINT (11.000 176.000) 2024-01-10   \n",
      "3300001  8419  9  18  19  174  POINT (19.000 174.000) 2024-01-10   \n",
      "3300002  8419  9  19  20  173  POINT (20.000 173.000) 2024-01-10   \n",
      "3300003  8419  9  20  22  169  POINT (22.000 169.000) 2024-01-10   \n",
      "3300004  8419  9  21  33  141  POINT (33.000 141.000) 2024-01-10   \n",
      "\n",
      "                   time            datetime  \n",
      "3300000 0 days 05:30:00 2024-01-10 05:30:00  \n",
      "3300001 0 days 09:00:00 2024-01-10 09:00:00  \n",
      "3300002 0 days 09:30:00 2024-01-10 09:30:00  \n",
      "3300003 0 days 10:00:00 2024-01-10 10:00:00  \n",
      "3300004 0 days 10:30:00 2024-01-10 10:30:00  \n",
      "1-itemsets done!\n",
      "2-itemsets done!\n",
      "No new candidates generated. Stopping at 2-itemsets\n"
     ]
    },
    {
     "name": "stderr",
     "output_type": "stream",
     "text": [
      "100%|████████████████████████████████████████████████████████████████████████████████| 269/269 [00:15<00:00, 17.14it/s]\n",
      "C:\\Users\\zhixu\\anaconda3\\Lib\\site-packages\\trackintel\\preprocessing\\positionfixes.py:361: FutureWarning: Downcasting object dtype arrays on .fillna, .ffill, .bfill is deprecated and will change in a future version. Call result.infer_objects(copy=False) instead. To opt-in to the future behavior, set `pd.set_option('future.no_silent_downcasting', True)`\n",
      "  pfs[\"tripleg_id\"] = pfs[\"tripleg_id\"].ffill()\n",
      "C:\\Users\\zhixu\\anaconda3\\Lib\\site-packages\\trackintel\\preprocessing\\positionfixes.py:440: FutureWarning: Downcasting object dtype arrays on .fillna, .ffill, .bfill is deprecated and will change in a future version. Call result.infer_objects(copy=False) instead. To opt-in to the future behavior, set `pd.set_option('future.no_silent_downcasting', True)`\n",
      "  cond_overlap_end = cond_overlap & ~cond_temporal_gap.shift(-1).fillna(False) & pd.isna(pfs[\"tripleg_id\"])\n",
      "C:\\Users\\zhixu\\anaconda3\\Lib\\site-packages\\trackintel\\preprocessing\\positionfixes.py:573: UserWarning: The positionfixes with ids [3400219 3400220 3400221 ... 3499805 3499806 3499807] lead to invalid tripleg geometries. The resulting triplegs were omitted and the tripleg id of the positionfixes was set to nan\n",
      "  warnings.warn(warn_string)\n"
     ]
    },
    {
     "name": "stdout",
     "output_type": "stream",
     "text": [
      "          uid   d   t   x    y                geometry       date  \\\n",
      "3400000  8669  28  25  32  163  POINT (32.000 163.000) 2024-01-29   \n",
      "3400001  8669  28  26  32  163  POINT (32.000 163.000) 2024-01-29   \n",
      "3400002  8669  28  27  28  162  POINT (28.000 162.000) 2024-01-29   \n",
      "3400003  8669  29  23  30  164  POINT (30.000 164.000) 2024-01-30   \n",
      "3400004  8669  29  24  32  162  POINT (32.000 162.000) 2024-01-30   \n",
      "\n",
      "                   time            datetime  \n",
      "3400000 0 days 12:30:00 2024-01-29 12:30:00  \n",
      "3400001 0 days 13:00:00 2024-01-29 13:00:00  \n",
      "3400002 0 days 13:30:00 2024-01-29 13:30:00  \n",
      "3400003 0 days 11:30:00 2024-01-30 11:30:00  \n",
      "3400004 0 days 12:00:00 2024-01-30 12:00:00  \n",
      "1-itemsets done!\n",
      "2-itemsets done!\n",
      "No new candidates generated. Stopping at 2-itemsets\n"
     ]
    },
    {
     "name": "stderr",
     "output_type": "stream",
     "text": [
      "100%|████████████████████████████████████████████████████████████████████████████████| 255/255 [00:13<00:00, 18.44it/s]\n",
      "C:\\Users\\zhixu\\anaconda3\\Lib\\site-packages\\trackintel\\preprocessing\\positionfixes.py:361: FutureWarning: Downcasting object dtype arrays on .fillna, .ffill, .bfill is deprecated and will change in a future version. Call result.infer_objects(copy=False) instead. To opt-in to the future behavior, set `pd.set_option('future.no_silent_downcasting', True)`\n",
      "  pfs[\"tripleg_id\"] = pfs[\"tripleg_id\"].ffill()\n",
      "C:\\Users\\zhixu\\anaconda3\\Lib\\site-packages\\trackintel\\preprocessing\\positionfixes.py:440: FutureWarning: Downcasting object dtype arrays on .fillna, .ffill, .bfill is deprecated and will change in a future version. Call result.infer_objects(copy=False) instead. To opt-in to the future behavior, set `pd.set_option('future.no_silent_downcasting', True)`\n",
      "  cond_overlap_end = cond_overlap & ~cond_temporal_gap.shift(-1).fillna(False) & pd.isna(pfs[\"tripleg_id\"])\n",
      "C:\\Users\\zhixu\\anaconda3\\Lib\\site-packages\\trackintel\\preprocessing\\positionfixes.py:573: UserWarning: The positionfixes with ids [3500043 3500044 3500045 ... 3599965 3599966 3599967] lead to invalid tripleg geometries. The resulting triplegs were omitted and the tripleg id of the positionfixes was set to nan\n",
      "  warnings.warn(warn_string)\n"
     ]
    },
    {
     "name": "stdout",
     "output_type": "stream",
     "text": [
      "          uid   d   t   x    y                geometry       date  \\\n",
      "3500000  8938  10  33  19  175  POINT (19.000 175.000) 2024-01-11   \n",
      "3500001  8938  10  34  18  175  POINT (18.000 175.000) 2024-01-11   \n",
      "3500002  8938  10  35  19  174  POINT (19.000 174.000) 2024-01-11   \n",
      "3500003  8938  10  36   8  177   POINT (8.000 177.000) 2024-01-11   \n",
      "3500004  8938  10  37  18  175  POINT (18.000 175.000) 2024-01-11   \n",
      "\n",
      "                   time            datetime  \n",
      "3500000 0 days 16:30:00 2024-01-11 16:30:00  \n",
      "3500001 0 days 17:00:00 2024-01-11 17:00:00  \n",
      "3500002 0 days 17:30:00 2024-01-11 17:30:00  \n",
      "3500003 0 days 18:00:00 2024-01-11 18:00:00  \n",
      "3500004 0 days 18:30:00 2024-01-11 18:30:00  \n",
      "1-itemsets done!\n",
      "2-itemsets done!\n"
     ]
    },
    {
     "name": "stderr",
     "output_type": "stream",
     "text": [
      "100%|████████████████████████████████████████████████████████████████████████████████| 265/265 [00:13<00:00, 19.33it/s]\n",
      "C:\\Users\\zhixu\\anaconda3\\Lib\\site-packages\\trackintel\\preprocessing\\positionfixes.py:361: FutureWarning: Downcasting object dtype arrays on .fillna, .ffill, .bfill is deprecated and will change in a future version. Call result.infer_objects(copy=False) instead. To opt-in to the future behavior, set `pd.set_option('future.no_silent_downcasting', True)`\n",
      "  pfs[\"tripleg_id\"] = pfs[\"tripleg_id\"].ffill()\n",
      "C:\\Users\\zhixu\\anaconda3\\Lib\\site-packages\\trackintel\\preprocessing\\positionfixes.py:440: FutureWarning: Downcasting object dtype arrays on .fillna, .ffill, .bfill is deprecated and will change in a future version. Call result.infer_objects(copy=False) instead. To opt-in to the future behavior, set `pd.set_option('future.no_silent_downcasting', True)`\n",
      "  cond_overlap_end = cond_overlap & ~cond_temporal_gap.shift(-1).fillna(False) & pd.isna(pfs[\"tripleg_id\"])\n",
      "C:\\Users\\zhixu\\anaconda3\\Lib\\site-packages\\trackintel\\preprocessing\\positionfixes.py:573: UserWarning: The positionfixes with ids [3600032 3600033 3600051 ... 3699919 3699997 3699998] lead to invalid tripleg geometries. The resulting triplegs were omitted and the tripleg id of the positionfixes was set to nan\n",
      "  warnings.warn(warn_string)\n"
     ]
    },
    {
     "name": "stdout",
     "output_type": "stream",
     "text": [
      "          uid   d   t   x    y                geometry       date  \\\n",
      "3600000  9193  21  19  32  168  POINT (32.000 168.000) 2024-01-22   \n",
      "3600001  9193  21  20  33  169  POINT (33.000 169.000) 2024-01-22   \n",
      "3600002  9193  21  23  32  172  POINT (32.000 172.000) 2024-01-22   \n",
      "3600003  9193  21  30  36  177  POINT (36.000 177.000) 2024-01-22   \n",
      "3600004  9193  21  31  21  170  POINT (21.000 170.000) 2024-01-22   \n",
      "\n",
      "                   time            datetime  \n",
      "3600000 0 days 09:30:00 2024-01-22 09:30:00  \n",
      "3600001 0 days 10:00:00 2024-01-22 10:00:00  \n",
      "3600002 0 days 11:30:00 2024-01-22 11:30:00  \n",
      "3600003 0 days 15:00:00 2024-01-22 15:00:00  \n",
      "3600004 0 days 15:30:00 2024-01-22 15:30:00  \n",
      "1-itemsets done!\n",
      "2-itemsets done!\n"
     ]
    },
    {
     "name": "stderr",
     "output_type": "stream",
     "text": [
      "100%|████████████████████████████████████████████████████████████████████████████████| 269/269 [00:15<00:00, 17.61it/s]\n",
      "C:\\Users\\zhixu\\anaconda3\\Lib\\site-packages\\trackintel\\preprocessing\\positionfixes.py:361: FutureWarning: Downcasting object dtype arrays on .fillna, .ffill, .bfill is deprecated and will change in a future version. Call result.infer_objects(copy=False) instead. To opt-in to the future behavior, set `pd.set_option('future.no_silent_downcasting', True)`\n",
      "  pfs[\"tripleg_id\"] = pfs[\"tripleg_id\"].ffill()\n",
      "C:\\Users\\zhixu\\anaconda3\\Lib\\site-packages\\trackintel\\preprocessing\\positionfixes.py:440: FutureWarning: Downcasting object dtype arrays on .fillna, .ffill, .bfill is deprecated and will change in a future version. Call result.infer_objects(copy=False) instead. To opt-in to the future behavior, set `pd.set_option('future.no_silent_downcasting', True)`\n",
      "  cond_overlap_end = cond_overlap & ~cond_temporal_gap.shift(-1).fillna(False) & pd.isna(pfs[\"tripleg_id\"])\n",
      "C:\\Users\\zhixu\\anaconda3\\Lib\\site-packages\\trackintel\\preprocessing\\positionfixes.py:573: UserWarning: The positionfixes with ids [3700059 3700060 3700066 ... 3799827 3799856 3799857] lead to invalid tripleg geometries. The resulting triplegs were omitted and the tripleg id of the positionfixes was set to nan\n",
      "  warnings.warn(warn_string)\n"
     ]
    },
    {
     "name": "stdout",
     "output_type": "stream",
     "text": [
      "          uid   d   t   x    y                geometry       date  \\\n",
      "3700000  9459  16  37  34  135  POINT (34.000 135.000) 2024-01-17   \n",
      "3700001  9459  16  38  41  115  POINT (41.000 115.000) 2024-01-17   \n",
      "3700002  9459  17  12  37  128  POINT (37.000 128.000) 2024-01-18   \n",
      "3700003  9459  17  19  31  142  POINT (31.000 142.000) 2024-01-18   \n",
      "3700004  9459  17  20  33  141  POINT (33.000 141.000) 2024-01-18   \n",
      "\n",
      "                   time            datetime  \n",
      "3700000 0 days 18:30:00 2024-01-17 18:30:00  \n",
      "3700001 0 days 19:00:00 2024-01-17 19:00:00  \n",
      "3700002 0 days 06:00:00 2024-01-18 06:00:00  \n",
      "3700003 0 days 09:30:00 2024-01-18 09:30:00  \n",
      "3700004 0 days 10:00:00 2024-01-18 10:00:00  \n",
      "1-itemsets done!\n",
      "2-itemsets done!\n",
      "No new candidates generated. Stopping at 2-itemsets\n"
     ]
    },
    {
     "name": "stderr",
     "output_type": "stream",
     "text": [
      "100%|████████████████████████████████████████████████████████████████████████████████| 266/266 [00:15<00:00, 17.10it/s]\n",
      "C:\\Users\\zhixu\\anaconda3\\Lib\\site-packages\\trackintel\\preprocessing\\positionfixes.py:361: FutureWarning: Downcasting object dtype arrays on .fillna, .ffill, .bfill is deprecated and will change in a future version. Call result.infer_objects(copy=False) instead. To opt-in to the future behavior, set `pd.set_option('future.no_silent_downcasting', True)`\n",
      "  pfs[\"tripleg_id\"] = pfs[\"tripleg_id\"].ffill()\n",
      "C:\\Users\\zhixu\\anaconda3\\Lib\\site-packages\\trackintel\\preprocessing\\positionfixes.py:440: FutureWarning: Downcasting object dtype arrays on .fillna, .ffill, .bfill is deprecated and will change in a future version. Call result.infer_objects(copy=False) instead. To opt-in to the future behavior, set `pd.set_option('future.no_silent_downcasting', True)`\n",
      "  cond_overlap_end = cond_overlap & ~cond_temporal_gap.shift(-1).fillna(False) & pd.isna(pfs[\"tripleg_id\"])\n",
      "C:\\Users\\zhixu\\anaconda3\\Lib\\site-packages\\trackintel\\preprocessing\\positionfixes.py:573: UserWarning: The positionfixes with ids [3800098 3800099 3800100 ... 3899585 3899659 3899660] lead to invalid tripleg geometries. The resulting triplegs were omitted and the tripleg id of the positionfixes was set to nan\n",
      "  warnings.warn(warn_string)\n"
     ]
    },
    {
     "name": "stdout",
     "output_type": "stream",
     "text": [
      "          uid   d   t   x    y                geometry       date  \\\n",
      "3800000  9727  24  30  19  160  POINT (19.000 160.000) 2024-01-25   \n",
      "3800001  9727  24  32  22  158  POINT (22.000 158.000) 2024-01-25   \n",
      "3800002  9727  24  33  24  157  POINT (24.000 157.000) 2024-01-25   \n",
      "3800003  9727  24  34  19  164  POINT (19.000 164.000) 2024-01-25   \n",
      "3800004  9727  24  35  19  160  POINT (19.000 160.000) 2024-01-25   \n",
      "\n",
      "                   time            datetime  \n",
      "3800000 0 days 15:00:00 2024-01-25 15:00:00  \n",
      "3800001 0 days 16:00:00 2024-01-25 16:00:00  \n",
      "3800002 0 days 16:30:00 2024-01-25 16:30:00  \n",
      "3800003 0 days 17:00:00 2024-01-25 17:00:00  \n",
      "3800004 0 days 17:30:00 2024-01-25 17:30:00  \n",
      "1-itemsets done!\n",
      "2-itemsets done!\n"
     ]
    },
    {
     "name": "stderr",
     "output_type": "stream",
     "text": [
      "100%|████████████████████████████████████████████████████████████████████████████████| 271/271 [00:19<00:00, 14.03it/s]\n",
      "C:\\Users\\zhixu\\anaconda3\\Lib\\site-packages\\trackintel\\preprocessing\\positionfixes.py:361: FutureWarning: Downcasting object dtype arrays on .fillna, .ffill, .bfill is deprecated and will change in a future version. Call result.infer_objects(copy=False) instead. To opt-in to the future behavior, set `pd.set_option('future.no_silent_downcasting', True)`\n",
      "  pfs[\"tripleg_id\"] = pfs[\"tripleg_id\"].ffill()\n",
      "C:\\Users\\zhixu\\anaconda3\\Lib\\site-packages\\trackintel\\preprocessing\\positionfixes.py:440: FutureWarning: Downcasting object dtype arrays on .fillna, .ffill, .bfill is deprecated and will change in a future version. Call result.infer_objects(copy=False) instead. To opt-in to the future behavior, set `pd.set_option('future.no_silent_downcasting', True)`\n",
      "  cond_overlap_end = cond_overlap & ~cond_temporal_gap.shift(-1).fillna(False) & pd.isna(pfs[\"tripleg_id\"])\n",
      "C:\\Users\\zhixu\\anaconda3\\Lib\\site-packages\\trackintel\\preprocessing\\positionfixes.py:573: UserWarning: The positionfixes with ids [3900186 3900187 3900188 ... 3999714 3999753 3999754] lead to invalid tripleg geometries. The resulting triplegs were omitted and the tripleg id of the positionfixes was set to nan\n",
      "  warnings.warn(warn_string)\n"
     ]
    },
    {
     "name": "stdout",
     "output_type": "stream",
     "text": [
      "          uid   d   t   x    y                geometry       date  \\\n",
      "3900000  9992  17  38  13  169  POINT (13.000 169.000) 2024-01-18   \n",
      "3900001  9992  17  39  13  170  POINT (13.000 170.000) 2024-01-18   \n",
      "3900002  9992  17  40  26  178  POINT (26.000 178.000) 2024-01-18   \n",
      "3900003  9992  17  41  31  184  POINT (31.000 184.000) 2024-01-18   \n",
      "3900004  9992  17  43  38  184  POINT (38.000 184.000) 2024-01-18   \n",
      "\n",
      "                   time            datetime  \n",
      "3900000 0 days 19:00:00 2024-01-18 19:00:00  \n",
      "3900001 0 days 19:30:00 2024-01-18 19:30:00  \n",
      "3900002 0 days 20:00:00 2024-01-18 20:00:00  \n",
      "3900003 0 days 20:30:00 2024-01-18 20:30:00  \n",
      "3900004 0 days 21:30:00 2024-01-18 21:30:00  \n",
      "1-itemsets done!\n",
      "2-itemsets done!\n"
     ]
    },
    {
     "name": "stderr",
     "output_type": "stream",
     "text": [
      "100%|████████████████████████████████████████████████████████████████████████████████| 280/280 [00:18<00:00, 15.33it/s]\n",
      "C:\\Users\\zhixu\\anaconda3\\Lib\\site-packages\\trackintel\\preprocessing\\positionfixes.py:361: FutureWarning: Downcasting object dtype arrays on .fillna, .ffill, .bfill is deprecated and will change in a future version. Call result.infer_objects(copy=False) instead. To opt-in to the future behavior, set `pd.set_option('future.no_silent_downcasting', True)`\n",
      "  pfs[\"tripleg_id\"] = pfs[\"tripleg_id\"].ffill()\n",
      "C:\\Users\\zhixu\\anaconda3\\Lib\\site-packages\\trackintel\\preprocessing\\positionfixes.py:440: FutureWarning: Downcasting object dtype arrays on .fillna, .ffill, .bfill is deprecated and will change in a future version. Call result.infer_objects(copy=False) instead. To opt-in to the future behavior, set `pd.set_option('future.no_silent_downcasting', True)`\n",
      "  cond_overlap_end = cond_overlap & ~cond_temporal_gap.shift(-1).fillna(False) & pd.isna(pfs[\"tripleg_id\"])\n",
      "C:\\Users\\zhixu\\anaconda3\\Lib\\site-packages\\trackintel\\preprocessing\\positionfixes.py:573: UserWarning: The positionfixes with ids [4000005 4000006 4000016 ... 4099913 4099929 4099930] lead to invalid tripleg geometries. The resulting triplegs were omitted and the tripleg id of the positionfixes was set to nan\n",
      "  warnings.warn(warn_string)\n"
     ]
    },
    {
     "name": "stdout",
     "output_type": "stream",
     "text": [
      "           uid   d   t   x    y                geometry       date  \\\n",
      "4000000  10262  24  15  29  157  POINT (29.000 157.000) 2024-01-25   \n",
      "4000001  10262  24  16  30  161  POINT (30.000 161.000) 2024-01-25   \n",
      "4000002  10262  24  17  30  162  POINT (30.000 162.000) 2024-01-25   \n",
      "4000003  10262  24  18  30  161  POINT (30.000 161.000) 2024-01-25   \n",
      "4000004  10262  24  20  30  162  POINT (30.000 162.000) 2024-01-25   \n",
      "\n",
      "                   time            datetime  \n",
      "4000000 0 days 07:30:00 2024-01-25 07:30:00  \n",
      "4000001 0 days 08:00:00 2024-01-25 08:00:00  \n",
      "4000002 0 days 08:30:00 2024-01-25 08:30:00  \n",
      "4000003 0 days 09:00:00 2024-01-25 09:00:00  \n",
      "4000004 0 days 10:00:00 2024-01-25 10:00:00  \n",
      "1-itemsets done!\n",
      "2-itemsets done!\n",
      "No new candidates generated. Stopping at 2-itemsets\n"
     ]
    },
    {
     "name": "stderr",
     "output_type": "stream",
     "text": [
      "100%|████████████████████████████████████████████████████████████████████████████████| 269/269 [00:17<00:00, 15.44it/s]\n",
      "C:\\Users\\zhixu\\anaconda3\\Lib\\site-packages\\trackintel\\preprocessing\\positionfixes.py:361: FutureWarning: Downcasting object dtype arrays on .fillna, .ffill, .bfill is deprecated and will change in a future version. Call result.infer_objects(copy=False) instead. To opt-in to the future behavior, set `pd.set_option('future.no_silent_downcasting', True)`\n",
      "  pfs[\"tripleg_id\"] = pfs[\"tripleg_id\"].ffill()\n",
      "C:\\Users\\zhixu\\anaconda3\\Lib\\site-packages\\trackintel\\preprocessing\\positionfixes.py:440: FutureWarning: Downcasting object dtype arrays on .fillna, .ffill, .bfill is deprecated and will change in a future version. Call result.infer_objects(copy=False) instead. To opt-in to the future behavior, set `pd.set_option('future.no_silent_downcasting', True)`\n",
      "  cond_overlap_end = cond_overlap & ~cond_temporal_gap.shift(-1).fillna(False) & pd.isna(pfs[\"tripleg_id\"])\n",
      "C:\\Users\\zhixu\\anaconda3\\Lib\\site-packages\\trackintel\\preprocessing\\positionfixes.py:573: UserWarning: The positionfixes with ids [4100002 4100003 4100004 ... 4199986 4199987 4199988] lead to invalid tripleg geometries. The resulting triplegs were omitted and the tripleg id of the positionfixes was set to nan\n",
      "  warnings.warn(warn_string)\n"
     ]
    },
    {
     "name": "stdout",
     "output_type": "stream",
     "text": [
      "           uid   d   t   x    y                geometry       date  \\\n",
      "4100000  10544  25   5  33  143  POINT (33.000 143.000) 2024-01-26   \n",
      "4100001  10544  25   6  28  146  POINT (28.000 146.000) 2024-01-26   \n",
      "4100002  10544  25  19  28  146  POINT (28.000 146.000) 2024-01-26   \n",
      "4100003  10544  25  20  28  146  POINT (28.000 146.000) 2024-01-26   \n",
      "4100004  10544  25  21  28  146  POINT (28.000 146.000) 2024-01-26   \n",
      "\n",
      "                   time            datetime  \n",
      "4100000 0 days 02:30:00 2024-01-26 02:30:00  \n",
      "4100001 0 days 03:00:00 2024-01-26 03:00:00  \n",
      "4100002 0 days 09:30:00 2024-01-26 09:30:00  \n",
      "4100003 0 days 10:00:00 2024-01-26 10:00:00  \n",
      "4100004 0 days 10:30:00 2024-01-26 10:30:00  \n",
      "1-itemsets done!\n",
      "2-itemsets done!\n"
     ]
    },
    {
     "name": "stderr",
     "output_type": "stream",
     "text": [
      "100%|████████████████████████████████████████████████████████████████████████████████| 281/281 [00:18<00:00, 15.48it/s]\n",
      "C:\\Users\\zhixu\\anaconda3\\Lib\\site-packages\\trackintel\\preprocessing\\positionfixes.py:361: FutureWarning: Downcasting object dtype arrays on .fillna, .ffill, .bfill is deprecated and will change in a future version. Call result.infer_objects(copy=False) instead. To opt-in to the future behavior, set `pd.set_option('future.no_silent_downcasting', True)`\n",
      "  pfs[\"tripleg_id\"] = pfs[\"tripleg_id\"].ffill()\n",
      "C:\\Users\\zhixu\\anaconda3\\Lib\\site-packages\\trackintel\\preprocessing\\positionfixes.py:440: FutureWarning: Downcasting object dtype arrays on .fillna, .ffill, .bfill is deprecated and will change in a future version. Call result.infer_objects(copy=False) instead. To opt-in to the future behavior, set `pd.set_option('future.no_silent_downcasting', True)`\n",
      "  cond_overlap_end = cond_overlap & ~cond_temporal_gap.shift(-1).fillna(False) & pd.isna(pfs[\"tripleg_id\"])\n",
      "C:\\Users\\zhixu\\anaconda3\\Lib\\site-packages\\trackintel\\preprocessing\\positionfixes.py:573: UserWarning: The positionfixes with ids [4200101 4200102 4200103 ... 4299764 4299825 4299826] lead to invalid tripleg geometries. The resulting triplegs were omitted and the tripleg id of the positionfixes was set to nan\n",
      "  warnings.warn(warn_string)\n"
     ]
    },
    {
     "name": "stdout",
     "output_type": "stream",
     "text": [
      "           uid  d   t   x    y                geometry       date  \\\n",
      "4200000  10813  7  24  49  182  POINT (49.000 182.000) 2024-01-08   \n",
      "4200001  10813  7  25  48  179  POINT (48.000 179.000) 2024-01-08   \n",
      "4200002  10813  7  27  49  182  POINT (49.000 182.000) 2024-01-08   \n",
      "4200003  10813  7  28  49  172  POINT (49.000 172.000) 2024-01-08   \n",
      "4200004  10813  7  29  55  186  POINT (55.000 186.000) 2024-01-08   \n",
      "\n",
      "                   time            datetime  \n",
      "4200000 0 days 12:00:00 2024-01-08 12:00:00  \n",
      "4200001 0 days 12:30:00 2024-01-08 12:30:00  \n",
      "4200002 0 days 13:30:00 2024-01-08 13:30:00  \n",
      "4200003 0 days 14:00:00 2024-01-08 14:00:00  \n",
      "4200004 0 days 14:30:00 2024-01-08 14:30:00  \n",
      "1-itemsets done!\n",
      "2-itemsets done!\n"
     ]
    },
    {
     "name": "stderr",
     "output_type": "stream",
     "text": [
      "100%|████████████████████████████████████████████████████████████████████████████████| 266/266 [00:17<00:00, 15.01it/s]\n",
      "C:\\Users\\zhixu\\anaconda3\\Lib\\site-packages\\trackintel\\preprocessing\\positionfixes.py:361: FutureWarning: Downcasting object dtype arrays on .fillna, .ffill, .bfill is deprecated and will change in a future version. Call result.infer_objects(copy=False) instead. To opt-in to the future behavior, set `pd.set_option('future.no_silent_downcasting', True)`\n",
      "  pfs[\"tripleg_id\"] = pfs[\"tripleg_id\"].ffill()\n",
      "C:\\Users\\zhixu\\anaconda3\\Lib\\site-packages\\trackintel\\preprocessing\\positionfixes.py:440: FutureWarning: Downcasting object dtype arrays on .fillna, .ffill, .bfill is deprecated and will change in a future version. Call result.infer_objects(copy=False) instead. To opt-in to the future behavior, set `pd.set_option('future.no_silent_downcasting', True)`\n",
      "  cond_overlap_end = cond_overlap & ~cond_temporal_gap.shift(-1).fillna(False) & pd.isna(pfs[\"tripleg_id\"])\n",
      "C:\\Users\\zhixu\\anaconda3\\Lib\\site-packages\\trackintel\\preprocessing\\positionfixes.py:573: UserWarning: The positionfixes with ids [4300020 4300021 4300132 ... 4399782 4399869 4399870] lead to invalid tripleg geometries. The resulting triplegs were omitted and the tripleg id of the positionfixes was set to nan\n",
      "  warnings.warn(warn_string)\n"
     ]
    },
    {
     "name": "stdout",
     "output_type": "stream",
     "text": [
      "           uid   d   t   x    y                geometry       date  \\\n",
      "4300000  11093  10  16  52  149  POINT (52.000 149.000) 2024-01-11   \n",
      "4300001  11093  10  17  46  146  POINT (46.000 146.000) 2024-01-11   \n",
      "4300002  11093  10  18  47  145  POINT (47.000 145.000) 2024-01-11   \n",
      "4300003  11093  10  19  61  157  POINT (61.000 157.000) 2024-01-11   \n",
      "4300004  11093  10  20  83  169  POINT (83.000 169.000) 2024-01-11   \n",
      "\n",
      "                   time            datetime  \n",
      "4300000 0 days 08:00:00 2024-01-11 08:00:00  \n",
      "4300001 0 days 08:30:00 2024-01-11 08:30:00  \n",
      "4300002 0 days 09:00:00 2024-01-11 09:00:00  \n",
      "4300003 0 days 09:30:00 2024-01-11 09:30:00  \n",
      "4300004 0 days 10:00:00 2024-01-11 10:00:00  \n",
      "1-itemsets done!\n",
      "2-itemsets done!\n"
     ]
    },
    {
     "name": "stderr",
     "output_type": "stream",
     "text": [
      "100%|████████████████████████████████████████████████████████████████████████████████| 273/273 [00:13<00:00, 20.15it/s]\n",
      "C:\\Users\\zhixu\\anaconda3\\Lib\\site-packages\\trackintel\\preprocessing\\positionfixes.py:361: FutureWarning: Downcasting object dtype arrays on .fillna, .ffill, .bfill is deprecated and will change in a future version. Call result.infer_objects(copy=False) instead. To opt-in to the future behavior, set `pd.set_option('future.no_silent_downcasting', True)`\n",
      "  pfs[\"tripleg_id\"] = pfs[\"tripleg_id\"].ffill()\n",
      "C:\\Users\\zhixu\\anaconda3\\Lib\\site-packages\\trackintel\\preprocessing\\positionfixes.py:440: FutureWarning: Downcasting object dtype arrays on .fillna, .ffill, .bfill is deprecated and will change in a future version. Call result.infer_objects(copy=False) instead. To opt-in to the future behavior, set `pd.set_option('future.no_silent_downcasting', True)`\n",
      "  cond_overlap_end = cond_overlap & ~cond_temporal_gap.shift(-1).fillna(False) & pd.isna(pfs[\"tripleg_id\"])\n",
      "C:\\Users\\zhixu\\anaconda3\\Lib\\site-packages\\trackintel\\preprocessing\\positionfixes.py:573: UserWarning: The positionfixes with ids [4400117 4400118 4400167 ... 4499811 4499897 4499898] lead to invalid tripleg geometries. The resulting triplegs were omitted and the tripleg id of the positionfixes was set to nan\n",
      "  warnings.warn(warn_string)\n"
     ]
    },
    {
     "name": "stdout",
     "output_type": "stream",
     "text": [
      "           uid  d   t   x    y                geometry       date  \\\n",
      "4400000  11358  9  23  21  162  POINT (21.000 162.000) 2024-01-10   \n",
      "4400001  11358  9  25  21  163  POINT (21.000 163.000) 2024-01-10   \n",
      "4400002  11358  9  26  16  169  POINT (16.000 169.000) 2024-01-10   \n",
      "4400003  11358  9  27  15  169  POINT (15.000 169.000) 2024-01-10   \n",
      "4400004  11358  9  28  17  164  POINT (17.000 164.000) 2024-01-10   \n",
      "\n",
      "                   time            datetime  \n",
      "4400000 0 days 11:30:00 2024-01-10 11:30:00  \n",
      "4400001 0 days 12:30:00 2024-01-10 12:30:00  \n",
      "4400002 0 days 13:00:00 2024-01-10 13:00:00  \n",
      "4400003 0 days 13:30:00 2024-01-10 13:30:00  \n",
      "4400004 0 days 14:00:00 2024-01-10 14:00:00  \n",
      "1-itemsets done!\n",
      "2-itemsets done!\n"
     ]
    },
    {
     "name": "stderr",
     "output_type": "stream",
     "text": [
      "100%|████████████████████████████████████████████████████████████████████████████████| 274/274 [00:15<00:00, 17.59it/s]\n",
      "C:\\Users\\zhixu\\anaconda3\\Lib\\site-packages\\trackintel\\preprocessing\\positionfixes.py:361: FutureWarning: Downcasting object dtype arrays on .fillna, .ffill, .bfill is deprecated and will change in a future version. Call result.infer_objects(copy=False) instead. To opt-in to the future behavior, set `pd.set_option('future.no_silent_downcasting', True)`\n",
      "  pfs[\"tripleg_id\"] = pfs[\"tripleg_id\"].ffill()\n",
      "C:\\Users\\zhixu\\anaconda3\\Lib\\site-packages\\trackintel\\preprocessing\\positionfixes.py:440: FutureWarning: Downcasting object dtype arrays on .fillna, .ffill, .bfill is deprecated and will change in a future version. Call result.infer_objects(copy=False) instead. To opt-in to the future behavior, set `pd.set_option('future.no_silent_downcasting', True)`\n",
      "  cond_overlap_end = cond_overlap & ~cond_temporal_gap.shift(-1).fillna(False) & pd.isna(pfs[\"tripleg_id\"])\n",
      "C:\\Users\\zhixu\\anaconda3\\Lib\\site-packages\\trackintel\\preprocessing\\positionfixes.py:573: UserWarning: The positionfixes with ids [4500003 4500004 4500005 ... 4599790 4599957 4599958] lead to invalid tripleg geometries. The resulting triplegs were omitted and the tripleg id of the positionfixes was set to nan\n",
      "  warnings.warn(warn_string)\n"
     ]
    },
    {
     "name": "stdout",
     "output_type": "stream",
     "text": [
      "           uid  d   t   x    y                geometry       date  \\\n",
      "4500000  11630  9  39  30  159  POINT (30.000 159.000) 2024-01-10   \n",
      "4500001  11630  9  40  30  158  POINT (30.000 158.000) 2024-01-10   \n",
      "4500002  11630  9  41  30  159  POINT (30.000 159.000) 2024-01-10   \n",
      "4500003  11630  9  45  30  158  POINT (30.000 158.000) 2024-01-10   \n",
      "4500004  11630  9  46  30  158  POINT (30.000 158.000) 2024-01-10   \n",
      "\n",
      "                   time            datetime  \n",
      "4500000 0 days 19:30:00 2024-01-10 19:30:00  \n",
      "4500001 0 days 20:00:00 2024-01-10 20:00:00  \n",
      "4500002 0 days 20:30:00 2024-01-10 20:30:00  \n",
      "4500003 0 days 22:30:00 2024-01-10 22:30:00  \n",
      "4500004 0 days 23:00:00 2024-01-10 23:00:00  \n",
      "1-itemsets done!\n",
      "2-itemsets done!\n",
      "No new candidates generated. Stopping at 2-itemsets\n"
     ]
    },
    {
     "name": "stderr",
     "output_type": "stream",
     "text": [
      "100%|████████████████████████████████████████████████████████████████████████████████| 279/279 [00:16<00:00, 16.81it/s]\n",
      "C:\\Users\\zhixu\\anaconda3\\Lib\\site-packages\\trackintel\\preprocessing\\positionfixes.py:361: FutureWarning: Downcasting object dtype arrays on .fillna, .ffill, .bfill is deprecated and will change in a future version. Call result.infer_objects(copy=False) instead. To opt-in to the future behavior, set `pd.set_option('future.no_silent_downcasting', True)`\n",
      "  pfs[\"tripleg_id\"] = pfs[\"tripleg_id\"].ffill()\n",
      "C:\\Users\\zhixu\\anaconda3\\Lib\\site-packages\\trackintel\\preprocessing\\positionfixes.py:440: FutureWarning: Downcasting object dtype arrays on .fillna, .ffill, .bfill is deprecated and will change in a future version. Call result.infer_objects(copy=False) instead. To opt-in to the future behavior, set `pd.set_option('future.no_silent_downcasting', True)`\n",
      "  cond_overlap_end = cond_overlap & ~cond_temporal_gap.shift(-1).fillna(False) & pd.isna(pfs[\"tripleg_id\"])\n",
      "C:\\Users\\zhixu\\anaconda3\\Lib\\site-packages\\trackintel\\preprocessing\\positionfixes.py:573: UserWarning: The positionfixes with ids [4600064 4600065 4600195 ... 4699714 4699867 4699868] lead to invalid tripleg geometries. The resulting triplegs were omitted and the tripleg id of the positionfixes was set to nan\n",
      "  warnings.warn(warn_string)\n"
     ]
    },
    {
     "name": "stdout",
     "output_type": "stream",
     "text": [
      "           uid   d   t   x    y                geometry       date  \\\n",
      "4600000  11903  12   9  21  181  POINT (21.000 181.000) 2024-01-13   \n",
      "4600001  11903  12  10  22  166  POINT (22.000 166.000) 2024-01-13   \n",
      "4600002  11903  12  11  29  163  POINT (29.000 163.000) 2024-01-13   \n",
      "4600003  11903  12  12  39  151  POINT (39.000 151.000) 2024-01-13   \n",
      "4600004  11903  12  13  33  159  POINT (33.000 159.000) 2024-01-13   \n",
      "\n",
      "                   time            datetime  \n",
      "4600000 0 days 04:30:00 2024-01-13 04:30:00  \n",
      "4600001 0 days 05:00:00 2024-01-13 05:00:00  \n",
      "4600002 0 days 05:30:00 2024-01-13 05:30:00  \n",
      "4600003 0 days 06:00:00 2024-01-13 06:00:00  \n",
      "4600004 0 days 06:30:00 2024-01-13 06:30:00  \n",
      "1-itemsets done!\n",
      "2-itemsets done!\n"
     ]
    },
    {
     "name": "stderr",
     "output_type": "stream",
     "text": [
      "100%|████████████████████████████████████████████████████████████████████████████████| 271/271 [00:15<00:00, 17.65it/s]\n",
      "C:\\Users\\zhixu\\anaconda3\\Lib\\site-packages\\trackintel\\preprocessing\\positionfixes.py:361: FutureWarning: Downcasting object dtype arrays on .fillna, .ffill, .bfill is deprecated and will change in a future version. Call result.infer_objects(copy=False) instead. To opt-in to the future behavior, set `pd.set_option('future.no_silent_downcasting', True)`\n",
      "  pfs[\"tripleg_id\"] = pfs[\"tripleg_id\"].ffill()\n",
      "C:\\Users\\zhixu\\anaconda3\\Lib\\site-packages\\trackintel\\preprocessing\\positionfixes.py:440: FutureWarning: Downcasting object dtype arrays on .fillna, .ffill, .bfill is deprecated and will change in a future version. Call result.infer_objects(copy=False) instead. To opt-in to the future behavior, set `pd.set_option('future.no_silent_downcasting', True)`\n",
      "  cond_overlap_end = cond_overlap & ~cond_temporal_gap.shift(-1).fillna(False) & pd.isna(pfs[\"tripleg_id\"])\n",
      "C:\\Users\\zhixu\\anaconda3\\Lib\\site-packages\\trackintel\\preprocessing\\positionfixes.py:573: UserWarning: The positionfixes with ids [4700011 4700012 4700013 ... 4799960 4799963 4799964] lead to invalid tripleg geometries. The resulting triplegs were omitted and the tripleg id of the positionfixes was set to nan\n",
      "  warnings.warn(warn_string)\n"
     ]
    },
    {
     "name": "stdout",
     "output_type": "stream",
     "text": [
      "           uid   d   t   x    y                geometry       date  \\\n",
      "4700000  12183  12   3  15  173  POINT (15.000 173.000) 2024-01-13   \n",
      "4700001  12183  12   5  15  174  POINT (15.000 174.000) 2024-01-13   \n",
      "4700002  12183  12   7  14  173  POINT (14.000 173.000) 2024-01-13   \n",
      "4700003  12183  12  14  12  172  POINT (12.000 172.000) 2024-01-13   \n",
      "4700004  12183  12  15   8  173   POINT (8.000 173.000) 2024-01-13   \n",
      "\n",
      "                   time            datetime  \n",
      "4700000 0 days 01:30:00 2024-01-13 01:30:00  \n",
      "4700001 0 days 02:30:00 2024-01-13 02:30:00  \n",
      "4700002 0 days 03:30:00 2024-01-13 03:30:00  \n",
      "4700003 0 days 07:00:00 2024-01-13 07:00:00  \n",
      "4700004 0 days 07:30:00 2024-01-13 07:30:00  \n",
      "1-itemsets done!\n",
      "2-itemsets done!\n",
      "No new candidates generated. Stopping at 2-itemsets\n"
     ]
    },
    {
     "name": "stderr",
     "output_type": "stream",
     "text": [
      "100%|████████████████████████████████████████████████████████████████████████████████| 277/277 [00:15<00:00, 17.59it/s]\n",
      "C:\\Users\\zhixu\\anaconda3\\Lib\\site-packages\\trackintel\\preprocessing\\positionfixes.py:361: FutureWarning: Downcasting object dtype arrays on .fillna, .ffill, .bfill is deprecated and will change in a future version. Call result.infer_objects(copy=False) instead. To opt-in to the future behavior, set `pd.set_option('future.no_silent_downcasting', True)`\n",
      "  pfs[\"tripleg_id\"] = pfs[\"tripleg_id\"].ffill()\n",
      "C:\\Users\\zhixu\\anaconda3\\Lib\\site-packages\\trackintel\\preprocessing\\positionfixes.py:440: FutureWarning: Downcasting object dtype arrays on .fillna, .ffill, .bfill is deprecated and will change in a future version. Call result.infer_objects(copy=False) instead. To opt-in to the future behavior, set `pd.set_option('future.no_silent_downcasting', True)`\n",
      "  cond_overlap_end = cond_overlap & ~cond_temporal_gap.shift(-1).fillna(False) & pd.isna(pfs[\"tripleg_id\"])\n",
      "C:\\Users\\zhixu\\anaconda3\\Lib\\site-packages\\trackintel\\preprocessing\\positionfixes.py:573: UserWarning: The positionfixes with ids [4800000 4800001 4800005 ... 4899949 4899975 4899976] lead to invalid tripleg geometries. The resulting triplegs were omitted and the tripleg id of the positionfixes was set to nan\n",
      "  warnings.warn(warn_string)\n"
     ]
    },
    {
     "name": "stdout",
     "output_type": "stream",
     "text": [
      "           uid   d   t   x    y                geometry       date  \\\n",
      "4800000  12453  12  27  22  160  POINT (22.000 160.000) 2024-01-13   \n",
      "4800001  12453  12  28  22  160  POINT (22.000 160.000) 2024-01-13   \n",
      "4800002  12453  12  30  22  161  POINT (22.000 161.000) 2024-01-13   \n",
      "4800003  12453  12  31  23  160  POINT (23.000 160.000) 2024-01-13   \n",
      "4800004  12453  12  33  23  160  POINT (23.000 160.000) 2024-01-13   \n",
      "\n",
      "                   time            datetime  \n",
      "4800000 0 days 13:30:00 2024-01-13 13:30:00  \n",
      "4800001 0 days 14:00:00 2024-01-13 14:00:00  \n",
      "4800002 0 days 15:00:00 2024-01-13 15:00:00  \n",
      "4800003 0 days 15:30:00 2024-01-13 15:30:00  \n",
      "4800004 0 days 16:30:00 2024-01-13 16:30:00  \n",
      "1-itemsets done!\n",
      "2-itemsets done!\n",
      "No new candidates generated. Stopping at 2-itemsets\n"
     ]
    },
    {
     "name": "stderr",
     "output_type": "stream",
     "text": [
      "100%|████████████████████████████████████████████████████████████████████████████████| 263/263 [00:18<00:00, 14.11it/s]\n",
      "C:\\Users\\zhixu\\anaconda3\\Lib\\site-packages\\trackintel\\preprocessing\\positionfixes.py:361: FutureWarning: Downcasting object dtype arrays on .fillna, .ffill, .bfill is deprecated and will change in a future version. Call result.infer_objects(copy=False) instead. To opt-in to the future behavior, set `pd.set_option('future.no_silent_downcasting', True)`\n",
      "  pfs[\"tripleg_id\"] = pfs[\"tripleg_id\"].ffill()\n",
      "C:\\Users\\zhixu\\anaconda3\\Lib\\site-packages\\trackintel\\preprocessing\\positionfixes.py:440: FutureWarning: Downcasting object dtype arrays on .fillna, .ffill, .bfill is deprecated and will change in a future version. Call result.infer_objects(copy=False) instead. To opt-in to the future behavior, set `pd.set_option('future.no_silent_downcasting', True)`\n",
      "  cond_overlap_end = cond_overlap & ~cond_temporal_gap.shift(-1).fillna(False) & pd.isna(pfs[\"tripleg_id\"])\n",
      "C:\\Users\\zhixu\\anaconda3\\Lib\\site-packages\\trackintel\\preprocessing\\positionfixes.py:573: UserWarning: The positionfixes with ids [4900001 4900002 4900003 ... 4999971 4999981 4999982] lead to invalid tripleg geometries. The resulting triplegs were omitted and the tripleg id of the positionfixes was set to nan\n",
      "  warnings.warn(warn_string)\n"
     ]
    },
    {
     "name": "stdout",
     "output_type": "stream",
     "text": [
      "           uid   d   t   x    y                geometry       date  \\\n",
      "4900000  12729  25  36  39  135  POINT (39.000 135.000) 2024-01-26   \n",
      "4900001  12729  26  17  47  138  POINT (47.000 138.000) 2024-01-27   \n",
      "4900002  12729  26  18  47  138  POINT (47.000 138.000) 2024-01-27   \n",
      "4900003  12729  26  19  47  138  POINT (47.000 138.000) 2024-01-27   \n",
      "4900004  12729  26  21  47  138  POINT (47.000 138.000) 2024-01-27   \n",
      "\n",
      "                   time            datetime  \n",
      "4900000 0 days 18:00:00 2024-01-26 18:00:00  \n",
      "4900001 0 days 08:30:00 2024-01-27 08:30:00  \n",
      "4900002 0 days 09:00:00 2024-01-27 09:00:00  \n",
      "4900003 0 days 09:30:00 2024-01-27 09:30:00  \n",
      "4900004 0 days 10:30:00 2024-01-27 10:30:00  \n",
      "1-itemsets done!\n",
      "2-itemsets done!\n",
      "No new candidates generated. Stopping at 2-itemsets\n"
     ]
    },
    {
     "name": "stderr",
     "output_type": "stream",
     "text": [
      "100%|████████████████████████████████████████████████████████████████████████████████| 275/275 [00:17<00:00, 15.70it/s]\n",
      "C:\\Users\\zhixu\\anaconda3\\Lib\\site-packages\\trackintel\\preprocessing\\positionfixes.py:361: FutureWarning: Downcasting object dtype arrays on .fillna, .ffill, .bfill is deprecated and will change in a future version. Call result.infer_objects(copy=False) instead. To opt-in to the future behavior, set `pd.set_option('future.no_silent_downcasting', True)`\n",
      "  pfs[\"tripleg_id\"] = pfs[\"tripleg_id\"].ffill()\n",
      "C:\\Users\\zhixu\\anaconda3\\Lib\\site-packages\\trackintel\\preprocessing\\positionfixes.py:440: FutureWarning: Downcasting object dtype arrays on .fillna, .ffill, .bfill is deprecated and will change in a future version. Call result.infer_objects(copy=False) instead. To opt-in to the future behavior, set `pd.set_option('future.no_silent_downcasting', True)`\n",
      "  cond_overlap_end = cond_overlap & ~cond_temporal_gap.shift(-1).fillna(False) & pd.isna(pfs[\"tripleg_id\"])\n",
      "C:\\Users\\zhixu\\anaconda3\\Lib\\site-packages\\trackintel\\preprocessing\\positionfixes.py:573: UserWarning: The positionfixes with ids [5000000 5000001 5000002 ... 5099990 5099994 5099995] lead to invalid tripleg geometries. The resulting triplegs were omitted and the tripleg id of the positionfixes was set to nan\n",
      "  warnings.warn(warn_string)\n"
     ]
    },
    {
     "name": "stdout",
     "output_type": "stream",
     "text": [
      "           uid   d   t   x    y                geometry       date  \\\n",
      "5000000  12991  18  19  34  161  POINT (34.000 161.000) 2024-01-19   \n",
      "5000001  12991  18  20  34  161  POINT (34.000 161.000) 2024-01-19   \n",
      "5000002  12991  18  21  34  161  POINT (34.000 161.000) 2024-01-19   \n",
      "5000003  12991  18  23  34  161  POINT (34.000 161.000) 2024-01-19   \n",
      "5000004  12991  18  24  33  160  POINT (33.000 160.000) 2024-01-19   \n",
      "\n",
      "                   time            datetime  \n",
      "5000000 0 days 09:30:00 2024-01-19 09:30:00  \n",
      "5000001 0 days 10:00:00 2024-01-19 10:00:00  \n",
      "5000002 0 days 10:30:00 2024-01-19 10:30:00  \n",
      "5000003 0 days 11:30:00 2024-01-19 11:30:00  \n",
      "5000004 0 days 12:00:00 2024-01-19 12:00:00  \n",
      "1-itemsets done!\n",
      "2-itemsets done!\n"
     ]
    },
    {
     "name": "stderr",
     "output_type": "stream",
     "text": [
      "100%|████████████████████████████████████████████████████████████████████████████████| 276/276 [00:18<00:00, 14.66it/s]\n",
      "C:\\Users\\zhixu\\anaconda3\\Lib\\site-packages\\trackintel\\preprocessing\\positionfixes.py:361: FutureWarning: Downcasting object dtype arrays on .fillna, .ffill, .bfill is deprecated and will change in a future version. Call result.infer_objects(copy=False) instead. To opt-in to the future behavior, set `pd.set_option('future.no_silent_downcasting', True)`\n",
      "  pfs[\"tripleg_id\"] = pfs[\"tripleg_id\"].ffill()\n",
      "C:\\Users\\zhixu\\anaconda3\\Lib\\site-packages\\trackintel\\preprocessing\\positionfixes.py:440: FutureWarning: Downcasting object dtype arrays on .fillna, .ffill, .bfill is deprecated and will change in a future version. Call result.infer_objects(copy=False) instead. To opt-in to the future behavior, set `pd.set_option('future.no_silent_downcasting', True)`\n",
      "  cond_overlap_end = cond_overlap & ~cond_temporal_gap.shift(-1).fillna(False) & pd.isna(pfs[\"tripleg_id\"])\n",
      "C:\\Users\\zhixu\\anaconda3\\Lib\\site-packages\\trackintel\\preprocessing\\positionfixes.py:573: UserWarning: The positionfixes with ids [5100000 5100001 5100002 ... 5199970 5199989 5199990] lead to invalid tripleg geometries. The resulting triplegs were omitted and the tripleg id of the positionfixes was set to nan\n",
      "  warnings.warn(warn_string)\n"
     ]
    },
    {
     "name": "stdout",
     "output_type": "stream",
     "text": [
      "           uid   d   t   x    y                geometry       date  \\\n",
      "5100000  13265  12  39  25  179  POINT (25.000 179.000) 2024-01-13   \n",
      "5100001  13265  12  40  25  179  POINT (25.000 179.000) 2024-01-13   \n",
      "5100002  13265  12  43  25  179  POINT (25.000 179.000) 2024-01-13   \n",
      "5100003  13265  12  44  25  179  POINT (25.000 179.000) 2024-01-13   \n",
      "5100004  13265  12  45  25  179  POINT (25.000 179.000) 2024-01-13   \n",
      "\n",
      "                   time            datetime  \n",
      "5100000 0 days 19:30:00 2024-01-13 19:30:00  \n",
      "5100001 0 days 20:00:00 2024-01-13 20:00:00  \n",
      "5100002 0 days 21:30:00 2024-01-13 21:30:00  \n",
      "5100003 0 days 22:00:00 2024-01-13 22:00:00  \n",
      "5100004 0 days 22:30:00 2024-01-13 22:30:00  \n",
      "1-itemsets done!\n",
      "2-itemsets done!\n"
     ]
    },
    {
     "name": "stderr",
     "output_type": "stream",
     "text": [
      "100%|████████████████████████████████████████████████████████████████████████████████| 278/278 [00:17<00:00, 15.92it/s]\n",
      "C:\\Users\\zhixu\\anaconda3\\Lib\\site-packages\\trackintel\\preprocessing\\positionfixes.py:361: FutureWarning: Downcasting object dtype arrays on .fillna, .ffill, .bfill is deprecated and will change in a future version. Call result.infer_objects(copy=False) instead. To opt-in to the future behavior, set `pd.set_option('future.no_silent_downcasting', True)`\n",
      "  pfs[\"tripleg_id\"] = pfs[\"tripleg_id\"].ffill()\n",
      "C:\\Users\\zhixu\\anaconda3\\Lib\\site-packages\\trackintel\\preprocessing\\positionfixes.py:440: FutureWarning: Downcasting object dtype arrays on .fillna, .ffill, .bfill is deprecated and will change in a future version. Call result.infer_objects(copy=False) instead. To opt-in to the future behavior, set `pd.set_option('future.no_silent_downcasting', True)`\n",
      "  cond_overlap_end = cond_overlap & ~cond_temporal_gap.shift(-1).fillna(False) & pd.isna(pfs[\"tripleg_id\"])\n",
      "C:\\Users\\zhixu\\anaconda3\\Lib\\site-packages\\trackintel\\preprocessing\\positionfixes.py:573: UserWarning: The positionfixes with ids [5200001 5200002 5200015 ... 5299950 5299961 5299962] lead to invalid tripleg geometries. The resulting triplegs were omitted and the tripleg id of the positionfixes was set to nan\n",
      "  warnings.warn(warn_string)\n"
     ]
    },
    {
     "name": "stdout",
     "output_type": "stream",
     "text": [
      "           uid   d   t   x    y                geometry       date  \\\n",
      "5200000  13540  15  36  41  157  POINT (41.000 157.000) 2024-01-16   \n",
      "5200001  13540  15  44  43  156  POINT (43.000 156.000) 2024-01-16   \n",
      "5200002  13540  15  45  43  156  POINT (43.000 156.000) 2024-01-16   \n",
      "5200003  13540  16  14  36  155  POINT (36.000 155.000) 2024-01-17   \n",
      "5200004  13540  16  15  33  154  POINT (33.000 154.000) 2024-01-17   \n",
      "\n",
      "                   time            datetime  \n",
      "5200000 0 days 18:00:00 2024-01-16 18:00:00  \n",
      "5200001 0 days 22:00:00 2024-01-16 22:00:00  \n",
      "5200002 0 days 22:30:00 2024-01-16 22:30:00  \n",
      "5200003 0 days 07:00:00 2024-01-17 07:00:00  \n",
      "5200004 0 days 07:30:00 2024-01-17 07:30:00  \n",
      "1-itemsets done!\n",
      "2-itemsets done!\n",
      "No new candidates generated. Stopping at 2-itemsets\n"
     ]
    },
    {
     "name": "stderr",
     "output_type": "stream",
     "text": [
      "100%|████████████████████████████████████████████████████████████████████████████████| 274/274 [00:21<00:00, 12.71it/s]\n",
      "C:\\Users\\zhixu\\anaconda3\\Lib\\site-packages\\trackintel\\preprocessing\\positionfixes.py:361: FutureWarning: Downcasting object dtype arrays on .fillna, .ffill, .bfill is deprecated and will change in a future version. Call result.infer_objects(copy=False) instead. To opt-in to the future behavior, set `pd.set_option('future.no_silent_downcasting', True)`\n",
      "  pfs[\"tripleg_id\"] = pfs[\"tripleg_id\"].ffill()\n",
      "C:\\Users\\zhixu\\anaconda3\\Lib\\site-packages\\trackintel\\preprocessing\\positionfixes.py:440: FutureWarning: Downcasting object dtype arrays on .fillna, .ffill, .bfill is deprecated and will change in a future version. Call result.infer_objects(copy=False) instead. To opt-in to the future behavior, set `pd.set_option('future.no_silent_downcasting', True)`\n",
      "  cond_overlap_end = cond_overlap & ~cond_temporal_gap.shift(-1).fillna(False) & pd.isna(pfs[\"tripleg_id\"])\n",
      "C:\\Users\\zhixu\\anaconda3\\Lib\\site-packages\\trackintel\\preprocessing\\positionfixes.py:573: UserWarning: The positionfixes with ids [5300120 5300121 5300136 ... 5399757 5399804 5399805] lead to invalid tripleg geometries. The resulting triplegs were omitted and the tripleg id of the positionfixes was set to nan\n",
      "  warnings.warn(warn_string)\n"
     ]
    },
    {
     "name": "stdout",
     "output_type": "stream",
     "text": [
      "           uid  d   t   x    y                geometry       date  \\\n",
      "5300000  13817  8  12  20  162  POINT (20.000 162.000) 2024-01-09   \n",
      "5300001  13817  8  13  29  153  POINT (29.000 153.000) 2024-01-09   \n",
      "5300002  13817  8  33  29  152  POINT (29.000 152.000) 2024-01-09   \n",
      "5300003  13817  8  34  20  158  POINT (20.000 158.000) 2024-01-09   \n",
      "5300004  13817  9  13   8  152   POINT (8.000 152.000) 2024-01-10   \n",
      "\n",
      "                   time            datetime  \n",
      "5300000 0 days 06:00:00 2024-01-09 06:00:00  \n",
      "5300001 0 days 06:30:00 2024-01-09 06:30:00  \n",
      "5300002 0 days 16:30:00 2024-01-09 16:30:00  \n",
      "5300003 0 days 17:00:00 2024-01-09 17:00:00  \n",
      "5300004 0 days 06:30:00 2024-01-10 06:30:00  \n",
      "1-itemsets done!\n",
      "2-itemsets done!\n"
     ]
    },
    {
     "name": "stderr",
     "output_type": "stream",
     "text": [
      "100%|████████████████████████████████████████████████████████████████████████████████| 300/300 [00:19<00:00, 15.45it/s]\n",
      "C:\\Users\\zhixu\\anaconda3\\Lib\\site-packages\\trackintel\\preprocessing\\positionfixes.py:361: FutureWarning: Downcasting object dtype arrays on .fillna, .ffill, .bfill is deprecated and will change in a future version. Call result.infer_objects(copy=False) instead. To opt-in to the future behavior, set `pd.set_option('future.no_silent_downcasting', True)`\n",
      "  pfs[\"tripleg_id\"] = pfs[\"tripleg_id\"].ffill()\n",
      "C:\\Users\\zhixu\\anaconda3\\Lib\\site-packages\\trackintel\\preprocessing\\positionfixes.py:440: FutureWarning: Downcasting object dtype arrays on .fillna, .ffill, .bfill is deprecated and will change in a future version. Call result.infer_objects(copy=False) instead. To opt-in to the future behavior, set `pd.set_option('future.no_silent_downcasting', True)`\n",
      "  cond_overlap_end = cond_overlap & ~cond_temporal_gap.shift(-1).fillna(False) & pd.isna(pfs[\"tripleg_id\"])\n",
      "C:\\Users\\zhixu\\anaconda3\\Lib\\site-packages\\trackintel\\preprocessing\\positionfixes.py:573: UserWarning: The positionfixes with ids [5400312 5400313 5400314 ... 5499930 5499967 5499968] lead to invalid tripleg geometries. The resulting triplegs were omitted and the tripleg id of the positionfixes was set to nan\n",
      "  warnings.warn(warn_string)\n"
     ]
    },
    {
     "name": "stdout",
     "output_type": "stream",
     "text": [
      "           uid   d   t   x    y                geometry       date  \\\n",
      "5400000  14091  18  39  22  158  POINT (22.000 158.000) 2024-01-19   \n",
      "5400001  14091  18  40  22  160  POINT (22.000 160.000) 2024-01-19   \n",
      "5400002  14091  18  46  21  162  POINT (21.000 162.000) 2024-01-19   \n",
      "5400003  14091  19  19  19  168  POINT (19.000 168.000) 2024-01-20   \n",
      "5400004  14091  19  20  18  172  POINT (18.000 172.000) 2024-01-20   \n",
      "\n",
      "                   time            datetime  \n",
      "5400000 0 days 19:30:00 2024-01-19 19:30:00  \n",
      "5400001 0 days 20:00:00 2024-01-19 20:00:00  \n",
      "5400002 0 days 23:00:00 2024-01-19 23:00:00  \n",
      "5400003 0 days 09:30:00 2024-01-20 09:30:00  \n",
      "5400004 0 days 10:00:00 2024-01-20 10:00:00  \n",
      "1-itemsets done!\n",
      "2-itemsets done!\n"
     ]
    },
    {
     "name": "stderr",
     "output_type": "stream",
     "text": [
      "100%|████████████████████████████████████████████████████████████████████████████████| 279/279 [00:16<00:00, 17.08it/s]\n",
      "C:\\Users\\zhixu\\anaconda3\\Lib\\site-packages\\trackintel\\preprocessing\\positionfixes.py:361: FutureWarning: Downcasting object dtype arrays on .fillna, .ffill, .bfill is deprecated and will change in a future version. Call result.infer_objects(copy=False) instead. To opt-in to the future behavior, set `pd.set_option('future.no_silent_downcasting', True)`\n",
      "  pfs[\"tripleg_id\"] = pfs[\"tripleg_id\"].ffill()\n",
      "C:\\Users\\zhixu\\anaconda3\\Lib\\site-packages\\trackintel\\preprocessing\\positionfixes.py:440: FutureWarning: Downcasting object dtype arrays on .fillna, .ffill, .bfill is deprecated and will change in a future version. Call result.infer_objects(copy=False) instead. To opt-in to the future behavior, set `pd.set_option('future.no_silent_downcasting', True)`\n",
      "  cond_overlap_end = cond_overlap & ~cond_temporal_gap.shift(-1).fillna(False) & pd.isna(pfs[\"tripleg_id\"])\n",
      "C:\\Users\\zhixu\\anaconda3\\Lib\\site-packages\\trackintel\\preprocessing\\positionfixes.py:573: UserWarning: The positionfixes with ids [5500021 5500022 5500023 ... 5599891 5599971 5599972] lead to invalid tripleg geometries. The resulting triplegs were omitted and the tripleg id of the positionfixes was set to nan\n",
      "  warnings.warn(warn_string)\n"
     ]
    },
    {
     "name": "stdout",
     "output_type": "stream",
     "text": [
      "           uid   d   t   x    y                geometry       date  \\\n",
      "5500000  14393  17  34  13  171  POINT (13.000 171.000) 2024-01-18   \n",
      "5500001  14393  17  35  21  151  POINT (21.000 151.000) 2024-01-18   \n",
      "5500002  14393  17  36  21  149  POINT (21.000 149.000) 2024-01-18   \n",
      "5500003  14393  17  37  26  149  POINT (26.000 149.000) 2024-01-18   \n",
      "5500004  14393  17  38  26  147  POINT (26.000 147.000) 2024-01-18   \n",
      "\n",
      "                   time            datetime  \n",
      "5500000 0 days 17:00:00 2024-01-18 17:00:00  \n",
      "5500001 0 days 17:30:00 2024-01-18 17:30:00  \n",
      "5500002 0 days 18:00:00 2024-01-18 18:00:00  \n",
      "5500003 0 days 18:30:00 2024-01-18 18:30:00  \n",
      "5500004 0 days 19:00:00 2024-01-18 19:00:00  \n",
      "1-itemsets done!\n",
      "2-itemsets done!\n",
      "No new candidates generated. Stopping at 2-itemsets\n"
     ]
    },
    {
     "name": "stderr",
     "output_type": "stream",
     "text": [
      "100%|████████████████████████████████████████████████████████████████████████████████| 280/280 [00:17<00:00, 16.01it/s]\n",
      "C:\\Users\\zhixu\\anaconda3\\Lib\\site-packages\\trackintel\\preprocessing\\positionfixes.py:361: FutureWarning: Downcasting object dtype arrays on .fillna, .ffill, .bfill is deprecated and will change in a future version. Call result.infer_objects(copy=False) instead. To opt-in to the future behavior, set `pd.set_option('future.no_silent_downcasting', True)`\n",
      "  pfs[\"tripleg_id\"] = pfs[\"tripleg_id\"].ffill()\n",
      "C:\\Users\\zhixu\\anaconda3\\Lib\\site-packages\\trackintel\\preprocessing\\positionfixes.py:440: FutureWarning: Downcasting object dtype arrays on .fillna, .ffill, .bfill is deprecated and will change in a future version. Call result.infer_objects(copy=False) instead. To opt-in to the future behavior, set `pd.set_option('future.no_silent_downcasting', True)`\n",
      "  cond_overlap_end = cond_overlap & ~cond_temporal_gap.shift(-1).fillna(False) & pd.isna(pfs[\"tripleg_id\"])\n",
      "C:\\Users\\zhixu\\anaconda3\\Lib\\site-packages\\trackintel\\preprocessing\\positionfixes.py:573: UserWarning: The positionfixes with ids [5600210 5600211 5600233 ... 5699948 5699964 5699965] lead to invalid tripleg geometries. The resulting triplegs were omitted and the tripleg id of the positionfixes was set to nan\n",
      "  warnings.warn(warn_string)\n"
     ]
    },
    {
     "name": "stdout",
     "output_type": "stream",
     "text": [
      "           uid   d   t   x    y                geometry       date  \\\n",
      "5600000  14671  13  16  35  137  POINT (35.000 137.000) 2024-01-14   \n",
      "5600001  14671  13  17  31  138  POINT (31.000 138.000) 2024-01-14   \n",
      "5600002  14671  13  20  33  137  POINT (33.000 137.000) 2024-01-14   \n",
      "5600003  14671  13  21  29  144  POINT (29.000 144.000) 2024-01-14   \n",
      "5600004  14671  13  22  29  144  POINT (29.000 144.000) 2024-01-14   \n",
      "\n",
      "                   time            datetime  \n",
      "5600000 0 days 08:00:00 2024-01-14 08:00:00  \n",
      "5600001 0 days 08:30:00 2024-01-14 08:30:00  \n",
      "5600002 0 days 10:00:00 2024-01-14 10:00:00  \n",
      "5600003 0 days 10:30:00 2024-01-14 10:30:00  \n",
      "5600004 0 days 11:00:00 2024-01-14 11:00:00  \n",
      "1-itemsets done!\n",
      "2-itemsets done!\n"
     ]
    },
    {
     "name": "stderr",
     "output_type": "stream",
     "text": [
      "100%|████████████████████████████████████████████████████████████████████████████████| 284/284 [00:18<00:00, 15.07it/s]\n",
      "C:\\Users\\zhixu\\anaconda3\\Lib\\site-packages\\trackintel\\preprocessing\\positionfixes.py:361: FutureWarning: Downcasting object dtype arrays on .fillna, .ffill, .bfill is deprecated and will change in a future version. Call result.infer_objects(copy=False) instead. To opt-in to the future behavior, set `pd.set_option('future.no_silent_downcasting', True)`\n",
      "  pfs[\"tripleg_id\"] = pfs[\"tripleg_id\"].ffill()\n",
      "C:\\Users\\zhixu\\anaconda3\\Lib\\site-packages\\trackintel\\preprocessing\\positionfixes.py:440: FutureWarning: Downcasting object dtype arrays on .fillna, .ffill, .bfill is deprecated and will change in a future version. Call result.infer_objects(copy=False) instead. To opt-in to the future behavior, set `pd.set_option('future.no_silent_downcasting', True)`\n",
      "  cond_overlap_end = cond_overlap & ~cond_temporal_gap.shift(-1).fillna(False) & pd.isna(pfs[\"tripleg_id\"])\n",
      "C:\\Users\\zhixu\\anaconda3\\Lib\\site-packages\\trackintel\\preprocessing\\positionfixes.py:573: UserWarning: The positionfixes with ids [5700127 5700128 5700147 ... 5799793 5799865 5799866] lead to invalid tripleg geometries. The resulting triplegs were omitted and the tripleg id of the positionfixes was set to nan\n",
      "  warnings.warn(warn_string)\n"
     ]
    },
    {
     "name": "stdout",
     "output_type": "stream",
     "text": [
      "           uid  d   t   x    y                geometry       date  \\\n",
      "5700000  14950  5  18  21  157  POINT (21.000 157.000) 2024-01-06   \n",
      "5700001  14950  5  19  23  151  POINT (23.000 151.000) 2024-01-06   \n",
      "5700002  14950  5  20  25  150  POINT (25.000 150.000) 2024-01-06   \n",
      "5700003  14950  5  21  28  140  POINT (28.000 140.000) 2024-01-06   \n",
      "5700004  14950  5  22  24  144  POINT (24.000 144.000) 2024-01-06   \n",
      "\n",
      "                   time            datetime  \n",
      "5700000 0 days 09:00:00 2024-01-06 09:00:00  \n",
      "5700001 0 days 09:30:00 2024-01-06 09:30:00  \n",
      "5700002 0 days 10:00:00 2024-01-06 10:00:00  \n",
      "5700003 0 days 10:30:00 2024-01-06 10:30:00  \n",
      "5700004 0 days 11:00:00 2024-01-06 11:00:00  \n",
      "1-itemsets done!\n",
      "2-itemsets done!\n"
     ]
    },
    {
     "name": "stderr",
     "output_type": "stream",
     "text": [
      "100%|████████████████████████████████████████████████████████████████████████████████| 279/279 [00:17<00:00, 15.75it/s]\n",
      "C:\\Users\\zhixu\\anaconda3\\Lib\\site-packages\\trackintel\\preprocessing\\positionfixes.py:361: FutureWarning: Downcasting object dtype arrays on .fillna, .ffill, .bfill is deprecated and will change in a future version. Call result.infer_objects(copy=False) instead. To opt-in to the future behavior, set `pd.set_option('future.no_silent_downcasting', True)`\n",
      "  pfs[\"tripleg_id\"] = pfs[\"tripleg_id\"].ffill()\n",
      "C:\\Users\\zhixu\\anaconda3\\Lib\\site-packages\\trackintel\\preprocessing\\positionfixes.py:440: FutureWarning: Downcasting object dtype arrays on .fillna, .ffill, .bfill is deprecated and will change in a future version. Call result.infer_objects(copy=False) instead. To opt-in to the future behavior, set `pd.set_option('future.no_silent_downcasting', True)`\n",
      "  cond_overlap_end = cond_overlap & ~cond_temporal_gap.shift(-1).fillna(False) & pd.isna(pfs[\"tripleg_id\"])\n",
      "C:\\Users\\zhixu\\anaconda3\\Lib\\site-packages\\trackintel\\preprocessing\\positionfixes.py:573: UserWarning: The positionfixes with ids [5800003 5800004 5800005 ... 5899997 5899998 5899999] lead to invalid tripleg geometries. The resulting triplegs were omitted and the tripleg id of the positionfixes was set to nan\n",
      "  warnings.warn(warn_string)\n"
     ]
    },
    {
     "name": "stdout",
     "output_type": "stream",
     "text": [
      "           uid  d   t   x    y                geometry       date  \\\n",
      "5800000  15233  5  14  36  148  POINT (36.000 148.000) 2024-01-06   \n",
      "5800001  15233  5  15  38  134  POINT (38.000 134.000) 2024-01-06   \n",
      "5800002  15233  5  16  37  132  POINT (37.000 132.000) 2024-01-06   \n",
      "5800003  15233  5  30  38  129  POINT (38.000 129.000) 2024-01-06   \n",
      "5800004  15233  5  31  38  129  POINT (38.000 129.000) 2024-01-06   \n",
      "\n",
      "                   time            datetime  \n",
      "5800000 0 days 07:00:00 2024-01-06 07:00:00  \n",
      "5800001 0 days 07:30:00 2024-01-06 07:30:00  \n",
      "5800002 0 days 08:00:00 2024-01-06 08:00:00  \n",
      "5800003 0 days 15:00:00 2024-01-06 15:00:00  \n",
      "5800004 0 days 15:30:00 2024-01-06 15:30:00  \n",
      "1-itemsets done!\n",
      "2-itemsets done!\n",
      "No new candidates generated. Stopping at 2-itemsets\n"
     ]
    },
    {
     "name": "stderr",
     "output_type": "stream",
     "text": [
      "100%|████████████████████████████████████████████████████████████████████████████████| 293/293 [00:15<00:00, 18.91it/s]\n",
      "C:\\Users\\zhixu\\anaconda3\\Lib\\site-packages\\trackintel\\preprocessing\\positionfixes.py:361: FutureWarning: Downcasting object dtype arrays on .fillna, .ffill, .bfill is deprecated and will change in a future version. Call result.infer_objects(copy=False) instead. To opt-in to the future behavior, set `pd.set_option('future.no_silent_downcasting', True)`\n",
      "  pfs[\"tripleg_id\"] = pfs[\"tripleg_id\"].ffill()\n",
      "C:\\Users\\zhixu\\anaconda3\\Lib\\site-packages\\trackintel\\preprocessing\\positionfixes.py:440: FutureWarning: Downcasting object dtype arrays on .fillna, .ffill, .bfill is deprecated and will change in a future version. Call result.infer_objects(copy=False) instead. To opt-in to the future behavior, set `pd.set_option('future.no_silent_downcasting', True)`\n",
      "  cond_overlap_end = cond_overlap & ~cond_temporal_gap.shift(-1).fillna(False) & pd.isna(pfs[\"tripleg_id\"])\n",
      "C:\\Users\\zhixu\\anaconda3\\Lib\\site-packages\\trackintel\\preprocessing\\positionfixes.py:573: UserWarning: The positionfixes with ids [5900156 5900157 5900169 ... 5999984 5999985 5999986] lead to invalid tripleg geometries. The resulting triplegs were omitted and the tripleg id of the positionfixes was set to nan\n",
      "  warnings.warn(warn_string)\n"
     ]
    },
    {
     "name": "stdout",
     "output_type": "stream",
     "text": [
      "           uid   d   t   x   y               geometry       date  \\\n",
      "5900000  15511  20  21  47  94  POINT (47.000 94.000) 2024-01-21   \n",
      "5900001  15511  20  25  48  93  POINT (48.000 93.000) 2024-01-21   \n",
      "5900002  15511  20  26  47  96  POINT (47.000 96.000) 2024-01-21   \n",
      "5900003  15511  20  33  47  95  POINT (47.000 95.000) 2024-01-21   \n",
      "5900004  15511  20  34  47  96  POINT (47.000 96.000) 2024-01-21   \n",
      "\n",
      "                   time            datetime  \n",
      "5900000 0 days 10:30:00 2024-01-21 10:30:00  \n",
      "5900001 0 days 12:30:00 2024-01-21 12:30:00  \n",
      "5900002 0 days 13:00:00 2024-01-21 13:00:00  \n",
      "5900003 0 days 16:30:00 2024-01-21 16:30:00  \n",
      "5900004 0 days 17:00:00 2024-01-21 17:00:00  \n",
      "1-itemsets done!\n",
      "2-itemsets done!\n"
     ]
    },
    {
     "name": "stderr",
     "output_type": "stream",
     "text": [
      "100%|████████████████████████████████████████████████████████████████████████████████| 300/300 [00:14<00:00, 20.96it/s]\n",
      "C:\\Users\\zhixu\\anaconda3\\Lib\\site-packages\\trackintel\\preprocessing\\positionfixes.py:361: FutureWarning: Downcasting object dtype arrays on .fillna, .ffill, .bfill is deprecated and will change in a future version. Call result.infer_objects(copy=False) instead. To opt-in to the future behavior, set `pd.set_option('future.no_silent_downcasting', True)`\n",
      "  pfs[\"tripleg_id\"] = pfs[\"tripleg_id\"].ffill()\n",
      "C:\\Users\\zhixu\\anaconda3\\Lib\\site-packages\\trackintel\\preprocessing\\positionfixes.py:440: FutureWarning: Downcasting object dtype arrays on .fillna, .ffill, .bfill is deprecated and will change in a future version. Call result.infer_objects(copy=False) instead. To opt-in to the future behavior, set `pd.set_option('future.no_silent_downcasting', True)`\n",
      "  cond_overlap_end = cond_overlap & ~cond_temporal_gap.shift(-1).fillna(False) & pd.isna(pfs[\"tripleg_id\"])\n",
      "C:\\Users\\zhixu\\anaconda3\\Lib\\site-packages\\trackintel\\preprocessing\\positionfixes.py:573: UserWarning: The positionfixes with ids [6000107 6000108 6000144 ... 6099991 6099992 6099993] lead to invalid tripleg geometries. The resulting triplegs were omitted and the tripleg id of the positionfixes was set to nan\n",
      "  warnings.warn(warn_string)\n"
     ]
    },
    {
     "name": "stdout",
     "output_type": "stream",
     "text": [
      "           uid   d   t   x    y                geometry       date  \\\n",
      "6000000  15803  18  13  52  175  POINT (52.000 175.000) 2024-01-19   \n",
      "6000001  15803  18  14  51  173  POINT (51.000 173.000) 2024-01-19   \n",
      "6000002  15803  18  15  52  176  POINT (52.000 176.000) 2024-01-19   \n",
      "6000003  15803  18  16  53  187  POINT (53.000 187.000) 2024-01-19   \n",
      "6000004  15803  18  18  55  188  POINT (55.000 188.000) 2024-01-19   \n",
      "\n",
      "                   time            datetime  \n",
      "6000000 0 days 06:30:00 2024-01-19 06:30:00  \n",
      "6000001 0 days 07:00:00 2024-01-19 07:00:00  \n",
      "6000002 0 days 07:30:00 2024-01-19 07:30:00  \n",
      "6000003 0 days 08:00:00 2024-01-19 08:00:00  \n",
      "6000004 0 days 09:00:00 2024-01-19 09:00:00  \n",
      "1-itemsets done!\n",
      "2-itemsets done!\n"
     ]
    },
    {
     "name": "stderr",
     "output_type": "stream",
     "text": [
      "100%|████████████████████████████████████████████████████████████████████████████████| 285/285 [00:15<00:00, 18.37it/s]\n",
      "C:\\Users\\zhixu\\anaconda3\\Lib\\site-packages\\trackintel\\preprocessing\\positionfixes.py:361: FutureWarning: Downcasting object dtype arrays on .fillna, .ffill, .bfill is deprecated and will change in a future version. Call result.infer_objects(copy=False) instead. To opt-in to the future behavior, set `pd.set_option('future.no_silent_downcasting', True)`\n",
      "  pfs[\"tripleg_id\"] = pfs[\"tripleg_id\"].ffill()\n",
      "C:\\Users\\zhixu\\anaconda3\\Lib\\site-packages\\trackintel\\preprocessing\\positionfixes.py:440: FutureWarning: Downcasting object dtype arrays on .fillna, .ffill, .bfill is deprecated and will change in a future version. Call result.infer_objects(copy=False) instead. To opt-in to the future behavior, set `pd.set_option('future.no_silent_downcasting', True)`\n",
      "  cond_overlap_end = cond_overlap & ~cond_temporal_gap.shift(-1).fillna(False) & pd.isna(pfs[\"tripleg_id\"])\n",
      "C:\\Users\\zhixu\\anaconda3\\Lib\\site-packages\\trackintel\\preprocessing\\positionfixes.py:573: UserWarning: The positionfixes with ids [6100044 6100045 6100148 ... 6199953 6199995 6199996] lead to invalid tripleg geometries. The resulting triplegs were omitted and the tripleg id of the positionfixes was set to nan\n",
      "  warnings.warn(warn_string)\n"
     ]
    },
    {
     "name": "stdout",
     "output_type": "stream",
     "text": [
      "           uid   d   t   x    y                geometry       date  \\\n",
      "6100000  16102  13  45  21  153  POINT (21.000 153.000) 2024-01-14   \n",
      "6100001  16102  13  47  21  153  POINT (21.000 153.000) 2024-01-14   \n",
      "6100002  16102  14   6  21  152  POINT (21.000 152.000) 2024-01-15   \n",
      "6100003  16102  14   7  22  155  POINT (22.000 155.000) 2024-01-15   \n",
      "6100004  16102  14   8  21  153  POINT (21.000 153.000) 2024-01-15   \n",
      "\n",
      "                   time            datetime  \n",
      "6100000 0 days 22:30:00 2024-01-14 22:30:00  \n",
      "6100001 0 days 23:30:00 2024-01-14 23:30:00  \n",
      "6100002 0 days 03:00:00 2024-01-15 03:00:00  \n",
      "6100003 0 days 03:30:00 2024-01-15 03:30:00  \n",
      "6100004 0 days 04:00:00 2024-01-15 04:00:00  \n",
      "1-itemsets done!\n",
      "2-itemsets done!\n"
     ]
    },
    {
     "name": "stderr",
     "output_type": "stream",
     "text": [
      "100%|████████████████████████████████████████████████████████████████████████████████| 297/297 [00:14<00:00, 20.13it/s]\n",
      "C:\\Users\\zhixu\\anaconda3\\Lib\\site-packages\\trackintel\\preprocessing\\positionfixes.py:361: FutureWarning: Downcasting object dtype arrays on .fillna, .ffill, .bfill is deprecated and will change in a future version. Call result.infer_objects(copy=False) instead. To opt-in to the future behavior, set `pd.set_option('future.no_silent_downcasting', True)`\n",
      "  pfs[\"tripleg_id\"] = pfs[\"tripleg_id\"].ffill()\n",
      "C:\\Users\\zhixu\\anaconda3\\Lib\\site-packages\\trackintel\\preprocessing\\positionfixes.py:440: FutureWarning: Downcasting object dtype arrays on .fillna, .ffill, .bfill is deprecated and will change in a future version. Call result.infer_objects(copy=False) instead. To opt-in to the future behavior, set `pd.set_option('future.no_silent_downcasting', True)`\n",
      "  cond_overlap_end = cond_overlap & ~cond_temporal_gap.shift(-1).fillna(False) & pd.isna(pfs[\"tripleg_id\"])\n",
      "C:\\Users\\zhixu\\anaconda3\\Lib\\site-packages\\trackintel\\preprocessing\\positionfixes.py:573: UserWarning: The positionfixes with ids [6200000 6200001 6200020 ... 6299996 6299998 6299999] lead to invalid tripleg geometries. The resulting triplegs were omitted and the tripleg id of the positionfixes was set to nan\n",
      "  warnings.warn(warn_string)\n"
     ]
    },
    {
     "name": "stdout",
     "output_type": "stream",
     "text": [
      "           uid   d   t   x    y                geometry       date  \\\n",
      "6200000  16387  11  16  27  157  POINT (27.000 157.000) 2024-01-12   \n",
      "6200001  16387  11  17  27  157  POINT (27.000 157.000) 2024-01-12   \n",
      "6200002  16387  11  21  29  157  POINT (29.000 157.000) 2024-01-12   \n",
      "6200003  16387  11  22  34  157  POINT (34.000 157.000) 2024-01-12   \n",
      "6200004  16387  11  23  33  157  POINT (33.000 157.000) 2024-01-12   \n",
      "\n",
      "                   time            datetime  \n",
      "6200000 0 days 08:00:00 2024-01-12 08:00:00  \n",
      "6200001 0 days 08:30:00 2024-01-12 08:30:00  \n",
      "6200002 0 days 10:30:00 2024-01-12 10:30:00  \n",
      "6200003 0 days 11:00:00 2024-01-12 11:00:00  \n",
      "6200004 0 days 11:30:00 2024-01-12 11:30:00  \n",
      "1-itemsets done!\n",
      "2-itemsets done!\n"
     ]
    },
    {
     "name": "stderr",
     "output_type": "stream",
     "text": [
      "100%|████████████████████████████████████████████████████████████████████████████████| 286/286 [00:12<00:00, 22.78it/s]\n",
      "C:\\Users\\zhixu\\anaconda3\\Lib\\site-packages\\trackintel\\preprocessing\\positionfixes.py:361: FutureWarning: Downcasting object dtype arrays on .fillna, .ffill, .bfill is deprecated and will change in a future version. Call result.infer_objects(copy=False) instead. To opt-in to the future behavior, set `pd.set_option('future.no_silent_downcasting', True)`\n",
      "  pfs[\"tripleg_id\"] = pfs[\"tripleg_id\"].ffill()\n",
      "C:\\Users\\zhixu\\anaconda3\\Lib\\site-packages\\trackintel\\preprocessing\\positionfixes.py:440: FutureWarning: Downcasting object dtype arrays on .fillna, .ffill, .bfill is deprecated and will change in a future version. Call result.infer_objects(copy=False) instead. To opt-in to the future behavior, set `pd.set_option('future.no_silent_downcasting', True)`\n",
      "  cond_overlap_end = cond_overlap & ~cond_temporal_gap.shift(-1).fillna(False) & pd.isna(pfs[\"tripleg_id\"])\n",
      "C:\\Users\\zhixu\\anaconda3\\Lib\\site-packages\\trackintel\\preprocessing\\positionfixes.py:573: UserWarning: The positionfixes with ids [6300002 6300003 6300007 ... 6399789 6399961 6399962] lead to invalid tripleg geometries. The resulting triplegs were omitted and the tripleg id of the positionfixes was set to nan\n",
      "  warnings.warn(warn_string)\n"
     ]
    },
    {
     "name": "stdout",
     "output_type": "stream",
     "text": [
      "           uid   d   t   x    y                geometry       date  \\\n",
      "6300000  16683  28  27  33  152  POINT (33.000 152.000) 2024-01-29   \n",
      "6300001  16683  28  30  33  152  POINT (33.000 152.000) 2024-01-29   \n",
      "6300002  16683  28  36  33  152  POINT (33.000 152.000) 2024-01-29   \n",
      "6300003  16683  28  37  33  152  POINT (33.000 152.000) 2024-01-29   \n",
      "6300004  16683  28  39  33  152  POINT (33.000 152.000) 2024-01-29   \n",
      "\n",
      "                   time            datetime  \n",
      "6300000 0 days 13:30:00 2024-01-29 13:30:00  \n",
      "6300001 0 days 15:00:00 2024-01-29 15:00:00  \n",
      "6300002 0 days 18:00:00 2024-01-29 18:00:00  \n",
      "6300003 0 days 18:30:00 2024-01-29 18:30:00  \n",
      "6300004 0 days 19:30:00 2024-01-29 19:30:00  \n",
      "1-itemsets done!\n",
      "2-itemsets done!\n",
      "No new candidates generated. Stopping at 2-itemsets\n"
     ]
    },
    {
     "name": "stderr",
     "output_type": "stream",
     "text": [
      "100%|████████████████████████████████████████████████████████████████████████████████| 298/298 [00:13<00:00, 22.34it/s]\n",
      "C:\\Users\\zhixu\\anaconda3\\Lib\\site-packages\\trackintel\\preprocessing\\positionfixes.py:361: FutureWarning: Downcasting object dtype arrays on .fillna, .ffill, .bfill is deprecated and will change in a future version. Call result.infer_objects(copy=False) instead. To opt-in to the future behavior, set `pd.set_option('future.no_silent_downcasting', True)`\n",
      "  pfs[\"tripleg_id\"] = pfs[\"tripleg_id\"].ffill()\n",
      "C:\\Users\\zhixu\\anaconda3\\Lib\\site-packages\\trackintel\\preprocessing\\positionfixes.py:440: FutureWarning: Downcasting object dtype arrays on .fillna, .ffill, .bfill is deprecated and will change in a future version. Call result.infer_objects(copy=False) instead. To opt-in to the future behavior, set `pd.set_option('future.no_silent_downcasting', True)`\n",
      "  cond_overlap_end = cond_overlap & ~cond_temporal_gap.shift(-1).fillna(False) & pd.isna(pfs[\"tripleg_id\"])\n",
      "C:\\Users\\zhixu\\anaconda3\\Lib\\site-packages\\trackintel\\preprocessing\\positionfixes.py:573: UserWarning: The positionfixes with ids [6400053 6400054 6400140 ... 6499654 6499667 6499668] lead to invalid tripleg geometries. The resulting triplegs were omitted and the tripleg id of the positionfixes was set to nan\n",
      "  warnings.warn(warn_string)\n"
     ]
    },
    {
     "name": "stdout",
     "output_type": "stream",
     "text": [
      "           uid   d   t   x   y               geometry       date  \\\n",
      "6400000  16968  19  17  49  85  POINT (49.000 85.000) 2024-01-20   \n",
      "6400001  16968  19  18  48  92  POINT (48.000 92.000) 2024-01-20   \n",
      "6400002  16968  19  36  47  91  POINT (47.000 91.000) 2024-01-20   \n",
      "6400003  16968  19  37  47  89  POINT (47.000 89.000) 2024-01-20   \n",
      "6400004  16968  19  41  49  88  POINT (49.000 88.000) 2024-01-20   \n",
      "\n",
      "                   time            datetime  \n",
      "6400000 0 days 08:30:00 2024-01-20 08:30:00  \n",
      "6400001 0 days 09:00:00 2024-01-20 09:00:00  \n",
      "6400002 0 days 18:00:00 2024-01-20 18:00:00  \n",
      "6400003 0 days 18:30:00 2024-01-20 18:30:00  \n",
      "6400004 0 days 20:30:00 2024-01-20 20:30:00  \n",
      "1-itemsets done!\n",
      "2-itemsets done!\n"
     ]
    },
    {
     "name": "stderr",
     "output_type": "stream",
     "text": [
      "100%|████████████████████████████████████████████████████████████████████████████████| 309/309 [00:15<00:00, 19.98it/s]\n",
      "C:\\Users\\zhixu\\anaconda3\\Lib\\site-packages\\trackintel\\preprocessing\\positionfixes.py:361: FutureWarning: Downcasting object dtype arrays on .fillna, .ffill, .bfill is deprecated and will change in a future version. Call result.infer_objects(copy=False) instead. To opt-in to the future behavior, set `pd.set_option('future.no_silent_downcasting', True)`\n",
      "  pfs[\"tripleg_id\"] = pfs[\"tripleg_id\"].ffill()\n",
      "C:\\Users\\zhixu\\anaconda3\\Lib\\site-packages\\trackintel\\preprocessing\\positionfixes.py:440: FutureWarning: Downcasting object dtype arrays on .fillna, .ffill, .bfill is deprecated and will change in a future version. Call result.infer_objects(copy=False) instead. To opt-in to the future behavior, set `pd.set_option('future.no_silent_downcasting', True)`\n",
      "  cond_overlap_end = cond_overlap & ~cond_temporal_gap.shift(-1).fillna(False) & pd.isna(pfs[\"tripleg_id\"])\n",
      "C:\\Users\\zhixu\\anaconda3\\Lib\\site-packages\\trackintel\\preprocessing\\positionfixes.py:573: UserWarning: The positionfixes with ids [6500123 6500124 6500238 ... 6599738 6599739 6599740] lead to invalid tripleg geometries. The resulting triplegs were omitted and the tripleg id of the positionfixes was set to nan\n",
      "  warnings.warn(warn_string)\n"
     ]
    },
    {
     "name": "stdout",
     "output_type": "stream",
     "text": [
      "           uid   d   t   x    y                geometry       date  \\\n",
      "6500000  17266  15  33  32  143  POINT (32.000 143.000) 2024-01-16   \n",
      "6500001  17266  15  34  40  118  POINT (40.000 118.000) 2024-01-16   \n",
      "6500002  17266  15  35  40  116  POINT (40.000 116.000) 2024-01-16   \n",
      "6500003  17266  15  36  39  118  POINT (39.000 118.000) 2024-01-16   \n",
      "6500004  17266  15  37  29  136  POINT (29.000 136.000) 2024-01-16   \n",
      "\n",
      "                   time            datetime  \n",
      "6500000 0 days 16:30:00 2024-01-16 16:30:00  \n",
      "6500001 0 days 17:00:00 2024-01-16 17:00:00  \n",
      "6500002 0 days 17:30:00 2024-01-16 17:30:00  \n",
      "6500003 0 days 18:00:00 2024-01-16 18:00:00  \n",
      "6500004 0 days 18:30:00 2024-01-16 18:30:00  \n",
      "1-itemsets done!\n",
      "2-itemsets done!\n",
      "No new candidates generated. Stopping at 2-itemsets\n"
     ]
    },
    {
     "name": "stderr",
     "output_type": "stream",
     "text": [
      "100%|████████████████████████████████████████████████████████████████████████████████| 301/301 [00:15<00:00, 19.91it/s]\n",
      "C:\\Users\\zhixu\\anaconda3\\Lib\\site-packages\\trackintel\\preprocessing\\positionfixes.py:361: FutureWarning: Downcasting object dtype arrays on .fillna, .ffill, .bfill is deprecated and will change in a future version. Call result.infer_objects(copy=False) instead. To opt-in to the future behavior, set `pd.set_option('future.no_silent_downcasting', True)`\n",
      "  pfs[\"tripleg_id\"] = pfs[\"tripleg_id\"].ffill()\n",
      "C:\\Users\\zhixu\\anaconda3\\Lib\\site-packages\\trackintel\\preprocessing\\positionfixes.py:440: FutureWarning: Downcasting object dtype arrays on .fillna, .ffill, .bfill is deprecated and will change in a future version. Call result.infer_objects(copy=False) instead. To opt-in to the future behavior, set `pd.set_option('future.no_silent_downcasting', True)`\n",
      "  cond_overlap_end = cond_overlap & ~cond_temporal_gap.shift(-1).fillna(False) & pd.isna(pfs[\"tripleg_id\"])\n",
      "C:\\Users\\zhixu\\anaconda3\\Lib\\site-packages\\trackintel\\preprocessing\\positionfixes.py:573: UserWarning: The positionfixes with ids [6600010 6600011 6600238 ... 6699941 6699979 6699980] lead to invalid tripleg geometries. The resulting triplegs were omitted and the tripleg id of the positionfixes was set to nan\n",
      "  warnings.warn(warn_string)\n"
     ]
    },
    {
     "name": "stdout",
     "output_type": "stream",
     "text": [
      "           uid  d   t   x    y                geometry       date  \\\n",
      "6600000  17574  3  19  14  195  POINT (14.000 195.000) 2024-01-04   \n",
      "6600001  17574  3  20  13  195  POINT (13.000 195.000) 2024-01-04   \n",
      "6600002  17574  3  22  14  187  POINT (14.000 187.000) 2024-01-04   \n",
      "6600003  17574  3  23  18  172  POINT (18.000 172.000) 2024-01-04   \n",
      "6600004  17574  3  24  29  164  POINT (29.000 164.000) 2024-01-04   \n",
      "\n",
      "                   time            datetime  \n",
      "6600000 0 days 09:30:00 2024-01-04 09:30:00  \n",
      "6600001 0 days 10:00:00 2024-01-04 10:00:00  \n",
      "6600002 0 days 11:00:00 2024-01-04 11:00:00  \n",
      "6600003 0 days 11:30:00 2024-01-04 11:30:00  \n",
      "6600004 0 days 12:00:00 2024-01-04 12:00:00  \n",
      "1-itemsets done!\n",
      "2-itemsets done!\n"
     ]
    },
    {
     "name": "stderr",
     "output_type": "stream",
     "text": [
      "100%|████████████████████████████████████████████████████████████████████████████████| 307/307 [00:12<00:00, 23.85it/s]\n",
      "C:\\Users\\zhixu\\anaconda3\\Lib\\site-packages\\trackintel\\preprocessing\\positionfixes.py:361: FutureWarning: Downcasting object dtype arrays on .fillna, .ffill, .bfill is deprecated and will change in a future version. Call result.infer_objects(copy=False) instead. To opt-in to the future behavior, set `pd.set_option('future.no_silent_downcasting', True)`\n",
      "  pfs[\"tripleg_id\"] = pfs[\"tripleg_id\"].ffill()\n",
      "C:\\Users\\zhixu\\anaconda3\\Lib\\site-packages\\trackintel\\preprocessing\\positionfixes.py:440: FutureWarning: Downcasting object dtype arrays on .fillna, .ffill, .bfill is deprecated and will change in a future version. Call result.infer_objects(copy=False) instead. To opt-in to the future behavior, set `pd.set_option('future.no_silent_downcasting', True)`\n",
      "  cond_overlap_end = cond_overlap & ~cond_temporal_gap.shift(-1).fillna(False) & pd.isna(pfs[\"tripleg_id\"])\n",
      "C:\\Users\\zhixu\\anaconda3\\Lib\\site-packages\\trackintel\\preprocessing\\positionfixes.py:573: UserWarning: The positionfixes with ids [6700082 6700083 6700084 ... 6799912 6799985 6799986] lead to invalid tripleg geometries. The resulting triplegs were omitted and the tripleg id of the positionfixes was set to nan\n",
      "  warnings.warn(warn_string)\n"
     ]
    },
    {
     "name": "stdout",
     "output_type": "stream",
     "text": [
      "           uid  d   t   x    y                geometry       date  \\\n",
      "6700000  17874  5  28  17  180  POINT (17.000 180.000) 2024-01-06   \n",
      "6700001  17874  5  30  15  182  POINT (15.000 182.000) 2024-01-06   \n",
      "6700002  17874  6  21  14  181  POINT (14.000 181.000) 2024-01-07   \n",
      "6700003  17874  6  22   3  183   POINT (3.000 183.000) 2024-01-07   \n",
      "6700004  17874  6  23   9  175   POINT (9.000 175.000) 2024-01-07   \n",
      "\n",
      "                   time            datetime  \n",
      "6700000 0 days 14:00:00 2024-01-06 14:00:00  \n",
      "6700001 0 days 15:00:00 2024-01-06 15:00:00  \n",
      "6700002 0 days 10:30:00 2024-01-07 10:30:00  \n",
      "6700003 0 days 11:00:00 2024-01-07 11:00:00  \n",
      "6700004 0 days 11:30:00 2024-01-07 11:30:00  \n",
      "1-itemsets done!\n",
      "2-itemsets done!\n"
     ]
    },
    {
     "name": "stderr",
     "output_type": "stream",
     "text": [
      "100%|████████████████████████████████████████████████████████████████████████████████| 305/305 [00:12<00:00, 23.68it/s]\n",
      "C:\\Users\\zhixu\\anaconda3\\Lib\\site-packages\\trackintel\\preprocessing\\positionfixes.py:361: FutureWarning: Downcasting object dtype arrays on .fillna, .ffill, .bfill is deprecated and will change in a future version. Call result.infer_objects(copy=False) instead. To opt-in to the future behavior, set `pd.set_option('future.no_silent_downcasting', True)`\n",
      "  pfs[\"tripleg_id\"] = pfs[\"tripleg_id\"].ffill()\n",
      "C:\\Users\\zhixu\\anaconda3\\Lib\\site-packages\\trackintel\\preprocessing\\positionfixes.py:440: FutureWarning: Downcasting object dtype arrays on .fillna, .ffill, .bfill is deprecated and will change in a future version. Call result.infer_objects(copy=False) instead. To opt-in to the future behavior, set `pd.set_option('future.no_silent_downcasting', True)`\n",
      "  cond_overlap_end = cond_overlap & ~cond_temporal_gap.shift(-1).fillna(False) & pd.isna(pfs[\"tripleg_id\"])\n",
      "C:\\Users\\zhixu\\anaconda3\\Lib\\site-packages\\trackintel\\preprocessing\\positionfixes.py:573: UserWarning: The positionfixes with ids [6800055 6800056 6800117 ... 6899972 6899977 6899978] lead to invalid tripleg geometries. The resulting triplegs were omitted and the tripleg id of the positionfixes was set to nan\n",
      "  warnings.warn(warn_string)\n"
     ]
    },
    {
     "name": "stdout",
     "output_type": "stream",
     "text": [
      "           uid   d   t   x    y                geometry       date  \\\n",
      "6800000  18180  26  28  37  131  POINT (37.000 131.000) 2024-01-27   \n",
      "6800001  18180  26  29  30  140  POINT (30.000 140.000) 2024-01-27   \n",
      "6800002  18180  27  27  28  146  POINT (28.000 146.000) 2024-01-28   \n",
      "6800003  18180  27  37  28  145  POINT (28.000 145.000) 2024-01-28   \n",
      "6800004  18180  27  39  28  145  POINT (28.000 145.000) 2024-01-28   \n",
      "\n",
      "                   time            datetime  \n",
      "6800000 0 days 14:00:00 2024-01-27 14:00:00  \n",
      "6800001 0 days 14:30:00 2024-01-27 14:30:00  \n",
      "6800002 0 days 13:30:00 2024-01-28 13:30:00  \n",
      "6800003 0 days 18:30:00 2024-01-28 18:30:00  \n",
      "6800004 0 days 19:30:00 2024-01-28 19:30:00  \n",
      "1-itemsets done!\n",
      "2-itemsets done!\n",
      "No new candidates generated. Stopping at 2-itemsets\n"
     ]
    },
    {
     "name": "stderr",
     "output_type": "stream",
     "text": [
      "100%|████████████████████████████████████████████████████████████████████████████████| 307/307 [00:15<00:00, 20.12it/s]\n",
      "C:\\Users\\zhixu\\anaconda3\\Lib\\site-packages\\trackintel\\preprocessing\\positionfixes.py:361: FutureWarning: Downcasting object dtype arrays on .fillna, .ffill, .bfill is deprecated and will change in a future version. Call result.infer_objects(copy=False) instead. To opt-in to the future behavior, set `pd.set_option('future.no_silent_downcasting', True)`\n",
      "  pfs[\"tripleg_id\"] = pfs[\"tripleg_id\"].ffill()\n",
      "C:\\Users\\zhixu\\anaconda3\\Lib\\site-packages\\trackintel\\preprocessing\\positionfixes.py:440: FutureWarning: Downcasting object dtype arrays on .fillna, .ffill, .bfill is deprecated and will change in a future version. Call result.infer_objects(copy=False) instead. To opt-in to the future behavior, set `pd.set_option('future.no_silent_downcasting', True)`\n",
      "  cond_overlap_end = cond_overlap & ~cond_temporal_gap.shift(-1).fillna(False) & pd.isna(pfs[\"tripleg_id\"])\n",
      "C:\\Users\\zhixu\\anaconda3\\Lib\\site-packages\\trackintel\\preprocessing\\positionfixes.py:573: UserWarning: The positionfixes with ids [6900121 6900122 6900217 ... 6999783 6999990 6999991] lead to invalid tripleg geometries. The resulting triplegs were omitted and the tripleg id of the positionfixes was set to nan\n",
      "  warnings.warn(warn_string)\n"
     ]
    },
    {
     "name": "stdout",
     "output_type": "stream",
     "text": [
      "           uid   d   t   x    y                geometry       date  \\\n",
      "6900000  18484  20  30  51  172  POINT (51.000 172.000) 2024-01-21   \n",
      "6900001  18484  20  31  38  184  POINT (38.000 184.000) 2024-01-21   \n",
      "6900002  18484  20  32  30  164  POINT (30.000 164.000) 2024-01-21   \n",
      "6900003  18484  20  33  31  160  POINT (31.000 160.000) 2024-01-21   \n",
      "6900004  18484  20  34  26  148  POINT (26.000 148.000) 2024-01-21   \n",
      "\n",
      "                   time            datetime  \n",
      "6900000 0 days 15:00:00 2024-01-21 15:00:00  \n",
      "6900001 0 days 15:30:00 2024-01-21 15:30:00  \n",
      "6900002 0 days 16:00:00 2024-01-21 16:00:00  \n",
      "6900003 0 days 16:30:00 2024-01-21 16:30:00  \n",
      "6900004 0 days 17:00:00 2024-01-21 17:00:00  \n",
      "1-itemsets done!\n",
      "2-itemsets done!\n",
      "No new candidates generated. Stopping at 2-itemsets\n"
     ]
    },
    {
     "name": "stderr",
     "output_type": "stream",
     "text": [
      "100%|████████████████████████████████████████████████████████████████████████████████| 325/325 [00:16<00:00, 19.34it/s]\n",
      "C:\\Users\\zhixu\\anaconda3\\Lib\\site-packages\\trackintel\\preprocessing\\positionfixes.py:361: FutureWarning: Downcasting object dtype arrays on .fillna, .ffill, .bfill is deprecated and will change in a future version. Call result.infer_objects(copy=False) instead. To opt-in to the future behavior, set `pd.set_option('future.no_silent_downcasting', True)`\n",
      "  pfs[\"tripleg_id\"] = pfs[\"tripleg_id\"].ffill()\n",
      "C:\\Users\\zhixu\\anaconda3\\Lib\\site-packages\\trackintel\\preprocessing\\positionfixes.py:440: FutureWarning: Downcasting object dtype arrays on .fillna, .ffill, .bfill is deprecated and will change in a future version. Call result.infer_objects(copy=False) instead. To opt-in to the future behavior, set `pd.set_option('future.no_silent_downcasting', True)`\n",
      "  cond_overlap_end = cond_overlap & ~cond_temporal_gap.shift(-1).fillna(False) & pd.isna(pfs[\"tripleg_id\"])\n",
      "C:\\Users\\zhixu\\anaconda3\\Lib\\site-packages\\trackintel\\preprocessing\\positionfixes.py:573: UserWarning: The positionfixes with ids [7000014 7000015 7000064 ... 7099403 7099707 7099708] lead to invalid tripleg geometries. The resulting triplegs were omitted and the tripleg id of the positionfixes was set to nan\n",
      "  warnings.warn(warn_string)\n"
     ]
    },
    {
     "name": "stdout",
     "output_type": "stream",
     "text": [
      "           uid   d   t   x   y               geometry       date  \\\n",
      "7000000  18790  11  37  55  79  POINT (55.000 79.000) 2024-01-12   \n",
      "7000001  18790  12  17  54  78  POINT (54.000 78.000) 2024-01-13   \n",
      "7000002  18790  12  22  54  78  POINT (54.000 78.000) 2024-01-13   \n",
      "7000003  18790  12  25  54  78  POINT (54.000 78.000) 2024-01-13   \n",
      "7000004  18790  12  32  54  79  POINT (54.000 79.000) 2024-01-13   \n",
      "\n",
      "                   time            datetime  \n",
      "7000000 0 days 18:30:00 2024-01-12 18:30:00  \n",
      "7000001 0 days 08:30:00 2024-01-13 08:30:00  \n",
      "7000002 0 days 11:00:00 2024-01-13 11:00:00  \n",
      "7000003 0 days 12:30:00 2024-01-13 12:30:00  \n",
      "7000004 0 days 16:00:00 2024-01-13 16:00:00  \n",
      "1-itemsets done!\n",
      "2-itemsets done!\n",
      "No new candidates generated. Stopping at 2-itemsets\n"
     ]
    },
    {
     "name": "stderr",
     "output_type": "stream",
     "text": [
      "100%|████████████████████████████████████████████████████████████████████████████████| 291/291 [00:15<00:00, 18.54it/s]\n",
      "C:\\Users\\zhixu\\anaconda3\\Lib\\site-packages\\trackintel\\preprocessing\\positionfixes.py:361: FutureWarning: Downcasting object dtype arrays on .fillna, .ffill, .bfill is deprecated and will change in a future version. Call result.infer_objects(copy=False) instead. To opt-in to the future behavior, set `pd.set_option('future.no_silent_downcasting', True)`\n",
      "  pfs[\"tripleg_id\"] = pfs[\"tripleg_id\"].ffill()\n",
      "C:\\Users\\zhixu\\anaconda3\\Lib\\site-packages\\trackintel\\preprocessing\\positionfixes.py:440: FutureWarning: Downcasting object dtype arrays on .fillna, .ffill, .bfill is deprecated and will change in a future version. Call result.infer_objects(copy=False) instead. To opt-in to the future behavior, set `pd.set_option('future.no_silent_downcasting', True)`\n",
      "  cond_overlap_end = cond_overlap & ~cond_temporal_gap.shift(-1).fillna(False) & pd.isna(pfs[\"tripleg_id\"])\n",
      "C:\\Users\\zhixu\\anaconda3\\Lib\\site-packages\\trackintel\\preprocessing\\positionfixes.py:573: UserWarning: The positionfixes with ids [7100065 7100066 7100077 ... 7199979 7199991 7199992] lead to invalid tripleg geometries. The resulting triplegs were omitted and the tripleg id of the positionfixes was set to nan\n",
      "  warnings.warn(warn_string)\n"
     ]
    },
    {
     "name": "stdout",
     "output_type": "stream",
     "text": [
      "           uid  d   t   x    y                geometry       date  \\\n",
      "7100000  19114  4  26  25  156  POINT (25.000 156.000) 2024-01-05   \n",
      "7100001  19114  5  29  24  154  POINT (24.000 154.000) 2024-01-06   \n",
      "7100002  19114  5  30  25  153  POINT (25.000 153.000) 2024-01-06   \n",
      "7100003  19114  5  31  24  153  POINT (24.000 153.000) 2024-01-06   \n",
      "7100004  19114  5  33  24  153  POINT (24.000 153.000) 2024-01-06   \n",
      "\n",
      "                   time            datetime  \n",
      "7100000 0 days 13:00:00 2024-01-05 13:00:00  \n",
      "7100001 0 days 14:30:00 2024-01-06 14:30:00  \n",
      "7100002 0 days 15:00:00 2024-01-06 15:00:00  \n",
      "7100003 0 days 15:30:00 2024-01-06 15:30:00  \n",
      "7100004 0 days 16:30:00 2024-01-06 16:30:00  \n",
      "1-itemsets done!\n",
      "2-itemsets done!\n"
     ]
    },
    {
     "name": "stderr",
     "output_type": "stream",
     "text": [
      "100%|████████████████████████████████████████████████████████████████████████████████| 245/245 [00:18<00:00, 13.45it/s]\n",
      "C:\\Users\\zhixu\\anaconda3\\Lib\\site-packages\\trackintel\\preprocessing\\positionfixes.py:361: FutureWarning: Downcasting object dtype arrays on .fillna, .ffill, .bfill is deprecated and will change in a future version. Call result.infer_objects(copy=False) instead. To opt-in to the future behavior, set `pd.set_option('future.no_silent_downcasting', True)`\n",
      "  pfs[\"tripleg_id\"] = pfs[\"tripleg_id\"].ffill()\n",
      "C:\\Users\\zhixu\\anaconda3\\Lib\\site-packages\\trackintel\\preprocessing\\positionfixes.py:440: FutureWarning: Downcasting object dtype arrays on .fillna, .ffill, .bfill is deprecated and will change in a future version. Call result.infer_objects(copy=False) instead. To opt-in to the future behavior, set `pd.set_option('future.no_silent_downcasting', True)`\n",
      "  cond_overlap_end = cond_overlap & ~cond_temporal_gap.shift(-1).fillna(False) & pd.isna(pfs[\"tripleg_id\"])\n",
      "C:\\Users\\zhixu\\anaconda3\\Lib\\site-packages\\trackintel\\preprocessing\\positionfixes.py:573: UserWarning: The positionfixes with ids [7200000 7200001 7200032 ... 7299812 7299813 7299814] lead to invalid tripleg geometries. The resulting triplegs were omitted and the tripleg id of the positionfixes was set to nan\n",
      "  warnings.warn(warn_string)\n"
     ]
    },
    {
     "name": "stdout",
     "output_type": "stream",
     "text": [
      "           uid  d   t   x    y                geometry       date  \\\n",
      "7200000  19404  3  42  24  161  POINT (24.000 161.000) 2024-01-04   \n",
      "7200001  19404  3  43  24  161  POINT (24.000 161.000) 2024-01-04   \n",
      "7200002  19404  4   1  24  160  POINT (24.000 160.000) 2024-01-05   \n",
      "7200003  19404  4   2  24  161  POINT (24.000 161.000) 2024-01-05   \n",
      "7200004  19404  4   3  24  161  POINT (24.000 161.000) 2024-01-05   \n",
      "\n",
      "                   time            datetime  \n",
      "7200000 0 days 21:00:00 2024-01-04 21:00:00  \n",
      "7200001 0 days 21:30:00 2024-01-04 21:30:00  \n",
      "7200002 0 days 00:30:00 2024-01-05 00:30:00  \n",
      "7200003 0 days 01:00:00 2024-01-05 01:00:00  \n",
      "7200004 0 days 01:30:00 2024-01-05 01:30:00  \n",
      "1-itemsets done!\n",
      "2-itemsets done!\n"
     ]
    },
    {
     "name": "stderr",
     "output_type": "stream",
     "text": [
      "100%|████████████████████████████████████████████████████████████████████████████████| 273/273 [00:18<00:00, 14.48it/s]\n",
      "C:\\Users\\zhixu\\anaconda3\\Lib\\site-packages\\trackintel\\preprocessing\\positionfixes.py:361: FutureWarning: Downcasting object dtype arrays on .fillna, .ffill, .bfill is deprecated and will change in a future version. Call result.infer_objects(copy=False) instead. To opt-in to the future behavior, set `pd.set_option('future.no_silent_downcasting', True)`\n",
      "  pfs[\"tripleg_id\"] = pfs[\"tripleg_id\"].ffill()\n",
      "C:\\Users\\zhixu\\anaconda3\\Lib\\site-packages\\trackintel\\preprocessing\\positionfixes.py:440: FutureWarning: Downcasting object dtype arrays on .fillna, .ffill, .bfill is deprecated and will change in a future version. Call result.infer_objects(copy=False) instead. To opt-in to the future behavior, set `pd.set_option('future.no_silent_downcasting', True)`\n",
      "  cond_overlap_end = cond_overlap & ~cond_temporal_gap.shift(-1).fillna(False) & pd.isna(pfs[\"tripleg_id\"])\n",
      "C:\\Users\\zhixu\\anaconda3\\Lib\\site-packages\\trackintel\\preprocessing\\positionfixes.py:573: UserWarning: The positionfixes with ids [7300262 7300263 7300423 ... 7399991 7399992 7399993] lead to invalid tripleg geometries. The resulting triplegs were omitted and the tripleg id of the positionfixes was set to nan\n",
      "  warnings.warn(warn_string)\n"
     ]
    },
    {
     "name": "stdout",
     "output_type": "stream",
     "text": [
      "           uid  d   t   x    y                geometry       date  \\\n",
      "7300000  19648  9   0  36  130  POINT (36.000 130.000) 2024-01-10   \n",
      "7300001  19648  9   3  36  130  POINT (36.000 130.000) 2024-01-10   \n",
      "7300002  19648  9  13  49   84   POINT (49.000 84.000) 2024-01-10   \n",
      "7300003  19648  9  18  30   76   POINT (30.000 76.000) 2024-01-10   \n",
      "7300004  19648  9  19  21   54   POINT (21.000 54.000) 2024-01-10   \n",
      "\n",
      "                   time            datetime  \n",
      "7300000 0 days 00:00:00 2024-01-10 00:00:00  \n",
      "7300001 0 days 01:30:00 2024-01-10 01:30:00  \n",
      "7300002 0 days 06:30:00 2024-01-10 06:30:00  \n",
      "7300003 0 days 09:00:00 2024-01-10 09:00:00  \n",
      "7300004 0 days 09:30:00 2024-01-10 09:30:00  \n",
      "1-itemsets done!\n",
      "2-itemsets done!\n"
     ]
    },
    {
     "name": "stderr",
     "output_type": "stream",
     "text": [
      "100%|██████████████████████████████████████████████████████████████████████████████████| 80/80 [00:05<00:00, 14.79it/s]\n",
      "C:\\Users\\zhixu\\anaconda3\\Lib\\site-packages\\trackintel\\preprocessing\\positionfixes.py:361: FutureWarning: Downcasting object dtype arrays on .fillna, .ffill, .bfill is deprecated and will change in a future version. Call result.infer_objects(copy=False) instead. To opt-in to the future behavior, set `pd.set_option('future.no_silent_downcasting', True)`\n",
      "  pfs[\"tripleg_id\"] = pfs[\"tripleg_id\"].ffill()\n",
      "C:\\Users\\zhixu\\anaconda3\\Lib\\site-packages\\trackintel\\preprocessing\\positionfixes.py:440: FutureWarning: Downcasting object dtype arrays on .fillna, .ffill, .bfill is deprecated and will change in a future version. Call result.infer_objects(copy=False) instead. To opt-in to the future behavior, set `pd.set_option('future.no_silent_downcasting', True)`\n",
      "  cond_overlap_end = cond_overlap & ~cond_temporal_gap.shift(-1).fillna(False) & pd.isna(pfs[\"tripleg_id\"])\n",
      "C:\\Users\\zhixu\\anaconda3\\Lib\\site-packages\\trackintel\\preprocessing\\positionfixes.py:573: UserWarning: The positionfixes with ids [7400000 7400001 7400002 ... 7428346 7428347 7428348] lead to invalid tripleg geometries. The resulting triplegs were omitted and the tripleg id of the positionfixes was set to nan\n",
      "  warnings.warn(warn_string)\n"
     ]
    },
    {
     "name": "stdout",
     "output_type": "stream",
     "text": [
      "           uid   d   t   x    y                geometry       date  \\\n",
      "7400000  19920  17  40  36  138  POINT (36.000 138.000) 2024-01-18   \n",
      "7400001  19920  17  41  36  138  POINT (36.000 138.000) 2024-01-18   \n",
      "7400002  19920  17  42  36  138  POINT (36.000 138.000) 2024-01-18   \n",
      "7400003  19920  17  43  36  138  POINT (36.000 138.000) 2024-01-18   \n",
      "7400004  19920  17  44  36  138  POINT (36.000 138.000) 2024-01-18   \n",
      "\n",
      "                   time            datetime  \n",
      "7400000 0 days 20:00:00 2024-01-18 20:00:00  \n",
      "7400001 0 days 20:30:00 2024-01-18 20:30:00  \n",
      "7400002 0 days 21:00:00 2024-01-18 21:00:00  \n",
      "7400003 0 days 21:30:00 2024-01-18 21:30:00  \n",
      "7400004 0 days 22:00:00 2024-01-18 22:00:00  \n",
      "1-itemsets done!\n",
      "2-itemsets done!\n",
      "No new candidates generated. Stopping at 2-itemsets\n"
     ]
    }
   ],
   "source": [
    "# Process data in chunks\n",
    "for chunk in pd.read_csv('cityC_filtered.csv', chunksize=chunk_size):\n",
    "    # Preprocess each chunk\n",
    "    gdf_chunk = preprocess_data(chunk, start_date)\n",
    "    \n",
    "    # Generate position fixes and triplegs\n",
    "    pfs_chunk = ti.io.read_positionfixes_gpd(gdf_chunk, tracked_at=\"datetime\", user_id=\"uid\", geom_col=\"geometry\", tz='Asia/Tokyo')\n",
    "    pfs_chunk, sp_chunk = pfs_chunk.as_positionfixes.generate_staypoints(gap_threshold=gap_threshold_sp, dist_threshold=dist_threshold, \n",
    "                                                                         print_progress=True)\n",
    "    pfs_chunk, tpls_chunk = pfs_chunk.generate_triplegs(staypoints=sp_chunk, method='overlap_staypoints', gap_threshold=gap_threshold_trip)\n",
    "\n",
    "    print(gdf_chunk[:5])\n",
    "    \n",
    "    # Convert triplegs to sequences\n",
    "    tpls_chunk['tripleg_list'] = tpls_chunk['geom'].apply(lambda geom: list(geom.coords))\n",
    "    tripleg_list = tpls_chunk['tripleg_list'].tolist()\n",
    "    \n",
    "    # Preprocess triplegs by removing consecutive duplicates\n",
    "    processed_triplegs = preprocess_tripleg(tripleg_list)\n",
    "    splitted_triplegs = split_triplegs(processed_triplegs, 10)\n",
    "    \n",
    "    # Apply GSP on each chunk and collect patterns\n",
    "    gsp = GSP(splitted_triplegs, min_support)\n",
    "    frequent_patterns_chunk = gsp.run()\n",
    "    all_frequent_patterns.update(frequent_patterns_chunk)"
   ]
  },
  {
   "cell_type": "code",
   "execution_count": 25,
   "id": "06f37a4f-926f-4564-b0b7-c2ee665fa6fb",
   "metadata": {},
   "outputs": [
    {
     "data": {
      "image/png": "[encoded data removed]",
      "text/plain": [
       "<Figure size 1200x1200 with 1 Axes>"
      ]
     },
     "metadata": {},
     "output_type": "display_data"
    }
   ],
   "source": [
    "# Visualize top patterns\n",
    "# Extract positionfixes and staypoints from a subset of processed data for visualization\n",
    "positionfixes = pfs_chunk[pfs_chunk['staypoint_id'].isna()][:500000]\n",
    "staypoints = pfs_chunk.dropna(subset=['staypoint_id'])[:500000]\n",
    "\n",
    "plt.figure(figsize=(12, 12))\n",
    "plt.scatter(positionfixes['x'], positionfixes['y'], label='Positionfixes', color='#6495ED', s=2, alpha=0.7)\n",
    "plt.scatter(staypoints['x'], staypoints['y'], label='Staypoints', color='#FFB6C1', s=2, alpha=0.7)\n",
    "\n",
    "# Plot each frequent pattern\n",
    "for pattern, count in all_frequent_patterns.items():\n",
    "    x_coords = [point[0] for point in pattern]\n",
    "    y_coords = [point[1] for point in pattern]\n",
    "    plt.plot(x_coords, y_coords, linestyle='-', alpha=1, linewidth=1.5, color='black')\n",
    "\n",
    "# Add a legend entry for triplegs\n",
    "plt.plot([], [], linestyle='-', color='black', label='Frequent Patterns')\n",
    "\n",
    "# Set labels and title\n",
    "plt.xlabel('X')\n",
    "plt.ylabel('Y')\n",
    "plt.title(f'City C Frequent Patterns on X-Y Grid with min_support {min_support}')\n",
    "plt.legend()\n",
    "plt.grid(True)\n",
    "plt.show()"
   ]
  },
  {
   "cell_type": "code",
   "execution_count": 26,
   "id": "fa5676c9-ad20-4330-b2a1-82912923b148",
   "metadata": {},
   "outputs": [],
   "source": [
    "# Convert the frequent patterns to a DataFrame for easier saving\n",
    "patterns_df = pd.DataFrame({\n",
    "    'Pattern': [pattern for pattern in all_frequent_patterns.keys()],\n",
    "    'Count': [count for count in all_frequent_patterns.values()]\n",
    "})"
   ]
  },
  {
   "cell_type": "code",
   "execution_count": 27,
   "id": "40bdc93e-911c-4234-825a-20c6187862d3",
   "metadata": {},
   "outputs": [
    {
     "data": {
      "text/html": [
       "<div>\n",
       "<style scoped>\n",
       "    .dataframe tbody tr th:only-of-type {\n",
       "        vertical-align: middle;\n",
       "    }\n",
       "\n",
       "    .dataframe tbody tr th {\n",
       "        vertical-align: top;\n",
       "    }\n",
       "\n",
       "    .dataframe thead th {\n",
       "        text-align: right;\n",
       "    }\n",
       "</style>\n",
       "<table border=\"1\" class=\"dataframe\">\n",
       "  <thead>\n",
       "    <tr style=\"text-align: right;\">\n",
       "      <th></th>\n",
       "      <th>Pattern</th>\n",
       "      <th>Count</th>\n",
       "    </tr>\n",
       "  </thead>\n",
       "  <tbody>\n",
       "    <tr>\n",
       "      <th>0</th>\n",
       "      <td>((10.0, 180.0),)</td>\n",
       "      <td>10</td>\n",
       "    </tr>\n",
       "    <tr>\n",
       "      <th>1</th>\n",
       "      <td>((47.0, 89.0),)</td>\n",
       "      <td>10</td>\n",
       "    </tr>\n",
       "    <tr>\n",
       "      <th>2</th>\n",
       "      <td>((22.0, 172.0),)</td>\n",
       "      <td>10</td>\n",
       "    </tr>\n",
       "    <tr>\n",
       "      <th>3</th>\n",
       "      <td>((72.0, 2.0),)</td>\n",
       "      <td>10</td>\n",
       "    </tr>\n",
       "    <tr>\n",
       "      <th>4</th>\n",
       "      <td>((38.0, 135.0),)</td>\n",
       "      <td>10</td>\n",
       "    </tr>\n",
       "  </tbody>\n",
       "</table>\n",
       "</div>"
      ],
      "text/plain": [
       "            Pattern  Count\n",
       "0  ((10.0, 180.0),)     10\n",
       "1   ((47.0, 89.0),)     10\n",
       "2  ((22.0, 172.0),)     10\n",
       "3    ((72.0, 2.0),)     10\n",
       "4  ((38.0, 135.0),)     10"
      ]
     },
     "execution_count": 27,
     "metadata": {},
     "output_type": "execute_result"
    }
   ],
   "source": [
    "patterns_df.head()"
   ]
  },
  {
   "cell_type": "code",
   "execution_count": 28,
   "id": "a3268ad4-e473-447e-b9c2-06df5250eced",
   "metadata": {},
   "outputs": [],
   "source": [
    "# Save the patterns to a CSV file\n",
    "patterns_df.to_csv(\"CityC_frequent_patterns_minsup10.csv\", index=False)"
   ]
  },
  {
   "cell_type": "code",
   "execution_count": 29,
   "id": "0160f285-f98a-4af6-81c1-3752af47b645",
   "metadata": {},
   "outputs": [
    {
     "data": {
      "text/html": [
       "<div>\n",
       "<style scoped>\n",
       "    .dataframe tbody tr th:only-of-type {\n",
       "        vertical-align: middle;\n",
       "    }\n",
       "\n",
       "    .dataframe tbody tr th {\n",
       "        vertical-align: top;\n",
       "    }\n",
       "\n",
       "    .dataframe thead th {\n",
       "        text-align: right;\n",
       "    }\n",
       "</style>\n",
       "<table border=\"1\" class=\"dataframe\">\n",
       "  <thead>\n",
       "    <tr style=\"text-align: right;\">\n",
       "      <th></th>\n",
       "      <th>Pattern</th>\n",
       "      <th>Count</th>\n",
       "    </tr>\n",
       "  </thead>\n",
       "  <tbody>\n",
       "  </tbody>\n",
       "</table>\n",
       "</div>"
      ],
      "text/plain": [
       "Empty DataFrame\n",
       "Columns: [Pattern, Count]\n",
       "Index: []"
      ]
     },
     "execution_count": 29,
     "metadata": {},
     "output_type": "execute_result"
    }
   ],
   "source": [
    "# Check for long patterns\n",
    "long_patterns = patterns_df[patterns_df['Pattern'].apply(len) >= 5]\n",
    "\n",
    "# Display the result\n",
    "long_patterns"
   ]
  },
  {
   "cell_type": "code",
   "execution_count": null,
   "id": "28b6d73a-c525-4635-a68c-1d5baa756ab0",
   "metadata": {},
   "outputs": [],
   "source": []
  }
 ],
 "metadata": {
  "kernelspec": {
   "display_name": "Python 3 (ipykernel)",
   "language": "python",
   "name": "python3"
  },
  "language_info": {
   "codemirror_mode": {
    "name": "ipython",
    "version": 3
   },
   "file_extension": ".py",
   "mimetype": "text/x-python",
   "name": "python",
   "nbconvert_exporter": "python",
   "pygments_lexer": "ipython3",
   "version": "3.12.4"
  }
 },
 "nbformat": 4,
 "nbformat_minor": 5
}
